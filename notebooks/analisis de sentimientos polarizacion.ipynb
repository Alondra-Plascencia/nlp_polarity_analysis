{
  "cells": [
    {
      "cell_type": "markdown",
      "metadata": {
        "id": "XzS_hAOCKhcA"
      },
      "source": [
        "# datos\n",
        "se importa desde github el archivo con 5000 comentarios y su clasificación como positivas o negativos"
      ]
    },
    {
      "cell_type": "code",
      "execution_count": null,
      "metadata": {
        "colab": {
          "base_uri": "https://localhost:8080/"
        },
        "id": "aFCm6mWbt1qk",
        "outputId": "bd7af888-9c3b-4c75-dc89-9793867fb0e7"
      },
      "outputs": [
        {
          "name": "stdout",
          "output_type": "stream",
          "text": [
            "Cloning into 'Report'...\n",
            "remote: Enumerating objects: 3, done.\u001b[K\n",
            "remote: Counting objects: 100% (3/3), done.\u001b[K\n",
            "remote: Compressing objects: 100% (2/2), done.\u001b[K\n",
            "remote: Total 3 (delta 0), reused 0 (delta 0), pack-reused 0 (from 0)\u001b[K\n",
            "Receiving objects: 100% (3/3), 2.89 MiB | 22.77 MiB/s, done.\n",
            "/content/Report\n",
            "Contenido del directorio clonado:\n",
            "['.git', 'comentarios 5k.xlsx']\n"
          ]
        }
      ],
      "source": [
        "import numpy as np\n",
        "import matplotlib.pyplot as plt\n",
        "import os\n",
        "import pandas as pd\n",
        "import re\n",
        "\n",
        "# Clonar el repositorio de GitHub\n",
        "!git clone https://github.com/norvey2019/Report.git\n",
        "\n",
        "# Navegar al directorio del repositorio clonado\n",
        "%cd Report\n",
        "\n",
        "# Verificar el contenido del directorio\n",
        "print(\"Contenido del directorio clonado:\")\n",
        "print(os.listdir(\".\"))\n",
        "\n",
        "# Ruta (dentro del repositorio clonado) se toma el archivo https://www.kaggle.com/datasets/lakshmi25npathi/imdb-dataset-of-50k-movie-reviews 5000 comentarios\n",
        "# para ser cargados en el github\n",
        "ruta = 'comentarios 5k.xlsx'\n",
        "df = pd.read_excel(ruta)\n"
      ]
    },
    {
      "cell_type": "code",
      "execution_count": null,
      "metadata": {
        "colab": {
          "base_uri": "https://localhost:8080/"
        },
        "id": "J-qfjTOxMWd5",
        "outputId": "62e0982c-e5c6-4dcf-9eda-85d60731c84e"
      },
      "outputs": [
        {
          "name": "stdout",
          "output_type": "stream",
          "text": [
            "                                                 review sentiment\n",
            "4995  Music videos are often completely disregarded ...  positive\n",
            "4996  If you went to this movie to see some huge aca...  positive\n",
            "4997  I totally disagree with the other reviews.All ...  positive\n",
            "4998  A blockbuster at the time of it's original rel...  positive\n",
            "4999  I had never seen such an incredible acting job...  positive\n"
          ]
        }
      ],
      "source": [
        "print(df.tail())"
      ]
    },
    {
      "cell_type": "markdown",
      "metadata": {
        "id": "0UAjaDVVLBAZ"
      },
      "source": [
        "##librerias\n",
        "se importa las blibliotecas y las  librerias de  tokenización, ademas de la metricas de machine learning"
      ]
    },
    {
      "cell_type": "code",
      "execution_count": null,
      "metadata": {
        "id": "_pSsLdooLBqY"
      },
      "outputs": [],
      "source": [
        "import nltk\n",
        "from nltk.tokenize import RegexpTokenizer"
      ]
    },
    {
      "cell_type": "code",
      "execution_count": null,
      "metadata": {
        "id": "d1tCxU3cLKhp"
      },
      "outputs": [],
      "source": [
        "from sklearn import metrics\n",
        "from sklearn.feature_extraction.text import CountVectorizer\n",
        "from sklearn.feature_extraction.text import CountVectorizer\n",
        "from sklearn.model_selection import train_test_split\n",
        "from sklearn.naive_bayes import MultinomialNB"
      ]
    },
    {
      "cell_type": "code",
      "execution_count": null,
      "metadata": {
        "colab": {
          "base_uri": "https://localhost:8080/"
        },
        "id": "ahmD3JEFMI0h",
        "outputId": "b6a8ae7e-a2de-4d41-ffe7-5a944a482e59"
      },
      "outputs": [
        {
          "name": "stdout",
          "output_type": "stream",
          "text": [
            "                                               texto sentimiento\n",
            "0  Basically there's a family where a little boy ...    negative\n",
            "1  This show was an amazing, fresh & innovative i...    negative\n",
            "2  Encouraged by the positive comments about this...    negative\n",
            "3  Phil the Alien is one of those quirky films wh...    negative\n",
            "4  I saw this movie when I was about 12 when it c...    negative\n"
          ]
        }
      ],
      "source": [
        "# Renombramos las columnas mediante .columns de pandas\n",
        "df.columns = ['texto','sentimiento']\n",
        "\n",
        "# visualizar últimos registros del dataset mediante .tail de pandas\n",
        "print(df.head())"
      ]
    },
    {
      "cell_type": "code",
      "execution_count": null,
      "metadata": {
        "colab": {
          "base_uri": "https://localhost:8080/",
          "height": 147
        },
        "id": "XSujMmDbOmk1",
        "outputId": "9d62fa5a-8285-4610-ee4f-817418f990ff"
      },
      "outputs": [
        {
          "name": "stdout",
          "output_type": "stream",
          "text": [
            "Dimensión del dataset: (5000, 2)\n"
          ]
        },
        {
          "data": {
            "application/vnd.google.colaboratory.intrinsic+json": {
              "type": "string"
            },
            "text/plain": [
              "'I had the terrible misfortune of having to view this \"b-movie\" in it\\'s entirety.<br /><br />All I have to say is--- save your time and money!!! This has got to be the worst b-movie of all time, it shouldn\\'t even be called a b-movie, more like an f-movie! Because it fails in all aspects that make a good movie: the story is not interesting at all, all of the actors are paper-thin and not at all believable, it has bad direction and the action sequences are so fake it\\'s almost funny.......almost.<br /><br />The movie is just packed full of crappy one-liners that no respectable person could find amusing in the least little bit.<br /><br />This movie is supposed to be geared towards men, but all the women in it are SO utterly unattractive, especially that old wrinkled thing that comes in towards the end. They try to appear sexy in those weird, horrible costumes and they fail miserably!!!<br /><br />Even some of the most ridiculous b-movies will still give you some laughs, but this is just too painful to watch!!'"
            ]
          },
          "execution_count": 6,
          "metadata": {},
          "output_type": "execute_result"
        }
      ],
      "source": [
        "# se verifica la dimensión de dataframe y se imprime algunos de los comentarios para analizar el tipo de caracteres vacios\n",
        "print(\"Dimensión del dataset:\", df.shape)\n",
        "df['texto'][10]"
      ]
    },
    {
      "cell_type": "markdown",
      "metadata": {
        "id": "7tUrF6HxPw-o"
      },
      "source": [
        "##Remover caracteres de HTML y no alphanumericos\n",
        "se quitan todos los carecteres porpios de HTML como <br /><br"
      ]
    },
    {
      "cell_type": "code",
      "execution_count": null,
      "metadata": {
        "id": "tQE-Iqe6Q3cQ"
      },
      "outputs": [],
      "source": [
        "\n",
        "# Definir la expresión regular fuera de la función para optimización\n",
        "remover = re.compile('<.*?>')\n",
        "\n",
        "# Definir la función para eliminar etiquetas HTML\n",
        "def remover_html(text):\n",
        "    # Usar la expresión regular compilada para reemplazar etiquetas HTML por texto vacío\n",
        "    return re.sub(remover, '', text)\n",
        "\n",
        "# Definir la función para remover caracteres no alfanuméricos usando re y tambien numeros sueltos dado que en un analisis de sentimiento un numero\n",
        "#suelto no genera mayor intensidad a la exprecion negativa o positiva\n",
        "def remover_no_alfanumericos(text):\n",
        "    # Reemplazar todo lo que no sea alfanumérico por un espacio\n",
        "    return re.sub(r'[^a-zA-Z]', ' ', text)\n",
        "\n",
        "\n"
      ]
    },
    {
      "cell_type": "code",
      "execution_count": null,
      "metadata": {
        "colab": {
          "base_uri": "https://localhost:8080/"
        },
        "id": "fJSh7OGZW6vq",
        "outputId": "eba19394-5bbd-4dcb-a0a0-b61755cfeaee"
      },
      "outputs": [
        {
          "name": "stdout",
          "output_type": "stream",
          "text": [
            "                                               texto sentimiento\n",
            "0  Basically there s a family where a little boy ...    negative\n",
            "1  This show was an amazing  fresh   innovative i...    negative\n",
            "2  Encouraged by the positive comments about this...    negative\n",
            "3  Phil the Alien is one of those quirky films wh...    negative\n",
            "4  I saw this movie when I was about    when it c...    negative\n"
          ]
        }
      ],
      "source": [
        "# Aplicar la función a la columna 'texto' del DataFrame\n",
        "df['texto'] = df['texto'].apply(remover_no_alfanumericos)\n",
        "\n",
        "\n",
        "df['texto'] = df['texto'].apply(remover_html)\n",
        "\n",
        "# Mostrar los primeros registros del DataFrame\n",
        "print(df.head())"
      ]
    },
    {
      "cell_type": "markdown",
      "metadata": {
        "id": "8PL8b5O7TOt7"
      },
      "source": [
        "##convertir la mayusculas a minusculas"
      ]
    },
    {
      "cell_type": "code",
      "execution_count": null,
      "metadata": {
        "colab": {
          "base_uri": "https://localhost:8080/"
        },
        "id": "s5Tm7i-CSxJI",
        "outputId": "e52e13d5-8dfd-4504-a7da-6bdfedc6c816"
      },
      "outputs": [
        {
          "name": "stdout",
          "output_type": "stream",
          "text": [
            "                                                  texto sentimiento\n",
            "4343  you sit there for a half an hour and watch a s...    positive\n",
            "1723  i watched the first show of each series just t...    negative\n",
            "1001  i don t know if this type of movie was as clic...    negative\n",
            "2632  i had some reservations about this movie  i fi...    positive\n",
            "265   this is probably the first entry in the  lance...    negative\n",
            "3393  i didn t expect much when i first saw the dvd ...    positive\n",
            "2985  i agree with bigalc   this movie actually prep...    positive\n",
            "3987  what more can be said  i have not been this fa...    positive\n",
            "157   i am not so old that i can t remember laughing...    negative\n",
            "3513  this is a pleasant film  even if the premise i...    positive\n"
          ]
        }
      ],
      "source": [
        "# Definiendo función para convertir el texto a minúsculas\n",
        "\n",
        "# crear función minúsculas para aplicar a archivo de texto\n",
        "def convertir_minusculas(text):\n",
        "    # regresará como respuesta el texto en minúsculas\n",
        "    return text.lower()\n",
        "\n",
        "# Aplicar función a columna \"texto\" del dataset\n",
        "df['texto'] = df['texto'].apply(convertir_minusculas)\n",
        "\n",
        "# mostrar un número determinado de registros elegidos aleatoriamente mediante .sample de pandas\n",
        "print(df.sample(10))"
      ]
    },
    {
      "cell_type": "markdown",
      "metadata": {
        "id": "0veX0BTCWHQR"
      },
      "source": [
        "#remover los stopwords"
      ]
    },
    {
      "cell_type": "code",
      "execution_count": null,
      "metadata": {
        "colab": {
          "base_uri": "https://localhost:8080/"
        },
        "id": "8Dz1hlckbygy",
        "outputId": "e2f036ea-082f-456e-b4d0-fa068d37103f"
      },
      "outputs": [
        {
          "name": "stderr",
          "output_type": "stream",
          "text": [
            "[nltk_data] Downloading package stopwords to /root/nltk_data...\n",
            "[nltk_data]   Unzipping corpora/stopwords.zip.\n"
          ]
        },
        {
          "name": "stdout",
          "output_type": "stream",
          "text": [
            "                                               texto sentimiento\n",
            "0  [basically, family, little, boy, jake, thinks,...    negative\n",
            "1  [show, amazing, fresh, innovative, idea, first...    negative\n",
            "2  [encouraged, positive, comments, film, looking...    negative\n",
            "3  [phil, alien, one, quirky, films, humour, base...    negative\n",
            "4  [saw, movie, came, recall, scariest, scene, bi...    negative\n"
          ]
        }
      ],
      "source": [
        "import nltk\n",
        "from nltk.corpus import stopwords\n",
        "\n",
        "# Asegurarse de que las stopwords están descargadas\n",
        "nltk.download('stopwords')\n",
        "\n",
        "# Cargar las stopwords solo una vez\n",
        "stop_words = set(stopwords.words('english'))\n",
        "\n",
        "# Definir la función para remover stopwords (sin conversión a minúsculas)\n",
        "def remover_stopwords(text):\n",
        "    # Usar lista por comprensión para filtrar las palabras que no son stopwords\n",
        "    return [word for word in text.split() if word not in stop_words]\n",
        "\n",
        "# Aplicar la función a la columna 'texto' del DataFrame\n",
        "df['texto'] = df['texto'].apply(remover_stopwords)\n",
        "\n",
        "# Mostrar los primeros registros del DataFrame\n",
        "print(df.head())\n"
      ]
    },
    {
      "cell_type": "markdown",
      "metadata": {
        "id": "UDzdhqAecWzF"
      },
      "source": [
        "##reducir  a la forma basica\n",
        "es decir quitar todos los derivados"
      ]
    },
    {
      "cell_type": "code",
      "execution_count": null,
      "metadata": {
        "colab": {
          "base_uri": "https://localhost:8080/"
        },
        "id": "2aiFt3UJcV_x",
        "outputId": "0b68f4a2-fba9-45cb-ccc8-ebe41c61059a"
      },
      "outputs": [
        {
          "name": "stdout",
          "output_type": "stream",
          "text": [
            "0    [basic, famili, littl, boy, jake, think, zombi...\n",
            "1    [show, amaz, fresh, innov, idea, first, air, f...\n",
            "2    [encourag, posit, comment, film, look, forward...\n",
            "3    [phil, alien, one, quirki, film, humour, base,...\n",
            "4    [saw, movi, came, recal, scariest, scene, big,...\n",
            "5    [im, big, fan, boll, work, mani, enjoy, movi, ...\n",
            "6    [cast, play, shakespear, br, br, shakespear, l...\n",
            "7    [kind, drawn, erot, scene, realiz, one, amateu...\n",
            "Name: texto, dtype: object\n"
          ]
        }
      ],
      "source": [
        "from nltk.stem import PorterStemmer\n",
        "\n",
        "# Crear instancia del PorterStemmer fuera de la función para mejorar la eficiencia\n",
        "ps = PorterStemmer()\n",
        "\n",
        "# Definir la función para derivar palabras (stemming)\n",
        "def derivar_palabras(text):\n",
        "    # Usar lista por comprensión para aplicar el stemming a cada palabra\n",
        "    return [ps.stem(word) for word in text]\n",
        "\n",
        "# Aplicar la función a la columna 'texto' del DataFrame\n",
        "df['texto'] = df['texto'].apply(derivar_palabras)\n",
        "\n",
        "# Mostrar el contenido procesado de la columna 'texto'\n",
        "print(df['texto'].head(8))\n"
      ]
    },
    {
      "cell_type": "markdown",
      "metadata": {
        "id": "YtGNfx9ne2uq"
      },
      "source": [
        "##quitar espacios"
      ]
    },
    {
      "cell_type": "code",
      "execution_count": null,
      "metadata": {
        "colab": {
          "base_uri": "https://localhost:8080/"
        },
        "id": "Ck4rJ_WAe1cz",
        "outputId": "faf2e252-6e14-41a4-bac4-12ca90b9dcab"
      },
      "outputs": [
        {
          "name": "stdout",
          "output_type": "stream",
          "text": [
            "0    basic famili littl boy jake think zombi closet...\n",
            "1    show amaz fresh innov idea first air first yea...\n",
            "2    encourag posit comment film look forward watch...\n",
            "3    phil alien one quirki film humour base around ...\n",
            "4    saw movi came recal scariest scene big bird ea...\n",
            "Name: texto, dtype: object\n"
          ]
        }
      ],
      "source": [
        "# Definir función para unir palabras en una cadena eliminando comas y espacios múltiples\n",
        "def tabular_espacios(list_input):\n",
        "    # Unir palabras eliminando comas y espacios múltiples, si ya no hay comas en el texto\n",
        "    return ' '.join(list_input)\n",
        "\n",
        "# Aplicar la función a la columna 'texto' del DataFrame\n",
        "df['texto'] = df['texto'].apply(tabular_espacios)\n",
        "\n",
        "# Visualizar texto procesado\n",
        "print(df['texto'].head())\n"
      ]
    },
    {
      "cell_type": "markdown",
      "metadata": {
        "id": "A-Uod2YngnCQ"
      },
      "source": [
        "##guardar el datafreme limpio"
      ]
    },
    {
      "cell_type": "code",
      "execution_count": null,
      "metadata": {
        "id": "1xsXjAzIgkhS"
      },
      "outputs": [],
      "source": [
        "# con .to_csv de pandas guaradremos la copia (nombre archivo, encabezados de columnas, índice)\n",
        "df.to_csv('comentarios_dep.csv', header=True, index= False)"
      ]
    },
    {
      "cell_type": "markdown",
      "metadata": {
        "id": "D5_XDyU3hGeZ"
      },
      "source": [
        "# Analisis de sentimientos"
      ]
    },
    {
      "cell_type": "code",
      "execution_count": null,
      "metadata": {
        "colab": {
          "base_uri": "https://localhost:8080/",
          "height": 206
        },
        "id": "wETwBSD6hF38",
        "outputId": "b7fd8d44-7c0b-4fcf-fcc0-f6cbd94f6081"
      },
      "outputs": [
        {
          "data": {
            "application/vnd.google.colaboratory.intrinsic+json": {
              "summary": "{\n  \"name\": \"df_depurado\",\n  \"rows\": 5000,\n  \"fields\": [\n    {\n      \"column\": \"texto\",\n      \"properties\": {\n        \"dtype\": \"string\",\n        \"num_unique_values\": 4997,\n        \"samples\": [\n          \"movi perfect adapt english flick unfaith ashmit play role richard gere emran olivi malikka perfect cheat wife role lane chang second half film adapt indian mass br br even movi got full trace unfaith though catch origin cheap soft porn bollywood lover mallika show lot skin anyon dare show emran role like even nicknam serial killer futur indian director plan remak english movi look feasibl plot indian censor though film bomb box offic actor got undu recognit futur director littl care remak oscar nomin film br br said famili film take extra caution watch home famili\",\n          \"truli accur unglamour look modern day life could set town uk br br live hous estat glasgow relat film well br br sadli situat charact realist predict br br actor scarili believ felt spi neighbour intim dip live fragil hopeless peopl move scene br br love way film shot br br overal film must see\",\n          \"saw hallmark televis movi origin air lost interest stori charact said witch right frame mind watch film hallmark stand best qualiti film reason give film second look clive owen play damon wildev might chanc select next jame bond pierc brosnan pass clive owen might wait year reason femal lead catherin zeta jone celebr unknown time becam academi award winner outstand support actress joan plowright mr yeobright also film like open line film deliv heart fear lone place send great love somewher els shall die truli shall die\"\n        ],\n        \"semantic_type\": \"\",\n        \"description\": \"\"\n      }\n    },\n    {\n      \"column\": \"sentimiento\",\n      \"properties\": {\n        \"dtype\": \"category\",\n        \"num_unique_values\": 2,\n        \"samples\": [\n          \"positive\",\n          \"negative\"\n        ],\n        \"semantic_type\": \"\",\n        \"description\": \"\"\n      }\n    }\n  ]\n}",
              "type": "dataframe",
              "variable_name": "df_depurado"
            },
            "text/html": [
              "\n",
              "  <div id=\"df-75c41177-f499-4f4e-a3e1-d6cfdb257122\" class=\"colab-df-container\">\n",
              "    <div>\n",
              "<style scoped>\n",
              "    .dataframe tbody tr th:only-of-type {\n",
              "        vertical-align: middle;\n",
              "    }\n",
              "\n",
              "    .dataframe tbody tr th {\n",
              "        vertical-align: top;\n",
              "    }\n",
              "\n",
              "    .dataframe thead th {\n",
              "        text-align: right;\n",
              "    }\n",
              "</style>\n",
              "<table border=\"1\" class=\"dataframe\">\n",
              "  <thead>\n",
              "    <tr style=\"text-align: right;\">\n",
              "      <th></th>\n",
              "      <th>texto</th>\n",
              "      <th>sentimiento</th>\n",
              "    </tr>\n",
              "  </thead>\n",
              "  <tbody>\n",
              "    <tr>\n",
              "      <th>0</th>\n",
              "      <td>basic famili littl boy jake think zombi closet...</td>\n",
              "      <td>negative</td>\n",
              "    </tr>\n",
              "    <tr>\n",
              "      <th>1</th>\n",
              "      <td>show amaz fresh innov idea first air first yea...</td>\n",
              "      <td>negative</td>\n",
              "    </tr>\n",
              "    <tr>\n",
              "      <th>2</th>\n",
              "      <td>encourag posit comment film look forward watch...</td>\n",
              "      <td>negative</td>\n",
              "    </tr>\n",
              "    <tr>\n",
              "      <th>3</th>\n",
              "      <td>phil alien one quirki film humour base around ...</td>\n",
              "      <td>negative</td>\n",
              "    </tr>\n",
              "    <tr>\n",
              "      <th>4</th>\n",
              "      <td>saw movi came recal scariest scene big bird ea...</td>\n",
              "      <td>negative</td>\n",
              "    </tr>\n",
              "  </tbody>\n",
              "</table>\n",
              "</div>\n",
              "    <div class=\"colab-df-buttons\">\n",
              "\n",
              "  <div class=\"colab-df-container\">\n",
              "    <button class=\"colab-df-convert\" onclick=\"convertToInteractive('df-75c41177-f499-4f4e-a3e1-d6cfdb257122')\"\n",
              "            title=\"Convert this dataframe to an interactive table.\"\n",
              "            style=\"display:none;\">\n",
              "\n",
              "  <svg xmlns=\"http://www.w3.org/2000/svg\" height=\"24px\" viewBox=\"0 -960 960 960\">\n",
              "    <path d=\"M120-120v-720h720v720H120Zm60-500h600v-160H180v160Zm220 220h160v-160H400v160Zm0 220h160v-160H400v160ZM180-400h160v-160H180v160Zm440 0h160v-160H620v160ZM180-180h160v-160H180v160Zm440 0h160v-160H620v160Z\"/>\n",
              "  </svg>\n",
              "    </button>\n",
              "\n",
              "  <style>\n",
              "    .colab-df-container {\n",
              "      display:flex;\n",
              "      gap: 12px;\n",
              "    }\n",
              "\n",
              "    .colab-df-convert {\n",
              "      background-color: #E8F0FE;\n",
              "      border: none;\n",
              "      border-radius: 50%;\n",
              "      cursor: pointer;\n",
              "      display: none;\n",
              "      fill: #1967D2;\n",
              "      height: 32px;\n",
              "      padding: 0 0 0 0;\n",
              "      width: 32px;\n",
              "    }\n",
              "\n",
              "    .colab-df-convert:hover {\n",
              "      background-color: #E2EBFA;\n",
              "      box-shadow: 0px 1px 2px rgba(60, 64, 67, 0.3), 0px 1px 3px 1px rgba(60, 64, 67, 0.15);\n",
              "      fill: #174EA6;\n",
              "    }\n",
              "\n",
              "    .colab-df-buttons div {\n",
              "      margin-bottom: 4px;\n",
              "    }\n",
              "\n",
              "    [theme=dark] .colab-df-convert {\n",
              "      background-color: #3B4455;\n",
              "      fill: #D2E3FC;\n",
              "    }\n",
              "\n",
              "    [theme=dark] .colab-df-convert:hover {\n",
              "      background-color: #434B5C;\n",
              "      box-shadow: 0px 1px 3px 1px rgba(0, 0, 0, 0.15);\n",
              "      filter: drop-shadow(0px 1px 2px rgba(0, 0, 0, 0.3));\n",
              "      fill: #FFFFFF;\n",
              "    }\n",
              "  </style>\n",
              "\n",
              "    <script>\n",
              "      const buttonEl =\n",
              "        document.querySelector('#df-75c41177-f499-4f4e-a3e1-d6cfdb257122 button.colab-df-convert');\n",
              "      buttonEl.style.display =\n",
              "        google.colab.kernel.accessAllowed ? 'block' : 'none';\n",
              "\n",
              "      async function convertToInteractive(key) {\n",
              "        const element = document.querySelector('#df-75c41177-f499-4f4e-a3e1-d6cfdb257122');\n",
              "        const dataTable =\n",
              "          await google.colab.kernel.invokeFunction('convertToInteractive',\n",
              "                                                    [key], {});\n",
              "        if (!dataTable) return;\n",
              "\n",
              "        const docLinkHtml = 'Like what you see? Visit the ' +\n",
              "          '<a target=\"_blank\" href=https://colab.research.google.com/notebooks/data_table.ipynb>data table notebook</a>'\n",
              "          + ' to learn more about interactive tables.';\n",
              "        element.innerHTML = '';\n",
              "        dataTable['output_type'] = 'display_data';\n",
              "        await google.colab.output.renderOutput(dataTable, element);\n",
              "        const docLink = document.createElement('div');\n",
              "        docLink.innerHTML = docLinkHtml;\n",
              "        element.appendChild(docLink);\n",
              "      }\n",
              "    </script>\n",
              "  </div>\n",
              "\n",
              "\n",
              "<div id=\"df-72b49c0a-cef3-408f-a249-fcc9eb4a8928\">\n",
              "  <button class=\"colab-df-quickchart\" onclick=\"quickchart('df-72b49c0a-cef3-408f-a249-fcc9eb4a8928')\"\n",
              "            title=\"Suggest charts\"\n",
              "            style=\"display:none;\">\n",
              "\n",
              "<svg xmlns=\"http://www.w3.org/2000/svg\" height=\"24px\"viewBox=\"0 0 24 24\"\n",
              "     width=\"24px\">\n",
              "    <g>\n",
              "        <path d=\"M19 3H5c-1.1 0-2 .9-2 2v14c0 1.1.9 2 2 2h14c1.1 0 2-.9 2-2V5c0-1.1-.9-2-2-2zM9 17H7v-7h2v7zm4 0h-2V7h2v10zm4 0h-2v-4h2v4z\"/>\n",
              "    </g>\n",
              "</svg>\n",
              "  </button>\n",
              "\n",
              "<style>\n",
              "  .colab-df-quickchart {\n",
              "      --bg-color: #E8F0FE;\n",
              "      --fill-color: #1967D2;\n",
              "      --hover-bg-color: #E2EBFA;\n",
              "      --hover-fill-color: #174EA6;\n",
              "      --disabled-fill-color: #AAA;\n",
              "      --disabled-bg-color: #DDD;\n",
              "  }\n",
              "\n",
              "  [theme=dark] .colab-df-quickchart {\n",
              "      --bg-color: #3B4455;\n",
              "      --fill-color: #D2E3FC;\n",
              "      --hover-bg-color: #434B5C;\n",
              "      --hover-fill-color: #FFFFFF;\n",
              "      --disabled-bg-color: #3B4455;\n",
              "      --disabled-fill-color: #666;\n",
              "  }\n",
              "\n",
              "  .colab-df-quickchart {\n",
              "    background-color: var(--bg-color);\n",
              "    border: none;\n",
              "    border-radius: 50%;\n",
              "    cursor: pointer;\n",
              "    display: none;\n",
              "    fill: var(--fill-color);\n",
              "    height: 32px;\n",
              "    padding: 0;\n",
              "    width: 32px;\n",
              "  }\n",
              "\n",
              "  .colab-df-quickchart:hover {\n",
              "    background-color: var(--hover-bg-color);\n",
              "    box-shadow: 0 1px 2px rgba(60, 64, 67, 0.3), 0 1px 3px 1px rgba(60, 64, 67, 0.15);\n",
              "    fill: var(--button-hover-fill-color);\n",
              "  }\n",
              "\n",
              "  .colab-df-quickchart-complete:disabled,\n",
              "  .colab-df-quickchart-complete:disabled:hover {\n",
              "    background-color: var(--disabled-bg-color);\n",
              "    fill: var(--disabled-fill-color);\n",
              "    box-shadow: none;\n",
              "  }\n",
              "\n",
              "  .colab-df-spinner {\n",
              "    border: 2px solid var(--fill-color);\n",
              "    border-color: transparent;\n",
              "    border-bottom-color: var(--fill-color);\n",
              "    animation:\n",
              "      spin 1s steps(1) infinite;\n",
              "  }\n",
              "\n",
              "  @keyframes spin {\n",
              "    0% {\n",
              "      border-color: transparent;\n",
              "      border-bottom-color: var(--fill-color);\n",
              "      border-left-color: var(--fill-color);\n",
              "    }\n",
              "    20% {\n",
              "      border-color: transparent;\n",
              "      border-left-color: var(--fill-color);\n",
              "      border-top-color: var(--fill-color);\n",
              "    }\n",
              "    30% {\n",
              "      border-color: transparent;\n",
              "      border-left-color: var(--fill-color);\n",
              "      border-top-color: var(--fill-color);\n",
              "      border-right-color: var(--fill-color);\n",
              "    }\n",
              "    40% {\n",
              "      border-color: transparent;\n",
              "      border-right-color: var(--fill-color);\n",
              "      border-top-color: var(--fill-color);\n",
              "    }\n",
              "    60% {\n",
              "      border-color: transparent;\n",
              "      border-right-color: var(--fill-color);\n",
              "    }\n",
              "    80% {\n",
              "      border-color: transparent;\n",
              "      border-right-color: var(--fill-color);\n",
              "      border-bottom-color: var(--fill-color);\n",
              "    }\n",
              "    90% {\n",
              "      border-color: transparent;\n",
              "      border-bottom-color: var(--fill-color);\n",
              "    }\n",
              "  }\n",
              "</style>\n",
              "\n",
              "  <script>\n",
              "    async function quickchart(key) {\n",
              "      const quickchartButtonEl =\n",
              "        document.querySelector('#' + key + ' button');\n",
              "      quickchartButtonEl.disabled = true;  // To prevent multiple clicks.\n",
              "      quickchartButtonEl.classList.add('colab-df-spinner');\n",
              "      try {\n",
              "        const charts = await google.colab.kernel.invokeFunction(\n",
              "            'suggestCharts', [key], {});\n",
              "      } catch (error) {\n",
              "        console.error('Error during call to suggestCharts:', error);\n",
              "      }\n",
              "      quickchartButtonEl.classList.remove('colab-df-spinner');\n",
              "      quickchartButtonEl.classList.add('colab-df-quickchart-complete');\n",
              "    }\n",
              "    (() => {\n",
              "      let quickchartButtonEl =\n",
              "        document.querySelector('#df-72b49c0a-cef3-408f-a249-fcc9eb4a8928 button');\n",
              "      quickchartButtonEl.style.display =\n",
              "        google.colab.kernel.accessAllowed ? 'block' : 'none';\n",
              "    })();\n",
              "  </script>\n",
              "</div>\n",
              "\n",
              "    </div>\n",
              "  </div>\n"
            ],
            "text/plain": [
              "                                               texto sentimiento\n",
              "0  basic famili littl boy jake think zombi closet...    negative\n",
              "1  show amaz fresh innov idea first air first yea...    negative\n",
              "2  encourag posit comment film look forward watch...    negative\n",
              "3  phil alien one quirki film humour base around ...    negative\n",
              "4  saw movi came recal scariest scene big bird ea...    negative"
            ]
          },
          "execution_count": 14,
          "metadata": {},
          "output_type": "execute_result"
        }
      ],
      "source": [
        "# Cargar Dataset (corpus) depurado\n",
        "df_depurado = pd.read_csv('./comentarios_dep.csv')\n",
        "\n",
        "# mostrar los primeros registros\n",
        "df_depurado.head()"
      ]
    },
    {
      "cell_type": "markdown",
      "metadata": {
        "id": "2LyO9kxH1_BL"
      },
      "source": [
        "#se importa la libreria textblox y se realiza una copia para el analisis de sentimientos"
      ]
    },
    {
      "cell_type": "code",
      "execution_count": null,
      "metadata": {
        "colab": {
          "base_uri": "https://localhost:8080/"
        },
        "id": "PLJH-tFOg4Lh",
        "outputId": "9ca545ee-bce3-499b-e8ad-129e17af3a58"
      },
      "outputs": [
        {
          "name": "stdout",
          "output_type": "stream",
          "text": [
            "                                                  texto sentimiento\n",
            "1115  movi silli short funni movi unhappi eastern pl...    negative\n",
            "2504  probabl time favorit movi stori selfless sacri...    positive\n",
            "1037  around terribl comedi dull bare laugh wast lav...    negative\n",
            "3976  live br br mordant never written word come min...    positive\n",
            "4501  expect highest calibr film make joel schumach ...    positive\n",
            "4837  small pleasur life walk old movi aisl rental s...    positive\n",
            "1197  die hard meet cliffhang ski resort besieg terr...    negative\n",
            "1228  see thoma edison glow smile face tri electrocu...    negative\n"
          ]
        }
      ],
      "source": [
        "# importar Librería TextBlob\n",
        "import textblob\n",
        "\n",
        "# Crearemos, por seguridad, una copia del dataset depurado para esta implementación\n",
        "textblob_data=df_depurado.copy()\n",
        "\n",
        "# mostrar primeros registros\n",
        "print(textblob_data.sample(8))"
      ]
    },
    {
      "cell_type": "markdown",
      "metadata": {
        "id": "uVxOpM_86Ann"
      },
      "source": [
        "##Extraer puntaje de polaridad del sentimiento, subjetividad y etiqueta de sentimiento mediante TextBlob"
      ]
    },
    {
      "cell_type": "code",
      "execution_count": null,
      "metadata": {
        "id": "mtUDPN4WgHAb"
      },
      "outputs": [],
      "source": [
        "\n",
        "# Crear listas vacías para almacenar los puntajes de polaridad, subjetividad y etiquetas del sentimiento\n",
        "subjetividad = []  # Subjetividad de la reseña extraída por TextBlob\n",
        "sentimiento_score = []  # Puntaje de polaridad extraído por TextBlob\n",
        "sentimiento = []  # Etiquetas de sentimiento (Negativo o Positivo)\n",
        "\n",
        "# Función para analizar sentimiento usando TextBlob\n",
        "def analizar_sentimiento(texto):\n",
        "    reseña = textblob.TextBlob(texto)\n",
        "    polaridad = reseña.sentiment.polarity\n",
        "    subjetividad_valor = reseña.sentiment.subjectivity\n",
        "\n",
        "    # Determinar la etiqueta de sentimiento en función de la polaridad\n",
        "    etiqueta_sentimiento = 'Negativo' if polaridad <= 0 else 'Positivo'\n",
        "\n",
        "    return polaridad, subjetividad_valor, etiqueta_sentimiento\n",
        "\n",
        "# Aplicar la función a cada valor en los registros de la columna \"texto\" del dataset\n",
        "for texto in textblob_data['texto'].values:\n",
        "    polaridad, subjetividad_valor, etiqueta_sentimiento = analizar_sentimiento(texto)\n",
        "    sentimiento_score.append(polaridad)\n",
        "    subjetividad.append(subjetividad_valor)\n",
        "    sentimiento.append(etiqueta_sentimiento)\n",
        "\n"
      ]
    },
    {
      "cell_type": "code",
      "execution_count": null,
      "metadata": {
        "colab": {
          "base_uri": "https://localhost:8080/"
        },
        "id": "sYBp89HO63f8",
        "outputId": "1859445b-ff6d-4ccb-9bc9-5d0cfbcc2822"
      },
      "outputs": [
        {
          "name": "stdout",
          "output_type": "stream",
          "text": [
            "                                                  texto sentimiento  \\\n",
            "4303  clever bizarr angl beauti eye behold time thin...    positive   \n",
            "926   film self indulg rubbish watch film mere want ...    negative   \n",
            "4895  tight knit music famili cranki benevol father ...    positive   \n",
            "295   watch pulp fiction see movi movi funni worst p...    negative   \n",
            "4814  leav asid drawback defici film mention viewer ...    positive   \n",
            "616   huge fan war movi vietnam combat vet experi te...    negative   \n",
            "2933  stun film afterward even want see film long ti...    positive   \n",
            "95    premis movi decent enough sub par act bland du...    negative   \n",
            "\n",
            "      Puntaje de polaridad  Subjetividad Etiqueta de sentimiento  \n",
            "4303              0.355000      0.583333                Positivo  \n",
            "926               0.045238      0.576190                Positivo  \n",
            "4895              0.008571      0.402381                Positivo  \n",
            "295              -0.437500      0.758333                Negativo  \n",
            "4814              0.126923      0.339744                Positivo  \n",
            "616               0.260669      0.544444                Positivo  \n",
            "2933             -0.143182      0.550000                Negativo  \n",
            "95                0.051852      0.570370                Positivo  \n"
          ]
        }
      ],
      "source": [
        " #se construye la columnas en el datset y se define su contenido con las listas creadas previamente\n",
        "\n",
        "textblob_data['Puntaje de polaridad']=sentimiento_score\n",
        "textblob_data['Subjetividad']=subjetividad\n",
        "textblob_data['Etiqueta de sentimiento']=sentimiento\n",
        "\n",
        "# mostrar dataset con las columnas agregadas\n",
        "print(textblob_data.sample(8))"
      ]
    },
    {
      "cell_type": "code",
      "execution_count": null,
      "metadata": {
        "colab": {
          "base_uri": "https://localhost:8080/",
          "height": 279
        },
        "id": "gPvuwaPJ9X1O",
        "outputId": "4746ba91-3ec2-4f6c-a0bc-dca5ac5291ff"
      },
      "outputs": [
        {
          "name": "stdout",
          "output_type": "stream",
          "text": [
            "EL comentario es: ever learn ecstat review npr made think turkey anoth citizen kane pleas allow vent spleen br br admit set presum new york citi never downright ugli unapp remind bad decad men fashion automobil smoke plan cheapen charact succeed br br film work least simpl estim least one sympathet charact ned beati came close could wait finish nicki stray shot struck mikey well may elicit shrug indiffer br br rememb detest film strongli suppos rube dig art flick oh well\n"
          ]
        },
        {
          "data": {
            "text/html": [
              "<div>\n",
              "<style scoped>\n",
              "    .dataframe tbody tr th:only-of-type {\n",
              "        vertical-align: middle;\n",
              "    }\n",
              "\n",
              "    .dataframe tbody tr th {\n",
              "        vertical-align: top;\n",
              "    }\n",
              "\n",
              "    .dataframe thead th {\n",
              "        text-align: right;\n",
              "    }\n",
              "</style>\n",
              "<table border=\"1\" class=\"dataframe\">\n",
              "  <thead>\n",
              "    <tr style=\"text-align: right;\">\n",
              "      <th></th>\n",
              "      <th>2</th>\n",
              "    </tr>\n",
              "  </thead>\n",
              "  <tbody>\n",
              "    <tr>\n",
              "      <th>texto</th>\n",
              "      <td>encourag posit comment film look forward watch...</td>\n",
              "    </tr>\n",
              "    <tr>\n",
              "      <th>sentimiento</th>\n",
              "      <td>negative</td>\n",
              "    </tr>\n",
              "    <tr>\n",
              "      <th>Puntaje de polaridad</th>\n",
              "      <td>-0.096296</td>\n",
              "    </tr>\n",
              "    <tr>\n",
              "      <th>Subjetividad</th>\n",
              "      <td>0.642593</td>\n",
              "    </tr>\n",
              "    <tr>\n",
              "      <th>Etiqueta de sentimiento</th>\n",
              "      <td>Negativo</td>\n",
              "    </tr>\n",
              "  </tbody>\n",
              "</table>\n",
              "</div><br><label><b>dtype:</b> object</label>"
            ],
            "text/plain": [
              "texto                      encourag posit comment film look forward watch...\n",
              "sentimiento                                                         negative\n",
              "Puntaje de polaridad                                               -0.096296\n",
              "Subjetividad                                                        0.642593\n",
              "Etiqueta de sentimiento                                             Negativo\n",
              "Name: 2, dtype: object"
            ]
          },
          "execution_count": 18,
          "metadata": {},
          "output_type": "execute_result"
        }
      ],
      "source": [
        "# se explora un comentario  y sus valores con TextBlob\n",
        "print('EL comentario es:',textblob_data['texto'][150])\n",
        "textblob_data.iloc[2,0:]"
      ]
    },
    {
      "cell_type": "code",
      "execution_count": null,
      "metadata": {
        "colab": {
          "base_uri": "https://localhost:8080/",
          "height": 178
        },
        "id": "zwMclGSW-TI3",
        "outputId": "a70b3d47-f5ed-45a2-c159-cbb8099b185b"
      },
      "outputs": [
        {
          "data": {
            "text/html": [
              "<div>\n",
              "<style scoped>\n",
              "    .dataframe tbody tr th:only-of-type {\n",
              "        vertical-align: middle;\n",
              "    }\n",
              "\n",
              "    .dataframe tbody tr th {\n",
              "        vertical-align: top;\n",
              "    }\n",
              "\n",
              "    .dataframe thead th {\n",
              "        text-align: right;\n",
              "    }\n",
              "</style>\n",
              "<table border=\"1\" class=\"dataframe\">\n",
              "  <thead>\n",
              "    <tr style=\"text-align: right;\">\n",
              "      <th></th>\n",
              "      <th>count</th>\n",
              "    </tr>\n",
              "    <tr>\n",
              "      <th>sentimiento</th>\n",
              "      <th></th>\n",
              "    </tr>\n",
              "  </thead>\n",
              "  <tbody>\n",
              "    <tr>\n",
              "      <th>negative</th>\n",
              "      <td>2500</td>\n",
              "    </tr>\n",
              "    <tr>\n",
              "      <th>positive</th>\n",
              "      <td>2500</td>\n",
              "    </tr>\n",
              "  </tbody>\n",
              "</table>\n",
              "</div><br><label><b>dtype:</b> int64</label>"
            ],
            "text/plain": [
              "sentimiento\n",
              "negative    2500\n",
              "positive    2500\n",
              "Name: count, dtype: int64"
            ]
          },
          "execution_count": 19,
          "metadata": {},
          "output_type": "execute_result"
        }
      ],
      "source": [
        "# se visualiza el número de registros etiquetados como negativos y positivos originales\n",
        "textblob_data['sentimiento'].value_counts()"
      ]
    },
    {
      "cell_type": "code",
      "execution_count": null,
      "metadata": {
        "colab": {
          "base_uri": "https://localhost:8080/",
          "height": 178
        },
        "id": "W69w2JWQ-Us3",
        "outputId": "501698ea-a167-4289-d976-1fd5c52401f6"
      },
      "outputs": [
        {
          "data": {
            "text/html": [
              "<div>\n",
              "<style scoped>\n",
              "    .dataframe tbody tr th:only-of-type {\n",
              "        vertical-align: middle;\n",
              "    }\n",
              "\n",
              "    .dataframe tbody tr th {\n",
              "        vertical-align: top;\n",
              "    }\n",
              "\n",
              "    .dataframe thead th {\n",
              "        text-align: right;\n",
              "    }\n",
              "</style>\n",
              "<table border=\"1\" class=\"dataframe\">\n",
              "  <thead>\n",
              "    <tr style=\"text-align: right;\">\n",
              "      <th></th>\n",
              "      <th>count</th>\n",
              "    </tr>\n",
              "    <tr>\n",
              "      <th>Etiqueta de sentimiento</th>\n",
              "      <th></th>\n",
              "    </tr>\n",
              "  </thead>\n",
              "  <tbody>\n",
              "    <tr>\n",
              "      <th>Positivo</th>\n",
              "      <td>3718</td>\n",
              "    </tr>\n",
              "    <tr>\n",
              "      <th>Negativo</th>\n",
              "      <td>1282</td>\n",
              "    </tr>\n",
              "  </tbody>\n",
              "</table>\n",
              "</div><br><label><b>dtype:</b> int64</label>"
            ],
            "text/plain": [
              "Etiqueta de sentimiento\n",
              "Positivo    3718\n",
              "Negativo    1282\n",
              "Name: count, dtype: int64"
            ]
          },
          "execution_count": 20,
          "metadata": {},
          "output_type": "execute_result"
        }
      ],
      "source": [
        "# se visualuza el número de registros etiquetados como negativos y positivos mediante TextBlob\n",
        "textblob_data['Etiqueta de sentimiento'].value_counts()"
      ]
    },
    {
      "cell_type": "markdown",
      "metadata": {
        "id": "fhTNbcwk-6oG"
      },
      "source": [
        "##Graficas\n",
        "despues de comparar los valoraciones que otorgo Textblob se muetran las valoraciones de forma graficas"
      ]
    },
    {
      "cell_type": "code",
      "execution_count": null,
      "metadata": {
        "colab": {
          "base_uri": "https://localhost:8080/",
          "height": 542
        },
        "id": "PVtqAehr_tEi",
        "outputId": "37e0406c-8087-4498-ba98-a0e0ccbd5912"
      },
      "outputs": [
        {
          "data": {
            "text/html": [
              "<html>\n",
              "<head><meta charset=\"utf-8\" /></head>\n",
              "<body>\n",
              "    <div>            <script src=\"https://cdnjs.cloudflare.com/ajax/libs/mathjax/2.7.5/MathJax.js?config=TeX-AMS-MML_SVG\"></script><script type=\"text/javascript\">if (window.MathJax && window.MathJax.Hub && window.MathJax.Hub.Config) {window.MathJax.Hub.Config({SVG: {font: \"STIX-Web\"}});}</script>                <script type=\"text/javascript\">window.PlotlyConfig = {MathJaxConfig: 'local'};</script>\n",
              "        <script charset=\"utf-8\" src=\"https://cdn.plot.ly/plotly-2.35.2.min.js\"></script>                <div id=\"cdd14ae9-7708-4128-a7c1-b5aeb550cb1f\" class=\"plotly-graph-div\" style=\"height:525px; width:100%;\"></div>            <script type=\"text/javascript\">                                    window.PLOTLYENV=window.PLOTLYENV || {};                                    if (document.getElementById(\"cdd14ae9-7708-4128-a7c1-b5aeb550cb1f\")) {                    Plotly.newPlot(                        \"cdd14ae9-7708-4128-a7c1-b5aeb550cb1f\",                        [{\"alignmentgroup\":\"True\",\"bingroup\":\"x\",\"hovertemplate\":\"Sentimiento=Positivo\\u003cbr\\u003ePuntaje de Polaridad=%{x}\\u003cbr\\u003ecount=%{y}\\u003cextra\\u003e\\u003c\\u002fextra\\u003e\",\"legendgroup\":\"Positivo\",\"marker\":{\"color\":\"#EF553B\",\"pattern\":{\"shape\":\"\"}},\"name\":\"Positivo\",\"nbinsx\":20,\"offsetgroup\":\"Positivo\",\"orientation\":\"v\",\"showlegend\":true,\"x\":[0.06428571428571428,0.10984848484848492,0.1595238095238095,0.11845238095238096,0.23061224489795915,0.1159090909090909,0.026193181818181838,0.013461538461538448,0.12187499999999998,0.26326530612244897,0.12291666666666667,0.19722222222222222,0.08267125031830913,0.7,0.06414141414141414,0.09801587301587301,0.10530303030303027,0.07886904761904762,0.185,0.1369047619047619,0.12857142857142856,0.20509259259259263,0.19630952380952382,0.08268398268398265,0.14806547619047616,0.22943722943722947,0.010714285714285707,0.24714285714285716,0.18235294117647058,0.11477272727272728,0.007589285714285715,0.1685185185185185,0.05839646464646465,0.07,0.2108974358974359,0.1017857142857143,0.044285714285714296,0.15363487087625022,0.12083333333333335,0.10238095238095238,0.10403198653198654,0.18323002754820938,0.2683333333333333,0.023796405614587426,0.16532738095238095,0.23541666666666666,0.2333333333333333,0.05185185185185184,0.051900703463203475,0.2273809523809524,0.0016025641025641075,0.007692307692307691,0.14914021164021168,0.175,0.021904761904761906,0.03796296296296296,0.022027972027972038,0.16805555555555557,0.175,0.0822916666666667,0.005428571428571429,0.8,0.21428571428571427,0.25416666666666665,0.04916666666666667,0.007272727272727308,0.24583333333333335,0.1142857142857143,0.11727272727272728,0.09492424242424242,0.16425465838509315,0.12155172413793104,0.028124999999999997,0.036147186147186136,0.05985185185185185,0.14910714285714285,0.1825,0.07766788766788767,0.15555555555555559,0.04829192546583851,0.11273809523809523,0.060937500000000026,0.029921394395078606,0.04523809523809523,0.2157142857142857,0.0446969696969697,0.10000000000000002,0.03731884057971014,0.16071428571428573,0.06892446633825945,0.0030906593406593405,0.02179487179487182,0.04977244977244977,0.05324675324675325,0.06145833333333333,0.3060606060606061,0.2111111111111111,0.44000000000000006,0.13974358974358975,0.009848484848484863,0.09567099567099568,0.05,0.11682998819362457,0.175,0.1582917082917083,0.1716666666666667,0.060087719298245613,0.15504385964912282,0.16180555555555556,0.08131313131313131,0.06214025974025973,0.17500000000000002,0.38803904428904434,0.20714285714285713,0.29528571428571426,0.26999999999999996,0.14999999999999997,0.12371794871794875,0.03790476190476191,0.08409090909090909,0.10057603686635942,0.0605006105006105,0.1227272727272727,0.11074380165289259,0.234375,0.05363081363081365,0.07294973544973547,0.08220899470899472,0.03194444444444444,0.22142857142857142,0.2759259259259259,0.11278787878787877,0.017105263157894728,0.1392156862745098,0.15730769230769232,0.012254901960784312,0.06992424242424247,0.14277210884353742,0.19505494505494508,0.03257575757575757,0.22395833333333331,0.2496527777777778,0.3833333333333333,0.07222222222222219,0.15130952380952384,0.12,0.10999999999999999,0.41,0.03125,0.09871794871794874,0.15913825757575759,0.06327836637047166,0.06999999999999999,0.55,0.16637205387205384,0.15019841269841272,0.1,0.13412698412698412,0.10112299465240643,0.030208333333333316,0.1,0.012500000000000011,0.11044372294372296,0.10250000000000001,0.08666666666666668,0.20625,0.13569444444444445,0.10664983164983165,0.24384057971014492,0.06363636363636366,0.060416666666666674,0.055769230769230786,0.15519480519480516,0.022253787878787883,0.042733134920634915,0.11094444444444444,0.17499999999999996,0.039458525345622115,0.08484848484848485,0.09478896103896103,0.32142857142857145,0.03224789915966386,0.09338095238095237,0.0625,0.18330756545042262,0.17620851370851373,0.049999999999999996,0.025000000000000012,0.07369281045751634,0.033333333333333354,0.24760101010101013,0.10510204081632654,0.03592017738359202,0.0075892857142857255,0.0642857142857143,0.25316883116883115,0.0018607123870281773,0.17365079365079364,0.050595238095238075,0.2625,0.24409722222222227,0.03805465367965368,0.07893772893772896,0.18906249999999997,0.13541666666666666,0.03571428571428573,0.035353535353535366,0.1290633608815427,0.1142857142857143,0.10000000000000003,0.2520833333333333,0.18004385964912284,0.05,0.04515151515151516,0.02380952380952382,0.11177156177156178,0.059444444444444446,0.022222222222222247,0.055833333333333325,0.022222222222222237,0.20731292517006802,0.05654761904761904,0.18888888888888888,0.04583333333333333,0.20114087301587302,0.01230158730158731,0.030253623188405795,0.2977777777777778,0.1444444444444445,0.04814814814814814,0.11547619047619047,0.06847890671420084,0.47142857142857136,0.36000000000000004,0.11850818452380957,0.022222222222222216,0.08571428571428573,0.18363636363636365,0.012333333333333332,0.06769972451790633,0.21862745098039216,0.15330578512396695,0.08483672124976471,0.18125000000000002,0.09285714285714285,0.22738095238095238,0.075,0.3,0.18070175438596495,0.006702898550724633,0.12,0.25467171717171716,0.10255102040816326,0.06666666666666667,0.18666666666666668,0.015000000000000024,0.1969135802469136,0.1642332415059688,0.2100000000000001,0.10330578512396695,0.32500000000000007,0.06602564102564103,0.1638888888888889,0.02666666666666667,0.2026695526695527,0.08125000000000003,0.14387755102040817,0.09999999999999998,0.08384353741496599,0.05000000000000004,0.15740740740740736,0.07604308390022675,0.04464285714285714,0.1125,0.07392857142857144,0.05555555555555555,0.1608585858585858,0.03749999999999998,0.1986542443064182,0.021212121212121213,0.03797101449275365,0.19895833333333335,0.29523809523809524,0.07083333333333332,0.014285714285714275,0.21984848484848482,0.05206611570247932,0.12402597402597403,0.1072727272727273,0.5,0.04903581267217632,0.25166666666666665,0.13333333333333333,0.19791666666666666,0.1165104166666667,0.31892857142857145,0.07546296296296297,0.010576923076923083,0.13200000000000003,0.028857142857142862,0.2159090909090909,0.03404356060606059,0.29583333333333334,0.1481601731601732,7.93016446160826e-18,0.01093750000000001,0.1333333333333333,0.15378787878787878,0.13410636982065555,0.05037042502951595,0.08333333333333333,0.11726190476190478,0.019999999999999997,0.021428571428571457,0.10071428571428573,0.0909090909090909,0.047916666666666656,0.027777777777777814,0.03985088985088985,0.09708994708994709,2.7755575615628914e-17,0.01666666666666666,0.2,0.09196636696636697,0.17261904761904762,0.062083333333333324,0.1173239087301587,0.11249999999999999,0.17689393939393946,0.034259259259259274,0.04745454545454546,0.13380952380952382,0.08055555555555556,0.0767180735930736,0.12057840307840308,0.056190476190476235,0.22142857142857147,0.2708333333333333,0.2606691919191919,0.3796296296296296,0.05920745920745921,0.04966216216216217,0.29090909090909095,0.23296296296296298,0.2558441558441558,0.09696969696969698,0.12333333333333334,0.07272727272727274,0.13392857142857145,0.24895104895104894,0.19999999999999998,0.06694214876033057,0.052116402116402116,0.38095238095238093,0.14801587301587302,0.12854256854256854,0.12500000000000003,0.08571428571428572,0.00601851851851851,0.1495238095238095,0.025641025641025647,0.0032894736842105144,0.12266865079365082,0.04743589743589745,0.1504069264069264,0.15714285714285717,0.08333333333333336,0.2325,0.06666666666666668,0.06357142857142857,0.1146694214876033,0.337004662004662,0.25588235294117645,0.5179292929292929,0.007291666666666665,0.059228650137741055,0.2285714285714286,0.275,0.15092592592592594,0.073521411021411,0.15512820512820513,0.290625,0.11875000000000002,0.1373015873015873,0.22322314049586775,0.045889069264069285,0.21448412698412697,0.14387755102040817,0.02542016806722688,0.11141588296760711,0.13999999999999999,0.08680555555555552,0.23081065759637184,0.18035064935064934,0.059722222222222204,0.00039682539682538924,0.17942176870748297,0.7250000000000001,0.06483134920634921,0.026274651274651284,0.09659090909090907,0.086991341991342,0.2857142857142857,0.012768817204301095,0.10813492063492063,0.036363636363636376,0.2138888888888889,0.030476190476190487,0.017272727272727263,0.16459435626102292,0.09530932030932031,0.08888888888888889,0.1863636363636364,0.021813725490196112,0.004276315789473681,0.13880952380952377,0.014983164983164987,0.3,0.05166666666666667,0.15353535353535355,0.11649659863945579,0.18333333333333335,0.06559011164274321,0.45,0.04057539682539687,0.16233766233766236,0.3625,0.0681818181818182,0.027173458725182866,0.0814814814814815,0.263235294117647,0.05757575757575757,0.06868686868686869,0.08958333333333333,0.04583333333333332,0.11224025974025977,0.0618908868908869,0.18192125334982476,0.007539682539682542,0.05898268398268398,0.075,0.13333333333333333,0.1277846027846028,0.09903846153846155,0.168125,0.2063186813186813,0.17592592592592593,0.07857142857142856,0.2,0.20370370370370372,0.024242424242424235,0.19999999999999998,0.05818070818070819,0.08822751322751318,0.18666666666666665,0.014035087719298248,0.13240740740740742,0.13833333333333334,0.07175238095238098,0.08511904761904762,0.3,0.07878787878787881,0.034090909090909095,0.15696969696969695,0.07833333333333334,0.044786096256684484,0.21354166666666669,0.01688311688311687,0.06081002331002331,0.0016053391053391013,0.06744047619047619,0.16696428571428573,0.027462121212121215,0.005952380952380947,0.09086921850079745,0.17275641025641028,0.07083333333333335,0.24848484848484845,0.1476190476190476,0.008086419753086417,0.1650980392156863,0.1621212121212121,0.012149041434755719,0.17529761904761906,0.16519607843137257,0.05714285714285714,0.18352272727272723,0.1696969696969697,0.03487425273139561,0.18958333333333333,0.1,0.2416666666666666,0.06547619047619048,0.10206043956043956,0.04654356060606061,0.09080578512396693,0.07857142857142858,0.023333333333333317,0.033593750000000026,0.425,0.25931372549019605,0.03425925925925926,0.0006944444444444373,0.1392857142857143,0.1763157894736843,0.19599999999999998,0.09811507936507939,0.07936507936507936,0.19445378151260503,0.11499999999999999,0.15185185185185182,0.22857142857142856,0.11458333333333333,0.2532828282828283,0.4238095238095238,0.040946067821067834,0.20595238095238091,0.19621848739495795,0.022216209716209724,0.19857142857142857,0.03549999999999999,0.04973484848484847,0.05614035087719297,0.02499999999999999,0.11736111111111112,0.038761904761904775,0.04523809523809524,0.13173076923076923,0.26666666666666666,0.026683855360325942,0.05700280112044814,0.09083333333333335,0.09166666666666666,0.12142857142857144,0.06702618369285036,0.06979166666666667,0.1375,0.17685606060606063,0.06666666666666665,0.037083333333333336,0.15384615384615388,0.04683354280128474,0.14644183773216035,0.21865530303030303,0.16999999999999998,0.5076923076923078,0.1688311688311688,0.3666666666666667,0.0023685837971552325,0.10014880952380953,0.09848484848484848,0.04118703266430541,0.14135802469135803,0.07916666666666666,0.24270334928229662,0.1829915698336751,0.14675925925925926,0.14166666666666666,0.1903823953823954,0.08,0.3446969696969697,0.18888888888888888,0.0515686274509804,0.013425925925925949,0.05509259259259257,0.007407407407407406,0.3517906336088154,0.09408482142857146,0.036027336860670195,0.11906288156288158,0.2708333333333333,0.050396825396825384,0.12291666666666666,0.06882395382395383,0.04857142857142854,0.19642857142857142,0.011111111111111108,0.09678030303030304,0.010555555555555556,0.2333333333333333,0.008333333333333335,0.1363095238095238,0.10833333333333334,0.17156862745098042,0.024436026936026943,0.2037210338680927,0.07502351097178683,0.15694444444444447,0.28,0.08997493734335837,0.01359307359307361,0.17640692640692637,0.23115680615680617,0.07879689754689755,0.10333333333333335,0.03448129251700683,0.2727272727272727,0.03166666666666666,0.07999999999999999,0.001969696969696966,0.6,0.2416666666666667,0.034765625000000015,0.018981481481481488,0.12222222222222223,0.011904761904761906,0.06690476190476191,0.01944444444444443,0.39714285714285713,0.024147727272727283,0.05857142857142857,0.10967261904761905,0.1875,0.13020833333333331,0.36071428571428577,0.1885353535353535,0.14869047619047618,0.14061771561771566,0.16979166666666667,0.009999999999999986,0.0831140350877193,0.0900537634408602,0.11547619047619047,0.15935374149659864,0.09396766169154232,0.0472222222222222,0.030515151515151513,0.14791666666666667,0.04074074074074074,0.049977553310886644,0.175,0.1756313131313131,0.030010076130765784,0.21153846153846154,0.19090909090909094,0.3933333333333333,0.03099647266313934,0.15291666666666667,0.12448604116971465,0.14375000000000002,0.0205952380952381,0.03333333333333335,0.20909090909090908,0.18446969696969695,0.03539452971271154,0.057166666666666664,0.017098214285714293,0.075,0.07272727272727274,0.11632653061224488,0.053163503163503156,0.43180272108843537,0.05555813234384662,0.13440476190476192,0.010256410256410267,0.17395833333333333,0.04117647058823531,0.10972222222222222,0.20000000000000004,0.2516666666666667,0.4238095238095238,0.10833333333333334,0.05,0.14729992229992234,0.34249999999999997,0.125,0.15454545454545454,0.04613636363636366,0.019444444444444448,0.15563973063973063,0.1665343915343915,0.20634920634920637,0.041666666666666685,0.13579545454545455,0.19417001649144505,0.23257575757575755,0.19857142857142857,0.10281385281385282,0.1371264367816092,0.043632653061224505,0.32355769230769227,0.11744713619713619,0.06355006105006107,0.065,0.016666666666666663,0.17711640211640212,0.1577973613687899,0.33214285714285713,0.07238095238095239,0.28208333333333335,0.03815426997245178,0.033606821106821096,0.018518518518518524,0.22742504409171077,0.19215686274509802,0.1574074074074074,0.22859848484848488,0.12812500000000002,0.20229885057471264,0.11217948717948717,0.26571428571428574,0.5833333333333334,0.06541666666666665,0.3,0.2875,0.20000000000000004,0.05384615384615386,0.05178030303030301,0.090530303030303,0.040648148148148155,0.11161616161616161,0.028205128205128202,0.04761904761904762,0.1318948412698413,0.22314814814814815,0.17305194805194804,0.19047619047619047,0.043013468013468004,0.27,0.05900537634408604,0.23333333333333328,0.11196969696969697,0.042045454545454525,0.22745098039215686,0.10632440476190476,0.14761904761904762,0.018324478551751275,0.07902979373567609,0.14,0.12619047619047621,0.05520833333333332,0.16777777777777775,0.24805194805194805,0.031944444444444456,0.15,0.3142857142857143,0.2,0.30435606060606063,0.05000000000000001,0.10059523809523808,0.016517857142857147,0.125,0.1857142857142857,0.15956547619047617,0.19047619047619047,0.21666666666666665,0.11666666666666665,0.014000000000000012,0.0860455486542443,0.21031746031746032,0.1284920634920635,0.08227813852813852,0.14244791666666667,0.07246376811594202,0.11237012987012987,0.11331168831168834,0.03750000000000003,0.08571428571428572,0.13968033998521806,0.15039062499999994,0.051790633608815424,0.02146497441951987,0.03125000000000003,0.12402597402597401,0.13749999999999998,0.026190476190476195,0.06806722689075632,0.13148148148148148,0.07666666666666667,0.22053571428571428,0.109375,0.10957142857142858,0.12451028138528138,0.06044444444444443,0.015147506814173484,0.017049808429118764,0.07441077441077443,0.340625,0.01433333333333335,0.06568627450980392,0.37214285714285716,0.16093749999999998,0.09999999999999999,0.18928571428571428,0.018161881977671438,0.050148809523809526,0.05500000000000001,0.3171875,0.17222222222222225,0.1833333333333333,0.012220026350461141,0.11345619459905175,0.51,0.022222222222222223,0.04583333333333334,0.08841991341991343,0.29345238095238096,0.07425925925925925,0.15833333333333335,0.08888888888888888,0.07479166666666673,0.10531982385430659,0.1281655844155844,0.12048478482302011,0.5,0.05357142857142859,0.21136363636363634,0.08363636363636366,0.19285714285714287,0.15961538461538463,0.19698660714285715,0.03216783216783217,0.24362244897959182,0.0036231884057971006,0.14153069153069156,0.30833333333333335,0.052628968253968254,0.10151515151515152,0.09375,0.0026303980572273283,0.05360023041474655,0.10541666666666667,0.36500000000000005,0.000595238095238105,0.11111111111111112,0.26250000000000007,0.09479166666666668,0.02190909090909091,0.1277777777777778,0.03966165413533834,0.09476799242424243,0.14292929292929293,0.9,0.05014172335600908,0.12129629629629629,0.056944444444444436,0.13541666666666669,0.11687499999999998,0.16296296296296298,0.2209722222222222,0.1576923076923077,0.36666666666666675,0.1125,0.18692059972547778,0.16574074074074077,0.16666666666666666,0.06964285714285715,0.09605263157894735,0.046256684491978624,0.040797682709447405,0.07777777777777779,0.09437862950058072,0.265530303030303,0.016269841269841285,0.3752380952380952,0.11101190476190476,0.024999999999999994,0.1382142857142857,0.08653612012987014,0.12077890247007893,0.11700216450216451,0.05229591836734693,0.15375,0.10808546292417259,0.10833333333333332,0.19444444444444442,0.21002747252747256,0.14136363636363639,0.16458333333333333,0.053125000000000006,0.041666666666666664,0.30333333333333334,0.333531746031746,0.019999999999999997,0.10333333333333332,0.1638888888888889,0.018333333333333326,0.054563492063492036,0.01759259259259258,0.35,0.18409090909090908,0.14333333333333337,0.10311507936507937,0.3107142857142857,0.30000000000000004,0.011979166666666666,0.05,0.10731872294372295,0.30416666666666664,0.05676929392446634,0.12291666666666667,0.21666666666666667,0.3963636363636364,0.195,0.1718419312169312,0.19487179487179487,0.05519179894179894,0.11249999999999999,0.21462585034013607,0.008496732026143781,0.11958637123110806,0.25262923351158645,0.20027472527472528,0.10666666666666666,0.13636363636363635,0.21231398809523808,0.05757575757575757,0.10279720279720281,0.127732683982684,0.20206766917293234,0.18166666666666667,0.09775132275132276,0.33809523809523806,0.16230158730158728,0.001576994434137288,0.13376623376623378,0.23750000000000004,0.1261904761904762,0.041716616716616715,0.26428571428571435,0.040942028985507244,0.53125,0.19166666666666668,0.02582417582417581,0.15089285714285713,0.09485119047619049,0.13373015873015873,0.19702380952380957,0.2805555555555555,0.06545042259327974,0.012946428571428577,0.06094877344877344,0.015088383838383831,0.065,0.00037878787878787743,0.1833333333333333,0.2703125,0.19999999999999998,0.06913859577922075,0.09500000000000001,0.09744897959183675,0.038871635610766064,0.15087301587301585,0.039772727272727265,0.2785714285714286,0.1301948051948052,0.11087006427915519,0.09487179487179488,0.07230576441102754,0.05326014109347445,0.022727272727272728,0.15974358974358974,0.06382671701820637,0.04658402203856749,0.18859649122807018,0.02366946778711485,0.054820936639118446,0.18125000000000002,0.15555555555555553,0.02193515704154002,0.07808123249299721,0.08254464285714286,0.13802083333333331,0.2942708333333333,0.23271943573667714,0.10256410256410257,0.35000000000000003,0.0763888888888889,0.02083333333333333,0.4,0.3,0.11818181818181817,0.35,0.0009523809523809564,0.009956709956709973,0.03088235294117648,0.20185185185185184,0.2116477272727273,0.1145,0.01825396825396827,0.027000000000000003,0.5,0.09886363636363638,0.16624999999999998,0.016860332649806326,0.3833333333333333,0.0549498746867168,0.02146074646074646,0.008653846153846168,0.11000000000000001,0.16711647727272727,0.27714285714285714,0.1735294117647059,0.2242156862745098,0.32222222222222224,0.21164772727272727,0.10080645161290322,0.05677655677655678,0.8,0.20266666666666666,0.0619047619047619,0.13670995670995675,0.045089285714285714,0.18518518518518523,0.4709290709290709,0.19791666666666666,0.125,0.2714814814814815,0.10963203463203461,0.05657894736842106,0.11278409090909092,0.014704045954045956,0.08333333333333333,0.1029761904761905,0.059305813234384656,0.08604938271604941,0.0818903318903319,0.378030303030303,0.07132352941176473,0.19230769230769235,0.14880952380952386,0.20714285714285716,0.021354166666666664,0.14583333333333337,0.016885822510822514,0.16923076923076924,0.22142857142857145,0.09700126262626263,0.30333333333333334,0.006250000000000016,0.06805555555555556,0.006250000000000015,0.1,0.24947916666666667,0.37777777777777777,0.12488636363636366,0.33999999999999997,0.20012626262626262,0.09269972451790634,0.2125,0.020703125000000024,0.17715517241379314,0.2689814814814815,0.16249999999999998,0.325,0.05073412698412699,0.09408482142857146,0.05956015178237401,0.16818181818181815,0.06122448979591839,0.13333333333333333,0.1276812526812527,0.16238095238095243,0.0009010369475485884,0.028645833333333343,0.037066666666666685,0.09401913875598085,0.17926065162907268,0.004151515151515164,0.011428571428571432,0.0019813519813519855,0.05238095238095238,0.18833333333333332,0.20520833333333333,0.04473684210526315,0.06593406593406594,0.24444444444444446,0.1135,0.03833333333333333,0.10256410256410257,0.24000000000000005,0.020663265306122447,0.03181818181818183,0.25,0.02097763347763348,0.24464285714285716,0.1517878787878788,0.021428571428571432,0.0767316017316017,0.013978494623655921,0.01488095238095238,0.15,0.24841269841269847,0.1488831168831169,0.2163095238095237,0.26309523809523805,0.27142857142857146,0.05333333333333332,0.029761904761904767,0.16339285714285715,0.052314814814814814,0.13984848484848483,0.03777777777777778,0.1,0.15014880952380952,0.1412202380952381,0.012862950058072012,0.06764705882352941,0.28952380952380957,0.0366432178932179,0.029166666666666664,0.09190476190476186,0.018750000000000017,0.09999999999999999,0.052083333333333315,0.00476190476190475,0.14261363636363636,0.08666666666666667,0.08561507936507935,0.021257505934925307,0.38,0.2571428571428571,0.13872222222222225,0.209375,0.11396103896103897,0.12332251082251076,0.02406299840510367,0.14674107142857143,0.004301075268817203,0.14375,0.41999999999999993,0.012433862433862434,0.06954545454545454,0.25909090909090915,0.03260209915870292,0.035962301587301584,0.028636363636363626,0.09266917293233083,0.006666666666666677,0.12196969696969698,0.1905952380952381,0.07777777777777777,0.15238095238095237,0.4,0.06896551724137931,0.40277777777777773,0.11874999999999997,0.21607142857142853,0.031060606060606063,0.06666666666666667,0.04471726190476192,0.5,0.06041666666666667,0.09999999999999999,0.21041666666666667,0.05757575757575757,0.14722222222222223,0.00777777777777778,0.27222222222222225,0.22000000000000003,0.13338709677419355,0.047621350280924735,0.17621527777777776,0.09722222222222221,0.1345002823263693,0.29999999999999993,0.0375,0.07559523809523813,0.75,0.009999999999999995,0.1904761904761905,0.07407407407407408,0.30909090909090914,0.2857142857142857,0.21428571428571427,0.04562461348175635,0.014393939393939403,0.17797619047619048,0.02492424242424244,0.17301587301587304,0.16999999999999998,0.20452651515151513,0.003724747474747473,0.09999999999999998,0.05877192982456143,0.132,0.1476190476190476,0.08888888888888888,0.12916666666666668,0.19,0.07142857142857142,0.09904761904761904,0.06586452762923352,0.20694444444444446,0.018426501035196732,0.08112745098039216,0.02272727272727271,0.11375661375661375,0.022222222222222213,0.07208333333333333,0.35000000000000003,0.08055555555555556,0.08365384615384618,0.12857142857142856,0.13671536796536796,0.018414918414918414,0.14062500000000003,0.1318181818181818,0.001449275362318862,0.09107142857142861,0.06150793650793651,0.11785714285714285,0.06234504132231404,0.05578231292517006,0.09083333333333335,0.1113095238095238,0.14583333333333334,0.02886904761904762,0.0899621212121212,0.24583333333333335,0.01619047619047622,0.06969696969696969,0.13044372294372297,0.09375,0.03283208020050129,0.20952380952380953,0.04404761904761905,0.05375,0.23240740740740748,0.03442708333333336,0.05,0.27155944055944053,0.18333333333333335,0.16666666666666666,0.225,0.24494047619047624,0.04666666666666669,0.20264550264550266,0.18595238095238098,0.03333333333333333,0.05571428571428573,0.0055194805194805074,0.0011401098901098782,0.26666666666666666,0.015167984189723321,0.09840476190476193,0.07878787878787885,0.1829710144927536,0.04779761904761907,0.049999999999999996,0.06153846153846153,0.08454545454545455,0.034126984126984124,0.00892857142857143,0.03263492063492065,0.2,0.03413299663299663,0.025,0.2543650793650794,0.04966732542819499,0.11527777777777776,0.22888888888888886,0.037827028044419335,0.033333333333333354,0.11385179924242425,0.21937500000000004,0.0886904761904762,0.15684523809523807,0.02150072150072149,0.04749999999999998,0.275,0.11589452214452216,0.03333333333333334,0.22465986394557821,0.2758333333333333,0.12711038961038962,0.011507936507936507,0.0856666666666667,0.12268170426065161,0.22597402597402597,0.021487603305785127,0.07142857142857142,0.022857142857142847,0.24311594202898543,0.08377100840336137,0.15740740740740744,0.014236111111111116,0.016666666666666705,0.1458008658008658,0.13888888888888887,0.08461538461538462,0.05833333333333331,0.5,0.12666666666666665,0.0505952380952381,0.05181818181818183,0.02788651824366111,0.003333333333333362,0.00973193473193473,0.0975,0.13645833333333335,0.25,0.14833333333333334,0.03921957671957672,0.10018315018315019,0.023258928571428604,0.13333333333333333,0.23132916466249806,0.012499999999999995,0.03809523809523809,0.0500952380952381,0.12727272727272732,0.040909090909090916,0.19305555555555554,0.013725490196078438,0.17976190476190476,0.06790830381739471,0.08573232323232326,0.16481481481481483,0.025,0.0050886613386613355,0.14736842105263162,0.2333333333333333,0.09921874999999998,0.014039408866995087,0.10555555555555556,0.10164141414141413,0.06919913419913419,0.002222222222222222,0.2,0.11330049261083747,0.205,0.18988095238095243,0.3320936639118457,0.08106060606060606,0.16339285714285715,0.06666666666666668,0.028568027210884365,0.20623278236914605,0.09318181818181819,0.018750000000000003,0.06873679653679654,0.12559523809523812,0.18900112233445568,0.12666666666666665,0.009250992063492074,0.022049319727891172,0.0875590318772137,0.20285714285714285,0.048295454545454544,0.13877551020408166,0.20192307692307693,0.1529166666666667,0.04761904761904766,0.12999999999999998,0.11499999999999999,0.10779220779220781,0.1972222222222222,0.14705882352941177,0.04066666666666668,0.07425595238095241,0.10000000000000002,0.07083333333333333,0.2018939393939394,0.0592105263157895,0.026602564102564126,0.23012820512820514,0.08400297619047621,0.06680672268907563,0.08393141945773526,0.1673076923076923,0.20778679653679652,0.1375,0.3432539682539683,0.08480639730639732,0.13334054834054837,0.19682539682539685,0.018855218855218854,0.259366391184573,0.4142857142857142,2.2204460492503132e-17,0.08541666666666668,0.10491071428571429,0.10000000000000006,0.05952380952380953,0.14375,0.05893021120293849,0.027951388888888883,0.3464285714285715,0.15555555555555559,0.20484693877551027,0.24392857142857144,0.05792207792207793,0.03854166666666667,0.12738095238095237,0.09396871945259043,0.14583333333333334,0.046666666666666676,0.034090909090909144,0.01506681724073029,0.22857142857142856,0.08750000000000001,0.07352941176470588,0.053946208112874774,0.027243589743589737,0.14571548821548821,0.10178571428571428,0.16726190476190478,0.22142857142857147,0.08813131313131314,0.02767145135566189,0.1529737609329446,0.10694444444444444,0.023707664884135508,0.03541666666666667,0.1473809523809524,0.07135121708892202,0.49807692307692303,0.15372807017543857,0.03177489177489178,0.04583062770562771,0.25999999999999995,0.10357142857142856,0.08071428571428572,0.030025703463203476,0.21111111111111114,0.09166666666666665,0.046875000000000014,0.38392857142857145,0.14166666666666666,0.383080808080808,0.10000000000000002,0.15612244897959185,0.11626559714795008,0.20203703703703701,0.007395833333333335,0.011515151515151518,0.425,0.09416666666666666,0.025002775002775004,0.07058823529411765,0.2210055096418733,0.10512820512820513,0.11111979166666666,0.32025641025641033,0.20744949494949502,0.20714285714285713,0.061217948717948716,0.05227272727272727,0.3,0.15083333333333335,0.026020408163265316,0.08120421245421243,0.02133838383838384,0.08138528138528138,0.2619047619047619,0.015782828282828273,0.17142857142857146,0.2681372549019608,0.1258158508158508,0.12513227513227515,0.25,0.13390151515151513,0.056372549019607844,0.0916666666666667,0.059375,0.12961538461538463,0.03881802721088434,0.35714285714285715,0.01576576576576578,0.04145454545454545,0.06743551587301586,0.13636363636363635,0.1188888888888889,0.04734848484848487,0.043922924901185774,0.10277777777777776,0.11012755102040815,0.13999999999999999,0.11499999999999999,0.012500000000000004,0.3728260869565217,0.1636363636363636,0.16934523809523802,0.143359375,0.15000000000000002,0.001018589253883373,0.025000000000000022,0.24545454545454545,0.09666666666666666,0.008163265306122483,0.039473684210526314,0.08583333333333336,0.006566416040100248,0.21250000000000002,0.37653061224489803,0.19389952153110046,0.024999999999999994,0.1782828282828283,0.375,3.700743415417188e-17,0.125,0.3,0.31574074074074077,0.1907686907686908,0.04716666666666666,0.11910337137609864,0.34750000000000003,0.22424242424242424,0.05208333333333333,0.2290909090909091,0.0818050193050193,0.08621212121212121,0.20380244755244747,0.09615384615384616,0.3280844155844156,0.07757177033492824,0.27121645021645024,0.15,0.13373015873015875,0.1420833333333333,0.10357142857142856,0.13907407407407407,0.30185185185185187,0.16091053391053392,0.2331439393939394,0.041320816864295125,0.13444444444444445,0.2125,0.2576388888888889,0.0562324929971989,0.14444444444444443,0.11000000000000001,0.12023809523809524,0.32665816326530617,0.10694444444444445,0.404945054945055,0.18859649122807015,0.15859374999999998,0.15833333333333333,0.27,0.04848484848484847,0.04444444444444444,0.15416666666666667,0.08571428571428572,0.3428571428571429,0.30104166666666665,0.5777777777777778,0.12368421052631581,0.12986111111111112,0.09993390538033395,0.20795454545454542,0.110025974025974,0.19551820728291314,0.060937500000000006,0.0020722260195944527,0.10952380952380956,0.0730769230769231,0.04744897959183673,0.007499999999999995,0.37878787878787873,0.15711805555555555,0.1111111111111111,0.29835164835164835,0.4047619047619048,0.2697727272727273,0.014494047619047622,0.3416666666666666,0.21320346320346317,0.049999999999999996,0.17014652014652018,0.06250000000000004,0.3176785714285714,0.11677083333333335,0.12080176767676769,0.27759740259740256,0.12647243107769426,0.005092592592592593,0.3142857142857143,0.5083516483516484,0.45,0.26600529100529097,0.15164141414141416,0.12857142857142856,0.19404761904761905,0.25512820512820517,0.525,0.1434065934065934,0.07674242424242424,0.10642184392184392,0.19090909090909092,0.1257183908045977,0.10277777777777779,0.32904761904761903,0.14806892453951276,0.17619047619047615,0.27999999999999997,0.03306451612903226,0.7,0.19902597402597402,0.015259740259740265,0.21958874458874458,0.21638321995464857,0.11904761904761904,0.17380952380952383,0.19285714285714287,0.09562461348175634,0.19515873015873017,0.3101239669421488,0.0856561147186147,0.16185770750988146,0.16808712121212122,0.16833333333333333,0.2808333333333334,0.04736842105263158,0.5333333333333333,0.22875,0.055564354344842144,0.15999999999999998,0.123015873015873,0.11321428571428571,0.10201515151515153,0.36079545454545453,0.3069047619047619,0.15000000000000002,0.08545918367346937,0.12063492063492065,0.54,0.3058333333333333,0.03506493506493505,0.016666666666666663,0.44659090909090904,0.049267399267399266,0.30625,0.1184719869502478,0.12513888888888894,0.08410218253968255,0.104199604743083,0.13958333333333334,0.11230158730158729,0.09430641821946172,0.18084007187780773,0.13023618538324422,0.39285714285714285,0.161359126984127,0.13137472283813745,0.22166666666666662,0.1574473975636766,0.3875,0.6187499999999999,0.15499999999999997,0.21666666666666667,0.07817460317460319,0.19000000000000003,0.35871212121212126,0.3,0.08244047619047619,0.14525664811379094,0.04660714285714286,0.11446969696969696,0.15416666666666665,0.17733175914994098,0.08284792368125703,0.25372474747474744,0.2683333333333333,0.21005291005291007,0.21895833333333337,0.34950980392156866,0.13550724637681158,0.19129564879564875,0.04745934959349596,0.16175925925925927,0.23611111111111116,0.3333333333333333,0.13181818181818183,0.336734693877551,0.1406055900621118,0.20000000000000004,0.317948717948718,0.16724025974025977,0.2772727272727273,0.06785714285714285,0.4153846153846154,0.2020833333333333,0.10666666666666666,0.08397435897435897,0.06493055555555556,0.1215472027972028,0.3364285714285714,0.20714285714285713,0.06587301587301586,0.26616666666666666,0.052777777777777805,0.55,0.09564655774333193,0.056045751633986916,0.37343750000000003,0.21555767761650116,0.018055555555555557,0.21967592592592589,0.21547619047619046,0.19305555555555554,0.09805194805194804,0.19583333333333333,0.5287247474747475,0.11375350140056022,0.475,0.03720238095238095,0.17146464646464651,0.0731948051948052,0.051785714285714296,0.37500000000000006,0.3771825396825396,0.45833333333333337,0.2528409090909091,0.19818181818181818,0.13035714285714284,0.1967996289424861,0.15767651888341544,0.20737373737373738,0.1619588744588745,0.21157407407407414,0.08658008658008658,0.176,0.27225378787878785,0.20655178155178155,0.4338383838383839,0.14494949494949497,0.275,0.325,0.23186243386243385,0.2334920634920635,0.2248299319727891,0.3333333333333333,0.28750000000000003,0.3935185185185185,0.1975,0.038888888888888876,0.15410353535353535,0.1669421487603306,0.11402597402597403,0.24805194805194805,0.3388888888888889,0.3028571428571429,0.17900432900432903,0.02659215784215784,0.028030303030303017,0.17166666666666663,0.07559299895506791,0.15277777777777782,0.22000000000000003,0.24215686274509807,0.11590909090909092,0.003124999999999996,0.17857142857142858,0.3333333333333333,0.28214285714285714,0.15,0.29583333333333334,0.5142857142857143,0.11851851851851852,0.23854166666666665,0.2613636363636363,0.14058441558441556,0.11674445346320346,0.3121848739495799,0.15222222222222223,0.19797619047619044,0.26785714285714285,0.17910685805422646,0.25196078431372554,0.03630952380952383,0.3902777777777778,0.2345578231292517,0.19999999999999998,0.19999999999999998,0.35519480519480523,0.28083333333333327,0.09260606060606061,0.09999999999999999,0.3935064935064936,0.47857142857142854,0.16666666666666666,0.45,0.13166666666666668,0.07381961259079906,0.18181818181818182,0.20000000000000004,0.1578512396694215,0.46666666666666673,0.26504329004329,0.2164535984848485,0.25,0.25579710144927537,0.20596590909090912,0.07876043599257884,0.38681818181818184,0.2471861471861472,0.28526592455163885,0.16483766233766237,0.2152777777777778,0.15400432900432903,0.40312499999999996,0.13077922077922077,0.10833333333333332,0.275974025974026,0.5072727272727272,0.26515151515151514,0.1870580808080808,0.25851158645276295,0.09666666666666668,0.129004329004329,0.3948347107438017,0.26875,0.4073412698412698,0.03428571428571428,0.11818181818181818,0.008333333333333333,0.35,0.28267045454545453,0.3416666666666666,0.35,0.3474702380952381,0.03888888888888888,0.4759259259259259,0.04971590909090909,0.36944444444444446,0.21857142857142858,0.09479166666666668,0.23500000000000001,0.22106481481481483,0.042222222222222223,0.20696969696969694,0.046320346320346324,0.11801075268817204,0.0700091575091575,0.17022017837235232,0.058695652173913045,0.2121794871794872,0.375,0.08459595959595959,0.308998348143085,0.09652777777777778,0.21666666666666665,0.08461538461538462,0.2464285714285714,0.06999999999999999,0.26,0.3571428571428572,0.19166666666666665,0.17266899766899765,0.5037037037037037,0.5415750915750915,0.06666666666666667,0.11333333333333333,0.14023809523809525,0.1953512396694215,0.44785714285714284,0.48166666666666663,0.28375000000000006,0.11818181818181821,0.1875,0.21944444444444441,0.425,0.2201111111111112,0.09218319559228653,0.16457961972667853,0.042517006802721094,0.2596428571428571,0.35555555555555557,0.1287202380952381,0.06818181818181818,0.03749999999999998,0.07273484848484849,0.3151386312100598,0.07266899766899768,0.253125,0.24166666666666667,0.1465277777777778,0.03854166666666668,0.23876262626262626,0.265,0.15167491238919809,0.242,0.3175,0.15196969696969695,0.35714285714285715,0.1554280045351474,0.08734649189194645,0.04999999999999999,0.01499999999999999,0.3971428571428572,0.028228021978022003,0.14158456486042692,0.15844671201814056,0.11071428571428571,0.4330272108843537,0.13333333333333333,0.24083333333333332,0.07011054421768707,0.2424242424242424,0.050216450216450215,0.35555555555555557,0.07927279438907346,0.09698412698412698,0.2506211180124224,0.0722222222222222,0.36363636363636365,0.3096153846153846,0.01451881451881454,0.1425925925925926,0.3333333333333333,0.39666666666666667,0.26548295454545456,0.06233766233766234,0.28869047619047616,0.17148760330578514,0.36948051948051946,0.18723092998955068,0.5083333333333333,0.19166666666666668,0.10134830447330445,0.16919191919191917,0.1692617638771485,0.15396825396825398,0.07575757575757575,0.14292929292929293,0.4327380952380952,0.34,0.16682692307692307,0.042857142857142864,0.2900892857142857,0.2524074074074074,0.31,0.3114478114478115,0.0997126436781609,0.2515151515151515,0.2111111111111111,0.3507936507936508,0.02487642954060867,0.14200487012987012,0.09780701754385963,0.07818825318825318,0.29333333333333333,0.32,0.3228571428571429,0.07494155844155843,0.019272727272727268,0.13961940836940837,0.07083333333333332,0.07499999999999998,0.20105132962275815,1.0,0.06895833333333333,0.1775,0.13999999999999999,0.05333333333333333,0.3122448979591837,0.01647727272727272,0.40454545454545454,0.03653846153846155,0.09744014488912449,0.060606060606060615,0.17551020408163268,0.01742424242424242,0.18703703703703703,0.16894841269841265,0.22341269841269842,0.20765306122448976,0.10833333333333336,0.22000000000000003,0.012962962962962954,0.22000000000000003,0.5002164502164502,0.0707070707070707,0.19192214888936196,0.137037037037037,0.021925133689839577,0.08854166666666667,0.011249999999999993,0.11,0.27414965986394557,0.1910714285714286,0.3333333333333333,0.675,0.21488868274582562,0.038131313131313134,0.2833333333333333,0.3034313725490196,0.09047619047619049,0.4083333333333334,0.47261904761904766,0.05,0.11388888888888889,0.05,0.21006493506493507,0.20789473684210524,0.16748511904761906,0.3060606060606061,0.5125,0.01564102564102565,0.017857142857142856,0.10704022988505747,0.17164502164502163,0.2744747899159664,0.10902847152847152,0.24166666666666664,0.16136363636363635,0.1278409090909091,0.0917297560320816,0.1892314084724799,0.12754820936639116,0.37,0.22000000000000003,0.05375,0.20714285714285716,0.30625,0.190625,0.2,0.2571385281385281,0.0036730945821854895,0.2,0.25181818181818183,0.2881818181818182,0.20535714285714288,0.30808823529411766,0.09695546737213404,0.1489409400123686,0.28095753452896305,0.3358333333333333,0.19250000000000003,0.04776021080368907,0.3666666666666667,0.1375,0.1638888888888889,0.255672268907563,0.41,0.5657142857142857,0.35833333333333334,0.07055555555555557,0.24246031746031746,0.14487179487179486,0.08141858141858142,0.25000000000000006,0.03253119429590018,0.3909722222222222,0.05833333333333335,0.20119047619047623,0.285,0.175,0.07916666666666666,0.1105396497441952,0.09861111111111111,0.3444444444444445,0.3761904761904762,0.21901913875598086,0.14464285714285713,0.16014492753623188,0.4354723707664884,0.09953703703703703,0.03333333333333332,0.19672619047619044,0.050378787878787884,0.8,0.08663101604278073,0.308495670995671,0.2680555555555556,0.14285714285714285,0.35,0.4090909090909091,0.2522321428571429,0.1111111111111111,0.049999999999999996,0.06666666666666667,0.8,0.475,0.14545454545454545,0.21113636363636368,0.3395833333333333,0.07824074074074074,0.49444444444444446,0.24663299663299665,0.46666666666666673,0.16666666666666666,0.07355442176870748,0.6142857142857142,0.0884469696969697,0.11666666666666665,0.18996392496392497,0.4,0.13697916666666662,0.25,0.1744047619047619,0.4047619047619047,0.3046703296703297,0.05575757575757578,0.13151515151515153,0.3433333333333334,0.41428571428571426,0.5249999999999999,0.08333333333333334,0.08750000000000002,0.26,0.4068181818181818,0.32708333333333334,0.23500000000000001,0.64,0.09202380952380954,0.14607843137254903,0.01746632996632997,0.12962962962962965,0.29727272727272724,0.12760141093474425,0.2857954545454546,0.4523809523809524,0.15000000000000002,0.040561015561015566,0.1834650856389987,0.32,0.1619047619047619,0.17166666666666666,0.20149999999999998,0.3666666666666667,0.2574829931972789,0.2558201058201058,0.19724517906336086,0.47500000000000003,0.4500541125541126,0.20877100840336138,0.11041666666666668,0.04365942028985508,0.1891666666666667,0.25797619047619047,0.5,0.09222222222222222,0.010714285714285716,0.3649592731829574,0.2312998405103668,0.1485353535353535,0.20530303030303027,0.35795454545454547,0.11375541125541125,0.07039473684210526,0.125,0.2738095238095238,0.011158645276292343,0.1125,0.20661838161838164,0.10075793650793649,0.15555555555555556,0.1355010822510823,0.11410256410256411,0.17913179413179414,0.0801948051948052,0.07981601731601733,0.07539682539682538,0.29561403508771933,0.3846153846153847,0.09999999999999998,0.5499999999999999,0.38125,0.15185185185185185,0.35,0.5285714285714286,0.2708333333333333,0.25336021505376344,0.2418831168831169,0.2281469798317624,0.18279736136878993,0.1571279761904762,0.10254629629629632,0.4083333333333334,0.17361111111111108,0.2214876033057851,0.26083333333333336,0.3779761904761905,0.3999999999999999,0.3399198024198024,0.40959595959595957,0.5958333333333333,0.2583333333333333,0.10583333333333336,0.27999999999999997,0.09791666666666667,0.1997564935064935,0.20833333333333334,0.20777777777777778,0.4349242424242424,0.008770396270396271,0.17499999999999996,0.3,0.019999999999999997,0.14375,0.2775524475524476,0.37989417989417995,0.22708333333333333,0.09895104895104893,0.0911667697381983,0.08195773524720892,0.3816666666666667,0.09954212454212456,0.18095238095238098,0.027156177156177172,0.1125,0.02727272727272726,0.13484848484848486,0.07005772005772005,0.10208333333333333,0.1320887445887446,0.15726858925388337,0.3283333333333333,0.3138888888888889,0.23511904761904764,0.07371794871794872,0.10925300300300303,0.382,0.262964320625611,0.16666666666666666,0.225,0.1479166666666667,0.08,0.3,0.4,0.20092592592592598,0.013695395513577336,0.07465277777777778,0.1392857142857143,0.12375000000000003,0.01509740259740259,0.13947368421052633,0.08333333333333334,0.24611111111111114,0.26827731092436974,0.16097883597883597,0.039215686274509796,0.13440151515151516,0.5378205128205129,0.3412587412587413,0.07952380952380954,0.22000000000000003,0.1732142857142857,0.19714285714285712,0.22023809523809523,0.1211538461538462,0.43,0.22546296296296298,0.2958333333333334,0.17142857142857146,0.09090909090909091,0.4666666666666667,0.375,0.02788461538461539,0.15170591313448462,0.08263888888888889,0.11687925170068028,0.028974358974358978,0.19257086999022482,0.3125,0.3742424242424242,0.3228571428571429,0.2779761904761905,0.4340909090909091,0.1697751322751323,0.07575757575757577,0.2833333333333333,0.2652076318742985,0.24,0.16477272727272727,0.12499999999999999,0.10740740740740744,0.27638888888888885,0.21884353741496596,0.25146520146520146,0.16792929292929293,0.17261904761904762,0.2026881720430108,0.0765934065934066,0.12780748663101607,0.35555555555555557,0.03214285714285714,0.34593837535014005,0.21130303030303027,0.17919372294372293,0.1976265114196149,0.2665909090909091,0.13270833333333334,0.06439393939393939,0.033471074380165285,0.08514492753623187,0.36666666666666664,0.20063492063492064,0.25128205128205133,0.04336734693877551,0.10000000000000003,0.0474454365079365,0.3373015873015873,0.03125000000000003,0.6,0.2490740740740741,0.0817237308146399,0.38,0.2555555555555556,0.28,0.12714285714285714,0.11785714285714285,0.275,0.2163690476190476,0.16666666666666663,0.246875,0.18863636363636366,0.18530303030303028,0.09702581369248034,0.14917582417582423,0.2525641025641025,0.26458333333333334,0.3499999999999999,0.48,0.26666666666666666,0.23333333333333336,0.1573545059591571,0.28743386243386243,0.21948051948051947,0.04153961980048937,0.09655172413793105,0.2241883116883117,0.10252525252525253,0.06222222222222222,0.044285714285714296,0.15166666666666667,0.1721955128205128,0.06145833333333334,0.4207070707070707,0.32499999999999996,0.3020676691729324,0.10555555555555557,0.05,0.3507936507936508,0.11507936507936507,0.41856060606060613,0.1409801136363637,0.23333333333333334,0.2349702380952381,0.010416666666666666,0.20545454545454545,0.17307359307359305,0.08571428571428572,0.26,0.29000000000000004,0.09464285714285714,0.04194214876033058,0.2352380952380952,0.19999999999999998,0.29508297258297256,0.03900226757369613,0.1774074074074074,0.31525641025641027,0.375,0.24880952380952384,0.0854166666666667,0.2916666666666667,0.10408163265306122,0.2375,0.23,0.2122448979591837,0.010119047619047623,0.06166666666666666,0.016547619047619044,0.26515151515151514,0.05558712121212121,0.3162745098039215,0.225,0.07500000000000002,0.034999999999999996,0.143,0.12728937728937728,0.21550925925925926,0.6599999999999999,0.16798245614035087,0.008653846153846158,0.0003367003367003389,0.21931818181818186,0.05357142857142857,0.07621870882740449,0.5555555555555556,0.1787878787878788,0.21203703703703708,0.32333333333333336,0.27031250000000007,0.23095238095238094,0.5666666666666667,0.059429824561403506,0.1660714285714286,0.1986111111111111,0.08537277537277538,0.28030303030303033,0.27352941176470585,0.14180194805194807,0.15104166666666669,0.575,0.07552854122621565,0.1409090909090909,0.14673295454545454,0.24876789876789876,0.33697552447552453,0.3888888888888889,0.25023809523809526,0.23083333333333336,0.1934895833333333,0.07864782276546982,0.06904761904761904,0.06873897707231043,0.44848484848484854,0.018740981240981256,0.375,0.27999999999999997,0.08142857142857145,0.24870370370370376,0.30972222222222223,0.18541666666666667,0.27708333333333335,0.2125,0.12063492063492062,0.11688311688311688,0.22843822843822842,0.2791666666666667,0.4302083333333333,0.21708333333333335,0.3697278911564626,0.5333333333333333,0.1588888888888889,0.1382936507936508,0.2231474407944996,0.3106060606060606,0.20925925925925926,0.13863636363636364,0.2606060606060607,0.1761904761904762,0.006746031746031746,0.08492063492063491,0.20617452722715887,0.03609385783298826,0.029629629629629648,0.3122448979591837,0.3017906336088154,0.08814784752284753,0.028947368421052635,0.3111111111111111,0.04035669191919193,0.3107142857142857,0.15,0.15,0.3214285714285714,0.18532625910674694,0.20897435897435898,0.3248571428571429,0.16921296296296295,0.019260204081632655,0.008080808080808058,0.19009259259259254,0.2565972222222222,0.14444444444444446,0.23579545454545453,0.1333333333333333,0.275,0.16175595238095236,0.3283333333333333,0.0681818181818182,0.2791666666666667,0.14188311688311686,0.14527116402116402,0.5238095238095238,0.008982683982683972,0.041666666666666664,0.0575311147186147,0.08612689393939395,0.2333333333333333,0.15704099821746875,0.39999999999999997,0.24083333333333337,0.24404761904761907,0.3127083333333333,0.45185185185185195,0.18,0.15,0.14211344211344212,0.058747086247086244,0.10410906298003077,0.31203703703703706,0.21666666666666667,0.13402777777777777,0.10999999999999996,0.08703703703703704,0.13589743589743591,0.2373263888888889,0.23430426716141003,0.3462962962962963,0.3625,0.12471348096348096,0.2431972789115646,0.14666666666666667,0.24749999999999997,0.3412121212121212,0.409375,0.022916666666666693,0.11006944444444444,0.022916666666666665,0.1460227272727273,0.20694993412384716,0.22159090909090906,0.2215213358070501,0.08981044208316936,0.4608333333333333,0.1461904761904762,0.07435897435897436,0.1921176046176046,0.2571428571428572,0.5999999999999999,0.27254901960784317,0.2858823529411765,0.16252951593860684,0.1977944862155388,0.20974025974025973,0.625,0.13361638361638362,0.3408163265306123,0.2833333333333334,0.09484848484848482,0.2592857142857143,0.16203703703703706,0.15456649831649835,0.3065151515151515,0.18923783287419652,0.2342195767195767,0.19047619047619047,0.034199134199134194,0.12297199797199795,0.018055555555555547,0.2776292335115865,0.5333333333333333,0.18166666666666667,0.3375,0.21397306397306395,0.09777462121212122,0.19230769230769235,0.04346891534391531,0.34935064935064936,0.425,0.47500000000000003,0.09999999999999998,0.14863763687293102,0.09609988776655441,0.19179197994987468,0.18303030303030302,0.5,0.18205128205128202,0.32999999999999996,0.11714285714285717,0.03267195767195766,0.8333333333333334,0.30000000000000004,0.08714285714285712,0.21388888888888888,0.2710858585858586,0.18958333333333333,0.18740573152337864,0.04821428571428571,0.149047619047619,0.2426997245179063,0.1571928071928072,0.17003246753246753,0.14226190476190476,0.10800865800865801,0.05106646086154282,0.12541208791208794,0.28375,0.19074074074074077,0.38,0.5700000000000001,0.2476190476190476,0.055714285714285716,0.24880952380952384,0.21212121212121213,0.016188672438672454,0.33690476190476193,0.03095238095238095,0.2144607843137255,0.14659090909090908,0.2532567049808429,0.003007518796992497,0.25,0.12604166666666666,0.1788720538720539,0.07439209726443768,0.11623217468805705,0.475,0.12290178571428571,0.014744079449961808,0.2035714285714286,0.14368171511028655,0.1774436090225564,0.22715617715617717,0.11911300505050505,0.09999999999999998,0.2727564102564103,0.22999999999999998,0.4666666666666666,0.6142857142857142,0.02988404452690168,0.051289682539682545,0.25555555555555554,0.40166666666666667,0.3933333333333333,0.39166666666666666,0.08,0.2037037037037037,0.11048951048951049,0.03032544378698225,0.21249999999999997,0.30999999999999994,0.548051948051948,0.011810643060643061,0.26666666666666666,0.11996527777777777,0.1464285714285714,0.11071428571428572,0.32513227513227505,0.1888690476190476,0.03571428571428571,0.0619762408134501,0.25625000000000003,0.43333333333333335,0.24680194805194802,0.3666666666666667,0.4333333333333333,0.2068121693121693,0.12142857142857143,0.18411588411588412,0.25,0.08666666666666667,0.06666666666666667,0.21779401154401154,0.1125,0.07843822843822842,0.41190476190476194,0.07142857142857142,0.18075565784426542,0.2840503246753247,0.18978494623655912,0.14334415584415583,0.15000000000000002,0.1336363636363636,0.15898989898989901,0.25,0.4333333333333333,0.1072829131652661,0.13240740740740742,0.1349206349206349,0.390909090909091,0.2403846153846154,0.12198773448773449,0.295,0.28611111111111115,0.059948979591836725,0.35625,0.2569444444444445,0.006110139860139867,0.3396464646464646,0.2540184453227932,0.4,0.046984126984126975,0.11333333333333334,0.3697916666666667,0.575,0.10357744107744107,0.3369047619047619,0.1856760020025326,0.04999999999999999,0.44166666666666665,0.13333333333333333,0.02674931129476586,0.05512820512820512,0.25512820512820517,0.13676470588235298,0.1002408008658009,0.4738095238095238,0.08839285714285715,0.2928571428571428,0.11204545454545455,0.14074074074074072,0.21727272727272726,0.030769230769230764,0.027222222222222217,0.15966666666666665,0.5,0.19999999999999998,0.023612498612498617,0.4166666666666667,0.16666666666666666,0.425,0.20625000000000002,0.08472222222222221,0.09714285714285713,0.1928571428571429,0.012500000000000011,0.17331301510989008,0.3275,0.23717948717948723,0.4371527777777778,0.06342592592592593,0.030716450216450218,0.08333333333333333,0.1533902691511387,0.3499999999999999,0.25770308123249297,0.12989841597796145,0.11712454212454212,0.2143320964749536,0.1625,0.2373015873015873,0.13125,0.19390782828282827,0.275,0.225,0.33958333333333335,0.18944444444444444,0.14464285714285716,0.17083333333333334,0.13716356107660452,0.09630681818181819,0.09285714285714285,0.12749295278365047,0.2343831168831169,0.03125000000000001,0.036849816849816815,0.008804664723032079,0.1185185185185185,0.65,0.30949494949494943,0.3,0.30315398886827455,0.033522727272727273,0.23828434723171563,0.14742063492063492,0.07355442176870748,0.02928240740740741,0.10595238095238096,0.48,0.2899408284023669,0.14571428571428574,0.030952380952380953,0.21805555555555556,0.40909090909090906,0.34722222222222227,0.07809659090909091,0.35,0.42666666666666664,0.38981481481481484,0.028749999999999998,0.14400027056277057,0.10806818181818183,0.22875,0.015852480852480855,0.05261405261405261,0.325,0.30333333333333334,0.2980392156862745,0.26988636363636365,0.18527777777777776,0.33636363636363636,0.10095990965556181,0.26666666666666666,0.12035714285714286,0.2861898202807294,0.265,0.1345679012345679,0.049572649572649584,0.009999999999999993,0.42754820936639126,0.1902356902356902,0.3038461538461539,0.08571428571428572,0.030952380952380953,0.21220238095238095,0.08039215686274509,0.1457575757575758,0.421875,0.20000000000000004,0.18999999999999997,0.09833333333333334,0.2186507936507937,0.1456937799043062,0.4666666666666666,0.4,0.11053921568627452,0.19444444444444445,0.0715686274509804,0.080952380952381,0.0746303948576676,0.25483870967741934,0.10945454545454546,0.1509615384615385,0.14440636523969858,0.2840909090909091,0.13333333333333333,0.1523358585858586,0.21853590250329377,0.12916666666666665,0.11399999999999998,0.31333333333333335,0.14091401023219205,0.21825252525252528,0.028571428571428564,0.13651094276094278,0.16390692640692642,0.2638888888888889,0.32738095238095244,0.0677066835603421,0.15462962962962964,0.1365207373271889,0.24887445887445886,0.17486631016042778,0.29000000000000004,0.6071428571428571,0.1584615384615385,0.19375000000000003,0.23106060606060605,0.44000000000000006,0.25498084291187745,0.030311355311355315,0.06999999999999999,0.06439360119047619,0.17914141414141416,0.04916666666666667,0.14166666666666672,0.41818181818181815,0.24166666666666667,0.5561904761904761,0.38,0.14724517906336088,0.1425,0.04019578905942543,0.005932047750229552,0.14787878787878792,0.17922719935431802,0.21961279461279462,0.2996786042240587,0.19319727891156463,0.27976190476190477,0.3125,0.24037433155080212,0.09727272727272726,0.15339660339660338,0.03703703703703704,0.016617259552042164,0.5,0.44000000000000006,0.3,0.16410256410256407,0.1515151515151515,0.30909090909090914,0.06908602150537631,0.10066666666666667,0.027532467532467547,0.11204545454545456,0.0309065934065934,0.15,0.4642857142857143,0.07500000000000001,0.0755952380952381,0.20402930402930405,0.525,0.264014939309057,0.19227272727272726,0.11944444444444446,0.09510869565217392,0.24002525252525253,0.014237811368958905,0.03194444444444444,0.03356481481481482,0.08020833333333333,0.2185897435897436,0.22708333333333333,0.3261994949494949,0.11875000000000001,0.2512962962962963,0.119469696969697,0.22499999999999998,0.23703703703703705,0.461904761904762,0.19097823472823472,0.0741125541125541,0.36428571428571427,0.35404040404040404,0.15,0.1993181818181818,0.20237577639751556,0.36250000000000004,0.20972222222222223,0.19999999999999998,0.2792207792207792,0.07428229665071769,0.28,0.23809523809523814,0.265,0.30233585858585854,0.3225108225108225,0.25,0.29583333333333334,0.06212121212121211,0.08326719576719575,0.08928571428571429,0.40757575757575765,0.10694444444444445,0.43197278911564624,0.37083333333333335,0.23125000000000004,0.20914994096812276,0.12708333333333333,0.40625,0.08182539682539683,0.2575,0.24453781512605044,0.23974358974358978,0.26,0.09833333333333334,0.22029963500551739,0.14345454545454545,0.35,0.31887755102040816,0.12073412698412699,0.3151515151515152,0.2908333333333334,0.05916666666666666,0.6166666666666667,0.1469387755102041,0.1273041474654378,0.15916666666666668,0.26611111111111113,0.29523809523809524,0.4,0.11111111111111112,0.03868227731864094,0.13896103896103898,0.23611111111111108,0.05555555555555555,0.1875,0.22689393939393943,0.246875,0.2611111111111111,0.13679063360881544,0.15916666666666665,0.16109632034632032,0.41944444444444445,0.11843434343434346,0.42000000000000004,0.35,0.29444444444444445,0.2585978835978836,0.34285714285714286,0.1861111111111111,0.09696969696969697,0.1990672026386312,0.0566592261904762,0.048753665689149565,0.16006493506493508,0.13194444444444445,0.1392857142857143,0.17932429888951626,0.6523809523809525,0.340625,0.1774159663865546,0.15680337206653,0.9,0.046481481481481485,0.05166666666666667,0.2281818181818182,0.3286706349206349,0.4348484848484848,0.23015873015873017,0.42500000000000004,0.2444444444444444,0.07300000000000001,0.19285714285714287,0.005555555555555548,0.24175824175824176,0.26553030303030306,0.18429487179487178,0.11726190476190478,0.33,0.38409090909090904,0.000694444444444435,0.18388888888888888,0.24,0.04781746031746032,0.13922558922558925,0.038980716253443536,0.33,0.3153906411049268,0.1346153846153846,0.2818181818181818,0.16534090909090907,0.06263636363636363,0.1727272727272727,0.30833333333333335,0.39999999999999997,0.18624113475177306,0.3012500000000001,0.10025252525252525,0.10315315315315315,0.4693181818181818,0.45307017543859646,0.04600288600288599,0.2899868247694335,0.09567099567099567,0.2156862745098039,0.125,0.04254495504495504,0.5,0.10625,0.16717058982683983,0.3875,0.16250000000000003,0.1056730903505097,0.010051406926406927,0.03292124542124542,0.055166666666666656,0.3388888888888889,0.1786931818181818,0.2818181818181818,0.08,0.1253947033358798,0.08522727272727272,0.12222222222222223,0.16666666666666666,0.07725625823451909,0.22000000000000003,0.5216666666666667,0.09864332096474955,0.20000000000000004,0.00479166666666667,0.17415889665889667,0.353305785123967,0.175,0.5515151515151515,0.3514285714285714,0.11534090909090906,0.14513888888888887,0.4329545454545455,0.2857142857142857,0.44000000000000006,0.05833333333333334,0.18612440191387558,0.07739898989898991,0.3338383838383838,0.2591961279461279,0.04988636363636366,0.37407407407407406,0.10555555555555557,0.04462481962481964,0.031249999999999986,0.3064285714285715,0.15234375,0.18484848484848485,0.06547619047619048,0.18174603174603174,0.275,0.09107142857142857,0.36250000000000004,0.1921875,0.021049783549783548,0.18174603174603174,0.10595238095238095,0.22499999999999998,0.3966666666666666,0.07407407407407407,0.14210526315789473,0.029004329004329026,0.29351851851851857,0.30714285714285716,0.017267917267917265,0.47500000000000003,0.45606060606060606,0.29125874125874124,0.325,0.42108843537414964,0.06,0.24285714285714288,0.07077134986225894,0.18769841269841267,0.2156862745098039,0.0851672569854388,0.2178571428571429,0.10940328610783158,0.08750000000000001,0.21583333333333332,0.1875,0.10694444444444445,0.1545454545454545,0.08504148629148628,0.1435515873015873,0.32142857142857145,0.355,0.21126984126984127,0.25173160173160175,1.0,0.14414772727272723,0.75,0.13970214568040656,0.3,0.13560606060606062,0.21743589743589745,0.07371794871794873,0.05294117647058824,0.19999999999999998,0.3303030303030303,0.06471861471861472,0.2756944444444444,0.375,0.23500000000000004,0.23787878787878788,0.23589743589743592,0.11257245802977514,0.27531655844155845,0.25519480519480525,0.4083333333333334,0.38749999999999996,0.01428571428571429,0.26457631874298543,0.18444444444444447,0.2919047619047619,0.09122474747474747,0.1205627705627706,0.24749999999999997,0.21704545454545454,0.18297387136672852,0.16924963924963923,0.6833333333333332,0.18333333333333332,0.01025641025641025,0.35,0.21696428571428572,0.33571428571428574,0.1125,0.06952380952380953,0.3240221088435375,0.18506493506493507,0.3087121212121212,0.23919047619047623,0.37,0.2888888888888889,0.10555555555555556,0.14665854978354978,0.11388888888888891,0.1451388888888889,0.14262820512820515,0.3590909090909091,0.3772727272727272,0.4875,0.3788629737609331,0.24318181818181817,0.32857142857142857,0.1464285714285714,0.07500000000000004,0.375,0.27312925170068025,0.09464285714285715,0.14081439393939396,0.21448979591836737,0.12499999999999999,0.2748737373737373,0.12868162140889414,0.08541666666666667,0.23217703349282295,0.325,0.17166666666666663,0.125,0.19345238095238096,0.017500000000000012,0.49523809523809526,0.007544191919191918,0.27804232804232804,0.13166666666666665,0.09999999999999999,0.10438912938912936,0.18133608815426996,0.25398403679653675,0.1000032795487341,0.18642857142857147,0.17380952380952383,0.17977272727272725,0.1296017316017316,0.25375,0.30999999999999994,0.29833333333333334,0.10340909090909091,0.45,0.39999999999999997,0.1872448979591837,0.1930952380952381,0.23020833333333335,0.14431216931216928,0.10972222222222223,0.19107744107744107,0.18261904761904763,0.26811224489795915,0.29444444444444445,0.24027777777777778,0.08025568181818181,0.1142857142857143,0.24405363155363158,0.17580065359477123,0.2857142857142857,0.12402097902097901,0.31249999999999994,0.21912878787878792,0.125,0.14978070175438593,0.30000000000000004,0.2635416666666667,0.39366883116883117,0.15833333333333335,0.36666666666666664,0.21183333333333337,0.06206349206349207,0.2210526315789474,0.3451048951048951,0.4666666666666666,0.43333333333333335,0.0625,0.08295454545454548,0.16666666666666666,0.13024193548387095,0.2416666666666666,0.0961734693877551,0.13593073593073587,0.10304761904761907,0.42000000000000004,0.3472727272727273,0.04540476190476189,0.3333333333333333,0.13333333333333333,0.23935510567863508,0.05689655172413792,0.4166666666666667,0.3153846153846154,0.14733333333333332,0.14486531986531986,0.12788865546218486,0.1932539682539683,0.16776315789473684,0.3125,0.22916666666666666,0.34,0.3489583333333333,0.09598214285714285,0.5533333333333333,0.6714285714285715,0.044444444444444446,0.14458874458874457,0.06796536796536799,0.12791811846689896,0.025992063492063493,0.1075757575757576,0.16517857142857142,0.1866666666666667,0.23970170454545453,0.32692307692307687,0.29450000000000004,0.12661483253588518,0.32281746031746034,0.10673363095238096,0.24636363636363637,0.19999999999999998,0.2413888888888889,0.06893939393939395,0.20904632034632037,0.1654761904761905,0.3793831168831169,0.3385897435897436,0.2492424242424242,0.14149585921325053,0.1951388888888889,0.4621212121212121,0.10043103448275865,0.024255952380952378,0.27954545454545454,0.17397105382180011,0.29027777777777775,0.175,0.2890151515151515,0.12024793388429753,0.34212908303817396,0.1357142857142857,0.2462121212121212,0.48809523809523814,0.19107142857142856,0.11666666666666667,0.20042087542087544,0.15735930735930737,0.07954545454545453,0.2546875,0.25,0.04223484848484849,0.1958516196447231,0.35672541743970315,0.3241176470588235,0.10595238095238095,0.26647727272727273,0.14242424242424243,0.13999999999999999,0.20486111111111108,0.09408602150537633,0.48583333333333334,0.07534271284271285,0.10976190476190475,0.22499999999999998,0.08333333333333334,0.40606060606060607,0.053333333333333365,0.43125,0.24107744107744106,0.18622222222222223,0.3166666666666667,0.0672176308539945,0.12142857142857146,0.6428571428571428,0.26163911845730026,0.16217287342287343,0.21111111111111114,0.27525252525252525,0.13727272727272727,0.17500000000000002,0.4668831168831169,0.075,0.2397338338744589,0.06666666666666665,0.0690909090909091,0.4395833333333333,0.23756868131868128,0.19444444444444445,0.3204545454545455,0.07133333333333336,0.30946969696969695,0.2369047619047619,0.4375,0.28125,0.17500000000000002,0.3,0.14880952380952378,0.038461538461538464,0.06615259740259742,0.28511904761904766,0.36333333333333334,0.11797520661157024,0.1875,0.09783549783549786,0.49000000000000005,0.03839285714285715,0.006715506715506719,0.7170454545454545,0.2953125,0.10714285714285714,0.38,0.11826725905673272,0.1875,0.528030303030303,0.27891156462585037,0.1337962962962963,0.5474358974358975,0.2506696428571428,0.12886904761904763,0.11296296296296299,0.3194444444444445,0.0735516934046346,0.13333333333333333,0.30000000000000004,0.04805397727272728,0.035960133247367285,0.047099567099567086,0.19375,0.04,0.06530612244897958,0.0024305555555555656,0.34545454545454546,0.43333333333333335,0.07075757575757574,0.33571428571428574,0.0553030303030303,0.1482142857142857,0.18725490196078431,0.4208333333333333,0.0025641025641025637,0.3037698412698413,0.23750000000000002,0.06832010582010582,0.2333333333333333,0.09586580086580083,0.3416666666666667,0.05555555555555555,0.4333333333333333,0.23052721088435374,0.28,0.8,0.17797619047619048,0.15368457300275484,0.4879870129870129,0.3,0.25238095238095243,0.32892156862745103,0.41632653061224495,0.0038888888888888983,0.05045836516424754,0.24380952380952384,0.09476190476190476,0.7523809523809524,0.15854978354978358,0.08696741854636589,0.06733100233100232,0.16944444444444443,0.07959183673469387,0.3333333333333333,0.3142857142857143,0.10384615384615384,0.01885521885521884,0.03875000000000001,0.07492424242424246,0.2029411764705882,0.25,0.19,0.008035714285714304,0.04405080213903742,0.059482758620689656,0.35,0.08083333333333333,0.038493450993450994,0.20119047619047623,0.11992583918813426,0.20000000000000004,0.2625,0.002083333333333326,0.22000000000000003,0.1358913813459268,0.10440151515151516,0.19999999999999998,0.14151205936920222,0.051298701298701295,0.2672466422466422,0.0423001443001443,0.35325396825396815,0.20182709447415328,0.45000000000000007,0.02592592592592592,0.06,0.3103896103896104,0.05813492063492062,0.045730706075533686,0.3958333333333333,0.27454545454545454,0.2388888888888889,0.075,0.11756198347107438,0.13998605561105562,0.2138888888888889,0.45,0.13678160919540228,0.09786501377410471,0.35000000000000003,0.29500000000000004,0.36250000000000004,0.058719433719433715,0.2505050505050505,0.2222222222222222,0.14081439393939393,0.13703703703703704,0.5,0.0885964912280702,0.5,0.29166666666666663,0.12285714285714286,0.24166666666666667,0.1038536155202822,0.1416666666666667,0.41200000000000003,0.005833333333333352,0.2756410256410256,0.2059785042543663,0.30694444444444446,0.24166666666666672,0.12350317693059626,0.25,0.06488095238095239,0.2779047619047618,0.23969832251082254,0.23005952380952385,0.16041666666666668,0.2534824046920821,0.19714285714285712,0.4,0.35855654761904765,0.053030303030303004,0.10178571428571427,0.2246031746031746,0.33416666666666667,0.06269841269841268,0.06666666666666667,0.2168747918747919,0.25833333333333336,0.1553571428571429,0.07054236239950526,0.3002976190476191,0.1375,0.47500000000000003,0.18014346764346764,0.2833333333333334,0.14455026455026457,0.6047619047619047,0.2885416666666667,0.2915212733394551,0.05859713203463204,0.2553125,0.0675595238095238,0.1844577352472089,0.1962797619047619,0.2591836734693878,0.22499999999999998,0.18055555555555552,0.1340909090909091,0.1059767316017316,0.4428571428571429,0.34375000000000006,0.2807575757575757,0.044444444444444446,0.0803776683087028,0.1142857142857143,0.4035714285714286,0.05454545454545452,0.1769230769230769,0.015873015873015865,0.20595238095238094,0.44292929292929295,0.008333333333333335,0.2,0.16792929292929296,0.14285714285714285,0.25816326530612244,0.2,0.04583333333333334,0.035503472222222214,0.5295918367346939,0.20111111111111116,0.003669467787114845,0.10497835497835498,0.10311533704390845,0.3333333333333333,0.07876190476190476,0.23195544293105264,0.02,0.31295093795093804,0.1972727272727273,0.16075757575757577,0.12692307692307694,0.06142857142857144,0.010059523809523805,0.1652777777777778,0.0793367346938776,0.21428571428571427,0.09270833333333331,0.275,0.12000000000000004,0.3647058823529412,0.016530612244897956,0.14473684210526316,0.029277777777777788,0.28541666666666665,0.15119047619047618,0.07916666666666668,0.12142857142857144,0.11754385964912281,0.16333333333333333,0.20952380952380953,0.4055555555555555,0.022345102813852814,0.1675,0.13166666666666668,0.40750000000000003,0.5909090909090909,0.12,0.2488636363636364,0.2541383219954649,0.10555555555555556,0.13000000000000006,0.09375,0.47973084886128364,0.2866666666666667,0.08588154269972452,0.08028719248231446,0.00555555555555556,0.1213131313131313,0.21516666666666664,0.37666666666666665,0.08577352472089315,0.15,0.02457575757575757,0.3011904761904762,0.3,0.16888888888888887,0.1,0.13830029619503303,0.19345238095238093,0.08356643356643355,0.1372549019607843,0.3051948051948052,0.5033116883116884,0.31527777777777777,0.0443422865013774,0.371875,0.22592592592592586,0.3667582417582418,0.45625,0.10606060606060606,0.0166666666666667,0.23055555555555557,0.2283882783882784,0.29074074074074074,0.21760822510822508,0.42142857142857143,0.5038461538461538,0.41048951048951055,0.1919642857142857,0.3961805555555556,0.09696428571428571,0.22575187969924815,0.075,0.20857142857142855,0.06688311688311686,0.008571428571428574,0.03666666666666667,0.1833333333333334,0.11818181818181818,0.21436210847975556,0.40166666666666667,0.17463768115942035,0.1486291486291487,0.13263605442176873,0.525,0.3037037037037037,0.17499999999999996,0.07786458333333333,0.6499999999999999,0.6444444444444445,0.10277777777777779,0.26249999999999996,0.37142857142857144,0.22551020408163264,0.4857142857142857,0.10952380952380951,0.33692307692307694,0.2875,0.1568655303030303,0.11025641025641025,0.1068609022556391,0.3487179487179487,0.23138095238095238,0.30588235294117644,0.375,0.13492200328407222,0.24074074074074078,0.12283402203856753,0.059375000000000025,0.5048209366391184,0.17309523809523808,0.22027310924369747,0.05757575757575759,0.31475340136054414,0.05,0.4707070707070707,0.3096363636363636,0.20014678030303026,0.5643939393939393,0.09595238095238097,0.161940836940837,0.33384353741496603,0.4541666666666666,0.019642857142857136,0.22125000000000003,0.1044642857142857,0.4393939393939394,0.42000000000000004,0.18541666666666662,0.26631393298059963,0.56,0.14916405433646815,0.08628787878787875,0.5388888888888889,0.2502525252525253,0.014523809523809559,0.23167578035999087,0.06604437229437231,0.16854256854256855,0.065,0.3731481481481482,0.06041666666666665,0.11818181818181818,0.044659090909090905,0.2703125,0.7,0.09204545454545454,0.24464646464646464,0.25722222222222224,0.035739348370927314,0.19957849168375486,0.0006493506493506389,0.265,0.3568627450980392,0.2538888888888889,0.1677777777777778,0.05438596491228072,0.1119708994708995,0.2604166666666667,0.2037037037037037,0.18368983957219248,0.17500000000000002,0.24318181818181817,0.16469780219780217,0.23993055555555556,0.18554421768707482,0.18781400005889806,0.31790123456790126],\"xaxis\":\"x\",\"yaxis\":\"y\",\"type\":\"histogram\"},{\"alignmentgroup\":\"True\",\"bingroup\":\"x\",\"hovertemplate\":\"Sentimiento=Negativo\\u003cbr\\u003ePuntaje de Polaridad=%{x}\\u003cbr\\u003ecount=%{y}\\u003cextra\\u003e\\u003c\\u002fextra\\u003e\",\"legendgroup\":\"Negativo\",\"marker\":{\"color\":\"#636EFA\",\"pattern\":{\"shape\":\"\"}},\"name\":\"Negativo\",\"nbinsx\":20,\"offsetgroup\":\"Negativo\",\"orientation\":\"v\",\"showlegend\":true,\"x\":[-0.09629629629629625,-0.07272727272727275,-0.04145833333333332,-0.003571428571428555,-0.1964285714285714,-0.04999999999999998,-0.21538461538461537,-0.01678004535147392,-0.24999999999999992,-0.00010330578512394868,-0.023611111111111104,0.0,-0.10318627450980392,-0.04285714285714286,-0.1875,-0.024696223316912964,-0.06666666666666664,-0.0518939393939394,-0.01955128205128205,-0.65,-0.11087662337662335,-0.05555555555555555,-0.05689102564102563,-0.03499999999999998,-0.37333333333333324,-0.5066220238095238,-0.018939393939393943,-0.22370600414078673,-0.15,-0.005000000000000001,-0.09999999999999995,-0.13125,-0.0065476190476190564,-0.09505494505494502,-0.007217261904761904,-0.0988095238095238,-0.06412337662337664,-0.03197278911564625,-0.049145299145299144,-0.021634615384615377,-0.37249999999999994,-0.11413043478260868,-0.2341666666666667,-0.01071428571428572,-0.022685185185185173,-0.5499999999999999,-0.05877192982456142,-0.21428571428571425,-0.037599206349206354,-0.24785714285714283,-0.07737037037037033,-0.06719576719576718,-0.008974358974358951,-0.035997732426303844,-0.04583333333333334,-0.08579931972789116,-0.08749999999999991,-0.3083333333333333,-0.07181818181818182,-0.030018939393939403,-0.15899999999999997,-0.06666666666666664,-0.14444444444444443,-0.1471153846153846,-0.33999999999999997,-0.08657407407407408,-0.05,-0.0455555555555555,-0.10833333333333332,-0.1683884297520661,-0.10952380952380948,-0.026893939393939383,-0.1,-0.052343749999999994,-0.012373737373737365,-0.2909090909090909,-0.11500000000000002,-0.26785714285714285,-0.04696969696969697,-0.025000000000000005,-0.015000000000000013,-0.09499999999999993,-0.21199999999999997,-0.13541666666666663,-0.09734848484848485,-0.22999999999999998,-0.04097402597402597,-0.0745879120879121,-0.03823529411764703,-0.04696969696969697,-0.49583333333333324,-0.1498376623376623,-0.031148538961038964,-0.000909090909090912,-0.004089026915113874,-0.10000000000000002,-0.10955245734657501,-0.22619047619047622,-0.023333333333333338,-0.12937499999999996,-0.1,-0.12261363636363636,-0.3527777777777777,-0.01767127799736496,-0.14270833333333333,-0.13916666666666666,-0.028650137741046824,-0.2904761904761905,0.0,-0.045818815331010454,-0.13397435897435897,-0.0048199767711962814,-0.03611111111111113,-0.21710526315789475,-0.05197811447811447,-0.19666666666666668,-0.032954545454545445,-0.11631944444444443,-0.08295454545454542,-0.0017316017316017331,-0.1722222222222222,-9.920634920635399e-05,-0.06249999999999999,-0.058986415882967616,-0.05127272727272729,-0.06666666666666664,-0.01428571428571429,-0.115625,-0.03531135531135531,-0.04142857142857143,-0.07272727272727271,-0.061505681818181814,-0.13333333333333336,-0.13928571428571426,-0.4374999999999999,-0.10636363636363637,-0.13458333333333336,-0.14145408163265302,-0.24242424242424238,0.0,-0.18676470588235292,-0.1453571428571428,-0.01224489795918367,-0.045860805860805855,-0.02884615384615387,-0.1512820512820513,-0.12113095238095238,-0.03375,-0.17499999999999993,-0.019957983193277306,-0.2622222222222222,-0.19,-0.024242424242424242,-0.07892857142857143,-0.05100574712643678,-0.13560606060606065,-0.12053571428571425,-0.04431818181818182,-0.03198924731182796,0.0,-0.06727716727716725,-0.04999999999999996,-0.340625,-0.12534722222222222,-0.004824561403508772,-0.1970833333333333,-0.002972027972027972,-0.14444444444444446,-0.024074074074074074,-0.2799999999999999,-0.1714285714285714,-0.26666666666666666,-0.012847222222222232,-0.215,-0.038537878787878774,-0.14142857142857143,-0.08452380952380954,-0.09291666666666665,-0.19907407407407404,-0.003931394692264262,-0.18484848484848487,-0.10770833333333331,-0.30636363636363634,-0.038199219081572026,-0.13736111111111113,-0.04300595238095238,-0.06176470588235293,-0.07142857142857142,-0.09183673469387756,-0.026282051282051293,-0.06666666666666668,-0.28333333333333327,-0.05027972027972027,-0.22592592592592592,-0.4892857142857143,-0.17168109668109668,-0.09848484848484845,-0.8,-0.06643356643356643,-0.19999999999999996,-0.03376068376068375,-0.0008470695970696005,-0.19,-0.05653409090909092,-0.05416666666666666,-0.08703703703703707,-0.043402777777777776,-0.20833333333333331,-0.05555555555555555,-0.03611111111111111,0.0,-0.1803571428571428,-0.35208333333333325,-0.0375,-0.3848214285714285,-0.09523809523809523,0.0,-0.06626984126984128,-0.014657738095238106,-0.10595238095238095,-0.12333333333333334,-0.008333333333333338,-0.18503787878787878,-0.027499999999999997,-0.050203962703962685,-0.3787037037037037,-0.1488945578231292,-0.23333333333333334,-0.03787878787878786,-0.16363636363636358,-0.21646825396825392,-0.04618877854171972,-0.2214285714285714,-0.004166666666666666,-0.027500000000000004,-0.13333333333333333,-0.3448717948717948,-0.08563762626262628,-0.2333333333333333,-0.06298701298701298,-0.056410256410256404,-0.05000000000000001,-0.08,-0.1998168498168498,-0.1476190476190476,-0.5214285714285714,-0.05569470212327355,-0.15833333333333335,-0.11259157509157507,-0.12593795093795096,-0.25833333333333336,-0.48749999999999993,-0.03888888888888888,-0.19999999999999993,-0.03385416666666667,-0.041666666666666664,-0.14285714285714285,-0.08136363636363637,-0.09166666666666667,-0.24642857142857139,-0.06666666666666665,-0.1476190476190476,-0.12648809523809523,-0.07261904761904761,-0.155,-0.09997165532879818,-0.05,-0.27398989898989895,-0.09374999999999997,-0.05454545454545456,-0.08735119047619047,-0.1625,-0.2976648351648353,-0.23333333333333334,-0.007065217391304337,-0.13371735791090625,-0.23928571428571416,-0.08160173160173158,-0.03429752066115702,-0.26145833333333335,-0.011033411033411029,-0.21111111111111105,-0.0005303030303030531,-0.056818181818181816,-0.5568181818181818,-0.11666666666666668,-0.2671428571428571,-0.5499999999999999,-0.15378787878787875,-0.03803258145363408,-0.2999999999999999,-0.36666666666666664,-0.3399999999999999,-0.054642857142857146,-0.11545454545454543,-0.13290633608815428,-0.06666666666666664,-0.05,-0.013095238095238071,-0.27510330578512393,-0.16535087719298242,-0.074812925170068,-0.05583333333333331,-0.65,-0.2833333333333333,-0.20000000000000004,-0.06231884057971011,-0.35312499999999997,-0.12499999999999999,-0.11023809523809522,-0.46071428571428574,-0.0621019721019721,-0.11020408163265305,-0.14305555555555555,-0.06086805555555554,-0.057407407407407435,-0.2,-0.02812500000000001,-0.04428571428571425,-0.06416666666666668,-0.08014069264069258,-1.1102230246251566e-17,-0.017410714285714272,-0.15909090909090903,-0.03920454545454545,-0.03498263888888889,-0.20636363636363636,-0.37395833333333334,-0.12238095238095237,-0.19999999999999998,-0.008823529411764666,-0.05266106442577027,-0.02337662337662336,-0.038333333333333316,-0.11190476190476192,-0.0479251700680272,-0.12916666666666665,-0.033750115133093866,-0.0950980392156863,-0.0014430014430014259,-0.023684210526315787,-0.13333333333333336,-0.325,-0.0617857142857143,-0.1571428571428571,-0.043055555555555555,-0.4583333333333333,-0.23333333333333328,-0.046190476190476205,-0.21249999999999994,-0.15000000000000002,-0.1363095238095238,-0.04084821428571427,-0.10000000000000002,-0.041666666666666664,-0.04166666666666667,-0.3,-0.059090909090909104,-0.08722222222222224,-0.22000000000000003,-0.06317460317460315,-0.16553571428571429,-0.04137529137529137,-0.4047619047619048,-0.033695652173913036,-0.0011363636363636205,-0.13737244897959183,-0.009895833333333298,-0.09878472222222219,-0.02739383632240776,-0.04166666666666668,-0.19999999999999998,-0.3909090909090908,-0.06,-0.05694444444444444,-0.07222222222222223,-0.02962992292260586,-0.08055555555555556,-0.3166666666666667,-0.09722222222222222,-0.07114512471655327,-0.08750000000000001,-0.15654761904761905,-0.06666666666666667,-0.10555555555555556,-0.06356389986824768,-0.14340828924162252,-0.028674948240165626,-0.12424242424242425,-0.028273809523809524,-0.08299319727891155,-0.08095238095238093,-0.36666666666666664,-0.15256410256410258,-0.021323529411764696,-0.042592592592592585,-0.0016666666666666718,-0.04221898790864307,0.0,-0.020833333333333322,-0.018999999999999982,-0.1349358974358974,-0.1075,-0.07534722222222222,-0.09351898101898103,-0.011221397649969076,-0.18452380952380953,-0.12154195011337868,-0.051388888888888894,-0.17396694214876032,-0.13333333333333333,-0.056481481481481494,-0.14675324675324677,-0.12732683982683982,-0.003571428571428565,-0.060648148148148104,-0.20555555555555557,-0.03177083333333333,-0.14592074592074594,-0.02120370370370363,-0.0636904761904762,-0.026470588235294128,-0.052045454545454534,-0.08611111111111111,-0.11818181818181817,-0.10612554112554111,-0.026298701298701307,-0.125,-0.04999999999999999,-0.2969696969696969,-0.11792929292929295,-0.2306122448979592,-0.15578512396694214,-0.07261904761904765,-0.08508771929824561,-0.14374999999999996,-0.11534598214285711,-0.15313852813852816,-0.010416666666666645,-0.2662337662337662,-0.07,-0.25,-0.049177115987460815,-0.24201680672268905,-0.2116666666666666,-0.07202380952380952,-0.026666666666666627,-0.021768707482993196,-0.0017575757575757577,-0.22284382284382284,-0.048976089015151505,-0.007459207459207447,-0.1416666666666667,-0.020075757575757577,-0.07349730458221025,-0.14618055555555556,-0.03126456876456877,-0.13333333333333333,-0.20257142857142854,-0.02452380952380953,-0.08174603174603175,-0.023333333333333317,-0.09807692307692308,-0.10833333333333334,-0.1828125,-0.01904761904761906,-0.012037037037037037,-0.08327380952380951,-0.22833333333333328,-0.16599999999999995,-0.011538461538461534,-0.00555555555555556,-0.27999999999999997,-0.2523809523809523,-0.002678571428571419,-0.09166666666666666,-0.05588624338624339,-0.16166666666666668,-0.2402597402597402,-0.021153846153846165,-0.1198497580850522,-0.32196969696969685,-0.043402777777777735,-0.015267857142857139,-0.06499999999999997,-0.013333333333333338,-0.05075757575757576,-0.011210317460317462,-0.07586206896551723,-0.07727272727272724,-0.0252692743764172,-0.017568027210884345,-0.059027777777777755,-0.11794871794871792,-0.2687074829931973,-0.015757575757575745,-0.18749999999999997,-0.3222222222222222,-0.19999999999999998,-0.007037037037037041,-0.05958361813624968,-0.02272727272727271,-0.04141414141414141,-0.4375,-0.053409090909090906,-0.1341503267973856,-0.027922077922077952,0.0,-0.03636363636363636,-0.08026315789473686,-0.06726190476190473,0.0,-0.0375,-0.1904761904761904,-0.08448067632850241,-0.04495798319327729,-0.007427489177489157,-0.038293650793650796,-0.25357142857142856,-0.1999999999999999,-0.08958333333333333,-0.05648648648648646,-0.33974358974358976,0.0,-0.006255952380952385,-0.09337121212121213,-0.012499999999999992,-0.06193181818181817,-0.04999999999999998,-0.024760101010101006,-0.02773809523809525,-0.14907407407407405,-0.3555555555555555,-0.05505050505050504,-0.026190476190476177,-0.13163265306122446,-0.07927868914711018,-0.27499999999999997,-0.004999999999999969,-0.32083333333333336,-0.12222222222222223,-0.003030303030303032,0.0,-0.0789473684210526,-0.015079365079365066,-0.10898268398268396,-0.23409090909090902,-0.03577777777777776,-0.3549999999999999,-0.13333333333333333,-0.2222222222222222,-0.06142857142857142,-0.06903409090909092,-0.055555555555555525,-0.25,-0.3999999999999999,-0.00821995464852608,-0.027592592592592585,-0.1326923076923077,-0.050816326530612216,-0.1775,-0.22727272727272724,-0.07654320987654317,-0.033333333333333326,-0.05868055555555555,-0.10666666666666666,-0.21000000000000002,-0.19489795918367342,-0.0721014492753623,-0.09886363636363636,-0.015679908326967164,-0.3571428571428571,-0.12509398496240604,-0.09999999999999999,-0.07236842105263158,-0.001866883116883128,-0.265625,-0.1638392857142857,-0.09166666666666663,-0.07430735930735931,-0.10357142857142855,-0.046249999999999986,-0.01003787878787879,-0.07500000000000002,-0.22678571428571428,-0.0243457300275482,-0.2901960784313726,-0.14996843434343432,-0.03981481481481481,-0.014613237639553425,-0.17537878787878788,-0.09062499999999996,-0.03211152882205509,-0.14583333333333334,-0.016982323232323234,-0.15,-0.12947214076246336,-0.20714285714285716,-0.3333333333333332,-0.10641025641025642,-0.09722222222222224,-0.23124999999999998,-0.18999999999999997,-0.05138888888888887,-0.01875,-0.1888888888888889,-0.20454545454545447,-0.005555555555555558,-0.012872023809523812,-0.008333333333333323,-0.019101731601731606,-0.0031609195402298664,-0.001587301587301594,-0.055289001122334425,-0.42500000000000004,0.0,-0.17857142857142852,-0.1246212121212121,-0.0007518796992481264,-0.37916666666666665,-0.2652597402597402,-0.05833333333333331,-0.007291666666666627,-0.04285714285714286,-0.18,-0.16470588235294115,-0.04523809523809524,-0.6017857142857143,-0.05982142857142856,-0.08690476190476192,-0.01831293706293706,-0.0008928571428571397,-0.04112554112554112,-0.1420833333333333,-0.14444444444444446,-0.05892857142857143,-0.08148148148148143,-0.12051282051282051,-0.05096418732782367,-0.2604166666666667,-0.41587301587301584,-0.08636363636363635,-0.08666666666666664,-0.17647058823529407,-0.0946428571428571,-0.07380952380952381,-0.05499999999999998,-0.027456239412761162,-0.3428571428571428,-0.15263888888888885,-0.03095238095238091,-0.05714285714285713,-0.02999999999999996,-0.13452380952380952,-0.02954545454545456,-0.26666666666666666,-0.0962962962962963,-0.16145833333333331,-0.023598484848484848,-0.18150793650793645,-0.22142857142857145,-0.18106060606060606,-0.003409090909090927,-0.1275132275132275,-0.053063603063603,-0.0357142857142857,-0.0736111111111111,-0.2,-0.1290898617511521,-0.13890977443609023,-0.12499999999999997,-0.14999999999999997,-0.09444444444444443,-0.5399999999999999,-0.095,-7.569702440626067e-18,-0.09722222222222217,-0.049999999999999906,-0.18999999999999995,-0.26666666666666666,-0.032433712121212134,-0.18874458874458871,-0.045486111111111116,-0.125,-0.04387755102040815,-0.008333333333333342,-0.08003787878787877,-0.13214285714285715,-0.13928336156597024,-0.2111111111111111,-0.43333333333333324,-0.09583333333333331,-0.22601010101010108,-0.11666666666666663,-0.04910714285714286,-0.15,-0.15,-0.0774380165289256,-0.09393939393939396,-0.07924603174603173,-0.06999999999999999,-0.052380952380952375,-0.1310515873015873,-0.34397759103641457,-0.13333333333333333,-0.0008957708957708725,-0.07174242424242425,-0.32857142857142846,0.0,-0.004090354090354089,-0.031439393939393934,-0.15000000000000002,-0.16648351648351645,-0.00026041666666666574,-0.049999999999999954,-0.09489795918367348,-0.20845959595959596,-0.45833333333333326,-0.006562500000000001,-0.3972222222222222,-0.10416666666666667,-0.35625,-0.014631313131313132,-0.01470588235294117,-0.23749999999999996,-0.10071770334928232,-0.1246153846153846,-0.10060606060606063,-0.10333333333333325,-0.09087301587301584,-0.10227272727272725,-0.006764705882352943,-0.15625,-0.5234848484848484,-0.125,-0.31875000000000003,-0.020840480274442543,-0.2460505565862709,-0.16428571428571434,-0.19444444444444445,-0.15185185185185182,-0.0005109231853417874,-0.053333333333333344,-0.28231292517006795,-0.016309523809523798,-0.0738095238095238,-0.07222222222222219,-0.06305194805194807,-0.10578512396694215,-0.21499999999999994,-0.06228070175438596,-0.1286130536130536,-0.4916666666666667,-0.01302164502164501,-0.3,-0.17500000000000002,-0.021428571428571425,-0.55,-0.15,-0.4428571428571427,-0.014167995746943121,-0.31648351648351647,-0.09696969696969694,-0.2890589569160997,-0.0539493575207861,-0.011313131313131311,-0.00730329611908561,-0.12760330578512394,-0.10045454545454546,-0.16666666666666666,-0.036944444444444426,-0.035714285714285726,-0.12999999999999998,-0.00896825396825396,-0.3,-0.08657407407407408,-0.17687499999999995,-0.08055555555555555,-0.043821022727272715,-0.10464285714285716,-0.04768518518518519,-0.004999999999999982,-0.0062500000000000056,-0.12397959183673467,-0.06924603174603175,-0.44583333333333325,-0.2555555555555556,-0.060497835497835495,-0.00566666666666667,-0.14047619047619045,-0.15951704545454545,-0.13229166666666667,-0.019230769230769225,-0.21999999999999997,-0.03574708120162665,-0.1,-0.1173333333333333,-0.14444444444444446,-0.030555555555555537,-0.12304421768707481,-0.0612923351158645,-0.15025510204081627,-0.07272727272727271,-0.013541666666666674,-0.12777777777777777,-0.010387642660369944,-0.09092712842712843,-0.019806547619047616,-0.35714285714285715,-0.0071428571428571175,-0.014024390243902417,-0.5333333333333333,-0.09940476190476188,-0.017507002801120455,-0.002255892255892269,-0.4241758241758241,-0.06296296296296296,-0.24166666666666667,-0.014285714285714287,-0.12152777777777775,-0.5,-0.3999999999999999,-0.09063492063492062,-0.7999999999999999,-0.21499999999999994,-0.09999999999999998,-0.017500000000000016,-0.04861111111111108,-0.06428571428571428,-1.0,-0.25112044817927165,-0.14270833333333333,-0.10662202380952382,-0.03944559228650138,-0.21784511784511784,-0.08041666666666665,-0.031930272108843534,-0.005952380952380973,-0.0877272727272727,-0.043181818181818155,-0.20892857142857144,-0.35555555555555546,-0.04675925925925926,-0.08198051948051949,-0.0014492753623188222,-0.3999999999999999,-0.3166666666666667,-0.08237179487179487,-0.02999999999999998,-0.026041666666666685,-0.28035714285714286,-0.1238690476190476,-0.04583333333333333,-0.001583333333333306,-0.01783549783549783,-0.14220779220779214,-0.05123456790123457,-0.06401515151515151,-0.06244588744588744,-0.14285714285714282,-0.02571428571428571,-0.0746212121212121,-0.09333333333333334,-0.10861111111111112,-0.20208333333333334,-0.16666666666666666,-0.06410256410256411,-0.25738636363636364,-0.024175824175824142,-0.09166666666666667,-0.0980392156862745,-0.21949404761904762,-0.11948260073260072,-0.09444444444444444,-0.1722222222222222,-0.007294721407624628,-0.033333333333333326,-0.11812500000000001,-0.007196969696969705,-0.06428571428571424,-0.21190476190476185,-0.047926032301032304,-0.25,-0.12463573012353499,-0.12869047619047622,-0.4566964285714286,-0.05714285714285712,-0.0712037037037037,-0.08788610038610035,-0.14340659340659334,-0.022222222222222216,-0.05138888888888885,-0.06675170068027213,-0.19101966873706003,-0.00020871985157699748,-0.27313131313131317,-0.05833333333333335,-0.27265624999999993,-0.5079999999999999,-0.027777777777777773,-0.06116666666666666,-0.16107954545454545,-0.11922268907563016,-0.275,-0.06470959595959597,-0.08396358543417366,-0.25,-0.03374999999999999,-0.045312500000000006,-0.031372549019607864,-0.03,-0.14252136752136751,-0.09166666666666667,-0.1241596638655462,-0.24259259259259253,-0.02341269841269841,-0.16071428571428564,-0.1857142857142857,-0.08333333333333333,-0.13451704545454546,-0.044999999999999984,-0.0564484126984127,-0.041341991341991347,-0.09341531484388627,-0.0914835164835165,-0.14583333333333331,-0.4571428571428571,-0.06499999999999995,-0.004629629629629638,0.0,-0.05882352941176469,-0.0010989010989010822,-0.10795454545454544,-0.02313818993506493,-0.07857142857142858,-0.2916666666666667,-0.022087198515769957,-0.11181972789115648,-0.19062500000000002,-0.42678571428571416,-0.001354679802955651,-0.08805704099821748,-0.15392857142857147,-0.10378787878787876,-0.028427128427128398,-0.02000000000000001,-0.18468218773096823,-0.05363636363636364,-0.06303179579041643,-0.016726190476190467,-0.3944444444444445,-0.024242424242424253,-0.014934607645875257,-0.025505050505050475,-0.06296296296296298,-0.05749999999999999,-0.3729166666666666,-0.20714285714285705,-0.13749999999999996,-0.05363419913419913,-0.09856150793650792,-0.13194444444444445,-0.03437839937839937,0.0,-0.37040816326530607,-0.2919642857142857,-0.09333333333333334,-0.08333333333333333,-0.20714285714285707,-0.12315858161446391,-0.2657067570111048,-0.2273809523809524,-0.004665071770334916,-0.4222222222222222,-0.06919507575757575,-0.0689047619047619,-0.2111111111111111,-0.1,-0.06682736455463723,-0.03369905956112853,-0.1589285714285714,-0.07999999999999999,-0.008564814814814801,-0.09545454545454544,-0.6499999999999998,-0.04375000000000001,-0.058971088435374144,-0.17142857142857135,-0.045370370370370394,-0.14451754385964913,-0.1513636363636363,-0.03962962962962963,-0.19583333333333333,-0.3428571428571428,-0.10290849673202615,-0.11166666666666666,-0.043750000000000004,-0.018750000000000003,-0.10681818181818178,-0.06666666666666664,-0.048280423280423285,-0.01904761904761905,-0.02136363636363637,-0.04870129870129869,-0.03636363636363636,-0.30384615384615377,-0.049999999999999975,-0.175,-0.1985994397759104,-0.03533333333333333,-0.022400137741046836,-0.21818181818181814,-0.09866071428571427,-0.03125,-0.024999999999999967,-0.0725,-0.02301587301587302,-0.029816017316017285,-0.021,-0.03644370534614437,-0.04536706349206349,-0.055595238095238086,-0.01631944444444444,-0.033333333333333354,-0.06244588744588742,-0.010092592592592587,-0.04583333333333334,-0.03735827664399092,-0.12999999999999998,-0.15555555555555556,-0.07291666666666667,-0.06410256410256411,-0.11458333333333334,-0.06527777777777778,-0.009285714285714286,-0.07353479853479855,-0.1538537549407115,0.0,-0.045312500000000006,-0.04970238095238096,-0.03313973063973062,-0.14283216783216782,0.0,-0.08640350877192982,-0.39583333333333326,-0.14933862433862435,-0.030469576719576712,-0.3,-0.10000000000000002,-0.08958333333333332,-0.0785714285714286,-0.15,-0.09421768707482989,-0.02250000000000001,-0.3333333333333333,-0.07858141858141862,-0.014478114478114479,-0.11818181818181817,-0.10820802005012531,-0.08952762923351157,-0.04285714285714286,-0.038888888888888896,-0.21272727272727274,-0.04448051948051948,-0.003373819163292844,-0.02999999999999999,-0.17500000000000002,-0.03954216073781291,-0.1975672877846791,-0.07031249999999997,-0.11785714285714284,0.0,-0.1431818181818182,-0.0062500000000000056,-0.15000000000000002,-0.1042275432900433,-0.012682629870129875,-0.0719187675070028,-0.0010204081632653103,-0.125,-0.005952380952380955,-0.022964669738863283,-0.07111111111111111,-0.03182870370370369,-0.023214285714285715,-0.021428571428571408,0.0,-0.059740259740259746,-0.012500000000000011,-0.03714285714285715,-0.009166666666666667,-0.12392857142857147,-0.01041666666666663,-0.01820987654320988,-0.06979166666666668,0.0,-0.0030797101449275385,-0.025,-0.027916666666666663,-0.07142857142857142,-0.07833333333333334,-0.00624999999999999,-0.027380952380952377,-0.18185185185185182,-0.018749999999999975,-0.15,-0.06523809523809525,-0.0875,-0.058035714285714295,-0.009090909090909094,-0.5800000000000001,0.0,-0.15181159420289853,-0.05064102564102564,-0.18555555555555556,-0.11583333333333334,-0.04321789321789323,-0.0023809523809523963,-0.028472222222222232,0.0,-0.019341736694677883,-0.0038888888888888805,-0.02092803030303027,-0.09166666666666669,-0.060876623376623376,0.0,-0.02500000000000001,-0.00022727272727272746,-0.08690476190476193,-0.14990842490842493,-0.022208931419457737,-0.0009523809523809712,-0.012037037037037028,-0.014999999999999994,-0.03903743315508022,0.0,-0.1285714285714286,-0.05729746444032157,-0.10568181818181815,-0.07403846153846151,-0.037743506493506496,-0.29999999999999993,-0.10890151515151517,-0.01833333333333333,-0.07202020202020203,-0.04999999999999999,-0.030000000000000016,-0.09814814814814815,-0.02072916666666666,-0.03333333333333333,-0.03731962481962482,-0.008333333333333331,-0.08928571428571429,-0.01666666666666667,-0.8,-0.10109751359751357,-0.14078947368421055,-0.04499999999999998,-0.05357142857142857,-0.029166666666666664,-0.04669421487603306,-0.1285714285714286,-0.027935606060606064,-0.07115384615384614,-0.03076923076923077,-0.014814814814814836,-0.0720238095238095,-0.09659863945578231,-0.06725589225589225,-0.14487781954887216,-0.35,-0.07835497835497836,-0.04642857142857144,-0.12240896358543416,-0.041774891774891784,-0.035119047619047626,-0.10572916666666665,-0.00208333333333334,-0.07499999999999996,-0.10833333333333334,-0.06666666666666667,-0.03154761904761905,-0.1433080808080808,-0.08386363636363636,-0.002238095238095208,-0.19515151515151513,-0.09616666666666666,-0.02156177156177156,-0.2225,-0.04305555555555555,-0.3725,-0.052727272727272734,-0.1560084033613445,-0.08333333333333333,-0.3583333333333334,-0.025681818181818188,-0.029455160224390993,-0.015398403679653686,-0.05080213903743315,-0.03333333333333333,-0.009183673469387763,-0.21258741258741262,-0.01447811447811448,-0.14732323232323233,-0.09376262626262627,-0.045601851851851845,-0.15333333333333338,-0.025757575757575757,-0.0007177033492823042,0.0,-0.01507936507936509,-0.007780303030303026,-0.022222222222222202,-0.000909090909090889,-0.15750000000000003,-0.11319444444444444,-0.017135416666666663,-0.006250000000000019,-0.012962962962962954,-0.20476190476190478,-0.18611111111111112,-0.009374999999999988,-0.07932900432900435,-0.06315789473684211,-0.15,-0.2888888888888889,-0.2125,-0.02986111111111109,-0.003994490358126732,-0.2896929824561404,-0.06297943722943722,-0.06258434547908233,-0.3,-0.05,-0.003968253968253967,-0.3125,-0.2541666666666666,-0.0030423280423280564,-0.10809523809523809,-0.06666666666666667,-0.024999999999999998,-0.024999999999999998,-0.25,-0.0944128787878788,-0.05333333333333333,-0.06338383838383839,-0.04318181818181818,-0.06269841269841266,-0.035912698412698396,-0.141,-8.540177112501205e-18,-0.11845238095238095,-0.13685897435897434,-0.05095238095238096,-0.04964488636363637,-0.025000000000000005,-0.05378787878787878,-0.010454545454545454,-0.02857142857142858,-0.38888888888888884,-0.48,-0.0006568144499178671,-0.011088154269972455,-0.325,-0.0035714285714285704,-0.3,-0.08728070175438596,-0.029034914361001314,-0.0696078431372549,-0.08263403263403263,-0.08471055088702148,-0.053535353535353505,-0.00208333333333334,-0.0075,-0.04999999999999999,-0.03749999999999999,-0.04044795783926216,-0.007440476190476192,-0.09393939393939395,-0.14999999999999997,-0.007532467532467532,-0.06666666666666667],\"xaxis\":\"x\",\"yaxis\":\"y\",\"type\":\"histogram\"}],                        {\"template\":{\"data\":{\"barpolar\":[{\"marker\":{\"line\":{\"color\":\"white\",\"width\":0.5},\"pattern\":{\"fillmode\":\"overlay\",\"size\":10,\"solidity\":0.2}},\"type\":\"barpolar\"}],\"bar\":[{\"error_x\":{\"color\":\"#2a3f5f\"},\"error_y\":{\"color\":\"#2a3f5f\"},\"marker\":{\"line\":{\"color\":\"white\",\"width\":0.5},\"pattern\":{\"fillmode\":\"overlay\",\"size\":10,\"solidity\":0.2}},\"type\":\"bar\"}],\"carpet\":[{\"aaxis\":{\"endlinecolor\":\"#2a3f5f\",\"gridcolor\":\"#C8D4E3\",\"linecolor\":\"#C8D4E3\",\"minorgridcolor\":\"#C8D4E3\",\"startlinecolor\":\"#2a3f5f\"},\"baxis\":{\"endlinecolor\":\"#2a3f5f\",\"gridcolor\":\"#C8D4E3\",\"linecolor\":\"#C8D4E3\",\"minorgridcolor\":\"#C8D4E3\",\"startlinecolor\":\"#2a3f5f\"},\"type\":\"carpet\"}],\"choropleth\":[{\"colorbar\":{\"outlinewidth\":0,\"ticks\":\"\"},\"type\":\"choropleth\"}],\"contourcarpet\":[{\"colorbar\":{\"outlinewidth\":0,\"ticks\":\"\"},\"type\":\"contourcarpet\"}],\"contour\":[{\"colorbar\":{\"outlinewidth\":0,\"ticks\":\"\"},\"colorscale\":[[0.0,\"#0d0887\"],[0.1111111111111111,\"#46039f\"],[0.2222222222222222,\"#7201a8\"],[0.3333333333333333,\"#9c179e\"],[0.4444444444444444,\"#bd3786\"],[0.5555555555555556,\"#d8576b\"],[0.6666666666666666,\"#ed7953\"],[0.7777777777777778,\"#fb9f3a\"],[0.8888888888888888,\"#fdca26\"],[1.0,\"#f0f921\"]],\"type\":\"contour\"}],\"heatmapgl\":[{\"colorbar\":{\"outlinewidth\":0,\"ticks\":\"\"},\"colorscale\":[[0.0,\"#0d0887\"],[0.1111111111111111,\"#46039f\"],[0.2222222222222222,\"#7201a8\"],[0.3333333333333333,\"#9c179e\"],[0.4444444444444444,\"#bd3786\"],[0.5555555555555556,\"#d8576b\"],[0.6666666666666666,\"#ed7953\"],[0.7777777777777778,\"#fb9f3a\"],[0.8888888888888888,\"#fdca26\"],[1.0,\"#f0f921\"]],\"type\":\"heatmapgl\"}],\"heatmap\":[{\"colorbar\":{\"outlinewidth\":0,\"ticks\":\"\"},\"colorscale\":[[0.0,\"#0d0887\"],[0.1111111111111111,\"#46039f\"],[0.2222222222222222,\"#7201a8\"],[0.3333333333333333,\"#9c179e\"],[0.4444444444444444,\"#bd3786\"],[0.5555555555555556,\"#d8576b\"],[0.6666666666666666,\"#ed7953\"],[0.7777777777777778,\"#fb9f3a\"],[0.8888888888888888,\"#fdca26\"],[1.0,\"#f0f921\"]],\"type\":\"heatmap\"}],\"histogram2dcontour\":[{\"colorbar\":{\"outlinewidth\":0,\"ticks\":\"\"},\"colorscale\":[[0.0,\"#0d0887\"],[0.1111111111111111,\"#46039f\"],[0.2222222222222222,\"#7201a8\"],[0.3333333333333333,\"#9c179e\"],[0.4444444444444444,\"#bd3786\"],[0.5555555555555556,\"#d8576b\"],[0.6666666666666666,\"#ed7953\"],[0.7777777777777778,\"#fb9f3a\"],[0.8888888888888888,\"#fdca26\"],[1.0,\"#f0f921\"]],\"type\":\"histogram2dcontour\"}],\"histogram2d\":[{\"colorbar\":{\"outlinewidth\":0,\"ticks\":\"\"},\"colorscale\":[[0.0,\"#0d0887\"],[0.1111111111111111,\"#46039f\"],[0.2222222222222222,\"#7201a8\"],[0.3333333333333333,\"#9c179e\"],[0.4444444444444444,\"#bd3786\"],[0.5555555555555556,\"#d8576b\"],[0.6666666666666666,\"#ed7953\"],[0.7777777777777778,\"#fb9f3a\"],[0.8888888888888888,\"#fdca26\"],[1.0,\"#f0f921\"]],\"type\":\"histogram2d\"}],\"histogram\":[{\"marker\":{\"pattern\":{\"fillmode\":\"overlay\",\"size\":10,\"solidity\":0.2}},\"type\":\"histogram\"}],\"mesh3d\":[{\"colorbar\":{\"outlinewidth\":0,\"ticks\":\"\"},\"type\":\"mesh3d\"}],\"parcoords\":[{\"line\":{\"colorbar\":{\"outlinewidth\":0,\"ticks\":\"\"}},\"type\":\"parcoords\"}],\"pie\":[{\"automargin\":true,\"type\":\"pie\"}],\"scatter3d\":[{\"line\":{\"colorbar\":{\"outlinewidth\":0,\"ticks\":\"\"}},\"marker\":{\"colorbar\":{\"outlinewidth\":0,\"ticks\":\"\"}},\"type\":\"scatter3d\"}],\"scattercarpet\":[{\"marker\":{\"colorbar\":{\"outlinewidth\":0,\"ticks\":\"\"}},\"type\":\"scattercarpet\"}],\"scattergeo\":[{\"marker\":{\"colorbar\":{\"outlinewidth\":0,\"ticks\":\"\"}},\"type\":\"scattergeo\"}],\"scattergl\":[{\"marker\":{\"colorbar\":{\"outlinewidth\":0,\"ticks\":\"\"}},\"type\":\"scattergl\"}],\"scattermapbox\":[{\"marker\":{\"colorbar\":{\"outlinewidth\":0,\"ticks\":\"\"}},\"type\":\"scattermapbox\"}],\"scatterpolargl\":[{\"marker\":{\"colorbar\":{\"outlinewidth\":0,\"ticks\":\"\"}},\"type\":\"scatterpolargl\"}],\"scatterpolar\":[{\"marker\":{\"colorbar\":{\"outlinewidth\":0,\"ticks\":\"\"}},\"type\":\"scatterpolar\"}],\"scatter\":[{\"fillpattern\":{\"fillmode\":\"overlay\",\"size\":10,\"solidity\":0.2},\"type\":\"scatter\"}],\"scatterternary\":[{\"marker\":{\"colorbar\":{\"outlinewidth\":0,\"ticks\":\"\"}},\"type\":\"scatterternary\"}],\"surface\":[{\"colorbar\":{\"outlinewidth\":0,\"ticks\":\"\"},\"colorscale\":[[0.0,\"#0d0887\"],[0.1111111111111111,\"#46039f\"],[0.2222222222222222,\"#7201a8\"],[0.3333333333333333,\"#9c179e\"],[0.4444444444444444,\"#bd3786\"],[0.5555555555555556,\"#d8576b\"],[0.6666666666666666,\"#ed7953\"],[0.7777777777777778,\"#fb9f3a\"],[0.8888888888888888,\"#fdca26\"],[1.0,\"#f0f921\"]],\"type\":\"surface\"}],\"table\":[{\"cells\":{\"fill\":{\"color\":\"#EBF0F8\"},\"line\":{\"color\":\"white\"}},\"header\":{\"fill\":{\"color\":\"#C8D4E3\"},\"line\":{\"color\":\"white\"}},\"type\":\"table\"}]},\"layout\":{\"annotationdefaults\":{\"arrowcolor\":\"#2a3f5f\",\"arrowhead\":0,\"arrowwidth\":1},\"autotypenumbers\":\"strict\",\"coloraxis\":{\"colorbar\":{\"outlinewidth\":0,\"ticks\":\"\"}},\"colorscale\":{\"diverging\":[[0,\"#8e0152\"],[0.1,\"#c51b7d\"],[0.2,\"#de77ae\"],[0.3,\"#f1b6da\"],[0.4,\"#fde0ef\"],[0.5,\"#f7f7f7\"],[0.6,\"#e6f5d0\"],[0.7,\"#b8e186\"],[0.8,\"#7fbc41\"],[0.9,\"#4d9221\"],[1,\"#276419\"]],\"sequential\":[[0.0,\"#0d0887\"],[0.1111111111111111,\"#46039f\"],[0.2222222222222222,\"#7201a8\"],[0.3333333333333333,\"#9c179e\"],[0.4444444444444444,\"#bd3786\"],[0.5555555555555556,\"#d8576b\"],[0.6666666666666666,\"#ed7953\"],[0.7777777777777778,\"#fb9f3a\"],[0.8888888888888888,\"#fdca26\"],[1.0,\"#f0f921\"]],\"sequentialminus\":[[0.0,\"#0d0887\"],[0.1111111111111111,\"#46039f\"],[0.2222222222222222,\"#7201a8\"],[0.3333333333333333,\"#9c179e\"],[0.4444444444444444,\"#bd3786\"],[0.5555555555555556,\"#d8576b\"],[0.6666666666666666,\"#ed7953\"],[0.7777777777777778,\"#fb9f3a\"],[0.8888888888888888,\"#fdca26\"],[1.0,\"#f0f921\"]]},\"colorway\":[\"#636efa\",\"#EF553B\",\"#00cc96\",\"#ab63fa\",\"#FFA15A\",\"#19d3f3\",\"#FF6692\",\"#B6E880\",\"#FF97FF\",\"#FECB52\"],\"font\":{\"color\":\"#2a3f5f\"},\"geo\":{\"bgcolor\":\"white\",\"lakecolor\":\"white\",\"landcolor\":\"white\",\"showlakes\":true,\"showland\":true,\"subunitcolor\":\"#C8D4E3\"},\"hoverlabel\":{\"align\":\"left\"},\"hovermode\":\"closest\",\"mapbox\":{\"style\":\"light\"},\"paper_bgcolor\":\"white\",\"plot_bgcolor\":\"white\",\"polar\":{\"angularaxis\":{\"gridcolor\":\"#EBF0F8\",\"linecolor\":\"#EBF0F8\",\"ticks\":\"\"},\"bgcolor\":\"white\",\"radialaxis\":{\"gridcolor\":\"#EBF0F8\",\"linecolor\":\"#EBF0F8\",\"ticks\":\"\"}},\"scene\":{\"xaxis\":{\"backgroundcolor\":\"white\",\"gridcolor\":\"#DFE8F3\",\"gridwidth\":2,\"linecolor\":\"#EBF0F8\",\"showbackground\":true,\"ticks\":\"\",\"zerolinecolor\":\"#EBF0F8\"},\"yaxis\":{\"backgroundcolor\":\"white\",\"gridcolor\":\"#DFE8F3\",\"gridwidth\":2,\"linecolor\":\"#EBF0F8\",\"showbackground\":true,\"ticks\":\"\",\"zerolinecolor\":\"#EBF0F8\"},\"zaxis\":{\"backgroundcolor\":\"white\",\"gridcolor\":\"#DFE8F3\",\"gridwidth\":2,\"linecolor\":\"#EBF0F8\",\"showbackground\":true,\"ticks\":\"\",\"zerolinecolor\":\"#EBF0F8\"}},\"shapedefaults\":{\"line\":{\"color\":\"#2a3f5f\"}},\"ternary\":{\"aaxis\":{\"gridcolor\":\"#DFE8F3\",\"linecolor\":\"#A2B1C6\",\"ticks\":\"\"},\"baxis\":{\"gridcolor\":\"#DFE8F3\",\"linecolor\":\"#A2B1C6\",\"ticks\":\"\"},\"bgcolor\":\"white\",\"caxis\":{\"gridcolor\":\"#DFE8F3\",\"linecolor\":\"#A2B1C6\",\"ticks\":\"\"}},\"title\":{\"x\":0.05},\"xaxis\":{\"automargin\":true,\"gridcolor\":\"#EBF0F8\",\"linecolor\":\"#EBF0F8\",\"ticks\":\"\",\"title\":{\"standoff\":15},\"zerolinecolor\":\"#EBF0F8\",\"zerolinewidth\":2},\"yaxis\":{\"automargin\":true,\"gridcolor\":\"#EBF0F8\",\"linecolor\":\"#EBF0F8\",\"ticks\":\"\",\"title\":{\"standoff\":15},\"zerolinecolor\":\"#EBF0F8\",\"zerolinewidth\":2}}},\"xaxis\":{\"anchor\":\"y\",\"domain\":[0.0,1.0],\"title\":{\"text\":\"Puntaje de Polaridad\"}},\"yaxis\":{\"anchor\":\"x\",\"domain\":[0.0,1.0],\"title\":{\"text\":\"Frecuencia\"}},\"legend\":{\"title\":{\"text\":\"Sentimiento\"},\"tracegroupgap\":0},\"title\":{\"text\":\"Distribuci\\u00f3n de Sentimiento seg\\u00fan Puntaje de Polaridad\",\"x\":0.5},\"barmode\":\"relative\",\"bargap\":0.1},                        {\"responsive\": true}                    ).then(function(){\n",
              "                            \n",
              "var gd = document.getElementById('cdd14ae9-7708-4128-a7c1-b5aeb550cb1f');\n",
              "var x = new MutationObserver(function (mutations, observer) {{\n",
              "        var display = window.getComputedStyle(gd).display;\n",
              "        if (!display || display === 'none') {{\n",
              "            console.log([gd, 'removed!']);\n",
              "            Plotly.purge(gd);\n",
              "            observer.disconnect();\n",
              "        }}\n",
              "}});\n",
              "\n",
              "// Listen for the removal of the full notebook cells\n",
              "var notebookContainer = gd.closest('#notebook-container');\n",
              "if (notebookContainer) {{\n",
              "    x.observe(notebookContainer, {childList: true});\n",
              "}}\n",
              "\n",
              "// Listen for the clearing of the current output cell\n",
              "var outputEl = gd.closest('.output');\n",
              "if (outputEl) {{\n",
              "    x.observe(outputEl, {childList: true});\n",
              "}}\n",
              "\n",
              "                        })                };                            </script>        </div>\n",
              "</body>\n",
              "</html>"
            ]
          },
          "metadata": {},
          "output_type": "display_data"
        }
      ],
      "source": [
        "import plotly.express as px\n",
        "\n",
        "# Graficar distribución de los valores en la \"Etiqueta de sentimiento\"\n",
        "fig = px.histogram(\n",
        "    data_frame=textblob_data,\n",
        "    x='Puntaje de polaridad',\n",
        "    color='Etiqueta de sentimiento',\n",
        "    title='Distribución de Sentimiento según Puntaje de Polaridad',\n",
        "    labels={'Puntaje de polaridad': 'Puntaje de Polaridad', 'Etiqueta de sentimiento': 'Sentimiento'},\n",
        "    nbins=20,  # Ajustar el número de bins (opcional)\n",
        "    color_discrete_sequence=['#EF553B', '#636EFA']  # Colores personalizables\n",
        ")\n",
        "\n",
        "# se ajusta el layout para mejorar la legibilidad\n",
        "fig.update_layout(\n",
        "    xaxis_title='Puntaje de Polaridad',\n",
        "    yaxis_title='Frecuencia',\n",
        "    title_x=0.5,  # Centrar el título\n",
        "    bargap=0.1,  # Espacio entre las barras\n",
        "    template='plotly_white'  # Tema claro\n",
        ")\n",
        "\n",
        "# Mostrar la gráfica\n",
        "fig.show()\n"
      ]
    },
    {
      "cell_type": "markdown",
      "metadata": {
        "id": "1aMrK_hZBnF8"
      },
      "source": [
        "el grafico muestra que existe diferencias significativas en las polaridad generada por textblob y las polaridades originales"
      ]
    },
    {
      "cell_type": "code",
      "execution_count": null,
      "metadata": {
        "colab": {
          "base_uri": "https://localhost:8080/",
          "height": 706
        },
        "id": "OUgMMIPvBdpQ",
        "outputId": "32775f8a-d521-4181-b0f2-0f82068ac308"
      },
      "outputs": [
        {
          "name": "stderr",
          "output_type": "stream",
          "text": [
            "<ipython-input-23-28ece6c6daea>:2: FutureWarning:\n",
            "\n",
            "A value is trying to be set on a copy of a DataFrame or Series through chained assignment using an inplace method.\n",
            "The behavior will change in pandas 3.0. This inplace method will never work because the intermediate object on which we are setting values always behaves as a copy.\n",
            "\n",
            "For example, when doing 'df[col].method(value, inplace=True)', try using 'df.method({col: value}, inplace=True)' or df[col] = df[col].method(value) instead, to perform the operation inplace on the original object.\n",
            "\n",
            "\n",
            "\n",
            "<ipython-input-23-28ece6c6daea>:2: FutureWarning:\n",
            "\n",
            "Downcasting behavior in `replace` is deprecated and will be removed in a future version. To retain the old behavior, explicitly call `result.infer_objects(copy=False)`. To opt-in to the future behavior, set `pd.set_option('future.no_silent_downcasting', True)`\n",
            "\n",
            "<ipython-input-23-28ece6c6daea>:3: FutureWarning:\n",
            "\n",
            "A value is trying to be set on a copy of a DataFrame or Series through chained assignment using an inplace method.\n",
            "The behavior will change in pandas 3.0. This inplace method will never work because the intermediate object on which we are setting values always behaves as a copy.\n",
            "\n",
            "For example, when doing 'df[col].method(value, inplace=True)', try using 'df.method({col: value}, inplace=True)' or df[col] = df[col].method(value) instead, to perform the operation inplace on the original object.\n",
            "\n",
            "\n",
            "\n",
            "<ipython-input-23-28ece6c6daea>:3: FutureWarning:\n",
            "\n",
            "Downcasting behavior in `replace` is deprecated and will be removed in a future version. To retain the old behavior, explicitly call `result.infer_objects(copy=False)`. To opt-in to the future behavior, set `pd.set_option('future.no_silent_downcasting', True)`\n",
            "\n"
          ]
        },
        {
          "data": {
            "application/vnd.google.colaboratory.intrinsic+json": {
              "summary": "{\n  \"name\": \"textblob_data\",\n  \"rows\": 5000,\n  \"fields\": [\n    {\n      \"column\": \"texto\",\n      \"properties\": {\n        \"dtype\": \"string\",\n        \"num_unique_values\": 4997,\n        \"samples\": [\n          \"movi perfect adapt english flick unfaith ashmit play role richard gere emran olivi malikka perfect cheat wife role lane chang second half film adapt indian mass br br even movi got full trace unfaith though catch origin cheap soft porn bollywood lover mallika show lot skin anyon dare show emran role like even nicknam serial killer futur indian director plan remak english movi look feasibl plot indian censor though film bomb box offic actor got undu recognit futur director littl care remak oscar nomin film br br said famili film take extra caution watch home famili\",\n          \"truli accur unglamour look modern day life could set town uk br br live hous estat glasgow relat film well br br sadli situat charact realist predict br br actor scarili believ felt spi neighbour intim dip live fragil hopeless peopl move scene br br love way film shot br br overal film must see\",\n          \"saw hallmark televis movi origin air lost interest stori charact said witch right frame mind watch film hallmark stand best qualiti film reason give film second look clive owen play damon wildev might chanc select next jame bond pierc brosnan pass clive owen might wait year reason femal lead catherin zeta jone celebr unknown time becam academi award winner outstand support actress joan plowright mr yeobright also film like open line film deliv heart fear lone place send great love somewher els shall die truli shall die\"\n        ],\n        \"semantic_type\": \"\",\n        \"description\": \"\"\n      }\n    },\n    {\n      \"column\": \"sentimiento\",\n      \"properties\": {\n        \"dtype\": \"number\",\n        \"std\": 0,\n        \"min\": 0,\n        \"max\": 1,\n        \"num_unique_values\": 2,\n        \"samples\": [\n          1,\n          0\n        ],\n        \"semantic_type\": \"\",\n        \"description\": \"\"\n      }\n    },\n    {\n      \"column\": \"Puntaje de polaridad\",\n      \"properties\": {\n        \"dtype\": \"number\",\n        \"std\": 0.18166406499811114,\n        \"min\": -1.0,\n        \"max\": 1.0,\n        \"num_unique_values\": 4349,\n        \"samples\": [\n          0.05714285714285714,\n          0.1486291486291487\n        ],\n        \"semantic_type\": \"\",\n        \"description\": \"\"\n      }\n    },\n    {\n      \"column\": \"Subjetividad\",\n      \"properties\": {\n        \"dtype\": \"number\",\n        \"std\": 0.11406276315547087,\n        \"min\": 0.0,\n        \"max\": 1.0,\n        \"num_unique_values\": 4050,\n        \"samples\": [\n          0.4899470899470899,\n          0.33724747474747474\n        ],\n        \"semantic_type\": \"\",\n        \"description\": \"\"\n      }\n    },\n    {\n      \"column\": \"Etiqueta de sentimiento\",\n      \"properties\": {\n        \"dtype\": \"number\",\n        \"std\": 0,\n        \"min\": 0,\n        \"max\": 1,\n        \"num_unique_values\": 2,\n        \"samples\": [\n          0,\n          1\n        ],\n        \"semantic_type\": \"\",\n        \"description\": \"\"\n      }\n    }\n  ]\n}",
              "type": "dataframe",
              "variable_name": "textblob_data"
            },
            "text/html": [
              "\n",
              "  <div id=\"df-69b25e2e-d397-428c-a202-18174c9f3890\" class=\"colab-df-container\">\n",
              "    <div>\n",
              "<style scoped>\n",
              "    .dataframe tbody tr th:only-of-type {\n",
              "        vertical-align: middle;\n",
              "    }\n",
              "\n",
              "    .dataframe tbody tr th {\n",
              "        vertical-align: top;\n",
              "    }\n",
              "\n",
              "    .dataframe thead th {\n",
              "        text-align: right;\n",
              "    }\n",
              "</style>\n",
              "<table border=\"1\" class=\"dataframe\">\n",
              "  <thead>\n",
              "    <tr style=\"text-align: right;\">\n",
              "      <th></th>\n",
              "      <th>texto</th>\n",
              "      <th>sentimiento</th>\n",
              "      <th>Puntaje de polaridad</th>\n",
              "      <th>Subjetividad</th>\n",
              "      <th>Etiqueta de sentimiento</th>\n",
              "    </tr>\n",
              "  </thead>\n",
              "  <tbody>\n",
              "    <tr>\n",
              "      <th>0</th>\n",
              "      <td>basic famili littl boy jake think zombi closet...</td>\n",
              "      <td>0</td>\n",
              "      <td>0.064286</td>\n",
              "      <td>0.486905</td>\n",
              "      <td>1</td>\n",
              "    </tr>\n",
              "    <tr>\n",
              "      <th>1</th>\n",
              "      <td>show amaz fresh innov idea first air first yea...</td>\n",
              "      <td>0</td>\n",
              "      <td>0.109848</td>\n",
              "      <td>0.576515</td>\n",
              "      <td>1</td>\n",
              "    </tr>\n",
              "    <tr>\n",
              "      <th>2</th>\n",
              "      <td>encourag posit comment film look forward watch...</td>\n",
              "      <td>0</td>\n",
              "      <td>-0.096296</td>\n",
              "      <td>0.642593</td>\n",
              "      <td>0</td>\n",
              "    </tr>\n",
              "    <tr>\n",
              "      <th>3</th>\n",
              "      <td>phil alien one quirki film humour base around ...</td>\n",
              "      <td>0</td>\n",
              "      <td>-0.072727</td>\n",
              "      <td>0.412121</td>\n",
              "      <td>0</td>\n",
              "    </tr>\n",
              "    <tr>\n",
              "      <th>4</th>\n",
              "      <td>saw movi came recal scariest scene big bird ea...</td>\n",
              "      <td>0</td>\n",
              "      <td>0.159524</td>\n",
              "      <td>0.320635</td>\n",
              "      <td>1</td>\n",
              "    </tr>\n",
              "  </tbody>\n",
              "</table>\n",
              "</div>\n",
              "    <div class=\"colab-df-buttons\">\n",
              "\n",
              "  <div class=\"colab-df-container\">\n",
              "    <button class=\"colab-df-convert\" onclick=\"convertToInteractive('df-69b25e2e-d397-428c-a202-18174c9f3890')\"\n",
              "            title=\"Convert this dataframe to an interactive table.\"\n",
              "            style=\"display:none;\">\n",
              "\n",
              "  <svg xmlns=\"http://www.w3.org/2000/svg\" height=\"24px\" viewBox=\"0 -960 960 960\">\n",
              "    <path d=\"M120-120v-720h720v720H120Zm60-500h600v-160H180v160Zm220 220h160v-160H400v160Zm0 220h160v-160H400v160ZM180-400h160v-160H180v160Zm440 0h160v-160H620v160ZM180-180h160v-160H180v160Zm440 0h160v-160H620v160Z\"/>\n",
              "  </svg>\n",
              "    </button>\n",
              "\n",
              "  <style>\n",
              "    .colab-df-container {\n",
              "      display:flex;\n",
              "      gap: 12px;\n",
              "    }\n",
              "\n",
              "    .colab-df-convert {\n",
              "      background-color: #E8F0FE;\n",
              "      border: none;\n",
              "      border-radius: 50%;\n",
              "      cursor: pointer;\n",
              "      display: none;\n",
              "      fill: #1967D2;\n",
              "      height: 32px;\n",
              "      padding: 0 0 0 0;\n",
              "      width: 32px;\n",
              "    }\n",
              "\n",
              "    .colab-df-convert:hover {\n",
              "      background-color: #E2EBFA;\n",
              "      box-shadow: 0px 1px 2px rgba(60, 64, 67, 0.3), 0px 1px 3px 1px rgba(60, 64, 67, 0.15);\n",
              "      fill: #174EA6;\n",
              "    }\n",
              "\n",
              "    .colab-df-buttons div {\n",
              "      margin-bottom: 4px;\n",
              "    }\n",
              "\n",
              "    [theme=dark] .colab-df-convert {\n",
              "      background-color: #3B4455;\n",
              "      fill: #D2E3FC;\n",
              "    }\n",
              "\n",
              "    [theme=dark] .colab-df-convert:hover {\n",
              "      background-color: #434B5C;\n",
              "      box-shadow: 0px 1px 3px 1px rgba(0, 0, 0, 0.15);\n",
              "      filter: drop-shadow(0px 1px 2px rgba(0, 0, 0, 0.3));\n",
              "      fill: #FFFFFF;\n",
              "    }\n",
              "  </style>\n",
              "\n",
              "    <script>\n",
              "      const buttonEl =\n",
              "        document.querySelector('#df-69b25e2e-d397-428c-a202-18174c9f3890 button.colab-df-convert');\n",
              "      buttonEl.style.display =\n",
              "        google.colab.kernel.accessAllowed ? 'block' : 'none';\n",
              "\n",
              "      async function convertToInteractive(key) {\n",
              "        const element = document.querySelector('#df-69b25e2e-d397-428c-a202-18174c9f3890');\n",
              "        const dataTable =\n",
              "          await google.colab.kernel.invokeFunction('convertToInteractive',\n",
              "                                                    [key], {});\n",
              "        if (!dataTable) return;\n",
              "\n",
              "        const docLinkHtml = 'Like what you see? Visit the ' +\n",
              "          '<a target=\"_blank\" href=https://colab.research.google.com/notebooks/data_table.ipynb>data table notebook</a>'\n",
              "          + ' to learn more about interactive tables.';\n",
              "        element.innerHTML = '';\n",
              "        dataTable['output_type'] = 'display_data';\n",
              "        await google.colab.output.renderOutput(dataTable, element);\n",
              "        const docLink = document.createElement('div');\n",
              "        docLink.innerHTML = docLinkHtml;\n",
              "        element.appendChild(docLink);\n",
              "      }\n",
              "    </script>\n",
              "  </div>\n",
              "\n",
              "\n",
              "<div id=\"df-260a8566-c056-420d-8669-42a00d2b3d56\">\n",
              "  <button class=\"colab-df-quickchart\" onclick=\"quickchart('df-260a8566-c056-420d-8669-42a00d2b3d56')\"\n",
              "            title=\"Suggest charts\"\n",
              "            style=\"display:none;\">\n",
              "\n",
              "<svg xmlns=\"http://www.w3.org/2000/svg\" height=\"24px\"viewBox=\"0 0 24 24\"\n",
              "     width=\"24px\">\n",
              "    <g>\n",
              "        <path d=\"M19 3H5c-1.1 0-2 .9-2 2v14c0 1.1.9 2 2 2h14c1.1 0 2-.9 2-2V5c0-1.1-.9-2-2-2zM9 17H7v-7h2v7zm4 0h-2V7h2v10zm4 0h-2v-4h2v4z\"/>\n",
              "    </g>\n",
              "</svg>\n",
              "  </button>\n",
              "\n",
              "<style>\n",
              "  .colab-df-quickchart {\n",
              "      --bg-color: #E8F0FE;\n",
              "      --fill-color: #1967D2;\n",
              "      --hover-bg-color: #E2EBFA;\n",
              "      --hover-fill-color: #174EA6;\n",
              "      --disabled-fill-color: #AAA;\n",
              "      --disabled-bg-color: #DDD;\n",
              "  }\n",
              "\n",
              "  [theme=dark] .colab-df-quickchart {\n",
              "      --bg-color: #3B4455;\n",
              "      --fill-color: #D2E3FC;\n",
              "      --hover-bg-color: #434B5C;\n",
              "      --hover-fill-color: #FFFFFF;\n",
              "      --disabled-bg-color: #3B4455;\n",
              "      --disabled-fill-color: #666;\n",
              "  }\n",
              "\n",
              "  .colab-df-quickchart {\n",
              "    background-color: var(--bg-color);\n",
              "    border: none;\n",
              "    border-radius: 50%;\n",
              "    cursor: pointer;\n",
              "    display: none;\n",
              "    fill: var(--fill-color);\n",
              "    height: 32px;\n",
              "    padding: 0;\n",
              "    width: 32px;\n",
              "  }\n",
              "\n",
              "  .colab-df-quickchart:hover {\n",
              "    background-color: var(--hover-bg-color);\n",
              "    box-shadow: 0 1px 2px rgba(60, 64, 67, 0.3), 0 1px 3px 1px rgba(60, 64, 67, 0.15);\n",
              "    fill: var(--button-hover-fill-color);\n",
              "  }\n",
              "\n",
              "  .colab-df-quickchart-complete:disabled,\n",
              "  .colab-df-quickchart-complete:disabled:hover {\n",
              "    background-color: var(--disabled-bg-color);\n",
              "    fill: var(--disabled-fill-color);\n",
              "    box-shadow: none;\n",
              "  }\n",
              "\n",
              "  .colab-df-spinner {\n",
              "    border: 2px solid var(--fill-color);\n",
              "    border-color: transparent;\n",
              "    border-bottom-color: var(--fill-color);\n",
              "    animation:\n",
              "      spin 1s steps(1) infinite;\n",
              "  }\n",
              "\n",
              "  @keyframes spin {\n",
              "    0% {\n",
              "      border-color: transparent;\n",
              "      border-bottom-color: var(--fill-color);\n",
              "      border-left-color: var(--fill-color);\n",
              "    }\n",
              "    20% {\n",
              "      border-color: transparent;\n",
              "      border-left-color: var(--fill-color);\n",
              "      border-top-color: var(--fill-color);\n",
              "    }\n",
              "    30% {\n",
              "      border-color: transparent;\n",
              "      border-left-color: var(--fill-color);\n",
              "      border-top-color: var(--fill-color);\n",
              "      border-right-color: var(--fill-color);\n",
              "    }\n",
              "    40% {\n",
              "      border-color: transparent;\n",
              "      border-right-color: var(--fill-color);\n",
              "      border-top-color: var(--fill-color);\n",
              "    }\n",
              "    60% {\n",
              "      border-color: transparent;\n",
              "      border-right-color: var(--fill-color);\n",
              "    }\n",
              "    80% {\n",
              "      border-color: transparent;\n",
              "      border-right-color: var(--fill-color);\n",
              "      border-bottom-color: var(--fill-color);\n",
              "    }\n",
              "    90% {\n",
              "      border-color: transparent;\n",
              "      border-bottom-color: var(--fill-color);\n",
              "    }\n",
              "  }\n",
              "</style>\n",
              "\n",
              "  <script>\n",
              "    async function quickchart(key) {\n",
              "      const quickchartButtonEl =\n",
              "        document.querySelector('#' + key + ' button');\n",
              "      quickchartButtonEl.disabled = true;  // To prevent multiple clicks.\n",
              "      quickchartButtonEl.classList.add('colab-df-spinner');\n",
              "      try {\n",
              "        const charts = await google.colab.kernel.invokeFunction(\n",
              "            'suggestCharts', [key], {});\n",
              "      } catch (error) {\n",
              "        console.error('Error during call to suggestCharts:', error);\n",
              "      }\n",
              "      quickchartButtonEl.classList.remove('colab-df-spinner');\n",
              "      quickchartButtonEl.classList.add('colab-df-quickchart-complete');\n",
              "    }\n",
              "    (() => {\n",
              "      let quickchartButtonEl =\n",
              "        document.querySelector('#df-260a8566-c056-420d-8669-42a00d2b3d56 button');\n",
              "      quickchartButtonEl.style.display =\n",
              "        google.colab.kernel.accessAllowed ? 'block' : 'none';\n",
              "    })();\n",
              "  </script>\n",
              "</div>\n",
              "\n",
              "    </div>\n",
              "  </div>\n"
            ],
            "text/plain": [
              "                                               texto  sentimiento  \\\n",
              "0  basic famili littl boy jake think zombi closet...            0   \n",
              "1  show amaz fresh innov idea first air first yea...            0   \n",
              "2  encourag posit comment film look forward watch...            0   \n",
              "3  phil alien one quirki film humour base around ...            0   \n",
              "4  saw movi came recal scariest scene big bird ea...            0   \n",
              "\n",
              "   Puntaje de polaridad  Subjetividad  Etiqueta de sentimiento  \n",
              "0              0.064286      0.486905                        1  \n",
              "1              0.109848      0.576515                        1  \n",
              "2             -0.096296      0.642593                        0  \n",
              "3             -0.072727      0.412121                        0  \n",
              "4              0.159524      0.320635                        1  "
            ]
          },
          "execution_count": 23,
          "metadata": {},
          "output_type": "execute_result"
        }
      ],
      "source": [
        "#se codifica numericamente las etiquetas para comparar los resultados\n",
        "textblob_data['sentimiento'].replace({'positive':1,'negative':0},inplace = True)\n",
        "textblob_data['Etiqueta de sentimiento'].replace({'Positivo':1,'Negativo':0},inplace = True)\n",
        "\n",
        "# mostrar dataset luego de la codificación\n",
        "textblob_data.head()"
      ]
    },
    {
      "cell_type": "code",
      "execution_count": null,
      "metadata": {
        "colab": {
          "base_uri": "https://localhost:8080/"
        },
        "id": "mhcwMWggCRlm",
        "outputId": "e84cef87-b60b-4087-858e-97ef8a06856d"
      },
      "outputs": [
        {
          "data": {
            "text/plain": [
              "65.03999999999999"
            ]
          },
          "execution_count": 24,
          "metadata": {},
          "output_type": "execute_result"
        }
      ],
      "source": [
        "# Evaluación de la clasificación con TextBlob\n",
        "from sklearn.metrics import accuracy_score\n",
        "\n",
        "accuracy_score(textblob_data['sentimiento'], textblob_data['Etiqueta de sentimiento'])*100"
      ]
    },
    {
      "cell_type": "markdown",
      "metadata": {
        "id": "imiGKAICGmdS"
      },
      "source": [
        "La presición de  65% es muy bajo se deberia tommar otra tecnica para el analisis de sentimientos"
      ]
    },
    {
      "cell_type": "code",
      "execution_count": null,
      "metadata": {
        "colab": {
          "base_uri": "https://localhost:8080/",
          "height": 527
        },
        "id": "itwqPbn1EuaC",
        "outputId": "03548010-31a4-4074-a006-ee0137591404"
      },
      "outputs": [
        {
          "name": "stdout",
          "output_type": "stream",
          "text": [
            "Matriz de Confusión:\n",
            "[[1017 1483]\n",
            " [ 265 2235]]\n"
          ]
        },
        {
          "data": {
            "image/png": "[encoded data removed]",
            "text/plain": [
              "<Figure size 640x480 with 2 Axes>"
            ]
          },
          "metadata": {},
          "output_type": "display_data"
        }
      ],
      "source": [
        "from sklearn.metrics import confusion_matrix, ConfusionMatrixDisplay\n",
        "import matplotlib.pyplot as plt\n",
        "\n",
        "# Variables verdaderas y predichas\n",
        "y_true = textblob_data['sentimiento']\n",
        "y_pred = textblob_data['Etiqueta de sentimiento']\n",
        "\n",
        "# Generar matriz de confusión\n",
        "cm = confusion_matrix(y_true, y_pred)\n",
        "\n",
        "# Imprimir la matriz de confusión en formato numérico\n",
        "print(\"Matriz de Confusión:\")\n",
        "print(cm)\n",
        "\n",
        "# Crear la visualización de la matriz de confusión con etiquetas y título\n",
        "cm_display = ConfusionMatrixDisplay(confusion_matrix=cm, display_labels=['Negativo', 'Positivo'])\n",
        "\n",
        "# Configurar el título y mostrar la gráfica\n",
        "cm_display.plot(cmap='Blues')  # Usar un mapa de colores para facilitar la visualización\n",
        "plt.title(\"Matriz de Confusión - Clasificación de Sentimiento\")\n",
        "plt.show()\n"
      ]
    },
    {
      "cell_type": "markdown",
      "metadata": {
        "id": "e1aNdwGGFUGs"
      },
      "source": [
        "la matriz de confucion muestra baja clasificacion se la clase negativa lo que es dificil reconocer una opinion negativa"
      ]
    },
    {
      "cell_type": "code",
      "execution_count": null,
      "metadata": {
        "colab": {
          "base_uri": "https://localhost:8080/"
        },
        "id": "W78r5dVjGSY0",
        "outputId": "871ddc08-19e0-4e91-82f1-423a044202c7"
      },
      "outputs": [
        {
          "name": "stdout",
          "output_type": "stream",
          "text": [
            "              precision    recall  f1-score   support\n",
            "\n",
            "           0       0.79      0.41      0.54      2500\n",
            "           1       0.60      0.89      0.72      2500\n",
            "\n",
            "    accuracy                           0.65      5000\n",
            "   macro avg       0.70      0.65      0.63      5000\n",
            "weighted avg       0.70      0.65      0.63      5000\n",
            "\n"
          ]
        }
      ],
      "source": [
        "# Reporte de Clasificación\n",
        "from sklearn.metrics import classification_report\n",
        "print(classification_report(textblob_data['sentimiento'], textblob_data['Etiqueta de sentimiento']))"
      ]
    },
    {
      "cell_type": "markdown",
      "metadata": {
        "id": "Z_ow7yW2IBFu"
      },
      "source": [
        "##analisis de sentientos usando vader"
      ]
    },
    {
      "cell_type": "code",
      "execution_count": null,
      "metadata": {
        "colab": {
          "base_uri": "https://localhost:8080/",
          "height": 206
        },
        "id": "ey3uax_OHwCJ",
        "outputId": "244def61-3ca1-4c4d-8f4a-4392f40fc185"
      },
      "outputs": [
        {
          "data": {
            "application/vnd.google.colaboratory.intrinsic+json": {
              "summary": "{\n  \"name\": \"vader_data\",\n  \"rows\": 5000,\n  \"fields\": [\n    {\n      \"column\": \"texto\",\n      \"properties\": {\n        \"dtype\": \"string\",\n        \"num_unique_values\": 4997,\n        \"samples\": [\n          \"movi perfect adapt english flick unfaith ashmit play role richard gere emran olivi malikka perfect cheat wife role lane chang second half film adapt indian mass br br even movi got full trace unfaith though catch origin cheap soft porn bollywood lover mallika show lot skin anyon dare show emran role like even nicknam serial killer futur indian director plan remak english movi look feasibl plot indian censor though film bomb box offic actor got undu recognit futur director littl care remak oscar nomin film br br said famili film take extra caution watch home famili\",\n          \"truli accur unglamour look modern day life could set town uk br br live hous estat glasgow relat film well br br sadli situat charact realist predict br br actor scarili believ felt spi neighbour intim dip live fragil hopeless peopl move scene br br love way film shot br br overal film must see\",\n          \"saw hallmark televis movi origin air lost interest stori charact said witch right frame mind watch film hallmark stand best qualiti film reason give film second look clive owen play damon wildev might chanc select next jame bond pierc brosnan pass clive owen might wait year reason femal lead catherin zeta jone celebr unknown time becam academi award winner outstand support actress joan plowright mr yeobright also film like open line film deliv heart fear lone place send great love somewher els shall die truli shall die\"\n        ],\n        \"semantic_type\": \"\",\n        \"description\": \"\"\n      }\n    },\n    {\n      \"column\": \"sentimiento\",\n      \"properties\": {\n        \"dtype\": \"category\",\n        \"num_unique_values\": 2,\n        \"samples\": [\n          \"positive\",\n          \"negative\"\n        ],\n        \"semantic_type\": \"\",\n        \"description\": \"\"\n      }\n    }\n  ]\n}",
              "type": "dataframe",
              "variable_name": "vader_data"
            },
            "text/html": [
              "\n",
              "  <div id=\"df-d2734547-8d80-4b11-9dc8-5838c3b7d6b7\" class=\"colab-df-container\">\n",
              "    <div>\n",
              "<style scoped>\n",
              "    .dataframe tbody tr th:only-of-type {\n",
              "        vertical-align: middle;\n",
              "    }\n",
              "\n",
              "    .dataframe tbody tr th {\n",
              "        vertical-align: top;\n",
              "    }\n",
              "\n",
              "    .dataframe thead th {\n",
              "        text-align: right;\n",
              "    }\n",
              "</style>\n",
              "<table border=\"1\" class=\"dataframe\">\n",
              "  <thead>\n",
              "    <tr style=\"text-align: right;\">\n",
              "      <th></th>\n",
              "      <th>texto</th>\n",
              "      <th>sentimiento</th>\n",
              "    </tr>\n",
              "  </thead>\n",
              "  <tbody>\n",
              "    <tr>\n",
              "      <th>0</th>\n",
              "      <td>basic famili littl boy jake think zombi closet...</td>\n",
              "      <td>negative</td>\n",
              "    </tr>\n",
              "    <tr>\n",
              "      <th>1</th>\n",
              "      <td>show amaz fresh innov idea first air first yea...</td>\n",
              "      <td>negative</td>\n",
              "    </tr>\n",
              "    <tr>\n",
              "      <th>2</th>\n",
              "      <td>encourag posit comment film look forward watch...</td>\n",
              "      <td>negative</td>\n",
              "    </tr>\n",
              "    <tr>\n",
              "      <th>3</th>\n",
              "      <td>phil alien one quirki film humour base around ...</td>\n",
              "      <td>negative</td>\n",
              "    </tr>\n",
              "    <tr>\n",
              "      <th>4</th>\n",
              "      <td>saw movi came recal scariest scene big bird ea...</td>\n",
              "      <td>negative</td>\n",
              "    </tr>\n",
              "  </tbody>\n",
              "</table>\n",
              "</div>\n",
              "    <div class=\"colab-df-buttons\">\n",
              "\n",
              "  <div class=\"colab-df-container\">\n",
              "    <button class=\"colab-df-convert\" onclick=\"convertToInteractive('df-d2734547-8d80-4b11-9dc8-5838c3b7d6b7')\"\n",
              "            title=\"Convert this dataframe to an interactive table.\"\n",
              "            style=\"display:none;\">\n",
              "\n",
              "  <svg xmlns=\"http://www.w3.org/2000/svg\" height=\"24px\" viewBox=\"0 -960 960 960\">\n",
              "    <path d=\"M120-120v-720h720v720H120Zm60-500h600v-160H180v160Zm220 220h160v-160H400v160Zm0 220h160v-160H400v160ZM180-400h160v-160H180v160Zm440 0h160v-160H620v160ZM180-180h160v-160H180v160Zm440 0h160v-160H620v160Z\"/>\n",
              "  </svg>\n",
              "    </button>\n",
              "\n",
              "  <style>\n",
              "    .colab-df-container {\n",
              "      display:flex;\n",
              "      gap: 12px;\n",
              "    }\n",
              "\n",
              "    .colab-df-convert {\n",
              "      background-color: #E8F0FE;\n",
              "      border: none;\n",
              "      border-radius: 50%;\n",
              "      cursor: pointer;\n",
              "      display: none;\n",
              "      fill: #1967D2;\n",
              "      height: 32px;\n",
              "      padding: 0 0 0 0;\n",
              "      width: 32px;\n",
              "    }\n",
              "\n",
              "    .colab-df-convert:hover {\n",
              "      background-color: #E2EBFA;\n",
              "      box-shadow: 0px 1px 2px rgba(60, 64, 67, 0.3), 0px 1px 3px 1px rgba(60, 64, 67, 0.15);\n",
              "      fill: #174EA6;\n",
              "    }\n",
              "\n",
              "    .colab-df-buttons div {\n",
              "      margin-bottom: 4px;\n",
              "    }\n",
              "\n",
              "    [theme=dark] .colab-df-convert {\n",
              "      background-color: #3B4455;\n",
              "      fill: #D2E3FC;\n",
              "    }\n",
              "\n",
              "    [theme=dark] .colab-df-convert:hover {\n",
              "      background-color: #434B5C;\n",
              "      box-shadow: 0px 1px 3px 1px rgba(0, 0, 0, 0.15);\n",
              "      filter: drop-shadow(0px 1px 2px rgba(0, 0, 0, 0.3));\n",
              "      fill: #FFFFFF;\n",
              "    }\n",
              "  </style>\n",
              "\n",
              "    <script>\n",
              "      const buttonEl =\n",
              "        document.querySelector('#df-d2734547-8d80-4b11-9dc8-5838c3b7d6b7 button.colab-df-convert');\n",
              "      buttonEl.style.display =\n",
              "        google.colab.kernel.accessAllowed ? 'block' : 'none';\n",
              "\n",
              "      async function convertToInteractive(key) {\n",
              "        const element = document.querySelector('#df-d2734547-8d80-4b11-9dc8-5838c3b7d6b7');\n",
              "        const dataTable =\n",
              "          await google.colab.kernel.invokeFunction('convertToInteractive',\n",
              "                                                    [key], {});\n",
              "        if (!dataTable) return;\n",
              "\n",
              "        const docLinkHtml = 'Like what you see? Visit the ' +\n",
              "          '<a target=\"_blank\" href=https://colab.research.google.com/notebooks/data_table.ipynb>data table notebook</a>'\n",
              "          + ' to learn more about interactive tables.';\n",
              "        element.innerHTML = '';\n",
              "        dataTable['output_type'] = 'display_data';\n",
              "        await google.colab.output.renderOutput(dataTable, element);\n",
              "        const docLink = document.createElement('div');\n",
              "        docLink.innerHTML = docLinkHtml;\n",
              "        element.appendChild(docLink);\n",
              "      }\n",
              "    </script>\n",
              "  </div>\n",
              "\n",
              "\n",
              "<div id=\"df-a51d4ad1-f4cc-484b-ad3c-5a2101c2bb93\">\n",
              "  <button class=\"colab-df-quickchart\" onclick=\"quickchart('df-a51d4ad1-f4cc-484b-ad3c-5a2101c2bb93')\"\n",
              "            title=\"Suggest charts\"\n",
              "            style=\"display:none;\">\n",
              "\n",
              "<svg xmlns=\"http://www.w3.org/2000/svg\" height=\"24px\"viewBox=\"0 0 24 24\"\n",
              "     width=\"24px\">\n",
              "    <g>\n",
              "        <path d=\"M19 3H5c-1.1 0-2 .9-2 2v14c0 1.1.9 2 2 2h14c1.1 0 2-.9 2-2V5c0-1.1-.9-2-2-2zM9 17H7v-7h2v7zm4 0h-2V7h2v10zm4 0h-2v-4h2v4z\"/>\n",
              "    </g>\n",
              "</svg>\n",
              "  </button>\n",
              "\n",
              "<style>\n",
              "  .colab-df-quickchart {\n",
              "      --bg-color: #E8F0FE;\n",
              "      --fill-color: #1967D2;\n",
              "      --hover-bg-color: #E2EBFA;\n",
              "      --hover-fill-color: #174EA6;\n",
              "      --disabled-fill-color: #AAA;\n",
              "      --disabled-bg-color: #DDD;\n",
              "  }\n",
              "\n",
              "  [theme=dark] .colab-df-quickchart {\n",
              "      --bg-color: #3B4455;\n",
              "      --fill-color: #D2E3FC;\n",
              "      --hover-bg-color: #434B5C;\n",
              "      --hover-fill-color: #FFFFFF;\n",
              "      --disabled-bg-color: #3B4455;\n",
              "      --disabled-fill-color: #666;\n",
              "  }\n",
              "\n",
              "  .colab-df-quickchart {\n",
              "    background-color: var(--bg-color);\n",
              "    border: none;\n",
              "    border-radius: 50%;\n",
              "    cursor: pointer;\n",
              "    display: none;\n",
              "    fill: var(--fill-color);\n",
              "    height: 32px;\n",
              "    padding: 0;\n",
              "    width: 32px;\n",
              "  }\n",
              "\n",
              "  .colab-df-quickchart:hover {\n",
              "    background-color: var(--hover-bg-color);\n",
              "    box-shadow: 0 1px 2px rgba(60, 64, 67, 0.3), 0 1px 3px 1px rgba(60, 64, 67, 0.15);\n",
              "    fill: var(--button-hover-fill-color);\n",
              "  }\n",
              "\n",
              "  .colab-df-quickchart-complete:disabled,\n",
              "  .colab-df-quickchart-complete:disabled:hover {\n",
              "    background-color: var(--disabled-bg-color);\n",
              "    fill: var(--disabled-fill-color);\n",
              "    box-shadow: none;\n",
              "  }\n",
              "\n",
              "  .colab-df-spinner {\n",
              "    border: 2px solid var(--fill-color);\n",
              "    border-color: transparent;\n",
              "    border-bottom-color: var(--fill-color);\n",
              "    animation:\n",
              "      spin 1s steps(1) infinite;\n",
              "  }\n",
              "\n",
              "  @keyframes spin {\n",
              "    0% {\n",
              "      border-color: transparent;\n",
              "      border-bottom-color: var(--fill-color);\n",
              "      border-left-color: var(--fill-color);\n",
              "    }\n",
              "    20% {\n",
              "      border-color: transparent;\n",
              "      border-left-color: var(--fill-color);\n",
              "      border-top-color: var(--fill-color);\n",
              "    }\n",
              "    30% {\n",
              "      border-color: transparent;\n",
              "      border-left-color: var(--fill-color);\n",
              "      border-top-color: var(--fill-color);\n",
              "      border-right-color: var(--fill-color);\n",
              "    }\n",
              "    40% {\n",
              "      border-color: transparent;\n",
              "      border-right-color: var(--fill-color);\n",
              "      border-top-color: var(--fill-color);\n",
              "    }\n",
              "    60% {\n",
              "      border-color: transparent;\n",
              "      border-right-color: var(--fill-color);\n",
              "    }\n",
              "    80% {\n",
              "      border-color: transparent;\n",
              "      border-right-color: var(--fill-color);\n",
              "      border-bottom-color: var(--fill-color);\n",
              "    }\n",
              "    90% {\n",
              "      border-color: transparent;\n",
              "      border-bottom-color: var(--fill-color);\n",
              "    }\n",
              "  }\n",
              "</style>\n",
              "\n",
              "  <script>\n",
              "    async function quickchart(key) {\n",
              "      const quickchartButtonEl =\n",
              "        document.querySelector('#' + key + ' button');\n",
              "      quickchartButtonEl.disabled = true;  // To prevent multiple clicks.\n",
              "      quickchartButtonEl.classList.add('colab-df-spinner');\n",
              "      try {\n",
              "        const charts = await google.colab.kernel.invokeFunction(\n",
              "            'suggestCharts', [key], {});\n",
              "      } catch (error) {\n",
              "        console.error('Error during call to suggestCharts:', error);\n",
              "      }\n",
              "      quickchartButtonEl.classList.remove('colab-df-spinner');\n",
              "      quickchartButtonEl.classList.add('colab-df-quickchart-complete');\n",
              "    }\n",
              "    (() => {\n",
              "      let quickchartButtonEl =\n",
              "        document.querySelector('#df-a51d4ad1-f4cc-484b-ad3c-5a2101c2bb93 button');\n",
              "      quickchartButtonEl.style.display =\n",
              "        google.colab.kernel.accessAllowed ? 'block' : 'none';\n",
              "    })();\n",
              "  </script>\n",
              "</div>\n",
              "\n",
              "    </div>\n",
              "  </div>\n"
            ],
            "text/plain": [
              "                                               texto sentimiento\n",
              "0  basic famili littl boy jake think zombi closet...    negative\n",
              "1  show amaz fresh innov idea first air first yea...    negative\n",
              "2  encourag posit comment film look forward watch...    negative\n",
              "3  phil alien one quirki film humour base around ...    negative\n",
              "4  saw movi came recal scariest scene big bird ea...    negative"
            ]
          },
          "execution_count": 27,
          "metadata": {},
          "output_type": "execute_result"
        }
      ],
      "source": [
        "## se importan las librerías necesarias para implementar el análisis de sentimientos\n",
        "from nltk.sentiment.vader import SentimentIntensityAnalyzer as vad\n",
        "\n",
        "# crearemos una copia del dataset depurado para su operación con Vader de NLTK\n",
        "vader_data =df_depurado.copy()\n",
        "\n",
        "# mostrar primeros registros del dataset\n",
        "vader_data.head()"
      ]
    },
    {
      "cell_type": "code",
      "execution_count": null,
      "metadata": {
        "colab": {
          "base_uri": "https://localhost:8080/"
        },
        "id": "VzAlIpSNGIYI",
        "outputId": "380674a2-4bad-4133-f788-d33103675955"
      },
      "outputs": [
        {
          "name": "stdout",
          "output_type": "stream",
          "text": [
            "Requirement already satisfied: vaderSentiment in /usr/local/lib/python3.10/dist-packages (3.3.2)\n",
            "Requirement already satisfied: requests in /usr/local/lib/python3.10/dist-packages (from vaderSentiment) (2.32.3)\n",
            "Requirement already satisfied: charset-normalizer<4,>=2 in /usr/local/lib/python3.10/dist-packages (from requests->vaderSentiment) (3.3.2)\n",
            "Requirement already satisfied: idna<4,>=2.5 in /usr/local/lib/python3.10/dist-packages (from requests->vaderSentiment) (3.10)\n",
            "Requirement already satisfied: urllib3<3,>=1.21.1 in /usr/local/lib/python3.10/dist-packages (from requests->vaderSentiment) (2.2.3)\n",
            "Requirement already satisfied: certifi>=2017.4.17 in /usr/local/lib/python3.10/dist-packages (from requests->vaderSentiment) (2024.8.30)\n"
          ]
        },
        {
          "data": {
            "text/plain": [
              "[{'neg': 0.166, 'neu': 0.695, 'pos': 0.139, 'compound': -0.7425},\n",
              " {'neg': 0.153, 'neu': 0.629, 'pos': 0.219, 'compound': 0.7863},\n",
              " {'neg': 0.181, 'neu': 0.69, 'pos': 0.129, 'compound': -0.6249},\n",
              " {'neg': 0.181, 'neu': 0.605, 'pos': 0.214, 'compound': 0.5389},\n",
              " {'neg': 0.124, 'neu': 0.698, 'pos': 0.178, 'compound': 0.7096},\n",
              " {'neg': 0.115, 'neu': 0.704, 'pos': 0.182, 'compound': 0.936},\n",
              " {'neg': 0.153, 'neu': 0.712, 'pos': 0.134, 'compound': -0.3395},\n",
              " {'neg': 0.059, 'neu': 0.766, 'pos': 0.175, 'compound': 0.8658},\n",
              " {'neg': 0.263, 'neu': 0.701, 'pos': 0.036, 'compound': -0.988},\n",
              " {'neg': 0.096, 'neu': 0.691, 'pos': 0.213, 'compound': 0.836}]"
            ]
          },
          "execution_count": 31,
          "metadata": {},
          "output_type": "execute_result"
        }
      ],
      "source": [
        "!pip install vaderSentiment\n",
        "\n",
        "# Importar la clase SentimentIntensityAnalyzer desde Vader\n",
        "from vaderSentiment.vaderSentiment import SentimentIntensityAnalyzer as SIA\n",
        "\n",
        "# Crear una instancia de la clase SentimentIntensityAnalyzer\n",
        "analizador_sentimiento = SIA()\n",
        "\n",
        "# Definir las etiquetas para los tipos de sentimiento\n",
        "etiquetas_sentimiento = ['positivo', 'negativo', 'neutral']\n",
        "\n",
        "# Calcular el puntaje de polaridad para cada texto en los datos usando .polarity_scores()\n",
        "# polarity_scores devuelve un diccionario con puntajes de sentimiento para cada texto.\n",
        "sentimientos = [analizador_sentimiento.polarity_scores(texto) for texto in vader_data['texto'].values]\n",
        "\n",
        "# Mostrar los primeros 10 registros de los puntajes de sentimientos\n",
        "sentimientos[:10]\n"
      ]
    },
    {
      "cell_type": "code",
      "execution_count": null,
      "metadata": {
        "colab": {
          "base_uri": "https://localhost:8080/",
          "height": 206
        },
        "id": "bZ6XXxvkNR3D",
        "outputId": "ef336ae4-5b04-484a-f9fd-e2946dd324e3"
      },
      "outputs": [
        {
          "data": {
            "application/vnd.google.colaboratory.intrinsic+json": {
              "summary": "{\n  \"name\": \"vader_data\",\n  \"rows\": 5000,\n  \"fields\": [\n    {\n      \"column\": \"texto\",\n      \"properties\": {\n        \"dtype\": \"string\",\n        \"num_unique_values\": 4997,\n        \"samples\": [\n          \"movi perfect adapt english flick unfaith ashmit play role richard gere emran olivi malikka perfect cheat wife role lane chang second half film adapt indian mass br br even movi got full trace unfaith though catch origin cheap soft porn bollywood lover mallika show lot skin anyon dare show emran role like even nicknam serial killer futur indian director plan remak english movi look feasibl plot indian censor though film bomb box offic actor got undu recognit futur director littl care remak oscar nomin film br br said famili film take extra caution watch home famili\",\n          \"truli accur unglamour look modern day life could set town uk br br live hous estat glasgow relat film well br br sadli situat charact realist predict br br actor scarili believ felt spi neighbour intim dip live fragil hopeless peopl move scene br br love way film shot br br overal film must see\",\n          \"saw hallmark televis movi origin air lost interest stori charact said witch right frame mind watch film hallmark stand best qualiti film reason give film second look clive owen play damon wildev might chanc select next jame bond pierc brosnan pass clive owen might wait year reason femal lead catherin zeta jone celebr unknown time becam academi award winner outstand support actress joan plowright mr yeobright also film like open line film deliv heart fear lone place send great love somewher els shall die truli shall die\"\n        ],\n        \"semantic_type\": \"\",\n        \"description\": \"\"\n      }\n    },\n    {\n      \"column\": \"sentimiento\",\n      \"properties\": {\n        \"dtype\": \"category\",\n        \"num_unique_values\": 2,\n        \"samples\": [\n          \"positive\",\n          \"negative\"\n        ],\n        \"semantic_type\": \"\",\n        \"description\": \"\"\n      }\n    },\n    {\n      \"column\": \"Puntaje negativo\",\n      \"properties\": {\n        \"dtype\": \"number\",\n        \"std\": 0.07770598125565788,\n        \"min\": 0.0,\n        \"max\": 0.653,\n        \"num_unique_values\": 366,\n        \"samples\": [\n          0.021,\n          0.158\n        ],\n        \"semantic_type\": \"\",\n        \"description\": \"\"\n      }\n    },\n    {\n      \"column\": \"Puntaje positivo\",\n      \"properties\": {\n        \"dtype\": \"number\",\n        \"std\": 0.0843168960431518,\n        \"min\": 0.0,\n        \"max\": 0.558,\n        \"num_unique_values\": 442,\n        \"samples\": [\n          0.288,\n          0.024\n        ],\n        \"semantic_type\": \"\",\n        \"description\": \"\"\n      }\n    },\n    {\n      \"column\": \"Puntaje neutral\",\n      \"properties\": {\n        \"dtype\": \"number\",\n        \"std\": 0.08782274806686245,\n        \"min\": 0.188,\n        \"max\": 1.0,\n        \"num_unique_values\": 478,\n        \"samples\": [\n          0.442,\n          0.746\n        ],\n        \"semantic_type\": \"\",\n        \"description\": \"\"\n      }\n    },\n    {\n      \"column\": \"Puntaje Total\",\n      \"properties\": {\n        \"dtype\": \"number\",\n        \"std\": 0.7565896939226359,\n        \"min\": -0.9991,\n        \"max\": 0.9996,\n        \"num_unique_values\": 1541,\n        \"samples\": [\n          0.9973,\n          0.7635\n        ],\n        \"semantic_type\": \"\",\n        \"description\": \"\"\n      }\n    }\n  ]\n}",
              "type": "dataframe",
              "variable_name": "vader_data"
            },
            "text/html": [
              "\n",
              "  <div id=\"df-14585e13-4be2-4075-9459-871f77f16a44\" class=\"colab-df-container\">\n",
              "    <div>\n",
              "<style scoped>\n",
              "    .dataframe tbody tr th:only-of-type {\n",
              "        vertical-align: middle;\n",
              "    }\n",
              "\n",
              "    .dataframe tbody tr th {\n",
              "        vertical-align: top;\n",
              "    }\n",
              "\n",
              "    .dataframe thead th {\n",
              "        text-align: right;\n",
              "    }\n",
              "</style>\n",
              "<table border=\"1\" class=\"dataframe\">\n",
              "  <thead>\n",
              "    <tr style=\"text-align: right;\">\n",
              "      <th></th>\n",
              "      <th>texto</th>\n",
              "      <th>sentimiento</th>\n",
              "      <th>Puntaje negativo</th>\n",
              "      <th>Puntaje positivo</th>\n",
              "      <th>Puntaje neutral</th>\n",
              "      <th>Puntaje Total</th>\n",
              "    </tr>\n",
              "  </thead>\n",
              "  <tbody>\n",
              "    <tr>\n",
              "      <th>0</th>\n",
              "      <td>basic famili littl boy jake think zombi closet...</td>\n",
              "      <td>negative</td>\n",
              "      <td>0.166</td>\n",
              "      <td>0.139</td>\n",
              "      <td>0.695</td>\n",
              "      <td>-0.7425</td>\n",
              "    </tr>\n",
              "    <tr>\n",
              "      <th>1</th>\n",
              "      <td>show amaz fresh innov idea first air first yea...</td>\n",
              "      <td>negative</td>\n",
              "      <td>0.153</td>\n",
              "      <td>0.219</td>\n",
              "      <td>0.629</td>\n",
              "      <td>0.7863</td>\n",
              "    </tr>\n",
              "    <tr>\n",
              "      <th>2</th>\n",
              "      <td>encourag posit comment film look forward watch...</td>\n",
              "      <td>negative</td>\n",
              "      <td>0.181</td>\n",
              "      <td>0.129</td>\n",
              "      <td>0.690</td>\n",
              "      <td>-0.6249</td>\n",
              "    </tr>\n",
              "    <tr>\n",
              "      <th>3</th>\n",
              "      <td>phil alien one quirki film humour base around ...</td>\n",
              "      <td>negative</td>\n",
              "      <td>0.181</td>\n",
              "      <td>0.214</td>\n",
              "      <td>0.605</td>\n",
              "      <td>0.5389</td>\n",
              "    </tr>\n",
              "    <tr>\n",
              "      <th>4</th>\n",
              "      <td>saw movi came recal scariest scene big bird ea...</td>\n",
              "      <td>negative</td>\n",
              "      <td>0.124</td>\n",
              "      <td>0.178</td>\n",
              "      <td>0.698</td>\n",
              "      <td>0.7096</td>\n",
              "    </tr>\n",
              "  </tbody>\n",
              "</table>\n",
              "</div>\n",
              "    <div class=\"colab-df-buttons\">\n",
              "\n",
              "  <div class=\"colab-df-container\">\n",
              "    <button class=\"colab-df-convert\" onclick=\"convertToInteractive('df-14585e13-4be2-4075-9459-871f77f16a44')\"\n",
              "            title=\"Convert this dataframe to an interactive table.\"\n",
              "            style=\"display:none;\">\n",
              "\n",
              "  <svg xmlns=\"http://www.w3.org/2000/svg\" height=\"24px\" viewBox=\"0 -960 960 960\">\n",
              "    <path d=\"M120-120v-720h720v720H120Zm60-500h600v-160H180v160Zm220 220h160v-160H400v160Zm0 220h160v-160H400v160ZM180-400h160v-160H180v160Zm440 0h160v-160H620v160ZM180-180h160v-160H180v160Zm440 0h160v-160H620v160Z\"/>\n",
              "  </svg>\n",
              "    </button>\n",
              "\n",
              "  <style>\n",
              "    .colab-df-container {\n",
              "      display:flex;\n",
              "      gap: 12px;\n",
              "    }\n",
              "\n",
              "    .colab-df-convert {\n",
              "      background-color: #E8F0FE;\n",
              "      border: none;\n",
              "      border-radius: 50%;\n",
              "      cursor: pointer;\n",
              "      display: none;\n",
              "      fill: #1967D2;\n",
              "      height: 32px;\n",
              "      padding: 0 0 0 0;\n",
              "      width: 32px;\n",
              "    }\n",
              "\n",
              "    .colab-df-convert:hover {\n",
              "      background-color: #E2EBFA;\n",
              "      box-shadow: 0px 1px 2px rgba(60, 64, 67, 0.3), 0px 1px 3px 1px rgba(60, 64, 67, 0.15);\n",
              "      fill: #174EA6;\n",
              "    }\n",
              "\n",
              "    .colab-df-buttons div {\n",
              "      margin-bottom: 4px;\n",
              "    }\n",
              "\n",
              "    [theme=dark] .colab-df-convert {\n",
              "      background-color: #3B4455;\n",
              "      fill: #D2E3FC;\n",
              "    }\n",
              "\n",
              "    [theme=dark] .colab-df-convert:hover {\n",
              "      background-color: #434B5C;\n",
              "      box-shadow: 0px 1px 3px 1px rgba(0, 0, 0, 0.15);\n",
              "      filter: drop-shadow(0px 1px 2px rgba(0, 0, 0, 0.3));\n",
              "      fill: #FFFFFF;\n",
              "    }\n",
              "  </style>\n",
              "\n",
              "    <script>\n",
              "      const buttonEl =\n",
              "        document.querySelector('#df-14585e13-4be2-4075-9459-871f77f16a44 button.colab-df-convert');\n",
              "      buttonEl.style.display =\n",
              "        google.colab.kernel.accessAllowed ? 'block' : 'none';\n",
              "\n",
              "      async function convertToInteractive(key) {\n",
              "        const element = document.querySelector('#df-14585e13-4be2-4075-9459-871f77f16a44');\n",
              "        const dataTable =\n",
              "          await google.colab.kernel.invokeFunction('convertToInteractive',\n",
              "                                                    [key], {});\n",
              "        if (!dataTable) return;\n",
              "\n",
              "        const docLinkHtml = 'Like what you see? Visit the ' +\n",
              "          '<a target=\"_blank\" href=https://colab.research.google.com/notebooks/data_table.ipynb>data table notebook</a>'\n",
              "          + ' to learn more about interactive tables.';\n",
              "        element.innerHTML = '';\n",
              "        dataTable['output_type'] = 'display_data';\n",
              "        await google.colab.output.renderOutput(dataTable, element);\n",
              "        const docLink = document.createElement('div');\n",
              "        docLink.innerHTML = docLinkHtml;\n",
              "        element.appendChild(docLink);\n",
              "      }\n",
              "    </script>\n",
              "  </div>\n",
              "\n",
              "\n",
              "<div id=\"df-cff6b942-1e57-477f-ab27-99b99af19461\">\n",
              "  <button class=\"colab-df-quickchart\" onclick=\"quickchart('df-cff6b942-1e57-477f-ab27-99b99af19461')\"\n",
              "            title=\"Suggest charts\"\n",
              "            style=\"display:none;\">\n",
              "\n",
              "<svg xmlns=\"http://www.w3.org/2000/svg\" height=\"24px\"viewBox=\"0 0 24 24\"\n",
              "     width=\"24px\">\n",
              "    <g>\n",
              "        <path d=\"M19 3H5c-1.1 0-2 .9-2 2v14c0 1.1.9 2 2 2h14c1.1 0 2-.9 2-2V5c0-1.1-.9-2-2-2zM9 17H7v-7h2v7zm4 0h-2V7h2v10zm4 0h-2v-4h2v4z\"/>\n",
              "    </g>\n",
              "</svg>\n",
              "  </button>\n",
              "\n",
              "<style>\n",
              "  .colab-df-quickchart {\n",
              "      --bg-color: #E8F0FE;\n",
              "      --fill-color: #1967D2;\n",
              "      --hover-bg-color: #E2EBFA;\n",
              "      --hover-fill-color: #174EA6;\n",
              "      --disabled-fill-color: #AAA;\n",
              "      --disabled-bg-color: #DDD;\n",
              "  }\n",
              "\n",
              "  [theme=dark] .colab-df-quickchart {\n",
              "      --bg-color: #3B4455;\n",
              "      --fill-color: #D2E3FC;\n",
              "      --hover-bg-color: #434B5C;\n",
              "      --hover-fill-color: #FFFFFF;\n",
              "      --disabled-bg-color: #3B4455;\n",
              "      --disabled-fill-color: #666;\n",
              "  }\n",
              "\n",
              "  .colab-df-quickchart {\n",
              "    background-color: var(--bg-color);\n",
              "    border: none;\n",
              "    border-radius: 50%;\n",
              "    cursor: pointer;\n",
              "    display: none;\n",
              "    fill: var(--fill-color);\n",
              "    height: 32px;\n",
              "    padding: 0;\n",
              "    width: 32px;\n",
              "  }\n",
              "\n",
              "  .colab-df-quickchart:hover {\n",
              "    background-color: var(--hover-bg-color);\n",
              "    box-shadow: 0 1px 2px rgba(60, 64, 67, 0.3), 0 1px 3px 1px rgba(60, 64, 67, 0.15);\n",
              "    fill: var(--button-hover-fill-color);\n",
              "  }\n",
              "\n",
              "  .colab-df-quickchart-complete:disabled,\n",
              "  .colab-df-quickchart-complete:disabled:hover {\n",
              "    background-color: var(--disabled-bg-color);\n",
              "    fill: var(--disabled-fill-color);\n",
              "    box-shadow: none;\n",
              "  }\n",
              "\n",
              "  .colab-df-spinner {\n",
              "    border: 2px solid var(--fill-color);\n",
              "    border-color: transparent;\n",
              "    border-bottom-color: var(--fill-color);\n",
              "    animation:\n",
              "      spin 1s steps(1) infinite;\n",
              "  }\n",
              "\n",
              "  @keyframes spin {\n",
              "    0% {\n",
              "      border-color: transparent;\n",
              "      border-bottom-color: var(--fill-color);\n",
              "      border-left-color: var(--fill-color);\n",
              "    }\n",
              "    20% {\n",
              "      border-color: transparent;\n",
              "      border-left-color: var(--fill-color);\n",
              "      border-top-color: var(--fill-color);\n",
              "    }\n",
              "    30% {\n",
              "      border-color: transparent;\n",
              "      border-left-color: var(--fill-color);\n",
              "      border-top-color: var(--fill-color);\n",
              "      border-right-color: var(--fill-color);\n",
              "    }\n",
              "    40% {\n",
              "      border-color: transparent;\n",
              "      border-right-color: var(--fill-color);\n",
              "      border-top-color: var(--fill-color);\n",
              "    }\n",
              "    60% {\n",
              "      border-color: transparent;\n",
              "      border-right-color: var(--fill-color);\n",
              "    }\n",
              "    80% {\n",
              "      border-color: transparent;\n",
              "      border-right-color: var(--fill-color);\n",
              "      border-bottom-color: var(--fill-color);\n",
              "    }\n",
              "    90% {\n",
              "      border-color: transparent;\n",
              "      border-bottom-color: var(--fill-color);\n",
              "    }\n",
              "  }\n",
              "</style>\n",
              "\n",
              "  <script>\n",
              "    async function quickchart(key) {\n",
              "      const quickchartButtonEl =\n",
              "        document.querySelector('#' + key + ' button');\n",
              "      quickchartButtonEl.disabled = true;  // To prevent multiple clicks.\n",
              "      quickchartButtonEl.classList.add('colab-df-spinner');\n",
              "      try {\n",
              "        const charts = await google.colab.kernel.invokeFunction(\n",
              "            'suggestCharts', [key], {});\n",
              "      } catch (error) {\n",
              "        console.error('Error during call to suggestCharts:', error);\n",
              "      }\n",
              "      quickchartButtonEl.classList.remove('colab-df-spinner');\n",
              "      quickchartButtonEl.classList.add('colab-df-quickchart-complete');\n",
              "    }\n",
              "    (() => {\n",
              "      let quickchartButtonEl =\n",
              "        document.querySelector('#df-cff6b942-1e57-477f-ab27-99b99af19461 button');\n",
              "      quickchartButtonEl.style.display =\n",
              "        google.colab.kernel.accessAllowed ? 'block' : 'none';\n",
              "    })();\n",
              "  </script>\n",
              "</div>\n",
              "\n",
              "    </div>\n",
              "  </div>\n"
            ],
            "text/plain": [
              "                                               texto sentimiento  \\\n",
              "0  basic famili littl boy jake think zombi closet...    negative   \n",
              "1  show amaz fresh innov idea first air first yea...    negative   \n",
              "2  encourag posit comment film look forward watch...    negative   \n",
              "3  phil alien one quirki film humour base around ...    negative   \n",
              "4  saw movi came recal scariest scene big bird ea...    negative   \n",
              "\n",
              "   Puntaje negativo  Puntaje positivo  Puntaje neutral  Puntaje Total  \n",
              "0             0.166             0.139            0.695        -0.7425  \n",
              "1             0.153             0.219            0.629         0.7863  \n",
              "2             0.181             0.129            0.690        -0.6249  \n",
              "3             0.181             0.214            0.605         0.5389  \n",
              "4             0.124             0.178            0.698         0.7096  "
            ]
          },
          "execution_count": 32,
          "metadata": {},
          "output_type": "execute_result"
        }
      ],
      "source": [
        "# Crearemos cuatro columnas en el dataset para almacenar los cuatro valores obtenidos con Vader\n",
        "vader_data['Puntaje negativo']=[i['neg'] for i in sentimientos]\n",
        "vader_data['Puntaje positivo']=[i['pos'] for i in sentimientos]\n",
        "vader_data['Puntaje neutral']=[i['neu'] for i in sentimientos]\n",
        "vader_data['Puntaje Total']=[i['compound'] for i in sentimientos]\n",
        "\n",
        "vader_data.head()"
      ]
    },
    {
      "cell_type": "code",
      "execution_count": null,
      "metadata": {
        "colab": {
          "base_uri": "https://localhost:8080/"
        },
        "id": "cevv55aNNcUG",
        "outputId": "2a766526-1f6e-4a30-e292-b7f9a4452440"
      },
      "outputs": [
        {
          "name": "stdout",
          "output_type": "stream",
          "text": [
            "                                                  texto sentimiento  \\\n",
            "899   never seen comedi much chore sit thru one laug...    negative   \n",
            "1863  someth strang happen loch ness water crystal c...    negative   \n",
            "4657  one crazi summer fun quirki look love eye hoop...    positive   \n",
            "1965  movi plain bad even worth watch make fun lunat...    negative   \n",
            "2720  read review found comparison movi v real life ...    positive   \n",
            "3102  film like crossfir put anoth film spread aroun...    positive   \n",
            "1478  think would probabl hate movi spoke polish sel...    negative   \n",
            "2797  like thought anoth crocodil movi far primev ro...    positive   \n",
            "1786  difficult precis put word sheer aw film entir ...    negative   \n",
            "4840  rememb see one theatr came idea go pleasantli ...    positive   \n",
            "\n",
            "      Puntaje negativo  Puntaje positivo  Puntaje neutral  Puntaje Total  \\\n",
            "899              0.129             0.251            0.619         0.6908   \n",
            "1863             0.141             0.170            0.689         0.0679   \n",
            "4657             0.077             0.213            0.710         0.7003   \n",
            "1965             0.358             0.184            0.458        -0.9531   \n",
            "2720             0.014             0.253            0.733         0.9880   \n",
            "3102             0.108             0.125            0.766         0.5245   \n",
            "1478             0.096             0.088            0.816        -0.4767   \n",
            "2797             0.258             0.186            0.556        -0.7430   \n",
            "1786             0.146             0.171            0.683         0.3612   \n",
            "4840             0.000             0.021            0.979         0.0772   \n",
            "\n",
            "      Etiqueta  \n",
            "899   positivo  \n",
            "1863  positivo  \n",
            "4657  positivo  \n",
            "1965  negativo  \n",
            "2720  positivo  \n",
            "3102  positivo  \n",
            "1478  negativo  \n",
            "2797  negativo  \n",
            "1786  positivo  \n",
            "4840  positivo  \n"
          ]
        }
      ],
      "source": [
        "# Crear columna con valores del Puntaje Total\n",
        "score = vader_data['Puntaje Total'].values\n",
        "\n",
        "\n",
        "# Condiciones para clasificar los puntajes\n",
        "condiciones = [\n",
        "    (score <= -0.05),\n",
        "    (score <= 0.05)\n",
        "]\n",
        "\n",
        "# Lista de las etiquetas correspondientes a cada condición\n",
        "etiquetas = ['negativo','neutral' ]\n",
        "\n",
        "# Aplicar las condiciones y etiquetas, usando 'Positiva' como valor por defecto\n",
        "vader_data['Etiqueta'] = np.select(condiciones, etiquetas, default='positivo')\n",
        "\n",
        "# Visualizar una muestra de 10 registros aleatorios del dataset\n",
        "print(vader_data.sample(10))\n"
      ]
    },
    {
      "cell_type": "code",
      "execution_count": null,
      "metadata": {
        "colab": {
          "base_uri": "https://localhost:8080/",
          "height": 209
        },
        "id": "PVXCHU35SEcL",
        "outputId": "f398ab9b-d2d3-4c95-ffd6-53b03da58adc"
      },
      "outputs": [
        {
          "data": {
            "text/html": [
              "<div>\n",
              "<style scoped>\n",
              "    .dataframe tbody tr th:only-of-type {\n",
              "        vertical-align: middle;\n",
              "    }\n",
              "\n",
              "    .dataframe tbody tr th {\n",
              "        vertical-align: top;\n",
              "    }\n",
              "\n",
              "    .dataframe thead th {\n",
              "        text-align: right;\n",
              "    }\n",
              "</style>\n",
              "<table border=\"1\" class=\"dataframe\">\n",
              "  <thead>\n",
              "    <tr style=\"text-align: right;\">\n",
              "      <th></th>\n",
              "      <th>count</th>\n",
              "    </tr>\n",
              "    <tr>\n",
              "      <th>Etiqueta</th>\n",
              "      <th></th>\n",
              "    </tr>\n",
              "  </thead>\n",
              "  <tbody>\n",
              "    <tr>\n",
              "      <th>positivo</th>\n",
              "      <td>3370</td>\n",
              "    </tr>\n",
              "    <tr>\n",
              "      <th>negativo</th>\n",
              "      <td>1575</td>\n",
              "    </tr>\n",
              "    <tr>\n",
              "      <th>neutral</th>\n",
              "      <td>55</td>\n",
              "    </tr>\n",
              "  </tbody>\n",
              "</table>\n",
              "</div><br><label><b>dtype:</b> int64</label>"
            ],
            "text/plain": [
              "Etiqueta\n",
              "positivo    3370\n",
              "negativo    1575\n",
              "neutral       55\n",
              "Name: count, dtype: int64"
            ]
          },
          "execution_count": 34,
          "metadata": {},
          "output_type": "execute_result"
        }
      ],
      "source": [
        "# mostrar conteo de valores diferentes en la columna \"Etiqueta\"\n",
        "vader_data['Etiqueta'].value_counts()"
      ]
    },
    {
      "cell_type": "code",
      "execution_count": null,
      "metadata": {
        "colab": {
          "base_uri": "https://localhost:8080/",
          "height": 542
        },
        "id": "pKmlHHm3UC5F",
        "outputId": "cd655bf5-40d6-4efa-d824-8101e67bd438"
      },
      "outputs": [
        {
          "data": {
            "text/html": [
              "<html>\n",
              "<head><meta charset=\"utf-8\" /></head>\n",
              "<body>\n",
              "    <div>            <script src=\"https://cdnjs.cloudflare.com/ajax/libs/mathjax/2.7.5/MathJax.js?config=TeX-AMS-MML_SVG\"></script><script type=\"text/javascript\">if (window.MathJax && window.MathJax.Hub && window.MathJax.Hub.Config) {window.MathJax.Hub.Config({SVG: {font: \"STIX-Web\"}});}</script>                <script type=\"text/javascript\">window.PlotlyConfig = {MathJaxConfig: 'local'};</script>\n",
              "        <script charset=\"utf-8\" src=\"https://cdn.plot.ly/plotly-2.35.2.min.js\"></script>                <div id=\"2d589cf4-95bc-4d07-855f-8d69f0058139\" class=\"plotly-graph-div\" style=\"height:525px; width:100%;\"></div>            <script type=\"text/javascript\">                                    window.PLOTLYENV=window.PLOTLYENV || {};                                    if (document.getElementById(\"2d589cf4-95bc-4d07-855f-8d69f0058139\")) {                    Plotly.newPlot(                        \"2d589cf4-95bc-4d07-855f-8d69f0058139\",                        [{\"alignmentgroup\":\"True\",\"bingroup\":\"x\",\"hovertemplate\":\"Etiqueta=negativo\\u003cbr\\u003ePuntaje Total=%{x}\\u003cbr\\u003ecount=%{y}\\u003cextra\\u003e\\u003c\\u002fextra\\u003e\",\"legendgroup\":\"negativo\",\"marker\":{\"color\":\"#636efa\",\"opacity\":0.75,\"pattern\":{\"shape\":\"\"}},\"name\":\"negativo\",\"offsetgroup\":\"negativo\",\"orientation\":\"v\",\"showlegend\":true,\"x\":[-0.7425,-0.6249,-0.3395,-0.988,-0.802,-0.9186,-0.8137,-0.1779,-0.946,-0.9814,-0.9638,-0.4588,-0.6124,-0.8834,-0.872,-0.1531,-0.6369,-0.2023,-0.9947,-0.9349,-0.9022,-0.8591,-0.8689,-0.9417,-0.993,-0.2589,-0.9231,-0.9779,-0.7227,-0.9694,-0.9719,-0.2964,-0.1531,-0.7491,-0.6705,-0.8979,-0.5423,-0.6597,-0.1531,-0.6694,-0.9834,-0.3612,-0.8334,-0.9854,-0.8658,-0.7003,-0.7778,-0.8126,-0.9716,-0.8519,-0.9803,-0.9409,-0.9965,-0.9519,-0.7269,-0.4767,-0.6249,-0.9909,-0.8779,-0.8863,-0.9729,-0.9552,-0.9482,-0.5106,-0.743,-0.25,-0.8958,-0.4019,-0.9283,-0.9951,-0.9169,-0.4215,-0.9601,-0.9643,-0.8885,-0.8176,-0.5423,-0.6908,-0.9371,-0.9861,-0.9617,-0.8625,-0.9836,-0.3818,-0.872,-0.9643,-0.9643,-0.6249,-0.6369,-0.128,-0.9542,-0.4019,-0.4754,-0.8357,-0.9169,-0.2716,-0.5267,-0.8176,-0.8697,-0.6124,-0.9062,-0.7096,-0.7003,-0.1531,-0.7633,-0.969,-0.7269,-0.902,-0.802,-0.8555,-0.8914,-0.2059,-0.836,-0.8442,-0.9955,-0.3818,-0.7783,-0.8903,-0.9169,-0.4767,-0.9976,-0.4019,-0.8655,-0.5106,-0.9729,-0.9118,-0.128,-0.9796,-0.4599,-0.9897,-0.9442,-0.9726,-0.4404,-0.1779,-0.7737,-0.9829,-0.9349,-0.9022,-0.2874,-0.9839,-0.872,-0.8689,-0.1725,-0.5423,-0.9274,-0.9531,-0.9858,-0.3182,-0.7305,-0.935,-0.0772,-0.7506,-0.9926,-0.2292,-0.9022,-0.9559,-0.1027,-0.9081,-0.5216,-0.5095,-0.9118,-0.947,-0.0516,-0.9063,-0.1779,-0.1779,-0.765,-0.3182,-0.9343,-0.8591,-0.926,-0.9878,-0.8271,-0.9203,-0.2878,-0.7717,-0.7319,-0.9022,-0.8225,-0.5574,-0.9888,-0.991,-0.9913,-0.9591,-0.9393,-0.9857,-0.4393,-0.5859,-0.9225,-0.34,-0.5399,-0.9609,-0.7096,-0.0772,-0.7964,-0.3818,-0.9485,-0.9509,-0.6808,-0.9186,-0.1779,-0.9973,-0.7783,-0.9766,-0.9571,-0.9816,-0.8519,-0.9672,-0.8625,-0.9702,-0.8519,-0.926,-0.7003,-0.9958,-0.9325,-0.4215,-0.0772,-0.9864,-0.8316,-0.3147,-0.941,-0.872,-0.5719,-0.9524,-0.9571,-0.91,-0.9682,-0.4215,-0.6908,-0.34,-0.9578,-0.9561,-0.6124,-0.5719,-0.0772,-0.886,-0.1466,-0.8221,-0.3612,-0.9287,-0.9712,-0.5859,-0.6513,-0.929,-0.1531,-0.9786,-0.3919,-0.5954,-0.9718,-0.8934,-0.9509,-0.8705,-0.1779,-0.9506,-0.9531,-0.9661,-0.9022,-0.8591,-0.2263,-0.9451,-0.9671,-0.9812,-0.6597,-0.7559,-0.4215,-0.4472,-0.101,-0.9022,-0.9964,-0.5267,-0.93,-0.6908,-0.9823,-0.8571,-0.8689,-0.8225,-0.9894,-0.7269,-0.9516,-0.929,-0.9524,-0.6597,-0.9612,-0.9661,-0.6369,-0.9022,-0.9821,-0.4588,-0.4215,-0.836,-0.4767,-0.0516,-0.8442,-0.6929,-0.781,-0.7269,-0.1531,-0.9468,-0.9836,-0.9586,-0.6115,-0.4767,-0.7056,-0.9118,-0.9485,-0.9152,-0.2023,-0.946,-0.128,-0.9633,-0.9937,-0.5267,-0.9201,-0.9806,-0.1531,-0.5423,-0.9596,-0.6908,-0.7506,-0.5597,-0.9876,-0.9208,-0.8225,-0.8908,-0.8689,-0.8807,-0.9907,-0.7096,-0.5719,-0.6478,-0.9661,-0.0516,-0.9891,-0.9501,-0.6272,-0.9774,-0.9719,-0.8074,-0.2632,-0.743,-0.6915,-0.975,-0.5494,-0.3395,-0.8225,-0.9231,-0.9946,-0.3182,-0.8717,-0.2962,-0.7964,-0.9495,-0.9702,-0.9648,-0.4215,-0.4939,-0.9953,-0.296,-0.8044,-0.9975,-0.9879,-0.86,-0.8074,-0.471,-0.8934,-0.8102,-0.9723,-0.9136,-0.2484,-0.9622,-0.875,-0.958,-0.9878,-0.3182,-0.8519,-0.872,-0.765,-0.5267,-0.1779,-0.9693,-0.8591,-0.8885,-0.8834,-0.743,-0.0516,-0.8947,-0.9337,-0.9393,-0.6666,-0.9531,-0.9744,-0.2168,-0.2023,-0.9217,-0.4404,-0.1027,-0.8126,-0.9599,-0.9453,-0.9506,-0.8885,-0.9935,-0.9799,-0.0675,-0.8834,-0.9633,-0.743,-0.9477,-0.9783,-0.9042,-0.2837,-0.9423,-0.7351,-0.6597,-0.7717,-0.765,-0.7269,-0.9413,-0.6324,-0.6486,-0.7351,-0.9853,-0.4215,-0.5719,-0.5423,-0.9907,-0.6705,-0.9759,-0.8225,-0.4404,-0.9403,-0.8727,-0.8934,-0.9163,-0.5252,-0.8637,-0.3566,-0.4939,-0.8979,-0.6908,-0.5719,-0.9942,-0.8744,-0.7717,-0.2023,-0.9883,-0.1226,-0.7783,-0.7184,-0.2725,-0.93,-0.9538,-0.9666,-0.8834,-0.8979,-0.9227,-0.7717,-0.9602,-0.9217,-0.5423,-0.9811,-0.8271,-0.6124,-0.9638,-0.9393,-0.3818,-0.9231,-0.9493,-0.8759,-0.743,-0.7783,-0.8126,-0.6808,-0.9338,-0.8834,-0.3415,-0.9935,-0.1779,-0.128,-0.9626,-0.8598,-0.9816,-0.4939,-0.8271,-0.9393,-0.8225,-0.5859,-0.34,-0.7964,-0.5267,-0.9895,-0.9695,-0.9932,-0.3818,-0.9584,-0.8723,-0.7057,-0.9716,-0.8519,-0.8442,-0.4549,-0.9936,-0.9913,-0.8839,-0.9666,-0.128,-0.926,-0.2648,-0.8718,-0.9413,-0.8316,-0.6808,-0.9382,-0.7783,-0.7184,-0.9899,-0.0785,-0.9282,-0.9432,-0.9504,-0.1298,-0.8481,-0.5994,-0.9803,-0.7783,-0.9231,-0.8807,-0.5106,-0.875,-0.0943,-0.9118,-0.7845,-0.4588,-0.128,-0.6249,-0.7506,-0.9291,-0.3818,-0.5267,-0.9477,-0.8591,-0.8591,-0.9313,-0.644,-0.6808,-0.4939,-0.802,-0.8661,-0.6908,-0.7964,-0.8442,-0.9042,-0.296,-0.9816,-0.4767,-0.5267,-0.9169,-0.5994,-0.5859,-0.891,-0.1027,-0.9723,-0.6249,-0.296,-0.9524,-0.5106,-0.34,-0.9623,-0.8555,-0.9723,-0.875,-0.4019,-0.7579,-0.6808,-0.9756,-0.8442,-0.9413,-0.8126,-0.8187,-0.9382,-0.9237,-0.4767,-0.6369,-0.9705,-0.9705,-0.34,-0.4767,-0.2263,-0.9686,-0.5859,-0.8834,-0.2732,-0.9472,-0.6249,-0.9836,-0.9628,-0.9592,-0.9442,-0.5267,-0.9781,-0.6637,-0.8316,-0.8934,-0.1043,-0.984,-0.6486,-0.8591,-0.9647,-0.9926,-0.2732,-0.9829,-0.9403,-0.539,-0.1779,-0.4939,-0.8625,-0.8271,-0.946,-0.9779,-0.1779,-0.9001,-0.3167,-0.8625,-0.9817,-0.9571,-0.8777,-0.5859,-0.1531,-0.6705,-0.3818,-0.1531,-0.9323,-0.5908,-0.5574,-0.8885,-0.9661,-0.6908,-0.9136,-0.765,-0.9989,-0.2572,-0.9764,-0.9062,-0.5106,-0.9325,-0.9153,-0.5267,-0.5574,-0.8479,-0.5423,-0.0516,-0.875,-0.4404,-0.5719,-0.8885,-0.7003,-0.9828,-0.886,-0.5423,-0.3774,-0.9432,-0.9805,-0.8274,-0.987,-0.9908,-0.1779,-0.2732,-0.9001,-0.8402,-0.5106,-0.979,-0.9589,-0.8074,-0.6124,-0.7579,-0.9524,-0.1027,-0.34,-0.9412,-0.8176,-0.5574,-0.8427,-0.0516,-0.4767,-0.969,-0.8625,-0.7717,-0.836,-0.5859,-0.4019,-0.96,-0.8519,-0.9442,-0.296,-0.2023,-0.6369,-0.6461,-0.3818,-0.9101,-0.7351,-0.9118,-0.93,-0.5256,-0.9081,-0.9279,-0.4926,-0.9808,-0.9682,-0.4939,-0.672,-0.3774,-0.993,-0.7964,-0.9905,-0.7717,-0.9364,-0.4939,-0.128,-0.9963,-0.9477,-0.8481,-0.9823,-0.6705,-0.975,-0.9771,-0.9866,-0.9001,-0.9233,-0.9405,-0.886,-0.1531,-0.7849,-0.9773,-0.1027,-0.9987,-0.3204,-0.8442,-0.9834,-0.7351,-0.996,-0.712,-0.9042,-0.872,-0.9623,-0.3612,-0.6266,-0.1093,-0.9652,-0.7717,-0.9383,-0.9524,-0.9042,-0.9882,-0.9274,-0.8555,-0.7553,-0.8481,-0.8316,-0.659,-0.5267,-0.2732,-0.6486,-0.6908,-0.9929,-0.6298,-0.9042,-0.9485,-0.9201,-0.7783,-0.8481,-0.5106,-0.9552,-0.9889,-0.9786,-0.9674,-0.1531,-0.8689,-0.8555,-0.8689,-0.9847,-0.6486,-0.6124,-0.9826,-0.5574,-0.4215,-0.9022,-0.972,-0.9559,-0.9925,-0.985,-0.5423,-0.4588,-0.9864,-0.8481,-0.9961,-0.9565,-0.9545,-0.918,-0.9487,-0.7003,-0.1027,-0.3948,-0.9648,-0.2415,-0.9246,-0.34,-0.9967,-0.9894,-0.5423,-0.9879,-0.9638,-0.1531,-0.9952,-0.6908,-0.8625,-0.34,-0.764,-0.6411,-0.296,-0.802,-0.5621,-0.9042,-0.1342,-0.8591,-0.9783,-0.7845,-0.9753,-0.5423,-0.9687,-0.2023,-0.8555,-0.1779,-0.6943,-0.6369,-0.9585,-0.9451,-0.9771,-0.836,-0.9705,-0.4767,-0.9556,-0.9337,-0.2263,-0.0772,-0.9441,-0.3818,-0.9382,-0.8977,-0.9477,-0.9648,-0.9393,-0.9747,-0.9596,-0.8481,-0.9934,-0.4404,-0.4215,-0.9732,-0.6369,-0.9371,-0.3447,-0.7553,-0.8655,-0.7746,-0.9571,-0.9888,-0.9405,-0.802,-0.8316,-0.3818,-0.3527,-0.2216,-0.9973,-0.8641,-0.9423,-0.9246,-0.7755,-0.5859,-0.946,-0.9337,-0.9927,-0.9545,-0.8278,-0.9674,-0.886,-0.8481,-0.9274,-0.6486,-0.9826,-0.9393,-0.9858,-0.7823,-0.7096,-0.8225,-0.4939,-0.4767,-0.7269,-0.8126,-0.992,-0.6952,-0.7906,-0.6369,-0.296,-0.4005,-0.296,-0.9638,-0.6384,-0.7645,-0.886,-0.8464,-0.9418,-0.8074,-0.4767,-0.7579,-0.9468,-0.9468,-0.8807,-0.5423,-0.9594,-0.9231,-0.5994,-0.9569,-0.9531,-0.981,-0.9694,-0.4588,-0.9885,-0.2732,-0.8689,-0.25,-0.9468,-0.9787,-0.8979,-0.9231,-0.1285,-0.7717,-0.987,-0.7184,-0.9946,-0.8225,-0.8093,-0.9566,-0.958,-0.9771,-0.7003,-0.8756,-0.3612,-0.9382,-0.9888,-0.34,-0.9081,-0.921,-0.9648,-0.4404,-0.4019,-0.3818,-0.9779,-0.529,-0.9001,-0.25,-0.936,-0.8934,-0.7906,-0.9844,-0.9041,-0.9926,-0.7906,-0.4588,-0.7845,-0.5423,-0.9674,-0.6908,-0.9375,-0.25,-0.8885,-0.9652,-0.6486,-0.967,-0.6249,-0.6597,-0.2672,-0.3612,-0.8225,-0.9884,-0.9062,-0.6597,-0.4939,-0.3182,-0.8929,-0.9899,-0.9735,-0.9423,-0.8126,-0.8591,-0.9538,-0.4767,-0.9882,-0.9081,-0.9485,-0.9118,-0.9286,-0.7003,-0.8627,-0.9181,-0.9552,-0.6486,-0.9898,-0.2732,-0.7128,-0.9231,-0.6858,-0.3818,-0.9531,-0.8074,-0.8126,-0.8176,-0.9761,-0.6597,-0.8957,-0.4745,-0.3612,-0.9606,-0.6249,-0.7269,-0.9682,-0.4767,-0.9968,-0.6249,-0.9794,-0.9682,-0.1027,-0.9341,-0.743,-0.3182,-0.9945,-0.7845,-0.9851,-0.5299,-0.9825,-0.6597,-0.9876,-0.8807,-0.7902,-0.5106,-0.8977,-0.926,-0.9628,-0.9393,-0.9413,-0.8519,-0.765,-0.4892,-0.9794,-0.9628,-0.2263,-0.9836,-0.9989,-0.8807,-0.9477,-0.891,-0.3666,-0.25,-0.5574,-0.296,-0.5423,-0.2263,-0.4588,-0.8316,-0.993,-0.9801,-0.765,-0.9704,-0.8316,-0.5967,-0.9814,-0.9769,-0.9081,-0.3612,-0.8555,-0.9885,-0.7351,-0.0772,-0.9477,-0.9782,-0.4767,-0.9672,-0.9893,-0.8173,-0.9309,-0.743,-0.7579,-0.9606,-0.91,-0.2163,-0.8555,-0.9944,-0.7783,-0.5859,-0.886,-0.9925,-0.8519,-0.5859,-0.2732,-0.3252,-0.9062,-0.9831,-0.5267,-0.0547,-0.9393,-0.9941,-0.6908,-0.8843,-0.8773,-0.91,-0.9485,-0.9382,-0.9595,-0.886,-0.4939,-0.4019,-0.8316,-0.3624,-0.9794,-0.6705,-0.4215,-0.8779,-0.4059,-0.926,-0.0516,-0.9844,-0.4019,-0.9638,-0.9905,-0.9925,-0.0541,-0.9669,-0.8271,-0.9836,-0.8176,-0.9708,-0.8962,-0.9524,-0.7783,-0.9584,-0.6597,-0.0987,-0.7003,-0.6293,-0.9201,-0.96,-0.5994,-0.9468,-0.8279,-0.9732,-0.8402,-0.4404,-0.8225,-0.9559,-0.8402,-0.7131,-0.9169,-0.9643,-0.0516,-0.7269,-0.6801,-0.9965,-0.6486,-0.8332,-0.7506,-0.8293,-0.9859,-0.9001,-0.4632,-0.9118,-0.9153,-0.4404,-0.3182,-0.5574,-0.1027,-0.9628,-0.7579,-0.9716,-0.5719,-0.9041,-0.6636,-0.0516,-0.9964,-0.984,-0.872,-0.886,-0.9274,-0.5267,-0.4215,-0.2425,-0.6369,-0.891,-0.3612,-0.0772,-0.9757,-0.9843,-0.128,-0.0849,-0.4404,-0.9413,-0.7845,-0.9545,-0.9638,-0.9628,-0.127,-0.25,-0.9287,-0.9605,-0.9953,-0.6597,-0.9959,-0.8979,-0.3818,-0.6124,-0.1779,-0.1779,-0.9682,-0.8481,-0.9814,-0.8481,-0.9477,-0.1027,-0.9442,-0.8519,-0.6258,-0.9578,-0.5994,-0.1531,-0.9538,-0.3612,-0.1531,-0.743,-0.9201,-0.34,-0.4588,-0.9413,-0.9552,-0.2263,-0.9364,-0.6486,-0.926,-0.743,-0.912,-0.6705,-0.6249,-0.7964,-0.7845,-0.7717,-0.5267,-0.3182,-0.8591,-0.765,-0.9102,-0.2023,-0.3318,-0.9231,-0.9217,-0.979,-0.34,-0.3732,-0.9246,-0.7351,-0.8658,-0.7926,-0.9696,-0.5574,-0.4404,-0.8316,-0.8957,-0.8779,-0.5207,-0.9896,-0.3612,-0.2263,-0.6908,-0.4019,-0.8316,-0.9274,-0.7836,-0.9571,-0.2516,-0.2732,-0.854,-0.7906,-0.4404,-0.0772,-0.9062,-0.8074,-0.128,-0.3612,-0.4404,-0.7208,-0.9788,-0.9093,-0.8591,-0.9893,-0.7003,-0.7842,-0.8402,-0.8569,-0.5994,-0.6808,-0.7933,-0.5859,-0.7651,-0.8199,-0.8779,-0.2831,-0.3182,-0.7427,-0.6836,-0.8706,-0.9741,-0.7402,-0.4989,-0.9854,-0.7239,-0.7184,-0.1027,-0.8414,-0.7269,-0.891,-0.9485,-0.3818,-0.25,-0.8555,-0.9876,-0.7918,-0.4588,-0.9169,-0.3818,-0.6249,-0.8271,-0.7433,-0.9493,-0.3612,-0.9246,-0.5859,-0.7269,-0.926,-0.9633,-0.8271,-0.9594,-0.7579,-0.3421,-0.5267,-0.7269,-0.6564,-0.9869,-0.5938,-0.6908,-0.3182,-0.9738,-0.9274,-0.3182,-0.7579,-0.1027,-0.9934,-0.7351,-0.984,-0.6486,-0.9468,-0.6249,-0.9382,-0.93,-0.9136,-0.4019,-0.4767,-0.4191,-0.2561,-0.992,-0.9404,-0.2263,-0.4404,-0.8054,-0.7269,-0.4445,-0.805,-0.296,-0.9578,-0.9233,-0.9256,-0.91,-0.2028,-0.9136,-0.8979,-0.993,-0.9438,-0.5423,-0.34,-0.7096,-0.9837,-0.9371,-0.9939,-0.8625,-0.9839,-0.996,-0.939,-0.8288,-0.8126,-0.8051,-0.9413,-0.926,-0.3182,-0.7003,-0.128,-0.2263,-0.8625,-0.9403,-0.9325,-0.9808,-0.6249,-0.7506,-0.9719,-0.9246,-0.9287,-0.9942,-0.9118,-0.9788,-0.1531,-0.0516,-0.9413,-0.9045,-0.7859,-0.8591,-0.25,-0.9131,-0.701,-0.8781,-0.936,-0.5719,-0.5267,-0.5097,-0.9674,-0.7154,-0.4215,-0.4925,-0.9322,-0.9934,-0.934,-0.9945,-0.1832,-0.9313,-0.9709,-0.5106,-0.9956,-0.5719,-0.2612,-0.7783,-0.296,-0.6908,-0.931,-0.9819,-0.765,-0.4215,-0.3818,-0.979,-0.979,-0.9837,-0.743,-0.3182,-0.9442,-0.9169,-0.34,-0.6077,-0.6159,-0.9698,-0.0516,-0.4019,-0.4019,-0.7906,-0.9517,-0.128,-0.6808,-0.3818,-0.8271,-0.5106,-0.5267,-0.8176,-0.7722,-0.9972,-0.8913,-0.9773,-0.7096,-0.9779,-0.9182,-0.6369,-0.6808,-0.3283,-0.3818,-0.296,-0.128,-0.3851,-0.6124,-0.8442,-0.3182,-0.9744,-0.79,-0.8364,-0.8646,-0.886,-0.9819,-0.9259,-0.7003,-0.1506,-0.6908,-0.7351,-0.6249,-0.0935,-0.0772,-0.8621,-0.5106,-0.9646,-0.4939,-0.959,-0.9674,-0.9314,-0.9928,-0.9726,-0.891,-0.9888,-0.0516,-0.25,-0.128,-0.9848,-0.743,-0.9062,-0.9959,-0.6901,-0.2263,-0.4767,-0.5859,-0.4226,-0.5423,-0.6131,-0.4588,-0.9732,-0.7906,-0.7964,-0.8661,-0.8519,-0.6652,-0.802,-0.0516,-0.872,-0.9313,-0.6597,-0.7351,-0.946,-0.4767,-0.6908,-0.7003,-0.2023,-0.8609,-0.8807,-0.9081,-0.6133,-0.9991,-0.296,-0.128,-0.814,-0.93,-0.8225,-0.6705,-0.3612,-0.9633,-0.9469,-0.5719,-0.4939,-0.7003,-0.9643],\"xaxis\":\"x\",\"yaxis\":\"y\",\"type\":\"histogram\"},{\"alignmentgroup\":\"True\",\"boxpoints\":\"all\",\"fillcolor\":\"rgba(255,255,255,0)\",\"hoveron\":\"points\",\"hovertemplate\":\"Etiqueta=negativo\\u003cbr\\u003ePuntaje Total=%{x}\\u003cextra\\u003e\\u003c\\u002fextra\\u003e\",\"jitter\":0,\"legendgroup\":\"negativo\",\"line\":{\"color\":\"rgba(255,255,255,0)\"},\"marker\":{\"color\":\"#636efa\",\"symbol\":\"line-ns-open\"},\"name\":\"negativo\",\"offsetgroup\":\"negativo\",\"showlegend\":false,\"x\":[-0.7425,-0.6249,-0.3395,-0.988,-0.802,-0.9186,-0.8137,-0.1779,-0.946,-0.9814,-0.9638,-0.4588,-0.6124,-0.8834,-0.872,-0.1531,-0.6369,-0.2023,-0.9947,-0.9349,-0.9022,-0.8591,-0.8689,-0.9417,-0.993,-0.2589,-0.9231,-0.9779,-0.7227,-0.9694,-0.9719,-0.2964,-0.1531,-0.7491,-0.6705,-0.8979,-0.5423,-0.6597,-0.1531,-0.6694,-0.9834,-0.3612,-0.8334,-0.9854,-0.8658,-0.7003,-0.7778,-0.8126,-0.9716,-0.8519,-0.9803,-0.9409,-0.9965,-0.9519,-0.7269,-0.4767,-0.6249,-0.9909,-0.8779,-0.8863,-0.9729,-0.9552,-0.9482,-0.5106,-0.743,-0.25,-0.8958,-0.4019,-0.9283,-0.9951,-0.9169,-0.4215,-0.9601,-0.9643,-0.8885,-0.8176,-0.5423,-0.6908,-0.9371,-0.9861,-0.9617,-0.8625,-0.9836,-0.3818,-0.872,-0.9643,-0.9643,-0.6249,-0.6369,-0.128,-0.9542,-0.4019,-0.4754,-0.8357,-0.9169,-0.2716,-0.5267,-0.8176,-0.8697,-0.6124,-0.9062,-0.7096,-0.7003,-0.1531,-0.7633,-0.969,-0.7269,-0.902,-0.802,-0.8555,-0.8914,-0.2059,-0.836,-0.8442,-0.9955,-0.3818,-0.7783,-0.8903,-0.9169,-0.4767,-0.9976,-0.4019,-0.8655,-0.5106,-0.9729,-0.9118,-0.128,-0.9796,-0.4599,-0.9897,-0.9442,-0.9726,-0.4404,-0.1779,-0.7737,-0.9829,-0.9349,-0.9022,-0.2874,-0.9839,-0.872,-0.8689,-0.1725,-0.5423,-0.9274,-0.9531,-0.9858,-0.3182,-0.7305,-0.935,-0.0772,-0.7506,-0.9926,-0.2292,-0.9022,-0.9559,-0.1027,-0.9081,-0.5216,-0.5095,-0.9118,-0.947,-0.0516,-0.9063,-0.1779,-0.1779,-0.765,-0.3182,-0.9343,-0.8591,-0.926,-0.9878,-0.8271,-0.9203,-0.2878,-0.7717,-0.7319,-0.9022,-0.8225,-0.5574,-0.9888,-0.991,-0.9913,-0.9591,-0.9393,-0.9857,-0.4393,-0.5859,-0.9225,-0.34,-0.5399,-0.9609,-0.7096,-0.0772,-0.7964,-0.3818,-0.9485,-0.9509,-0.6808,-0.9186,-0.1779,-0.9973,-0.7783,-0.9766,-0.9571,-0.9816,-0.8519,-0.9672,-0.8625,-0.9702,-0.8519,-0.926,-0.7003,-0.9958,-0.9325,-0.4215,-0.0772,-0.9864,-0.8316,-0.3147,-0.941,-0.872,-0.5719,-0.9524,-0.9571,-0.91,-0.9682,-0.4215,-0.6908,-0.34,-0.9578,-0.9561,-0.6124,-0.5719,-0.0772,-0.886,-0.1466,-0.8221,-0.3612,-0.9287,-0.9712,-0.5859,-0.6513,-0.929,-0.1531,-0.9786,-0.3919,-0.5954,-0.9718,-0.8934,-0.9509,-0.8705,-0.1779,-0.9506,-0.9531,-0.9661,-0.9022,-0.8591,-0.2263,-0.9451,-0.9671,-0.9812,-0.6597,-0.7559,-0.4215,-0.4472,-0.101,-0.9022,-0.9964,-0.5267,-0.93,-0.6908,-0.9823,-0.8571,-0.8689,-0.8225,-0.9894,-0.7269,-0.9516,-0.929,-0.9524,-0.6597,-0.9612,-0.9661,-0.6369,-0.9022,-0.9821,-0.4588,-0.4215,-0.836,-0.4767,-0.0516,-0.8442,-0.6929,-0.781,-0.7269,-0.1531,-0.9468,-0.9836,-0.9586,-0.6115,-0.4767,-0.7056,-0.9118,-0.9485,-0.9152,-0.2023,-0.946,-0.128,-0.9633,-0.9937,-0.5267,-0.9201,-0.9806,-0.1531,-0.5423,-0.9596,-0.6908,-0.7506,-0.5597,-0.9876,-0.9208,-0.8225,-0.8908,-0.8689,-0.8807,-0.9907,-0.7096,-0.5719,-0.6478,-0.9661,-0.0516,-0.9891,-0.9501,-0.6272,-0.9774,-0.9719,-0.8074,-0.2632,-0.743,-0.6915,-0.975,-0.5494,-0.3395,-0.8225,-0.9231,-0.9946,-0.3182,-0.8717,-0.2962,-0.7964,-0.9495,-0.9702,-0.9648,-0.4215,-0.4939,-0.9953,-0.296,-0.8044,-0.9975,-0.9879,-0.86,-0.8074,-0.471,-0.8934,-0.8102,-0.9723,-0.9136,-0.2484,-0.9622,-0.875,-0.958,-0.9878,-0.3182,-0.8519,-0.872,-0.765,-0.5267,-0.1779,-0.9693,-0.8591,-0.8885,-0.8834,-0.743,-0.0516,-0.8947,-0.9337,-0.9393,-0.6666,-0.9531,-0.9744,-0.2168,-0.2023,-0.9217,-0.4404,-0.1027,-0.8126,-0.9599,-0.9453,-0.9506,-0.8885,-0.9935,-0.9799,-0.0675,-0.8834,-0.9633,-0.743,-0.9477,-0.9783,-0.9042,-0.2837,-0.9423,-0.7351,-0.6597,-0.7717,-0.765,-0.7269,-0.9413,-0.6324,-0.6486,-0.7351,-0.9853,-0.4215,-0.5719,-0.5423,-0.9907,-0.6705,-0.9759,-0.8225,-0.4404,-0.9403,-0.8727,-0.8934,-0.9163,-0.5252,-0.8637,-0.3566,-0.4939,-0.8979,-0.6908,-0.5719,-0.9942,-0.8744,-0.7717,-0.2023,-0.9883,-0.1226,-0.7783,-0.7184,-0.2725,-0.93,-0.9538,-0.9666,-0.8834,-0.8979,-0.9227,-0.7717,-0.9602,-0.9217,-0.5423,-0.9811,-0.8271,-0.6124,-0.9638,-0.9393,-0.3818,-0.9231,-0.9493,-0.8759,-0.743,-0.7783,-0.8126,-0.6808,-0.9338,-0.8834,-0.3415,-0.9935,-0.1779,-0.128,-0.9626,-0.8598,-0.9816,-0.4939,-0.8271,-0.9393,-0.8225,-0.5859,-0.34,-0.7964,-0.5267,-0.9895,-0.9695,-0.9932,-0.3818,-0.9584,-0.8723,-0.7057,-0.9716,-0.8519,-0.8442,-0.4549,-0.9936,-0.9913,-0.8839,-0.9666,-0.128,-0.926,-0.2648,-0.8718,-0.9413,-0.8316,-0.6808,-0.9382,-0.7783,-0.7184,-0.9899,-0.0785,-0.9282,-0.9432,-0.9504,-0.1298,-0.8481,-0.5994,-0.9803,-0.7783,-0.9231,-0.8807,-0.5106,-0.875,-0.0943,-0.9118,-0.7845,-0.4588,-0.128,-0.6249,-0.7506,-0.9291,-0.3818,-0.5267,-0.9477,-0.8591,-0.8591,-0.9313,-0.644,-0.6808,-0.4939,-0.802,-0.8661,-0.6908,-0.7964,-0.8442,-0.9042,-0.296,-0.9816,-0.4767,-0.5267,-0.9169,-0.5994,-0.5859,-0.891,-0.1027,-0.9723,-0.6249,-0.296,-0.9524,-0.5106,-0.34,-0.9623,-0.8555,-0.9723,-0.875,-0.4019,-0.7579,-0.6808,-0.9756,-0.8442,-0.9413,-0.8126,-0.8187,-0.9382,-0.9237,-0.4767,-0.6369,-0.9705,-0.9705,-0.34,-0.4767,-0.2263,-0.9686,-0.5859,-0.8834,-0.2732,-0.9472,-0.6249,-0.9836,-0.9628,-0.9592,-0.9442,-0.5267,-0.9781,-0.6637,-0.8316,-0.8934,-0.1043,-0.984,-0.6486,-0.8591,-0.9647,-0.9926,-0.2732,-0.9829,-0.9403,-0.539,-0.1779,-0.4939,-0.8625,-0.8271,-0.946,-0.9779,-0.1779,-0.9001,-0.3167,-0.8625,-0.9817,-0.9571,-0.8777,-0.5859,-0.1531,-0.6705,-0.3818,-0.1531,-0.9323,-0.5908,-0.5574,-0.8885,-0.9661,-0.6908,-0.9136,-0.765,-0.9989,-0.2572,-0.9764,-0.9062,-0.5106,-0.9325,-0.9153,-0.5267,-0.5574,-0.8479,-0.5423,-0.0516,-0.875,-0.4404,-0.5719,-0.8885,-0.7003,-0.9828,-0.886,-0.5423,-0.3774,-0.9432,-0.9805,-0.8274,-0.987,-0.9908,-0.1779,-0.2732,-0.9001,-0.8402,-0.5106,-0.979,-0.9589,-0.8074,-0.6124,-0.7579,-0.9524,-0.1027,-0.34,-0.9412,-0.8176,-0.5574,-0.8427,-0.0516,-0.4767,-0.969,-0.8625,-0.7717,-0.836,-0.5859,-0.4019,-0.96,-0.8519,-0.9442,-0.296,-0.2023,-0.6369,-0.6461,-0.3818,-0.9101,-0.7351,-0.9118,-0.93,-0.5256,-0.9081,-0.9279,-0.4926,-0.9808,-0.9682,-0.4939,-0.672,-0.3774,-0.993,-0.7964,-0.9905,-0.7717,-0.9364,-0.4939,-0.128,-0.9963,-0.9477,-0.8481,-0.9823,-0.6705,-0.975,-0.9771,-0.9866,-0.9001,-0.9233,-0.9405,-0.886,-0.1531,-0.7849,-0.9773,-0.1027,-0.9987,-0.3204,-0.8442,-0.9834,-0.7351,-0.996,-0.712,-0.9042,-0.872,-0.9623,-0.3612,-0.6266,-0.1093,-0.9652,-0.7717,-0.9383,-0.9524,-0.9042,-0.9882,-0.9274,-0.8555,-0.7553,-0.8481,-0.8316,-0.659,-0.5267,-0.2732,-0.6486,-0.6908,-0.9929,-0.6298,-0.9042,-0.9485,-0.9201,-0.7783,-0.8481,-0.5106,-0.9552,-0.9889,-0.9786,-0.9674,-0.1531,-0.8689,-0.8555,-0.8689,-0.9847,-0.6486,-0.6124,-0.9826,-0.5574,-0.4215,-0.9022,-0.972,-0.9559,-0.9925,-0.985,-0.5423,-0.4588,-0.9864,-0.8481,-0.9961,-0.9565,-0.9545,-0.918,-0.9487,-0.7003,-0.1027,-0.3948,-0.9648,-0.2415,-0.9246,-0.34,-0.9967,-0.9894,-0.5423,-0.9879,-0.9638,-0.1531,-0.9952,-0.6908,-0.8625,-0.34,-0.764,-0.6411,-0.296,-0.802,-0.5621,-0.9042,-0.1342,-0.8591,-0.9783,-0.7845,-0.9753,-0.5423,-0.9687,-0.2023,-0.8555,-0.1779,-0.6943,-0.6369,-0.9585,-0.9451,-0.9771,-0.836,-0.9705,-0.4767,-0.9556,-0.9337,-0.2263,-0.0772,-0.9441,-0.3818,-0.9382,-0.8977,-0.9477,-0.9648,-0.9393,-0.9747,-0.9596,-0.8481,-0.9934,-0.4404,-0.4215,-0.9732,-0.6369,-0.9371,-0.3447,-0.7553,-0.8655,-0.7746,-0.9571,-0.9888,-0.9405,-0.802,-0.8316,-0.3818,-0.3527,-0.2216,-0.9973,-0.8641,-0.9423,-0.9246,-0.7755,-0.5859,-0.946,-0.9337,-0.9927,-0.9545,-0.8278,-0.9674,-0.886,-0.8481,-0.9274,-0.6486,-0.9826,-0.9393,-0.9858,-0.7823,-0.7096,-0.8225,-0.4939,-0.4767,-0.7269,-0.8126,-0.992,-0.6952,-0.7906,-0.6369,-0.296,-0.4005,-0.296,-0.9638,-0.6384,-0.7645,-0.886,-0.8464,-0.9418,-0.8074,-0.4767,-0.7579,-0.9468,-0.9468,-0.8807,-0.5423,-0.9594,-0.9231,-0.5994,-0.9569,-0.9531,-0.981,-0.9694,-0.4588,-0.9885,-0.2732,-0.8689,-0.25,-0.9468,-0.9787,-0.8979,-0.9231,-0.1285,-0.7717,-0.987,-0.7184,-0.9946,-0.8225,-0.8093,-0.9566,-0.958,-0.9771,-0.7003,-0.8756,-0.3612,-0.9382,-0.9888,-0.34,-0.9081,-0.921,-0.9648,-0.4404,-0.4019,-0.3818,-0.9779,-0.529,-0.9001,-0.25,-0.936,-0.8934,-0.7906,-0.9844,-0.9041,-0.9926,-0.7906,-0.4588,-0.7845,-0.5423,-0.9674,-0.6908,-0.9375,-0.25,-0.8885,-0.9652,-0.6486,-0.967,-0.6249,-0.6597,-0.2672,-0.3612,-0.8225,-0.9884,-0.9062,-0.6597,-0.4939,-0.3182,-0.8929,-0.9899,-0.9735,-0.9423,-0.8126,-0.8591,-0.9538,-0.4767,-0.9882,-0.9081,-0.9485,-0.9118,-0.9286,-0.7003,-0.8627,-0.9181,-0.9552,-0.6486,-0.9898,-0.2732,-0.7128,-0.9231,-0.6858,-0.3818,-0.9531,-0.8074,-0.8126,-0.8176,-0.9761,-0.6597,-0.8957,-0.4745,-0.3612,-0.9606,-0.6249,-0.7269,-0.9682,-0.4767,-0.9968,-0.6249,-0.9794,-0.9682,-0.1027,-0.9341,-0.743,-0.3182,-0.9945,-0.7845,-0.9851,-0.5299,-0.9825,-0.6597,-0.9876,-0.8807,-0.7902,-0.5106,-0.8977,-0.926,-0.9628,-0.9393,-0.9413,-0.8519,-0.765,-0.4892,-0.9794,-0.9628,-0.2263,-0.9836,-0.9989,-0.8807,-0.9477,-0.891,-0.3666,-0.25,-0.5574,-0.296,-0.5423,-0.2263,-0.4588,-0.8316,-0.993,-0.9801,-0.765,-0.9704,-0.8316,-0.5967,-0.9814,-0.9769,-0.9081,-0.3612,-0.8555,-0.9885,-0.7351,-0.0772,-0.9477,-0.9782,-0.4767,-0.9672,-0.9893,-0.8173,-0.9309,-0.743,-0.7579,-0.9606,-0.91,-0.2163,-0.8555,-0.9944,-0.7783,-0.5859,-0.886,-0.9925,-0.8519,-0.5859,-0.2732,-0.3252,-0.9062,-0.9831,-0.5267,-0.0547,-0.9393,-0.9941,-0.6908,-0.8843,-0.8773,-0.91,-0.9485,-0.9382,-0.9595,-0.886,-0.4939,-0.4019,-0.8316,-0.3624,-0.9794,-0.6705,-0.4215,-0.8779,-0.4059,-0.926,-0.0516,-0.9844,-0.4019,-0.9638,-0.9905,-0.9925,-0.0541,-0.9669,-0.8271,-0.9836,-0.8176,-0.9708,-0.8962,-0.9524,-0.7783,-0.9584,-0.6597,-0.0987,-0.7003,-0.6293,-0.9201,-0.96,-0.5994,-0.9468,-0.8279,-0.9732,-0.8402,-0.4404,-0.8225,-0.9559,-0.8402,-0.7131,-0.9169,-0.9643,-0.0516,-0.7269,-0.6801,-0.9965,-0.6486,-0.8332,-0.7506,-0.8293,-0.9859,-0.9001,-0.4632,-0.9118,-0.9153,-0.4404,-0.3182,-0.5574,-0.1027,-0.9628,-0.7579,-0.9716,-0.5719,-0.9041,-0.6636,-0.0516,-0.9964,-0.984,-0.872,-0.886,-0.9274,-0.5267,-0.4215,-0.2425,-0.6369,-0.891,-0.3612,-0.0772,-0.9757,-0.9843,-0.128,-0.0849,-0.4404,-0.9413,-0.7845,-0.9545,-0.9638,-0.9628,-0.127,-0.25,-0.9287,-0.9605,-0.9953,-0.6597,-0.9959,-0.8979,-0.3818,-0.6124,-0.1779,-0.1779,-0.9682,-0.8481,-0.9814,-0.8481,-0.9477,-0.1027,-0.9442,-0.8519,-0.6258,-0.9578,-0.5994,-0.1531,-0.9538,-0.3612,-0.1531,-0.743,-0.9201,-0.34,-0.4588,-0.9413,-0.9552,-0.2263,-0.9364,-0.6486,-0.926,-0.743,-0.912,-0.6705,-0.6249,-0.7964,-0.7845,-0.7717,-0.5267,-0.3182,-0.8591,-0.765,-0.9102,-0.2023,-0.3318,-0.9231,-0.9217,-0.979,-0.34,-0.3732,-0.9246,-0.7351,-0.8658,-0.7926,-0.9696,-0.5574,-0.4404,-0.8316,-0.8957,-0.8779,-0.5207,-0.9896,-0.3612,-0.2263,-0.6908,-0.4019,-0.8316,-0.9274,-0.7836,-0.9571,-0.2516,-0.2732,-0.854,-0.7906,-0.4404,-0.0772,-0.9062,-0.8074,-0.128,-0.3612,-0.4404,-0.7208,-0.9788,-0.9093,-0.8591,-0.9893,-0.7003,-0.7842,-0.8402,-0.8569,-0.5994,-0.6808,-0.7933,-0.5859,-0.7651,-0.8199,-0.8779,-0.2831,-0.3182,-0.7427,-0.6836,-0.8706,-0.9741,-0.7402,-0.4989,-0.9854,-0.7239,-0.7184,-0.1027,-0.8414,-0.7269,-0.891,-0.9485,-0.3818,-0.25,-0.8555,-0.9876,-0.7918,-0.4588,-0.9169,-0.3818,-0.6249,-0.8271,-0.7433,-0.9493,-0.3612,-0.9246,-0.5859,-0.7269,-0.926,-0.9633,-0.8271,-0.9594,-0.7579,-0.3421,-0.5267,-0.7269,-0.6564,-0.9869,-0.5938,-0.6908,-0.3182,-0.9738,-0.9274,-0.3182,-0.7579,-0.1027,-0.9934,-0.7351,-0.984,-0.6486,-0.9468,-0.6249,-0.9382,-0.93,-0.9136,-0.4019,-0.4767,-0.4191,-0.2561,-0.992,-0.9404,-0.2263,-0.4404,-0.8054,-0.7269,-0.4445,-0.805,-0.296,-0.9578,-0.9233,-0.9256,-0.91,-0.2028,-0.9136,-0.8979,-0.993,-0.9438,-0.5423,-0.34,-0.7096,-0.9837,-0.9371,-0.9939,-0.8625,-0.9839,-0.996,-0.939,-0.8288,-0.8126,-0.8051,-0.9413,-0.926,-0.3182,-0.7003,-0.128,-0.2263,-0.8625,-0.9403,-0.9325,-0.9808,-0.6249,-0.7506,-0.9719,-0.9246,-0.9287,-0.9942,-0.9118,-0.9788,-0.1531,-0.0516,-0.9413,-0.9045,-0.7859,-0.8591,-0.25,-0.9131,-0.701,-0.8781,-0.936,-0.5719,-0.5267,-0.5097,-0.9674,-0.7154,-0.4215,-0.4925,-0.9322,-0.9934,-0.934,-0.9945,-0.1832,-0.9313,-0.9709,-0.5106,-0.9956,-0.5719,-0.2612,-0.7783,-0.296,-0.6908,-0.931,-0.9819,-0.765,-0.4215,-0.3818,-0.979,-0.979,-0.9837,-0.743,-0.3182,-0.9442,-0.9169,-0.34,-0.6077,-0.6159,-0.9698,-0.0516,-0.4019,-0.4019,-0.7906,-0.9517,-0.128,-0.6808,-0.3818,-0.8271,-0.5106,-0.5267,-0.8176,-0.7722,-0.9972,-0.8913,-0.9773,-0.7096,-0.9779,-0.9182,-0.6369,-0.6808,-0.3283,-0.3818,-0.296,-0.128,-0.3851,-0.6124,-0.8442,-0.3182,-0.9744,-0.79,-0.8364,-0.8646,-0.886,-0.9819,-0.9259,-0.7003,-0.1506,-0.6908,-0.7351,-0.6249,-0.0935,-0.0772,-0.8621,-0.5106,-0.9646,-0.4939,-0.959,-0.9674,-0.9314,-0.9928,-0.9726,-0.891,-0.9888,-0.0516,-0.25,-0.128,-0.9848,-0.743,-0.9062,-0.9959,-0.6901,-0.2263,-0.4767,-0.5859,-0.4226,-0.5423,-0.6131,-0.4588,-0.9732,-0.7906,-0.7964,-0.8661,-0.8519,-0.6652,-0.802,-0.0516,-0.872,-0.9313,-0.6597,-0.7351,-0.946,-0.4767,-0.6908,-0.7003,-0.2023,-0.8609,-0.8807,-0.9081,-0.6133,-0.9991,-0.296,-0.128,-0.814,-0.93,-0.8225,-0.6705,-0.3612,-0.9633,-0.9469,-0.5719,-0.4939,-0.7003,-0.9643],\"xaxis\":\"x2\",\"yaxis\":\"y2\",\"type\":\"box\"},{\"alignmentgroup\":\"True\",\"bingroup\":\"x\",\"hovertemplate\":\"Etiqueta=positivo\\u003cbr\\u003ePuntaje Total=%{x}\\u003cbr\\u003ecount=%{y}\\u003cextra\\u003e\\u003c\\u002fextra\\u003e\",\"legendgroup\":\"positivo\",\"marker\":{\"color\":\"#EF553B\",\"opacity\":0.75,\"pattern\":{\"shape\":\"\"}},\"name\":\"positivo\",\"offsetgroup\":\"positivo\",\"orientation\":\"v\",\"showlegend\":true,\"x\":[0.7863,0.5389,0.7096,0.936,0.8658,0.836,0.8126,0.8144,0.1779,0.4215,0.9601,0.872,0.9783,0.9682,0.9186,0.875,0.4939,0.7184,0.959,0.9552,0.9844,0.9215,0.7351,0.9186,0.7648,0.3071,0.9639,0.7717,0.6808,0.9661,0.8442,0.969,0.9337,0.25,0.9922,0.6151,0.9423,0.4377,0.7003,0.743,0.6808,0.9705,0.9571,0.9825,0.2023,0.9119,0.875,0.9836,0.2023,0.9001,0.886,0.1796,0.34,0.6249,0.9413,0.2732,0.9924,0.6994,0.5719,0.9744,0.5106,0.8779,0.7964,0.6705,0.6124,0.9536,0.9833,0.8402,0.9834,0.5574,0.9732,0.7518,0.8979,0.836,0.765,0.8074,0.0516,0.9694,0.8442,0.9865,0.3843,0.9231,0.9201,0.883,0.9698,0.8591,0.9118,0.9136,0.4019,0.9195,0.9081,0.796,0.9584,0.3987,0.2732,0.8817,0.7722,0.4297,0.9217,0.9001,0.8126,0.785,0.8706,0.2263,0.9992,0.8858,0.2263,0.7717,0.9702,0.6369,0.886,0.7304,0.9442,0.9021,0.1548,0.9432,0.0516,0.9136,0.9451,0.1406,0.9814,0.8074,0.6908,0.8957,0.9231,0.8481,0.4767,0.886,0.9726,0.2732,0.9485,0.7506,0.9651,0.9828,0.9567,0.8779,0.6908,0.9432,0.9868,0.1275,0.5233,0.2732,0.9231,0.7003,0.296,0.9794,0.6908,0.7964,0.9747,0.8271,0.4019,0.9947,0.4791,0.765,0.8126,0.9477,0.7004,0.4767,0.6249,0.6249,0.9485,0.1621,0.0516,0.9887,0.2023,0.9572,0.7783,0.8885,0.9531,0.9169,0.8126,0.9583,0.7845,0.7906,0.9485,0.9169,0.765,0.891,0.9883,0.5574,0.9552,0.8807,0.8633,0.7845,0.3818,0.8591,0.5106,0.8074,0.6621,0.836,0.9349,0.8336,0.9242,0.831,0.91,0.9904,0.6182,0.9894,0.9633,0.296,0.7964,0.1027,0.9833,0.8625,0.6204,0.453,0.6705,0.1779,0.765,0.4522,0.9882,0.4215,0.5423,0.8555,0.947,0.1531,0.8689,0.9393,0.8885,0.6369,0.9524,0.9836,0.9879,0.6124,0.5719,0.7488,0.9783,0.8807,0.8625,0.9851,0.936,0.8689,0.6213,0.6705,0.969,0.5859,0.9204,0.0516,0.2263,0.34,0.9855,0.3472,0.9654,0.6249,0.8891,0.1531,0.9682,0.9457,0.6802,0.3612,0.3612,0.9153,0.7783,0.8658,0.128,0.9774,0.7839,0.2263,0.9812,0.891,0.0754,0.9537,0.6597,0.9477,0.9081,0.8957,0.8983,0.5423,0.296,0.9001,0.7717,0.0772,0.1779,0.5279,0.5994,0.7942,0.6486,0.6597,0.7351,0.6975,0.5267,0.2732,0.8979,0.9516,0.5432,0.9509,0.9812,0.1779,0.8225,0.9485,0.9671,0.926,0.3818,0.9303,0.8932,0.6908,0.9042,0.9228,0.8519,0.7579,0.91,0.7906,0.9686,0.9527,0.7003,0.9805,0.9732,0.9896,0.9274,0.4939,0.7269,0.8807,0.7506,0.9356,0.5574,0.2075,0.9628,0.8779,0.8957,0.9081,0.7928,0.8402,0.743,0.891,0.8126,0.1045,0.9828,0.9601,0.9485,0.891,0.979,0.9788,0.25,0.7269,0.7579,0.9153,0.6369,0.34,0.9377,0.8442,0.9511,0.8885,0.2263,0.7351,0.5574,0.9792,0.9079,0.9946,0.0516,0.7105,0.4404,0.8481,0.33,0.8481,0.5106,0.8807,0.8434,0.9776,0.25,0.9886,0.8591,0.1027,0.6749,0.5574,0.8555,0.8591,0.9202,0.9934,0.9834,0.875,0.7184,0.9492,0.9847,0.1531,0.4215,0.9217,0.9022,0.8979,0.9887,0.8126,0.9879,0.8834,0.7906,0.5574,0.4767,0.7144,0.5423,0.9862,0.8658,0.875,0.296,0.7269,0.7533,0.9203,0.9442,0.9909,0.7264,0.5994,0.8316,0.7165,0.9113,0.4939,0.296,0.5106,0.7579,0.1348,0.3348,0.6808,0.4215,0.1513,0.0516,0.6369,0.91,0.9231,0.9607,0.8126,0.8481,0.8996,0.9201,0.9136,0.8885,0.3182,0.8969,0.7506,0.9393,0.8942,0.9705,0.296,0.3523,0.7964,0.5165,0.93,0.0644,0.9904,0.9709,0.9899,0.4404,0.7906,0.8979,0.9876,0.4767,0.1027,0.3182,0.7964,0.8974,0.34,0.1779,0.296,0.8689,0.7178,0.7351,0.8656,0.93,0.9231,0.9643,0.2263,0.2193,0.9186,0.9413,0.6908,0.5859,0.936,0.886,0.7964,0.9325,0.765,0.9246,0.9774,0.9723,0.9186,0.25,0.34,0.836,0.8934,0.8591,0.765,0.9595,0.4588,0.4767,0.7812,0.5994,0.7579,0.7003,0.9022,0.9732,0.7351,0.5423,0.9584,0.296,0.296,0.9571,0.9734,0.9764,0.9001,0.8658,0.9914,0.9559,0.872,0.9664,0.1685,0.6597,0.9287,0.945,0.9889,0.4767,0.4019,0.9186,0.959,0.9153,0.875,0.9938,0.9231,0.9522,0.8049,0.4497,0.8074,0.9403,0.9815,0.3818,0.9657,0.4019,0.9239,0.836,0.6705,0.8271,0.2023,0.6815,0.8625,0.7147,0.891,0.8271,0.9902,0.8225,0.8834,0.6062,0.8402,0.5209,0.3168,0.6249,0.9153,0.0772,0.9618,0.8625,0.6499,0.9275,0.8402,0.7717,0.8959,0.836,0.802,0.979,0.8316,0.8674,0.9545,0.8225,0.8689,0.9638,0.9893,0.6124,0.979,0.9207,0.6124,0.6267,0.765,0.9403,0.9927,0.9042,0.128,0.7783,0.25,0.9827,0.6249,0.8126,0.9748,0.9287,0.296,0.7351,0.8885,0.984,0.7506,0.9423,0.8363,0.2693,0.6605,0.891,0.8126,0.8442,0.4404,0.0516,0.9325,0.8779,0.5984,0.8708,0.4019,0.1027,0.9531,0.8591,0.979,0.8176,0.7506,0.0534,0.9854,0.9584,0.9517,0.936,0.891,0.9559,0.8979,0.9969,0.8778,0.9201,0.8979,0.7506,0.9678,0.7081,0.9607,0.2732,0.9506,0.1027,0.9962,0.9274,0.9864,0.7096,0.743,0.9633,0.6124,0.7582,0.9913,0.5859,0.9485,0.9559,0.1531,0.9831,0.2415,0.9931,0.936,0.9829,0.9796,0.9552,0.9403,0.3086,0.6743,0.9287,0.5994,0.9524,0.9231,0.8689,0.5829,0.3321,0.9831,0.6656,0.9884,0.8047,0.9652,0.3818,0.9042,0.8481,0.296,0.9883,0.3612,0.7351,0.9779,0.8685,0.2263,0.8658,0.9976,0.7269,0.8979,0.9303,0.6908,0.9829,0.93,0.9509,0.9729,0.2023,0.296,0.3806,0.5574,0.6808,0.9849,0.25,0.6244,0.9559,0.9674,0.8627,0.973,0.6249,0.128,0.9531,0.7579,0.2263,0.9165,0.5574,0.719,0.9803,0.7184,0.7512,0.8,0.765,0.2263,0.7964,0.9839,0.9433,0.6908,0.9153,0.6249,0.9906,0.7269,0.1867,0.9938,0.9442,0.3818,0.9674,0.4019,0.875,0.8884,0.9788,0.8591,0.4939,0.8807,0.91,0.9783,0.7717,0.8779,0.9776,0.93,0.4939,0.9382,0.9909,0.9732,0.9709,0.9934,0.9062,0.7269,0.3818,0.7347,0.9633,0.7906,0.1027,0.3612,0.0772,0.9788,0.9638,0.5187,0.7287,0.9842,0.9371,0.8814,0.8074,0.9884,0.802,0.6249,0.7906,0.722,0.8402,0.9569,0.9607,0.7906,0.9382,0.9413,0.9371,0.9545,0.9907,0.1027,0.9775,0.8074,0.6486,0.9432,0.7579,0.7902,0.975,0.25,0.9897,0.25,0.4939,0.981,0.8834,0.7579,0.8176,0.9612,0.9313,0.7096,0.6675,0.8316,0.9565,0.0516,0.802,0.8481,0.9856,0.9834,0.8834,0.7783,0.9823,0.7506,0.9925,0.7584,0.5719,0.6249,0.8074,0.9917,0.9337,0.9403,0.3612,0.9337,0.875,0.0516,0.8091,0.6369,0.7717,0.4215,0.7845,0.9001,0.25,0.8689,0.91,0.8591,0.9816,0.9612,0.5106,0.9501,0.5574,0.8442,0.9451,0.9393,0.946,0.7003,0.6369,0.9217,0.9682,0.6222,0.8807,0.959,0.7096,0.6362,0.9501,0.9661,0.2887,0.8885,0.886,0.9559,0.8646,0.946,0.9837,0.9702,0.4215,0.6479,0.9616,0.1027,0.3612,0.7884,0.9794,0.5559,0.9531,0.8994,0.8176,0.1779,0.7906,0.2023,0.9081,0.7845,0.8689,0.6249,0.4253,0.836,0.9738,0.128,0.5994,0.9186,0.7906,0.8074,0.9557,0.6369,0.875,0.8126,0.874,0.9758,0.296,0.9538,0.9153,0.8934,0.969,0.9601,0.9393,0.1531,0.3818,0.8316,0.8225,0.6369,0.891,0.9764,0.9081,0.7003,0.3353,0.9721,0.9413,0.9652,0.1796,0.9676,0.7803,0.6157,0.9624,0.6124,0.8176,0.9398,0.9393,0.4939,0.1779,0.8957,0.2458,0.802,0.9788,0.9325,0.986,0.9893,0.9595,0.9776,0.7783,0.8955,0.9815,0.9458,0.9274,0.9325,0.8801,0.7825,0.6369,0.7237,0.9545,0.5859,0.7823,0.5994,0.3612,0.9781,0.8689,0.836,0.9169,0.8316,0.9081,0.7096,0.5267,0.743,0.4172,0.9393,0.7269,0.8445,0.9508,0.8074,0.6486,0.7717,0.9841,0.7003,0.9761,0.9703,0.8126,0.9627,0.224,0.315,0.8677,0.4203,0.802,0.9349,0.6249,0.4404,0.0679,0.6597,0.5972,0.1027,0.9865,0.9186,0.8591,0.7096,0.9781,0.7275,0.836,0.2732,0.8805,0.9927,0.765,0.5789,0.3804,0.8316,0.2023,0.91,0.8839,0.9538,0.5076,0.6369,0.8831,0.8555,0.966,0.7262,0.8979,0.603,0.9001,0.0772,0.4215,0.3252,0.9252,0.8637,0.3226,0.1779,0.963,0.6486,0.4588,0.9118,0.8603,0.9931,0.9773,0.4404,0.8682,0.5423,0.9022,0.2665,0.6384,0.7483,0.8591,0.8271,0.1531,0.9509,0.9722,0.9601,0.6956,0.9723,0.1585,0.8074,0.9136,0.5106,0.9755,0.9451,0.875,0.7783,0.93,0.7579,0.8779,0.8481,0.5994,0.5423,0.9201,0.8138,0.0772,0.8885,0.765,0.9725,0.5267,0.9382,0.836,0.2263,0.1288,0.4877,0.9333,0.9479,0.9382,0.2782,0.4019,0.9666,0.4019,0.6705,0.296,0.9413,0.4404,0.5859,0.9607,0.9601,0.128,0.9325,0.8658,0.9069,0.8245,0.5994,0.7845,0.9287,0.3818,0.7269,0.9669,0.6705,0.8689,0.8779,0.7351,0.4019,0.9849,0.5994,0.8834,0.936,0.0516,0.886,0.8965,0.9246,0.7351,0.9735,0.9501,0.7351,0.7579,0.9826,0.926,0.9803,0.9878,0.886,0.9169,0.5553,0.9466,0.9774,0.926,0.7906,0.9042,0.9984,0.959,0.9729,0.34,0.9382,0.9486,0.4779,0.891,0.3798,0.7351,0.5267,0.7717,0.97,0.1045,0.5719,0.5994,0.1901,0.9451,0.8941,0.9818,0.7783,0.9723,0.2909,0.6597,0.4588,0.8519,0.8491,0.8961,0.7783,0.3612,0.9628,0.6044,0.7003,0.9359,0.7885,0.8519,0.4019,0.9753,0.4767,0.7661,0.85,0.9349,0.9698,0.8519,0.4215,0.9524,0.5106,0.9682,0.9945,0.6908,0.8807,0.8402,0.6124,0.5456,0.3378,0.886,0.9738,0.6369,0.9855,0.2732,0.7293,0.7096,0.9732,0.4404,0.5003,0.5868,0.3818,0.4201,0.9231,0.9503,0.1598,0.9042,0.7003,0.872,0.8481,0.9786,0.9477,0.128,0.9423,0.8442,0.9524,0.9676,0.875,0.9584,0.1796,0.8604,0.9062,0.6486,0.7096,0.8074,0.0747,0.9761,0.6486,0.9552,0.9766,0.9628,0.8271,0.9775,0.8779,0.9274,0.9337,0.836,0.0772,0.8555,0.9905,0.9538,0.9612,0.4767,0.7708,0.9883,0.9941,0.836,0.8481,0.9541,0.9796,0.8942,0.9822,0.8975,0.8402,0.9595,0.7579,0.7269,0.6908,0.1027,0.9648,0.9402,0.9726,0.9371,0.9946,0.6469,0.745,0.5374,0.886,0.9816,0.9935,0.7296,0.7096,0.9468,0.9661,0.959,0.8484,0.6597,0.969,0.7227,0.9534,0.296,0.765,0.9872,0.9808,0.9277,0.1531,0.9442,0.2023,0.6994,0.5106,0.0772,0.8316,0.9022,0.9117,0.8137,0.9493,0.1779,0.9565,0.6369,0.3612,0.9153,0.8442,0.886,0.9871,0.8934,0.9824,0.9613,0.8442,0.0516,0.9325,0.128,0.4588,0.9918,0.9158,0.7845,0.9201,0.8884,0.9803,0.8271,0.9136,0.9246,0.296,0.926,0.9844,0.9975,0.9756,0.9725,0.9694,0.9702,0.9878,0.4951,0.9711,0.2668,0.9806,0.9538,0.7841,0.9628,0.8712,0.6908,0.9201,0.9923,0.9682,0.296,0.9887,0.9468,0.8916,0.8225,0.9274,0.1516,0.8883,0.8957,0.5435,0.9042,0.8519,0.7578,0.9643,0.9808,0.9062,0.9875,0.9661,0.5574,0.9875,0.6597,0.9873,0.9828,0.8077,0.9393,0.9349,0.9584,0.9852,0.8979,0.9794,0.9895,0.5106,0.9805,0.924,0.9524,0.5423,0.9924,0.7783,0.743,0.9517,0.9729,0.986,0.934,0.8807,0.9287,0.5678,0.1779,0.9859,0.743,0.9897,0.964,0.9953,0.946,0.1027,0.3847,0.6908,0.9854,0.8834,0.872,0.9493,0.9501,0.8555,0.9122,0.8126,0.8519,0.969,0.924,0.7845,0.9716,0.9511,0.9501,0.9501,0.5719,0.9806,0.9287,0.9866,0.9287,0.9313,0.9042,0.8481,0.34,0.9698,0.9877,0.9744,0.9172,0.9801,0.8078,0.977,0.872,0.9936,0.9924,0.946,0.7783,0.9927,0.9758,0.9652,0.9605,0.8779,0.6898,0.9958,0.9413,0.926,0.9246,0.9769,0.9349,0.8225,0.9773,0.8151,0.9447,0.995,0.9953,0.9547,0.7502,0.9794,0.9509,0.8658,0.9795,0.9896,0.8625,0.9545,0.5267,0.975,0.8074,0.9793,0.8176,0.9571,0.8957,0.9941,0.9545,0.7783,0.9565,0.7269,0.9382,0.9881,0.9485,0.9801,0.9833,0.9837,0.9788,0.936,0.8519,0.9744,0.8934,0.9705,0.9788,0.9931,0.946,0.9709,0.98,0.988,0.8934,0.836,0.9656,0.9925,0.9879,0.743,0.9952,0.8235,0.2263,0.6068,0.9612,0.9899,0.9953,0.8623,0.9501,0.9548,0.9336,0.7845,0.836,0.9805,0.9201,0.7506,0.8555,0.6486,0.5574,0.8779,0.936,0.4215,0.9944,0.9552,0.9774,0.836,0.9618,0.9812,0.9808,0.9517,0.9983,0.9403,0.9594,0.9925,0.8885,0.9607,0.9578,0.0747,0.7964,0.765,0.9978,0.9922,0.9118,0.7906,0.9944,0.9814,0.5168,0.9783,0.8806,0.5574,0.6573,0.9136,0.9911,0.872,0.9865,0.9771,0.8885,0.8591,0.7269,0.8519,0.9816,0.9846,0.5719,0.9818,0.7906,0.9936,0.9468,0.5859,0.9931,0.8655,0.9683,0.9568,0.9786,0.8689,0.9712,0.9666,0.9783,0.9816,0.9797,0.9081,0.9325,0.9878,0.9744,0.7506,0.9117,0.9702,0.9349,0.9349,0.6908,0.9928,0.8885,0.8591,0.9673,0.872,0.9477,0.9805,0.9843,0.9844,0.9732,0.4404,0.9843,0.981,0.9781,0.9974,0.9835,0.9702,0.9786,0.9502,0.1376,0.9705,0.9531,0.9468,0.3818,0.9472,0.9844,0.4404,0.4215,0.984,0.9698,0.9871,0.875,0.9732,0.7783,0.9565,0.9042,0.875,0.9001,0.9618,0.5423,0.9652,0.8591,0.9766,0.7635,0.9477,0.9432,0.9682,0.9564,0.9337,0.9836,0.9839,0.9926,0.617,0.886,0.8957,0.891,0.9926,0.9584,0.9559,0.9313,0.9477,0.0516,0.9468,0.9246,0.986,0.9682,0.9744,0.9975,0.9246,0.6908,0.765,0.9601,0.9944,0.9201,0.802,0.9531,0.9454,0.8316,0.9894,0.7717,0.8069,0.7506,0.4404,0.9836,0.8481,0.3182,0.7964,0.9423,0.9924,0.872,0.9513,0.8896,0.926,0.6815,0.946,0.8761,0.9702,0.9829,0.7184,0.9916,0.9349,0.9423,0.6369,0.9531,0.7845,0.8126,0.9313,0.2023,0.9904,0.9942,0.9657,0.9719,0.9493,0.9451,0.9468,0.9938,0.9545,0.9454,0.8957,0.9747,0.9788,0.9313,0.9274,0.9612,0.8555,0.8126,0.9735,0.6124,0.93,0.9723,0.8126,0.9716,0.9868,0.8718,0.9887,0.9521,0.9927,0.9571,0.886,0.875,0.9449,0.9274,0.7184,0.8402,0.9889,0.9792,0.9657,0.93,0.1551,0.9217,0.9042,0.9382,0.9861,0.9684,0.7495,0.9451,0.9758,0.9894,0.7076,0.9953,0.6486,0.9829,0.8555,0.9896,0.872,0.9595,0.9682,0.9493,0.9652,0.6908,0.7198,0.6981,0.8657,0.9201,0.9924,0.9587,0.9403,0.3182,0.9801,0.836,0.9805,0.872,0.9979,0.9682,0.7003,0.7003,0.9712,0.9898,0.9509,0.9393,0.9638,0.8917,0.9836,0.9393,0.8126,0.9761,0.9337,0.9823,0.9633,0.9313,0.2354,0.7738,0.973,0.1027,0.9723,0.9583,0.9485,0.891,0.9812,0.9274,0.9844,0.9371,0.998,0.891,0.9545,0.7964,0.9477,0.4939,0.2732,0.9857,0.9359,0.936,0.7351,0.765,0.9001,0.8316,0.3818,0.9895,0.9705,0.986,0.5245,0.3182,0.9862,0.9853,0.9803,0.9792,0.4019,0.9371,0.959,0.9778,0.926,0.985,0.9607,0.875,0.993,0.9776,0.8271,0.9399,0.9595,0.3182,0.6597,0.9833,0.3182,0.9917,0.6249,0.9779,0.9572,0.9062,0.9876,0.9477,0.9783,0.9934,0.6801,0.8777,0.6908,0.6597,0.7447,0.1027,0.9234,0.9813,0.9963,0.9652,0.743,0.9918,0.9872,0.5106,0.9313,0.8442,0.9698,0.9774,0.9881,0.9361,0.9914,0.6908,0.4215,0.9882,0.7845,0.9485,0.2263,0.9186,0.1144,0.8116,0.9136,0.3699,0.7906,0.9816,0.8591,0.9955,0.9923,0.9198,0.7918,0.9796,0.624,0.6224,0.9618,0.9652,0.9403,0.8524,0.9509,0.9705,0.8225,0.7964,0.9856,0.9552,0.7783,0.8911,0.539,0.9442,0.936,0.128,0.8481,0.9812,0.9887,0.9753,0.4939,0.6906,0.9413,0.9538,0.9246,0.9153,0.9517,0.4927,0.9529,0.9022,0.9868,0.9753,0.9784,0.9413,0.9938,0.6369,0.7506,0.9065,0.9988,0.9382,0.7184,0.9917,0.9771,0.9829,0.7003,0.9677,0.9042,0.9764,0.4767,0.9729,0.9961,0.9928,0.9143,0.9545,0.9819,0.981,0.5859,0.7579,0.9907,0.9661,0.91,0.8074,0.9826,0.9803,0.9878,0.9949,0.7845,0.6003,0.7727,0.9862,0.7351,0.9517,0.9538,0.9698,0.979,0.9996,0.9908,0.9382,0.9081,0.9538,0.987,0.9259,0.9545,0.9769,0.8885,0.9925,0.9893,0.9607,0.7579,0.9955,0.9594,0.9176,0.9761,0.8523,0.969,0.9452,0.8271,0.2732,0.5859,0.8591,0.3339,0.8442,0.5106,0.9974,0.981,0.967,0.9739,0.9935,0.955,0.9925,0.8591,0.6369,0.872,0.886,0.9918,0.9854,0.9931,0.7506,0.9477,0.9153,0.9712,0.9403,0.6909,0.891,0.8402,0.9628,0.9888,0.969,0.8126,0.9866,0.3182,0.9636,0.9868,0.765,0.9393,0.7778,0.8074,0.7845,0.0516,0.9716,0.9337,0.9926,0.3612,0.9325,0.7096,0.6597,0.9709,0.5994,0.8271,0.3246,0.9729,0.5563,0.975,0.9201,0.93,0.9552,0.8591,0.9524,0.875,0.0772,0.7003,0.9958,0.9022,0.9114,0.6369,0.296,0.9287,0.9552,0.774,0.9771,0.9878,0.9883,0.987,0.9442,0.9712,0.8979,0.9891,0.9786,0.9393,0.9918,0.6908,0.9545,0.802,0.9819,0.91,0.872,0.471,0.8979,0.7003,0.8591,0.8957,0.9517,0.9762,0.9769,0.951,0.7783,0.5574,0.969,0.8834,0.9618,0.9571,0.926,0.9669,0.9779,0.9864,0.9725,0.8519,0.9674,0.6285,0.9042,0.4019,0.9949,0.9927,0.7351,0.7024,0.9607,0.9169,0.9169,0.6705,0.9843,0.872,0.6369,0.926,0.9872,0.6808,0.9951,0.9274,0.9749,0.9917,0.8357,0.9881,0.9661,0.9943,0.5423,0.9711,0.4588,0.9589,0.9633,0.9524,0.9647,0.9682,0.9836,0.8934,0.2263,0.9468,0.9753,0.9896,0.9337,0.836,0.8956,0.9451,0.9571,0.9186,0.5859,0.872,0.9771,0.9812,0.9887,0.9694,0.9907,0.8934,0.6705,0.9371,0.9806,0.6705,0.9975,0.9652,0.9852,0.9709,0.5106,0.9571,0.6908,0.9117,0.993,0.5859,0.979,0.9231,0.9861,0.9678,0.9493,0.6124,0.802,0.8714,0.9684,0.9477,0.9654,0.9776,0.9062,0.9638,0.9546,0.9538,0.836,0.9559,0.9823,0.9875,0.9571,0.9812,0.4215,0.9652,0.9315,0.8779,0.4767,0.4404,0.946,0.0772,0.9612,0.9217,0.9716,0.6908,0.9851,0.9517,0.9524,0.9652,0.5719,0.959,0.9721,0.9552,0.9571,0.9907,0.9638,0.7964,0.8979,0.9656,0.2023,0.9912,0.9719,0.995,0.9393,0.9538,0.9812,0.9638,0.9413,0.9565,0.9895,0.7003,0.7351,0.3832,0.9509,0.8815,0.8211,0.6908,0.9799,0.743,0.836,0.1531,0.9962,0.9652,0.8658,0.9486,0.9732,0.743,0.6705,0.9726,0.9413,0.9001,0.9749,0.2812,0.9775,0.9538,0.9623,0.836,0.9719,0.9628,0.9154,0.9764,0.9601,0.9834,0.8271,0.8261,0.4325,0.9858,0.8555,0.6802,0.8316,0.985,0.9957,0.7783,0.6369,0.8517,0.6808,0.9571,0.6705,0.9862,0.8126,0.5776,0.91,0.9862,0.9432,0.9678,0.9793,0.9866,0.987,0.9855,0.9509,0.9595,0.9246,0.8885,0.9879,0.982,0.991,0.9816,0.9601,0.93,0.8934,0.8779,0.9287,0.9201,0.7152,0.971,0.988,0.9682,0.9509,0.8089,0.9753,0.6369,0.9834,0.8591,0.9371,0.8979,0.9894,0.765,0.6258,0.9805,0.9841,0.9836,0.886,0.9229,0.988,0.9186,0.9807,0.9506,0.7845,0.9872,0.8834,0.9079,0.9382,0.9246,0.891,0.8779,0.981,0.5423,0.8456,0.9738,0.9894,0.5423,0.9618,0.9825,0.9705,0.8442,0.8957,0.4404,0.99,0.9941,0.9596,0.8131,0.9246,0.9702,0.9338,0.9081,0.9847,0.6697,0.984,0.9905,0.9823,0.8834,0.9941,0.8481,0.1531,0.8723,0.4525,0.7572,0.9623,0.6705,0.9712,0.9805,0.8686,0.9423,0.8625,0.8442,0.9552,0.3612,0.9808,0.9509,0.9609,0.9826,0.9674,0.9821,0.9753,0.0772,0.8197,0.8316,0.9495,0.9153,0.9468,0.9744,0.9654,0.5859,0.6249,0.9652,0.7717,0.9201,0.9766,0.9705,0.8555,0.9985,0.9774,0.7351,0.9901,0.9403,0.9792,0.8555,0.1779,0.8307,0.9834,0.9712,0.9989,0.9832,0.9907,0.9786,0.9678,0.9403,0.9906,0.7845,0.8934,0.9941,0.8271,0.7964,0.9761,0.9836,0.8176,0.9413,0.9783,0.9566,0.9741,0.875,0.9563,0.9961,0.4767,0.9571,0.5267,0.8979,0.9595,0.9831,0.991,0.7579,0.3523,0.9682,0.9493,0.6908,0.9413,0.9779,0.6597,0.4588,0.6597,0.8591,0.8074,0.9633,0.9414,0.9566,0.802,0.6486,0.7003,0.6908,0.9246,0.9451,0.4939,0.9846,0.9738,0.9732,0.9231,0.9855,0.8885,0.6421,0.9393,0.8658,0.9118,0.9896,0.9829,0.958,0.9674,0.9517,0.9652,0.9741,0.9565,0.7184,0.97,0.9716,0.9313,0.9313,0.956,0.9801,0.7906,0.9794,0.9932,0.25,0.8807,0.969,0.9887,0.9806,0.7003,0.946,0.975,0.8116,0.8885,0.9531,0.9735,0.9818,0.9735,0.9442,0.9674,0.2263,0.9325,0.9766,0.9538,0.8834,0.5818,0.9635,0.9077,0.9623,0.7845,0.7579,0.9842,0.9601,0.984,0.9843,0.9705,0.9243,0.9986,0.9578,0.8647,0.9664,0.9652,0.9814,0.9628,0.6836,0.9274,0.8807,0.7269,0.9674,0.5994,0.9814,0.9638,0.7003,0.6908,0.9607,0.9955,0.8225,0.9432,0.9826,0.9538,0.9403,0.9881,0.9729,0.9915,0.5445,0.985,0.9875,0.929,0.128,0.9818,0.9709,0.9809,0.9382,0.9545,0.9865,0.9989,0.8014,0.9756,0.9201,0.9618,0.976,0.9621,0.7845,0.1779,0.9501,0.976,0.9246,0.9931,0.9001,0.9001,0.886,0.9477,0.9917,0.9382,0.9878,0.9918,0.5719,0.9744,0.8779,0.9118,0.9292,0.9375,0.7845,0.9442,0.872,0.8885,0.9823,0.9831,0.9707,0.9716,0.9732,0.9883,0.0516,0.9403,0.7506,0.9702,0.8934,0.9451,0.2023,0.9937,0.9856,0.9337,0.9817,0.6705,0.7176,0.9719,0.9477,0.5106,0.9569,0.9201,0.9808,0.9612,0.8225,0.979,0.4696,0.9702,0.3612,0.9468,0.9572,0.8591,0.8716,0.8555,0.9907,0.8928,0.9828,0.8779,0.9788,0.7184,0.9442,0.9517,0.9559,0.936,0.9796,0.1779,0.9799,0.9674,0.9864,0.9623,0.9042,0.9552,0.7351,0.7351,0.9686,0.9879,0.988,0.981,0.9274,0.7906,0.926,0.7033,0.9842,0.9764,0.343,0.7351,0.4019,0.9643,0.9731,0.9495,0.8042,0.8126,0.875,0.8503,0.9948,0.9337,0.9423,0.975,0.967,0.9485,0.9698,0.8074,0.7717,0.9788,0.7506,0.9717,0.9001,0.9483,0.9468,0.9786,0.9393,0.8271,0.9694,0.984,0.6908,0.9971,0.8934,0.9921,0.8934,0.9217,0.9382,0.1027,0.9274,0.9423,0.4767,0.8446,0.6808,0.9565,0.4767,0.9517,0.9723,0.9337,0.9902,0.9042,0.9836,0.1531,0.9552,0.9524,0.9799,0.9559,0.7964,0.9818,0.8619,0.9477,0.9598,0.991,0.946,0.9472,0.8658,0.9638,0.4588,0.9875,0.8126,0.985,0.946,0.9337,0.99,0.936,0.9849,0.7964,0.3818,0.6524,0.5267,0.9719,0.9942,0.9958,0.9761,0.9732,0.9902,0.9728,0.9958,0.836,0.8442,0.9153,0.9062,0.926,0.6444,0.9883,0.8885,0.8481,0.9442,0.9729,0.9951,0.946,0.6124,0.7783,0.9618,0.8625,0.7845,0.971,0.6111,0.9599,0.4404,0.926,0.9198,0.9779,0.9931,0.975,0.9661,0.9877,0.926,0.8779,0.9565,0.8979,0.9618,0.4767,0.9432,0.8176,0.9062,0.9448,0.9892,0.9493,0.9612,0.9545,0.1779,0.9231,0.9678,0.9552,0.7964,0.5106,0.9371,0.5574,0.9434,0.986,0.9584,0.2648,0.7366,0.765,0.9863,0.9698,0.9761,0.9001,0.969,0.8126,0.9836,0.9911,0.9186,0.9531,0.9531,0.9657,0.7351,0.6705,0.9559,0.9648,0.982,0.9887,0.0772,0.1779,0.128,0.8885,0.9652,0.9676,0.9259,0.8885,0.9611,0.9001,0.9705,0.8402,0.7972,0.6705,0.9246,0.6808,0.891,0.9674,0.5423,0.872,0.984,0.9781,0.8807,0.9533,0.979,0.9153,0.9888,0.9808,0.7351,0.6597,0.9042,0.9851,0.9922,0.9509,0.5908,0.9497,0.9799,0.9313,0.9937,0.8834,0.8625,0.945,0.9897,0.9607,0.743,0.93,0.9935,0.9753,0.9584,0.9652,0.9821,0.0772,0.9545,0.9169,0.9702,0.9231,0.3818,0.9493,0.9928,0.9716,0.9808,0.9756,0.9975,0.5106,0.7964,0.1531,0.8753,0.9478,0.9957,0.296,0.9716,0.9933,0.5267,0.9769,0.4019,0.9803,0.9081,0.128,0.743,0.9719,0.9852,0.8617,0.9612,0.9531,0.0516,0.9769,0.8176,0.875,0.9136,0.9274,0.9893,0.9081,0.9349,0.9894,0.7906,0.9678,0.8688,0.967,0.9493,0.9538,0.7783,0.8126,0.3875,0.9937,0.5859,0.981,0.9423,0.9781,0.8934,0.969,0.936,0.9874,0.9274,0.9468,0.9887,0.9661,0.9846,0.992,0.6249,0.9633,0.979,0.8442,0.9702,0.9648,0.8519,0.9876,0.8442,0.956,0.5106,0.9975,0.6786,0.7845,0.8316,0.9313,0.7964,0.7951,0.7394,0.8807,0.926,0.9862,0.9619,0.9771,0.9001,0.9674,0.9558,0.6586,0.5435,0.1779,0.9682,0.9584,0.9287,0.9892,0.3182,0.9582,0.1935,0.9794,0.9623,0.3591,0.8779,0.9764,0.9081,0.9735,0.8603,0.9806,0.9371,0.9383,0.5267,0.979,0.9343,0.9955,0.9485,0.9393,0.9774,0.9633,0.9945,0.802,0.296,0.979,0.9789,0.9499,0.9958,0.9703,0.9042,0.9957,0.9729,0.9831,0.1531,0.8121,0.9823,0.9705,0.9565,0.9888,0.9674,0.0772,0.9886,0.9771,0.9784,0.9941,0.9517,0.9776,0.9835,0.4195,0.8225,0.9868,0.991,0.9231,0.9859,0.9859,0.9644,0.6908,0.9834,0.9382,0.9643,0.1779,0.9786,0.5828,0.9571,0.7717,0.9702,0.6486,0.6808,0.9947,0.8625,0.91,0.9509,0.875,0.985,0.9118,0.4588,0.7964,0.9831,0.9628,0.9937,0.9893,0.9274,0.9153,0.9153,0.9382,0.9633,0.9201,0.9691,0.8658,0.6994,0.9918,0.9509,0.2062,0.9432,0.9618,0.9853,0.9738,0.9756,0.6808,0.6597,0.9836,0.9231,0.9118,0.3182,0.9816,0.9608,0.9559,0.9657,0.9442,0.9451,0.8408,0.4019,0.7269,0.0772,0.2023,0.5859,0.9623,0.7184,0.9744,0.9682,0.9702,0.9477,0.7481,0.8442,0.9913,0.973,0.802,0.9912,0.6486,0.9633,0.9517,0.9136,0.8934,0.1779,0.9924,0.5986,0.8126,0.4654,0.9796,0.967,0.8316,0.969,0.6115,0.6705,0.8689,0.8979,0.9918,0.7003,0.9413,0.8316,0.9712,0.9595,0.8957,0.8957,0.9879,0.9836,0.93,0.9874,0.958,0.8625,0.946,0.6597,0.5716,0.9766,0.9201,0.9552,0.9906,0.6705,0.9432,0.9661,0.9937,0.8967,0.9946,0.945,0.9856,0.91,0.5859,0.9872,0.926,0.9081,0.0772,0.946,0.8591,0.9842,0.25,0.9824,0.9409,0.9602,0.9843,0.9774,0.836,0.8689,0.8225,0.8402,0.9246,0.1796,0.872,0.9477,0.9722,0.9799,0.9837,0.9716,0.9826,0.9732,0.9954,0.9451,0.9684,0.997,0.9879,0.9846,0.9973,0.8402,0.9795,0.9062,0.9803,0.997,0.9186,0.7579,0.9906,0.9185,0.8104,0.9944,0.9848,0.9926,0.9186,0.8481,0.9544,0.9584,0.9628,0.886,0.9935,0.9501,0.9331,0.9301,0.9786,0.9978,0.1796,0.9741,0.7003,0.749,0.9468,0.7184,0.9846,0.9118,0.9519,0.9698,0.6994,0.9534,0.9904,0.1027,0.875,0.9716,0.8481,0.9118,0.5994,0.9819,0.8074,0.9723,0.6705,0.5719,0.9764,0.0951,0.2732,0.9493,0.8689,0.164,0.9011,0.6124,0.9726,0.9928,0.9432,0.8658,0.2263,0.4019,0.8625,0.9925,0.8885,0.9255,0.8807,0.8225,0.9886,0.1999,0.9694,0.4588,0.975,0.9287,0.4912,0.936,0.9325,0.9413,0.9272,0.7579,0.9584,0.9601,0.9694,0.0772,0.9895,0.8807,0.9417,0.908,0.9967,0.9623,0.9509,0.802,0.6486,0.9413,0.9801,0.9821,0.4588,0.7934,0.9633,0.9769,0.9042,0.8658,0.9956,0.9153,0.99,0.9413,0.9678,0.8342,0.9792,0.9951,0.3173,0.9812,0.872,0.9894,0.1531,0.6369,0.9947,0.9819,0.3167,0.6486,0.8817,0.9698,0.9643,0.7003,0.9958,0.3777,0.9876,0.9806,0.431,0.986,0.9823,0.8126,0.6249,0.7906,0.6997,0.8225,0.9559,0.9907,0.9872,0.91,0.8658,0.9949,0.979,0.9666,0.296,0.9862,0.9201,0.9837,0.8834,0.9568,0.9839,0.8908,0.9973,0.9858,0.9884,0.9468,0.9947,0.936,0.9892,0.2023,0.9787,0.8726,0.986,0.7634,0.946,0.9964,0.9908,0.9325,0.2263,0.9661,0.9552,0.9933,0.994,0.743,0.9884,0.9752,0.5859,0.9595,0.9852,0.4588,0.9186,0.9578,0.99,0.9874,0.7964,0.8316,0.9927,0.8689,0.946,0.9901,0.9892,0.9783,0.969,0.6054,0.9705,0.1566,0.9758,0.8316,0.9777,0.7783,0.6808,0.8934,0.8534,0.9896,0.9137,0.9947,0.7964,0.9885,0.9719,0.9837,0.891,0.9816,0.8885,0.8834,0.955,0.921,0.9081,0.9698,0.9679,0.969,0.9973,0.9446],\"xaxis\":\"x\",\"yaxis\":\"y\",\"type\":\"histogram\"},{\"alignmentgroup\":\"True\",\"boxpoints\":\"all\",\"fillcolor\":\"rgba(255,255,255,0)\",\"hoveron\":\"points\",\"hovertemplate\":\"Etiqueta=positivo\\u003cbr\\u003ePuntaje Total=%{x}\\u003cextra\\u003e\\u003c\\u002fextra\\u003e\",\"jitter\":0,\"legendgroup\":\"positivo\",\"line\":{\"color\":\"rgba(255,255,255,0)\"},\"marker\":{\"color\":\"#EF553B\",\"symbol\":\"line-ns-open\"},\"name\":\"positivo\",\"offsetgroup\":\"positivo\",\"showlegend\":false,\"x\":[0.7863,0.5389,0.7096,0.936,0.8658,0.836,0.8126,0.8144,0.1779,0.4215,0.9601,0.872,0.9783,0.9682,0.9186,0.875,0.4939,0.7184,0.959,0.9552,0.9844,0.9215,0.7351,0.9186,0.7648,0.3071,0.9639,0.7717,0.6808,0.9661,0.8442,0.969,0.9337,0.25,0.9922,0.6151,0.9423,0.4377,0.7003,0.743,0.6808,0.9705,0.9571,0.9825,0.2023,0.9119,0.875,0.9836,0.2023,0.9001,0.886,0.1796,0.34,0.6249,0.9413,0.2732,0.9924,0.6994,0.5719,0.9744,0.5106,0.8779,0.7964,0.6705,0.6124,0.9536,0.9833,0.8402,0.9834,0.5574,0.9732,0.7518,0.8979,0.836,0.765,0.8074,0.0516,0.9694,0.8442,0.9865,0.3843,0.9231,0.9201,0.883,0.9698,0.8591,0.9118,0.9136,0.4019,0.9195,0.9081,0.796,0.9584,0.3987,0.2732,0.8817,0.7722,0.4297,0.9217,0.9001,0.8126,0.785,0.8706,0.2263,0.9992,0.8858,0.2263,0.7717,0.9702,0.6369,0.886,0.7304,0.9442,0.9021,0.1548,0.9432,0.0516,0.9136,0.9451,0.1406,0.9814,0.8074,0.6908,0.8957,0.9231,0.8481,0.4767,0.886,0.9726,0.2732,0.9485,0.7506,0.9651,0.9828,0.9567,0.8779,0.6908,0.9432,0.9868,0.1275,0.5233,0.2732,0.9231,0.7003,0.296,0.9794,0.6908,0.7964,0.9747,0.8271,0.4019,0.9947,0.4791,0.765,0.8126,0.9477,0.7004,0.4767,0.6249,0.6249,0.9485,0.1621,0.0516,0.9887,0.2023,0.9572,0.7783,0.8885,0.9531,0.9169,0.8126,0.9583,0.7845,0.7906,0.9485,0.9169,0.765,0.891,0.9883,0.5574,0.9552,0.8807,0.8633,0.7845,0.3818,0.8591,0.5106,0.8074,0.6621,0.836,0.9349,0.8336,0.9242,0.831,0.91,0.9904,0.6182,0.9894,0.9633,0.296,0.7964,0.1027,0.9833,0.8625,0.6204,0.453,0.6705,0.1779,0.765,0.4522,0.9882,0.4215,0.5423,0.8555,0.947,0.1531,0.8689,0.9393,0.8885,0.6369,0.9524,0.9836,0.9879,0.6124,0.5719,0.7488,0.9783,0.8807,0.8625,0.9851,0.936,0.8689,0.6213,0.6705,0.969,0.5859,0.9204,0.0516,0.2263,0.34,0.9855,0.3472,0.9654,0.6249,0.8891,0.1531,0.9682,0.9457,0.6802,0.3612,0.3612,0.9153,0.7783,0.8658,0.128,0.9774,0.7839,0.2263,0.9812,0.891,0.0754,0.9537,0.6597,0.9477,0.9081,0.8957,0.8983,0.5423,0.296,0.9001,0.7717,0.0772,0.1779,0.5279,0.5994,0.7942,0.6486,0.6597,0.7351,0.6975,0.5267,0.2732,0.8979,0.9516,0.5432,0.9509,0.9812,0.1779,0.8225,0.9485,0.9671,0.926,0.3818,0.9303,0.8932,0.6908,0.9042,0.9228,0.8519,0.7579,0.91,0.7906,0.9686,0.9527,0.7003,0.9805,0.9732,0.9896,0.9274,0.4939,0.7269,0.8807,0.7506,0.9356,0.5574,0.2075,0.9628,0.8779,0.8957,0.9081,0.7928,0.8402,0.743,0.891,0.8126,0.1045,0.9828,0.9601,0.9485,0.891,0.979,0.9788,0.25,0.7269,0.7579,0.9153,0.6369,0.34,0.9377,0.8442,0.9511,0.8885,0.2263,0.7351,0.5574,0.9792,0.9079,0.9946,0.0516,0.7105,0.4404,0.8481,0.33,0.8481,0.5106,0.8807,0.8434,0.9776,0.25,0.9886,0.8591,0.1027,0.6749,0.5574,0.8555,0.8591,0.9202,0.9934,0.9834,0.875,0.7184,0.9492,0.9847,0.1531,0.4215,0.9217,0.9022,0.8979,0.9887,0.8126,0.9879,0.8834,0.7906,0.5574,0.4767,0.7144,0.5423,0.9862,0.8658,0.875,0.296,0.7269,0.7533,0.9203,0.9442,0.9909,0.7264,0.5994,0.8316,0.7165,0.9113,0.4939,0.296,0.5106,0.7579,0.1348,0.3348,0.6808,0.4215,0.1513,0.0516,0.6369,0.91,0.9231,0.9607,0.8126,0.8481,0.8996,0.9201,0.9136,0.8885,0.3182,0.8969,0.7506,0.9393,0.8942,0.9705,0.296,0.3523,0.7964,0.5165,0.93,0.0644,0.9904,0.9709,0.9899,0.4404,0.7906,0.8979,0.9876,0.4767,0.1027,0.3182,0.7964,0.8974,0.34,0.1779,0.296,0.8689,0.7178,0.7351,0.8656,0.93,0.9231,0.9643,0.2263,0.2193,0.9186,0.9413,0.6908,0.5859,0.936,0.886,0.7964,0.9325,0.765,0.9246,0.9774,0.9723,0.9186,0.25,0.34,0.836,0.8934,0.8591,0.765,0.9595,0.4588,0.4767,0.7812,0.5994,0.7579,0.7003,0.9022,0.9732,0.7351,0.5423,0.9584,0.296,0.296,0.9571,0.9734,0.9764,0.9001,0.8658,0.9914,0.9559,0.872,0.9664,0.1685,0.6597,0.9287,0.945,0.9889,0.4767,0.4019,0.9186,0.959,0.9153,0.875,0.9938,0.9231,0.9522,0.8049,0.4497,0.8074,0.9403,0.9815,0.3818,0.9657,0.4019,0.9239,0.836,0.6705,0.8271,0.2023,0.6815,0.8625,0.7147,0.891,0.8271,0.9902,0.8225,0.8834,0.6062,0.8402,0.5209,0.3168,0.6249,0.9153,0.0772,0.9618,0.8625,0.6499,0.9275,0.8402,0.7717,0.8959,0.836,0.802,0.979,0.8316,0.8674,0.9545,0.8225,0.8689,0.9638,0.9893,0.6124,0.979,0.9207,0.6124,0.6267,0.765,0.9403,0.9927,0.9042,0.128,0.7783,0.25,0.9827,0.6249,0.8126,0.9748,0.9287,0.296,0.7351,0.8885,0.984,0.7506,0.9423,0.8363,0.2693,0.6605,0.891,0.8126,0.8442,0.4404,0.0516,0.9325,0.8779,0.5984,0.8708,0.4019,0.1027,0.9531,0.8591,0.979,0.8176,0.7506,0.0534,0.9854,0.9584,0.9517,0.936,0.891,0.9559,0.8979,0.9969,0.8778,0.9201,0.8979,0.7506,0.9678,0.7081,0.9607,0.2732,0.9506,0.1027,0.9962,0.9274,0.9864,0.7096,0.743,0.9633,0.6124,0.7582,0.9913,0.5859,0.9485,0.9559,0.1531,0.9831,0.2415,0.9931,0.936,0.9829,0.9796,0.9552,0.9403,0.3086,0.6743,0.9287,0.5994,0.9524,0.9231,0.8689,0.5829,0.3321,0.9831,0.6656,0.9884,0.8047,0.9652,0.3818,0.9042,0.8481,0.296,0.9883,0.3612,0.7351,0.9779,0.8685,0.2263,0.8658,0.9976,0.7269,0.8979,0.9303,0.6908,0.9829,0.93,0.9509,0.9729,0.2023,0.296,0.3806,0.5574,0.6808,0.9849,0.25,0.6244,0.9559,0.9674,0.8627,0.973,0.6249,0.128,0.9531,0.7579,0.2263,0.9165,0.5574,0.719,0.9803,0.7184,0.7512,0.8,0.765,0.2263,0.7964,0.9839,0.9433,0.6908,0.9153,0.6249,0.9906,0.7269,0.1867,0.9938,0.9442,0.3818,0.9674,0.4019,0.875,0.8884,0.9788,0.8591,0.4939,0.8807,0.91,0.9783,0.7717,0.8779,0.9776,0.93,0.4939,0.9382,0.9909,0.9732,0.9709,0.9934,0.9062,0.7269,0.3818,0.7347,0.9633,0.7906,0.1027,0.3612,0.0772,0.9788,0.9638,0.5187,0.7287,0.9842,0.9371,0.8814,0.8074,0.9884,0.802,0.6249,0.7906,0.722,0.8402,0.9569,0.9607,0.7906,0.9382,0.9413,0.9371,0.9545,0.9907,0.1027,0.9775,0.8074,0.6486,0.9432,0.7579,0.7902,0.975,0.25,0.9897,0.25,0.4939,0.981,0.8834,0.7579,0.8176,0.9612,0.9313,0.7096,0.6675,0.8316,0.9565,0.0516,0.802,0.8481,0.9856,0.9834,0.8834,0.7783,0.9823,0.7506,0.9925,0.7584,0.5719,0.6249,0.8074,0.9917,0.9337,0.9403,0.3612,0.9337,0.875,0.0516,0.8091,0.6369,0.7717,0.4215,0.7845,0.9001,0.25,0.8689,0.91,0.8591,0.9816,0.9612,0.5106,0.9501,0.5574,0.8442,0.9451,0.9393,0.946,0.7003,0.6369,0.9217,0.9682,0.6222,0.8807,0.959,0.7096,0.6362,0.9501,0.9661,0.2887,0.8885,0.886,0.9559,0.8646,0.946,0.9837,0.9702,0.4215,0.6479,0.9616,0.1027,0.3612,0.7884,0.9794,0.5559,0.9531,0.8994,0.8176,0.1779,0.7906,0.2023,0.9081,0.7845,0.8689,0.6249,0.4253,0.836,0.9738,0.128,0.5994,0.9186,0.7906,0.8074,0.9557,0.6369,0.875,0.8126,0.874,0.9758,0.296,0.9538,0.9153,0.8934,0.969,0.9601,0.9393,0.1531,0.3818,0.8316,0.8225,0.6369,0.891,0.9764,0.9081,0.7003,0.3353,0.9721,0.9413,0.9652,0.1796,0.9676,0.7803,0.6157,0.9624,0.6124,0.8176,0.9398,0.9393,0.4939,0.1779,0.8957,0.2458,0.802,0.9788,0.9325,0.986,0.9893,0.9595,0.9776,0.7783,0.8955,0.9815,0.9458,0.9274,0.9325,0.8801,0.7825,0.6369,0.7237,0.9545,0.5859,0.7823,0.5994,0.3612,0.9781,0.8689,0.836,0.9169,0.8316,0.9081,0.7096,0.5267,0.743,0.4172,0.9393,0.7269,0.8445,0.9508,0.8074,0.6486,0.7717,0.9841,0.7003,0.9761,0.9703,0.8126,0.9627,0.224,0.315,0.8677,0.4203,0.802,0.9349,0.6249,0.4404,0.0679,0.6597,0.5972,0.1027,0.9865,0.9186,0.8591,0.7096,0.9781,0.7275,0.836,0.2732,0.8805,0.9927,0.765,0.5789,0.3804,0.8316,0.2023,0.91,0.8839,0.9538,0.5076,0.6369,0.8831,0.8555,0.966,0.7262,0.8979,0.603,0.9001,0.0772,0.4215,0.3252,0.9252,0.8637,0.3226,0.1779,0.963,0.6486,0.4588,0.9118,0.8603,0.9931,0.9773,0.4404,0.8682,0.5423,0.9022,0.2665,0.6384,0.7483,0.8591,0.8271,0.1531,0.9509,0.9722,0.9601,0.6956,0.9723,0.1585,0.8074,0.9136,0.5106,0.9755,0.9451,0.875,0.7783,0.93,0.7579,0.8779,0.8481,0.5994,0.5423,0.9201,0.8138,0.0772,0.8885,0.765,0.9725,0.5267,0.9382,0.836,0.2263,0.1288,0.4877,0.9333,0.9479,0.9382,0.2782,0.4019,0.9666,0.4019,0.6705,0.296,0.9413,0.4404,0.5859,0.9607,0.9601,0.128,0.9325,0.8658,0.9069,0.8245,0.5994,0.7845,0.9287,0.3818,0.7269,0.9669,0.6705,0.8689,0.8779,0.7351,0.4019,0.9849,0.5994,0.8834,0.936,0.0516,0.886,0.8965,0.9246,0.7351,0.9735,0.9501,0.7351,0.7579,0.9826,0.926,0.9803,0.9878,0.886,0.9169,0.5553,0.9466,0.9774,0.926,0.7906,0.9042,0.9984,0.959,0.9729,0.34,0.9382,0.9486,0.4779,0.891,0.3798,0.7351,0.5267,0.7717,0.97,0.1045,0.5719,0.5994,0.1901,0.9451,0.8941,0.9818,0.7783,0.9723,0.2909,0.6597,0.4588,0.8519,0.8491,0.8961,0.7783,0.3612,0.9628,0.6044,0.7003,0.9359,0.7885,0.8519,0.4019,0.9753,0.4767,0.7661,0.85,0.9349,0.9698,0.8519,0.4215,0.9524,0.5106,0.9682,0.9945,0.6908,0.8807,0.8402,0.6124,0.5456,0.3378,0.886,0.9738,0.6369,0.9855,0.2732,0.7293,0.7096,0.9732,0.4404,0.5003,0.5868,0.3818,0.4201,0.9231,0.9503,0.1598,0.9042,0.7003,0.872,0.8481,0.9786,0.9477,0.128,0.9423,0.8442,0.9524,0.9676,0.875,0.9584,0.1796,0.8604,0.9062,0.6486,0.7096,0.8074,0.0747,0.9761,0.6486,0.9552,0.9766,0.9628,0.8271,0.9775,0.8779,0.9274,0.9337,0.836,0.0772,0.8555,0.9905,0.9538,0.9612,0.4767,0.7708,0.9883,0.9941,0.836,0.8481,0.9541,0.9796,0.8942,0.9822,0.8975,0.8402,0.9595,0.7579,0.7269,0.6908,0.1027,0.9648,0.9402,0.9726,0.9371,0.9946,0.6469,0.745,0.5374,0.886,0.9816,0.9935,0.7296,0.7096,0.9468,0.9661,0.959,0.8484,0.6597,0.969,0.7227,0.9534,0.296,0.765,0.9872,0.9808,0.9277,0.1531,0.9442,0.2023,0.6994,0.5106,0.0772,0.8316,0.9022,0.9117,0.8137,0.9493,0.1779,0.9565,0.6369,0.3612,0.9153,0.8442,0.886,0.9871,0.8934,0.9824,0.9613,0.8442,0.0516,0.9325,0.128,0.4588,0.9918,0.9158,0.7845,0.9201,0.8884,0.9803,0.8271,0.9136,0.9246,0.296,0.926,0.9844,0.9975,0.9756,0.9725,0.9694,0.9702,0.9878,0.4951,0.9711,0.2668,0.9806,0.9538,0.7841,0.9628,0.8712,0.6908,0.9201,0.9923,0.9682,0.296,0.9887,0.9468,0.8916,0.8225,0.9274,0.1516,0.8883,0.8957,0.5435,0.9042,0.8519,0.7578,0.9643,0.9808,0.9062,0.9875,0.9661,0.5574,0.9875,0.6597,0.9873,0.9828,0.8077,0.9393,0.9349,0.9584,0.9852,0.8979,0.9794,0.9895,0.5106,0.9805,0.924,0.9524,0.5423,0.9924,0.7783,0.743,0.9517,0.9729,0.986,0.934,0.8807,0.9287,0.5678,0.1779,0.9859,0.743,0.9897,0.964,0.9953,0.946,0.1027,0.3847,0.6908,0.9854,0.8834,0.872,0.9493,0.9501,0.8555,0.9122,0.8126,0.8519,0.969,0.924,0.7845,0.9716,0.9511,0.9501,0.9501,0.5719,0.9806,0.9287,0.9866,0.9287,0.9313,0.9042,0.8481,0.34,0.9698,0.9877,0.9744,0.9172,0.9801,0.8078,0.977,0.872,0.9936,0.9924,0.946,0.7783,0.9927,0.9758,0.9652,0.9605,0.8779,0.6898,0.9958,0.9413,0.926,0.9246,0.9769,0.9349,0.8225,0.9773,0.8151,0.9447,0.995,0.9953,0.9547,0.7502,0.9794,0.9509,0.8658,0.9795,0.9896,0.8625,0.9545,0.5267,0.975,0.8074,0.9793,0.8176,0.9571,0.8957,0.9941,0.9545,0.7783,0.9565,0.7269,0.9382,0.9881,0.9485,0.9801,0.9833,0.9837,0.9788,0.936,0.8519,0.9744,0.8934,0.9705,0.9788,0.9931,0.946,0.9709,0.98,0.988,0.8934,0.836,0.9656,0.9925,0.9879,0.743,0.9952,0.8235,0.2263,0.6068,0.9612,0.9899,0.9953,0.8623,0.9501,0.9548,0.9336,0.7845,0.836,0.9805,0.9201,0.7506,0.8555,0.6486,0.5574,0.8779,0.936,0.4215,0.9944,0.9552,0.9774,0.836,0.9618,0.9812,0.9808,0.9517,0.9983,0.9403,0.9594,0.9925,0.8885,0.9607,0.9578,0.0747,0.7964,0.765,0.9978,0.9922,0.9118,0.7906,0.9944,0.9814,0.5168,0.9783,0.8806,0.5574,0.6573,0.9136,0.9911,0.872,0.9865,0.9771,0.8885,0.8591,0.7269,0.8519,0.9816,0.9846,0.5719,0.9818,0.7906,0.9936,0.9468,0.5859,0.9931,0.8655,0.9683,0.9568,0.9786,0.8689,0.9712,0.9666,0.9783,0.9816,0.9797,0.9081,0.9325,0.9878,0.9744,0.7506,0.9117,0.9702,0.9349,0.9349,0.6908,0.9928,0.8885,0.8591,0.9673,0.872,0.9477,0.9805,0.9843,0.9844,0.9732,0.4404,0.9843,0.981,0.9781,0.9974,0.9835,0.9702,0.9786,0.9502,0.1376,0.9705,0.9531,0.9468,0.3818,0.9472,0.9844,0.4404,0.4215,0.984,0.9698,0.9871,0.875,0.9732,0.7783,0.9565,0.9042,0.875,0.9001,0.9618,0.5423,0.9652,0.8591,0.9766,0.7635,0.9477,0.9432,0.9682,0.9564,0.9337,0.9836,0.9839,0.9926,0.617,0.886,0.8957,0.891,0.9926,0.9584,0.9559,0.9313,0.9477,0.0516,0.9468,0.9246,0.986,0.9682,0.9744,0.9975,0.9246,0.6908,0.765,0.9601,0.9944,0.9201,0.802,0.9531,0.9454,0.8316,0.9894,0.7717,0.8069,0.7506,0.4404,0.9836,0.8481,0.3182,0.7964,0.9423,0.9924,0.872,0.9513,0.8896,0.926,0.6815,0.946,0.8761,0.9702,0.9829,0.7184,0.9916,0.9349,0.9423,0.6369,0.9531,0.7845,0.8126,0.9313,0.2023,0.9904,0.9942,0.9657,0.9719,0.9493,0.9451,0.9468,0.9938,0.9545,0.9454,0.8957,0.9747,0.9788,0.9313,0.9274,0.9612,0.8555,0.8126,0.9735,0.6124,0.93,0.9723,0.8126,0.9716,0.9868,0.8718,0.9887,0.9521,0.9927,0.9571,0.886,0.875,0.9449,0.9274,0.7184,0.8402,0.9889,0.9792,0.9657,0.93,0.1551,0.9217,0.9042,0.9382,0.9861,0.9684,0.7495,0.9451,0.9758,0.9894,0.7076,0.9953,0.6486,0.9829,0.8555,0.9896,0.872,0.9595,0.9682,0.9493,0.9652,0.6908,0.7198,0.6981,0.8657,0.9201,0.9924,0.9587,0.9403,0.3182,0.9801,0.836,0.9805,0.872,0.9979,0.9682,0.7003,0.7003,0.9712,0.9898,0.9509,0.9393,0.9638,0.8917,0.9836,0.9393,0.8126,0.9761,0.9337,0.9823,0.9633,0.9313,0.2354,0.7738,0.973,0.1027,0.9723,0.9583,0.9485,0.891,0.9812,0.9274,0.9844,0.9371,0.998,0.891,0.9545,0.7964,0.9477,0.4939,0.2732,0.9857,0.9359,0.936,0.7351,0.765,0.9001,0.8316,0.3818,0.9895,0.9705,0.986,0.5245,0.3182,0.9862,0.9853,0.9803,0.9792,0.4019,0.9371,0.959,0.9778,0.926,0.985,0.9607,0.875,0.993,0.9776,0.8271,0.9399,0.9595,0.3182,0.6597,0.9833,0.3182,0.9917,0.6249,0.9779,0.9572,0.9062,0.9876,0.9477,0.9783,0.9934,0.6801,0.8777,0.6908,0.6597,0.7447,0.1027,0.9234,0.9813,0.9963,0.9652,0.743,0.9918,0.9872,0.5106,0.9313,0.8442,0.9698,0.9774,0.9881,0.9361,0.9914,0.6908,0.4215,0.9882,0.7845,0.9485,0.2263,0.9186,0.1144,0.8116,0.9136,0.3699,0.7906,0.9816,0.8591,0.9955,0.9923,0.9198,0.7918,0.9796,0.624,0.6224,0.9618,0.9652,0.9403,0.8524,0.9509,0.9705,0.8225,0.7964,0.9856,0.9552,0.7783,0.8911,0.539,0.9442,0.936,0.128,0.8481,0.9812,0.9887,0.9753,0.4939,0.6906,0.9413,0.9538,0.9246,0.9153,0.9517,0.4927,0.9529,0.9022,0.9868,0.9753,0.9784,0.9413,0.9938,0.6369,0.7506,0.9065,0.9988,0.9382,0.7184,0.9917,0.9771,0.9829,0.7003,0.9677,0.9042,0.9764,0.4767,0.9729,0.9961,0.9928,0.9143,0.9545,0.9819,0.981,0.5859,0.7579,0.9907,0.9661,0.91,0.8074,0.9826,0.9803,0.9878,0.9949,0.7845,0.6003,0.7727,0.9862,0.7351,0.9517,0.9538,0.9698,0.979,0.9996,0.9908,0.9382,0.9081,0.9538,0.987,0.9259,0.9545,0.9769,0.8885,0.9925,0.9893,0.9607,0.7579,0.9955,0.9594,0.9176,0.9761,0.8523,0.969,0.9452,0.8271,0.2732,0.5859,0.8591,0.3339,0.8442,0.5106,0.9974,0.981,0.967,0.9739,0.9935,0.955,0.9925,0.8591,0.6369,0.872,0.886,0.9918,0.9854,0.9931,0.7506,0.9477,0.9153,0.9712,0.9403,0.6909,0.891,0.8402,0.9628,0.9888,0.969,0.8126,0.9866,0.3182,0.9636,0.9868,0.765,0.9393,0.7778,0.8074,0.7845,0.0516,0.9716,0.9337,0.9926,0.3612,0.9325,0.7096,0.6597,0.9709,0.5994,0.8271,0.3246,0.9729,0.5563,0.975,0.9201,0.93,0.9552,0.8591,0.9524,0.875,0.0772,0.7003,0.9958,0.9022,0.9114,0.6369,0.296,0.9287,0.9552,0.774,0.9771,0.9878,0.9883,0.987,0.9442,0.9712,0.8979,0.9891,0.9786,0.9393,0.9918,0.6908,0.9545,0.802,0.9819,0.91,0.872,0.471,0.8979,0.7003,0.8591,0.8957,0.9517,0.9762,0.9769,0.951,0.7783,0.5574,0.969,0.8834,0.9618,0.9571,0.926,0.9669,0.9779,0.9864,0.9725,0.8519,0.9674,0.6285,0.9042,0.4019,0.9949,0.9927,0.7351,0.7024,0.9607,0.9169,0.9169,0.6705,0.9843,0.872,0.6369,0.926,0.9872,0.6808,0.9951,0.9274,0.9749,0.9917,0.8357,0.9881,0.9661,0.9943,0.5423,0.9711,0.4588,0.9589,0.9633,0.9524,0.9647,0.9682,0.9836,0.8934,0.2263,0.9468,0.9753,0.9896,0.9337,0.836,0.8956,0.9451,0.9571,0.9186,0.5859,0.872,0.9771,0.9812,0.9887,0.9694,0.9907,0.8934,0.6705,0.9371,0.9806,0.6705,0.9975,0.9652,0.9852,0.9709,0.5106,0.9571,0.6908,0.9117,0.993,0.5859,0.979,0.9231,0.9861,0.9678,0.9493,0.6124,0.802,0.8714,0.9684,0.9477,0.9654,0.9776,0.9062,0.9638,0.9546,0.9538,0.836,0.9559,0.9823,0.9875,0.9571,0.9812,0.4215,0.9652,0.9315,0.8779,0.4767,0.4404,0.946,0.0772,0.9612,0.9217,0.9716,0.6908,0.9851,0.9517,0.9524,0.9652,0.5719,0.959,0.9721,0.9552,0.9571,0.9907,0.9638,0.7964,0.8979,0.9656,0.2023,0.9912,0.9719,0.995,0.9393,0.9538,0.9812,0.9638,0.9413,0.9565,0.9895,0.7003,0.7351,0.3832,0.9509,0.8815,0.8211,0.6908,0.9799,0.743,0.836,0.1531,0.9962,0.9652,0.8658,0.9486,0.9732,0.743,0.6705,0.9726,0.9413,0.9001,0.9749,0.2812,0.9775,0.9538,0.9623,0.836,0.9719,0.9628,0.9154,0.9764,0.9601,0.9834,0.8271,0.8261,0.4325,0.9858,0.8555,0.6802,0.8316,0.985,0.9957,0.7783,0.6369,0.8517,0.6808,0.9571,0.6705,0.9862,0.8126,0.5776,0.91,0.9862,0.9432,0.9678,0.9793,0.9866,0.987,0.9855,0.9509,0.9595,0.9246,0.8885,0.9879,0.982,0.991,0.9816,0.9601,0.93,0.8934,0.8779,0.9287,0.9201,0.7152,0.971,0.988,0.9682,0.9509,0.8089,0.9753,0.6369,0.9834,0.8591,0.9371,0.8979,0.9894,0.765,0.6258,0.9805,0.9841,0.9836,0.886,0.9229,0.988,0.9186,0.9807,0.9506,0.7845,0.9872,0.8834,0.9079,0.9382,0.9246,0.891,0.8779,0.981,0.5423,0.8456,0.9738,0.9894,0.5423,0.9618,0.9825,0.9705,0.8442,0.8957,0.4404,0.99,0.9941,0.9596,0.8131,0.9246,0.9702,0.9338,0.9081,0.9847,0.6697,0.984,0.9905,0.9823,0.8834,0.9941,0.8481,0.1531,0.8723,0.4525,0.7572,0.9623,0.6705,0.9712,0.9805,0.8686,0.9423,0.8625,0.8442,0.9552,0.3612,0.9808,0.9509,0.9609,0.9826,0.9674,0.9821,0.9753,0.0772,0.8197,0.8316,0.9495,0.9153,0.9468,0.9744,0.9654,0.5859,0.6249,0.9652,0.7717,0.9201,0.9766,0.9705,0.8555,0.9985,0.9774,0.7351,0.9901,0.9403,0.9792,0.8555,0.1779,0.8307,0.9834,0.9712,0.9989,0.9832,0.9907,0.9786,0.9678,0.9403,0.9906,0.7845,0.8934,0.9941,0.8271,0.7964,0.9761,0.9836,0.8176,0.9413,0.9783,0.9566,0.9741,0.875,0.9563,0.9961,0.4767,0.9571,0.5267,0.8979,0.9595,0.9831,0.991,0.7579,0.3523,0.9682,0.9493,0.6908,0.9413,0.9779,0.6597,0.4588,0.6597,0.8591,0.8074,0.9633,0.9414,0.9566,0.802,0.6486,0.7003,0.6908,0.9246,0.9451,0.4939,0.9846,0.9738,0.9732,0.9231,0.9855,0.8885,0.6421,0.9393,0.8658,0.9118,0.9896,0.9829,0.958,0.9674,0.9517,0.9652,0.9741,0.9565,0.7184,0.97,0.9716,0.9313,0.9313,0.956,0.9801,0.7906,0.9794,0.9932,0.25,0.8807,0.969,0.9887,0.9806,0.7003,0.946,0.975,0.8116,0.8885,0.9531,0.9735,0.9818,0.9735,0.9442,0.9674,0.2263,0.9325,0.9766,0.9538,0.8834,0.5818,0.9635,0.9077,0.9623,0.7845,0.7579,0.9842,0.9601,0.984,0.9843,0.9705,0.9243,0.9986,0.9578,0.8647,0.9664,0.9652,0.9814,0.9628,0.6836,0.9274,0.8807,0.7269,0.9674,0.5994,0.9814,0.9638,0.7003,0.6908,0.9607,0.9955,0.8225,0.9432,0.9826,0.9538,0.9403,0.9881,0.9729,0.9915,0.5445,0.985,0.9875,0.929,0.128,0.9818,0.9709,0.9809,0.9382,0.9545,0.9865,0.9989,0.8014,0.9756,0.9201,0.9618,0.976,0.9621,0.7845,0.1779,0.9501,0.976,0.9246,0.9931,0.9001,0.9001,0.886,0.9477,0.9917,0.9382,0.9878,0.9918,0.5719,0.9744,0.8779,0.9118,0.9292,0.9375,0.7845,0.9442,0.872,0.8885,0.9823,0.9831,0.9707,0.9716,0.9732,0.9883,0.0516,0.9403,0.7506,0.9702,0.8934,0.9451,0.2023,0.9937,0.9856,0.9337,0.9817,0.6705,0.7176,0.9719,0.9477,0.5106,0.9569,0.9201,0.9808,0.9612,0.8225,0.979,0.4696,0.9702,0.3612,0.9468,0.9572,0.8591,0.8716,0.8555,0.9907,0.8928,0.9828,0.8779,0.9788,0.7184,0.9442,0.9517,0.9559,0.936,0.9796,0.1779,0.9799,0.9674,0.9864,0.9623,0.9042,0.9552,0.7351,0.7351,0.9686,0.9879,0.988,0.981,0.9274,0.7906,0.926,0.7033,0.9842,0.9764,0.343,0.7351,0.4019,0.9643,0.9731,0.9495,0.8042,0.8126,0.875,0.8503,0.9948,0.9337,0.9423,0.975,0.967,0.9485,0.9698,0.8074,0.7717,0.9788,0.7506,0.9717,0.9001,0.9483,0.9468,0.9786,0.9393,0.8271,0.9694,0.984,0.6908,0.9971,0.8934,0.9921,0.8934,0.9217,0.9382,0.1027,0.9274,0.9423,0.4767,0.8446,0.6808,0.9565,0.4767,0.9517,0.9723,0.9337,0.9902,0.9042,0.9836,0.1531,0.9552,0.9524,0.9799,0.9559,0.7964,0.9818,0.8619,0.9477,0.9598,0.991,0.946,0.9472,0.8658,0.9638,0.4588,0.9875,0.8126,0.985,0.946,0.9337,0.99,0.936,0.9849,0.7964,0.3818,0.6524,0.5267,0.9719,0.9942,0.9958,0.9761,0.9732,0.9902,0.9728,0.9958,0.836,0.8442,0.9153,0.9062,0.926,0.6444,0.9883,0.8885,0.8481,0.9442,0.9729,0.9951,0.946,0.6124,0.7783,0.9618,0.8625,0.7845,0.971,0.6111,0.9599,0.4404,0.926,0.9198,0.9779,0.9931,0.975,0.9661,0.9877,0.926,0.8779,0.9565,0.8979,0.9618,0.4767,0.9432,0.8176,0.9062,0.9448,0.9892,0.9493,0.9612,0.9545,0.1779,0.9231,0.9678,0.9552,0.7964,0.5106,0.9371,0.5574,0.9434,0.986,0.9584,0.2648,0.7366,0.765,0.9863,0.9698,0.9761,0.9001,0.969,0.8126,0.9836,0.9911,0.9186,0.9531,0.9531,0.9657,0.7351,0.6705,0.9559,0.9648,0.982,0.9887,0.0772,0.1779,0.128,0.8885,0.9652,0.9676,0.9259,0.8885,0.9611,0.9001,0.9705,0.8402,0.7972,0.6705,0.9246,0.6808,0.891,0.9674,0.5423,0.872,0.984,0.9781,0.8807,0.9533,0.979,0.9153,0.9888,0.9808,0.7351,0.6597,0.9042,0.9851,0.9922,0.9509,0.5908,0.9497,0.9799,0.9313,0.9937,0.8834,0.8625,0.945,0.9897,0.9607,0.743,0.93,0.9935,0.9753,0.9584,0.9652,0.9821,0.0772,0.9545,0.9169,0.9702,0.9231,0.3818,0.9493,0.9928,0.9716,0.9808,0.9756,0.9975,0.5106,0.7964,0.1531,0.8753,0.9478,0.9957,0.296,0.9716,0.9933,0.5267,0.9769,0.4019,0.9803,0.9081,0.128,0.743,0.9719,0.9852,0.8617,0.9612,0.9531,0.0516,0.9769,0.8176,0.875,0.9136,0.9274,0.9893,0.9081,0.9349,0.9894,0.7906,0.9678,0.8688,0.967,0.9493,0.9538,0.7783,0.8126,0.3875,0.9937,0.5859,0.981,0.9423,0.9781,0.8934,0.969,0.936,0.9874,0.9274,0.9468,0.9887,0.9661,0.9846,0.992,0.6249,0.9633,0.979,0.8442,0.9702,0.9648,0.8519,0.9876,0.8442,0.956,0.5106,0.9975,0.6786,0.7845,0.8316,0.9313,0.7964,0.7951,0.7394,0.8807,0.926,0.9862,0.9619,0.9771,0.9001,0.9674,0.9558,0.6586,0.5435,0.1779,0.9682,0.9584,0.9287,0.9892,0.3182,0.9582,0.1935,0.9794,0.9623,0.3591,0.8779,0.9764,0.9081,0.9735,0.8603,0.9806,0.9371,0.9383,0.5267,0.979,0.9343,0.9955,0.9485,0.9393,0.9774,0.9633,0.9945,0.802,0.296,0.979,0.9789,0.9499,0.9958,0.9703,0.9042,0.9957,0.9729,0.9831,0.1531,0.8121,0.9823,0.9705,0.9565,0.9888,0.9674,0.0772,0.9886,0.9771,0.9784,0.9941,0.9517,0.9776,0.9835,0.4195,0.8225,0.9868,0.991,0.9231,0.9859,0.9859,0.9644,0.6908,0.9834,0.9382,0.9643,0.1779,0.9786,0.5828,0.9571,0.7717,0.9702,0.6486,0.6808,0.9947,0.8625,0.91,0.9509,0.875,0.985,0.9118,0.4588,0.7964,0.9831,0.9628,0.9937,0.9893,0.9274,0.9153,0.9153,0.9382,0.9633,0.9201,0.9691,0.8658,0.6994,0.9918,0.9509,0.2062,0.9432,0.9618,0.9853,0.9738,0.9756,0.6808,0.6597,0.9836,0.9231,0.9118,0.3182,0.9816,0.9608,0.9559,0.9657,0.9442,0.9451,0.8408,0.4019,0.7269,0.0772,0.2023,0.5859,0.9623,0.7184,0.9744,0.9682,0.9702,0.9477,0.7481,0.8442,0.9913,0.973,0.802,0.9912,0.6486,0.9633,0.9517,0.9136,0.8934,0.1779,0.9924,0.5986,0.8126,0.4654,0.9796,0.967,0.8316,0.969,0.6115,0.6705,0.8689,0.8979,0.9918,0.7003,0.9413,0.8316,0.9712,0.9595,0.8957,0.8957,0.9879,0.9836,0.93,0.9874,0.958,0.8625,0.946,0.6597,0.5716,0.9766,0.9201,0.9552,0.9906,0.6705,0.9432,0.9661,0.9937,0.8967,0.9946,0.945,0.9856,0.91,0.5859,0.9872,0.926,0.9081,0.0772,0.946,0.8591,0.9842,0.25,0.9824,0.9409,0.9602,0.9843,0.9774,0.836,0.8689,0.8225,0.8402,0.9246,0.1796,0.872,0.9477,0.9722,0.9799,0.9837,0.9716,0.9826,0.9732,0.9954,0.9451,0.9684,0.997,0.9879,0.9846,0.9973,0.8402,0.9795,0.9062,0.9803,0.997,0.9186,0.7579,0.9906,0.9185,0.8104,0.9944,0.9848,0.9926,0.9186,0.8481,0.9544,0.9584,0.9628,0.886,0.9935,0.9501,0.9331,0.9301,0.9786,0.9978,0.1796,0.9741,0.7003,0.749,0.9468,0.7184,0.9846,0.9118,0.9519,0.9698,0.6994,0.9534,0.9904,0.1027,0.875,0.9716,0.8481,0.9118,0.5994,0.9819,0.8074,0.9723,0.6705,0.5719,0.9764,0.0951,0.2732,0.9493,0.8689,0.164,0.9011,0.6124,0.9726,0.9928,0.9432,0.8658,0.2263,0.4019,0.8625,0.9925,0.8885,0.9255,0.8807,0.8225,0.9886,0.1999,0.9694,0.4588,0.975,0.9287,0.4912,0.936,0.9325,0.9413,0.9272,0.7579,0.9584,0.9601,0.9694,0.0772,0.9895,0.8807,0.9417,0.908,0.9967,0.9623,0.9509,0.802,0.6486,0.9413,0.9801,0.9821,0.4588,0.7934,0.9633,0.9769,0.9042,0.8658,0.9956,0.9153,0.99,0.9413,0.9678,0.8342,0.9792,0.9951,0.3173,0.9812,0.872,0.9894,0.1531,0.6369,0.9947,0.9819,0.3167,0.6486,0.8817,0.9698,0.9643,0.7003,0.9958,0.3777,0.9876,0.9806,0.431,0.986,0.9823,0.8126,0.6249,0.7906,0.6997,0.8225,0.9559,0.9907,0.9872,0.91,0.8658,0.9949,0.979,0.9666,0.296,0.9862,0.9201,0.9837,0.8834,0.9568,0.9839,0.8908,0.9973,0.9858,0.9884,0.9468,0.9947,0.936,0.9892,0.2023,0.9787,0.8726,0.986,0.7634,0.946,0.9964,0.9908,0.9325,0.2263,0.9661,0.9552,0.9933,0.994,0.743,0.9884,0.9752,0.5859,0.9595,0.9852,0.4588,0.9186,0.9578,0.99,0.9874,0.7964,0.8316,0.9927,0.8689,0.946,0.9901,0.9892,0.9783,0.969,0.6054,0.9705,0.1566,0.9758,0.8316,0.9777,0.7783,0.6808,0.8934,0.8534,0.9896,0.9137,0.9947,0.7964,0.9885,0.9719,0.9837,0.891,0.9816,0.8885,0.8834,0.955,0.921,0.9081,0.9698,0.9679,0.969,0.9973,0.9446],\"xaxis\":\"x2\",\"yaxis\":\"y2\",\"type\":\"box\"},{\"alignmentgroup\":\"True\",\"bingroup\":\"x\",\"hovertemplate\":\"Etiqueta=neutral\\u003cbr\\u003ePuntaje Total=%{x}\\u003cbr\\u003ecount=%{y}\\u003cextra\\u003e\\u003c\\u002fextra\\u003e\",\"legendgroup\":\"neutral\",\"marker\":{\"color\":\"#00cc96\",\"opacity\":0.75,\"pattern\":{\"shape\":\"\"}},\"name\":\"neutral\",\"offsetgroup\":\"neutral\",\"orientation\":\"v\",\"showlegend\":true,\"x\":[-0.0258,-0.024,-0.024,0.0258,-0.0258,-0.0,0.0,0.0258,-0.0,-0.0258,-0.0258,-0.024,0.0,0.0258,-0.0258,0.0,0.0,0.0056,-0.0402,-0.0258,0.0258,0.0258,-0.0258,0.0258,-0.0094,0.0258,0.0258,-0.0258,-0.0258,0.0,-0.022,-0.0,-0.0258,0.0,0.0428,-0.0,0.0112,-0.0018,0.0,0.0,0.0258,-0.0258,-0.0,0.0202,0.0,-0.0,0.0485,0.0083,0.0352,0.0098,0.0,-0.0258,-0.0258,-0.0,0.0258],\"xaxis\":\"x\",\"yaxis\":\"y\",\"type\":\"histogram\"},{\"alignmentgroup\":\"True\",\"boxpoints\":\"all\",\"fillcolor\":\"rgba(255,255,255,0)\",\"hoveron\":\"points\",\"hovertemplate\":\"Etiqueta=neutral\\u003cbr\\u003ePuntaje Total=%{x}\\u003cextra\\u003e\\u003c\\u002fextra\\u003e\",\"jitter\":0,\"legendgroup\":\"neutral\",\"line\":{\"color\":\"rgba(255,255,255,0)\"},\"marker\":{\"color\":\"#00cc96\",\"symbol\":\"line-ns-open\"},\"name\":\"neutral\",\"offsetgroup\":\"neutral\",\"showlegend\":false,\"x\":[-0.0258,-0.024,-0.024,0.0258,-0.0258,-0.0,0.0,0.0258,-0.0,-0.0258,-0.0258,-0.024,0.0,0.0258,-0.0258,0.0,0.0,0.0056,-0.0402,-0.0258,0.0258,0.0258,-0.0258,0.0258,-0.0094,0.0258,0.0258,-0.0258,-0.0258,0.0,-0.022,-0.0,-0.0258,0.0,0.0428,-0.0,0.0112,-0.0018,0.0,0.0,0.0258,-0.0258,-0.0,0.0202,0.0,-0.0,0.0485,0.0083,0.0352,0.0098,0.0,-0.0258,-0.0258,-0.0,0.0258],\"xaxis\":\"x2\",\"yaxis\":\"y2\",\"type\":\"box\"}],                        {\"template\":{\"data\":{\"histogram2dcontour\":[{\"type\":\"histogram2dcontour\",\"colorbar\":{\"outlinewidth\":0,\"ticks\":\"\"},\"colorscale\":[[0.0,\"#0d0887\"],[0.1111111111111111,\"#46039f\"],[0.2222222222222222,\"#7201a8\"],[0.3333333333333333,\"#9c179e\"],[0.4444444444444444,\"#bd3786\"],[0.5555555555555556,\"#d8576b\"],[0.6666666666666666,\"#ed7953\"],[0.7777777777777778,\"#fb9f3a\"],[0.8888888888888888,\"#fdca26\"],[1.0,\"#f0f921\"]]}],\"choropleth\":[{\"type\":\"choropleth\",\"colorbar\":{\"outlinewidth\":0,\"ticks\":\"\"}}],\"histogram2d\":[{\"type\":\"histogram2d\",\"colorbar\":{\"outlinewidth\":0,\"ticks\":\"\"},\"colorscale\":[[0.0,\"#0d0887\"],[0.1111111111111111,\"#46039f\"],[0.2222222222222222,\"#7201a8\"],[0.3333333333333333,\"#9c179e\"],[0.4444444444444444,\"#bd3786\"],[0.5555555555555556,\"#d8576b\"],[0.6666666666666666,\"#ed7953\"],[0.7777777777777778,\"#fb9f3a\"],[0.8888888888888888,\"#fdca26\"],[1.0,\"#f0f921\"]]}],\"heatmap\":[{\"type\":\"heatmap\",\"colorbar\":{\"outlinewidth\":0,\"ticks\":\"\"},\"colorscale\":[[0.0,\"#0d0887\"],[0.1111111111111111,\"#46039f\"],[0.2222222222222222,\"#7201a8\"],[0.3333333333333333,\"#9c179e\"],[0.4444444444444444,\"#bd3786\"],[0.5555555555555556,\"#d8576b\"],[0.6666666666666666,\"#ed7953\"],[0.7777777777777778,\"#fb9f3a\"],[0.8888888888888888,\"#fdca26\"],[1.0,\"#f0f921\"]]}],\"heatmapgl\":[{\"type\":\"heatmapgl\",\"colorbar\":{\"outlinewidth\":0,\"ticks\":\"\"},\"colorscale\":[[0.0,\"#0d0887\"],[0.1111111111111111,\"#46039f\"],[0.2222222222222222,\"#7201a8\"],[0.3333333333333333,\"#9c179e\"],[0.4444444444444444,\"#bd3786\"],[0.5555555555555556,\"#d8576b\"],[0.6666666666666666,\"#ed7953\"],[0.7777777777777778,\"#fb9f3a\"],[0.8888888888888888,\"#fdca26\"],[1.0,\"#f0f921\"]]}],\"contourcarpet\":[{\"type\":\"contourcarpet\",\"colorbar\":{\"outlinewidth\":0,\"ticks\":\"\"}}],\"contour\":[{\"type\":\"contour\",\"colorbar\":{\"outlinewidth\":0,\"ticks\":\"\"},\"colorscale\":[[0.0,\"#0d0887\"],[0.1111111111111111,\"#46039f\"],[0.2222222222222222,\"#7201a8\"],[0.3333333333333333,\"#9c179e\"],[0.4444444444444444,\"#bd3786\"],[0.5555555555555556,\"#d8576b\"],[0.6666666666666666,\"#ed7953\"],[0.7777777777777778,\"#fb9f3a\"],[0.8888888888888888,\"#fdca26\"],[1.0,\"#f0f921\"]]}],\"surface\":[{\"type\":\"surface\",\"colorbar\":{\"outlinewidth\":0,\"ticks\":\"\"},\"colorscale\":[[0.0,\"#0d0887\"],[0.1111111111111111,\"#46039f\"],[0.2222222222222222,\"#7201a8\"],[0.3333333333333333,\"#9c179e\"],[0.4444444444444444,\"#bd3786\"],[0.5555555555555556,\"#d8576b\"],[0.6666666666666666,\"#ed7953\"],[0.7777777777777778,\"#fb9f3a\"],[0.8888888888888888,\"#fdca26\"],[1.0,\"#f0f921\"]]}],\"mesh3d\":[{\"type\":\"mesh3d\",\"colorbar\":{\"outlinewidth\":0,\"ticks\":\"\"}}],\"scatter\":[{\"fillpattern\":{\"fillmode\":\"overlay\",\"size\":10,\"solidity\":0.2},\"type\":\"scatter\"}],\"parcoords\":[{\"type\":\"parcoords\",\"line\":{\"colorbar\":{\"outlinewidth\":0,\"ticks\":\"\"}}}],\"scatterpolargl\":[{\"type\":\"scatterpolargl\",\"marker\":{\"colorbar\":{\"outlinewidth\":0,\"ticks\":\"\"}}}],\"bar\":[{\"error_x\":{\"color\":\"#2a3f5f\"},\"error_y\":{\"color\":\"#2a3f5f\"},\"marker\":{\"line\":{\"color\":\"#E5ECF6\",\"width\":0.5},\"pattern\":{\"fillmode\":\"overlay\",\"size\":10,\"solidity\":0.2}},\"type\":\"bar\"}],\"scattergeo\":[{\"type\":\"scattergeo\",\"marker\":{\"colorbar\":{\"outlinewidth\":0,\"ticks\":\"\"}}}],\"scatterpolar\":[{\"type\":\"scatterpolar\",\"marker\":{\"colorbar\":{\"outlinewidth\":0,\"ticks\":\"\"}}}],\"histogram\":[{\"marker\":{\"pattern\":{\"fillmode\":\"overlay\",\"size\":10,\"solidity\":0.2}},\"type\":\"histogram\"}],\"scattergl\":[{\"type\":\"scattergl\",\"marker\":{\"colorbar\":{\"outlinewidth\":0,\"ticks\":\"\"}}}],\"scatter3d\":[{\"type\":\"scatter3d\",\"line\":{\"colorbar\":{\"outlinewidth\":0,\"ticks\":\"\"}},\"marker\":{\"colorbar\":{\"outlinewidth\":0,\"ticks\":\"\"}}}],\"scattermapbox\":[{\"type\":\"scattermapbox\",\"marker\":{\"colorbar\":{\"outlinewidth\":0,\"ticks\":\"\"}}}],\"scatterternary\":[{\"type\":\"scatterternary\",\"marker\":{\"colorbar\":{\"outlinewidth\":0,\"ticks\":\"\"}}}],\"scattercarpet\":[{\"type\":\"scattercarpet\",\"marker\":{\"colorbar\":{\"outlinewidth\":0,\"ticks\":\"\"}}}],\"carpet\":[{\"aaxis\":{\"endlinecolor\":\"#2a3f5f\",\"gridcolor\":\"white\",\"linecolor\":\"white\",\"minorgridcolor\":\"white\",\"startlinecolor\":\"#2a3f5f\"},\"baxis\":{\"endlinecolor\":\"#2a3f5f\",\"gridcolor\":\"white\",\"linecolor\":\"white\",\"minorgridcolor\":\"white\",\"startlinecolor\":\"#2a3f5f\"},\"type\":\"carpet\"}],\"table\":[{\"cells\":{\"fill\":{\"color\":\"#EBF0F8\"},\"line\":{\"color\":\"white\"}},\"header\":{\"fill\":{\"color\":\"#C8D4E3\"},\"line\":{\"color\":\"white\"}},\"type\":\"table\"}],\"barpolar\":[{\"marker\":{\"line\":{\"color\":\"#E5ECF6\",\"width\":0.5},\"pattern\":{\"fillmode\":\"overlay\",\"size\":10,\"solidity\":0.2}},\"type\":\"barpolar\"}],\"pie\":[{\"automargin\":true,\"type\":\"pie\"}]},\"layout\":{\"autotypenumbers\":\"strict\",\"colorway\":[\"#636efa\",\"#EF553B\",\"#00cc96\",\"#ab63fa\",\"#FFA15A\",\"#19d3f3\",\"#FF6692\",\"#B6E880\",\"#FF97FF\",\"#FECB52\"],\"font\":{\"color\":\"#2a3f5f\"},\"hovermode\":\"closest\",\"hoverlabel\":{\"align\":\"left\"},\"paper_bgcolor\":\"white\",\"plot_bgcolor\":\"#E5ECF6\",\"polar\":{\"bgcolor\":\"#E5ECF6\",\"angularaxis\":{\"gridcolor\":\"white\",\"linecolor\":\"white\",\"ticks\":\"\"},\"radialaxis\":{\"gridcolor\":\"white\",\"linecolor\":\"white\",\"ticks\":\"\"}},\"ternary\":{\"bgcolor\":\"#E5ECF6\",\"aaxis\":{\"gridcolor\":\"white\",\"linecolor\":\"white\",\"ticks\":\"\"},\"baxis\":{\"gridcolor\":\"white\",\"linecolor\":\"white\",\"ticks\":\"\"},\"caxis\":{\"gridcolor\":\"white\",\"linecolor\":\"white\",\"ticks\":\"\"}},\"coloraxis\":{\"colorbar\":{\"outlinewidth\":0,\"ticks\":\"\"}},\"colorscale\":{\"sequential\":[[0.0,\"#0d0887\"],[0.1111111111111111,\"#46039f\"],[0.2222222222222222,\"#7201a8\"],[0.3333333333333333,\"#9c179e\"],[0.4444444444444444,\"#bd3786\"],[0.5555555555555556,\"#d8576b\"],[0.6666666666666666,\"#ed7953\"],[0.7777777777777778,\"#fb9f3a\"],[0.8888888888888888,\"#fdca26\"],[1.0,\"#f0f921\"]],\"sequentialminus\":[[0.0,\"#0d0887\"],[0.1111111111111111,\"#46039f\"],[0.2222222222222222,\"#7201a8\"],[0.3333333333333333,\"#9c179e\"],[0.4444444444444444,\"#bd3786\"],[0.5555555555555556,\"#d8576b\"],[0.6666666666666666,\"#ed7953\"],[0.7777777777777778,\"#fb9f3a\"],[0.8888888888888888,\"#fdca26\"],[1.0,\"#f0f921\"]],\"diverging\":[[0,\"#8e0152\"],[0.1,\"#c51b7d\"],[0.2,\"#de77ae\"],[0.3,\"#f1b6da\"],[0.4,\"#fde0ef\"],[0.5,\"#f7f7f7\"],[0.6,\"#e6f5d0\"],[0.7,\"#b8e186\"],[0.8,\"#7fbc41\"],[0.9,\"#4d9221\"],[1,\"#276419\"]]},\"xaxis\":{\"gridcolor\":\"white\",\"linecolor\":\"white\",\"ticks\":\"\",\"title\":{\"standoff\":15},\"zerolinecolor\":\"white\",\"automargin\":true,\"zerolinewidth\":2},\"yaxis\":{\"gridcolor\":\"white\",\"linecolor\":\"white\",\"ticks\":\"\",\"title\":{\"standoff\":15},\"zerolinecolor\":\"white\",\"automargin\":true,\"zerolinewidth\":2},\"scene\":{\"xaxis\":{\"backgroundcolor\":\"#E5ECF6\",\"gridcolor\":\"white\",\"linecolor\":\"white\",\"showbackground\":true,\"ticks\":\"\",\"zerolinecolor\":\"white\",\"gridwidth\":2},\"yaxis\":{\"backgroundcolor\":\"#E5ECF6\",\"gridcolor\":\"white\",\"linecolor\":\"white\",\"showbackground\":true,\"ticks\":\"\",\"zerolinecolor\":\"white\",\"gridwidth\":2},\"zaxis\":{\"backgroundcolor\":\"#E5ECF6\",\"gridcolor\":\"white\",\"linecolor\":\"white\",\"showbackground\":true,\"ticks\":\"\",\"zerolinecolor\":\"white\",\"gridwidth\":2}},\"shapedefaults\":{\"line\":{\"color\":\"#2a3f5f\"}},\"annotationdefaults\":{\"arrowcolor\":\"#2a3f5f\",\"arrowhead\":0,\"arrowwidth\":1},\"geo\":{\"bgcolor\":\"white\",\"landcolor\":\"#E5ECF6\",\"subunitcolor\":\"white\",\"showland\":true,\"showlakes\":true,\"lakecolor\":\"white\"},\"title\":{\"x\":0.05},\"mapbox\":{\"style\":\"light\"}}},\"xaxis\":{\"anchor\":\"y\",\"domain\":[0.0,1.0],\"title\":{\"text\":\"Puntaje Total\"}},\"yaxis\":{\"anchor\":\"x\",\"domain\":[0.0,0.7326],\"title\":{\"text\":\"count\"}},\"xaxis2\":{\"anchor\":\"y2\",\"domain\":[0.0,1.0],\"matches\":\"x\",\"showticklabels\":false,\"showgrid\":true},\"yaxis2\":{\"anchor\":\"x2\",\"domain\":[0.7426,1.0],\"matches\":\"y2\",\"showticklabels\":false,\"showline\":false,\"ticks\":\"\",\"showgrid\":false},\"legend\":{\"title\":{\"text\":\"Etiqueta\"},\"tracegroupgap\":0},\"title\":{\"text\":\"Distribuci\\u00f3n del Puntaje Total de Sentimientos\"},\"barmode\":\"relative\"},                        {\"responsive\": true}                    ).then(function(){\n",
              "                            \n",
              "var gd = document.getElementById('2d589cf4-95bc-4d07-855f-8d69f0058139');\n",
              "var x = new MutationObserver(function (mutations, observer) {{\n",
              "        var display = window.getComputedStyle(gd).display;\n",
              "        if (!display || display === 'none') {{\n",
              "            console.log([gd, 'removed!']);\n",
              "            Plotly.purge(gd);\n",
              "            observer.disconnect();\n",
              "        }}\n",
              "}});\n",
              "\n",
              "// Listen for the removal of the full notebook cells\n",
              "var notebookContainer = gd.closest('#notebook-container');\n",
              "if (notebookContainer) {{\n",
              "    x.observe(notebookContainer, {childList: true});\n",
              "}}\n",
              "\n",
              "// Listen for the clearing of the current output cell\n",
              "var outputEl = gd.closest('.output');\n",
              "if (outputEl) {{\n",
              "    x.observe(outputEl, {childList: true});\n",
              "}}\n",
              "\n",
              "                        })                };                            </script>        </div>\n",
              "</body>\n",
              "</html>"
            ]
          },
          "metadata": {},
          "output_type": "display_data"
        }
      ],
      "source": [
        "import plotly.express as px\n",
        "\n",
        "# Graficar la distribución del Puntaje Total con colores por etiqueta de sentimiento\n",
        "fig = px.histogram(\n",
        "    data_frame=vader_data,\n",
        "    x='Puntaje Total',\n",
        "    color='Etiqueta',\n",
        "    title='Distribución del Puntaje Total de Sentimientos',\n",
        "    labels={'Puntaje Total': 'Puntaje Total', 'count': 'Frecuencia'},\n",
        "    template='plotly',\n",
        "    marginal='rug',  # Agregar un gráfico marginal para observar la distribución más claramente\n",
        "    opacity=0.75  # Ajustar la opacidad de las barras para mejorar la visibilidad\n",
        ")\n",
        "\n",
        "# Mostrar la gráfica\n",
        "fig.show()\n"
      ]
    },
    {
      "cell_type": "markdown",
      "metadata": {
        "id": "5Q7jnOWIUOrm"
      },
      "source": [
        "la grafica de histograma muestra que hay un sesgo a de derecha en las puntuaciaciones negativas y un sesgo a la izquierda en las puntuaciones positivas luego las polaridades se acumulan en -1 para las negativas y 1 para la positivas, por tanto una buena distribucion de la polaridades es un aquella que solo tenga una cola como la exponencial"
      ]
    },
    {
      "cell_type": "markdown",
      "metadata": {
        "id": "tCnGkKytV3WI"
      },
      "source": [
        "##Evaluación de los analisis de sentimiento usando vader"
      ]
    },
    {
      "cell_type": "code",
      "execution_count": null,
      "metadata": {
        "colab": {
          "base_uri": "https://localhost:8080/",
          "height": 300
        },
        "id": "XR7zIb3BWIMT",
        "outputId": "2625b1a3-3681-4841-e08c-244a2d8e0d5b"
      },
      "outputs": [
        {
          "name": "stderr",
          "output_type": "stream",
          "text": [
            "<ipython-input-38-b291cb00a51b>:3: FutureWarning:\n",
            "\n",
            "Downcasting behavior in `replace` is deprecated and will be removed in a future version. To retain the old behavior, explicitly call `result.infer_objects(copy=False)`. To opt-in to the future behavior, set `pd.set_option('future.no_silent_downcasting', True)`\n",
            "\n"
          ]
        },
        {
          "data": {
            "application/vnd.google.colaboratory.intrinsic+json": {
              "summary": "{\n  \"name\": \"vader_data\",\n  \"rows\": 5000,\n  \"fields\": [\n    {\n      \"column\": \"texto\",\n      \"properties\": {\n        \"dtype\": \"string\",\n        \"num_unique_values\": 4997,\n        \"samples\": [\n          \"movi perfect adapt english flick unfaith ashmit play role richard gere emran olivi malikka perfect cheat wife role lane chang second half film adapt indian mass br br even movi got full trace unfaith though catch origin cheap soft porn bollywood lover mallika show lot skin anyon dare show emran role like even nicknam serial killer futur indian director plan remak english movi look feasibl plot indian censor though film bomb box offic actor got undu recognit futur director littl care remak oscar nomin film br br said famili film take extra caution watch home famili\",\n          \"truli accur unglamour look modern day life could set town uk br br live hous estat glasgow relat film well br br sadli situat charact realist predict br br actor scarili believ felt spi neighbour intim dip live fragil hopeless peopl move scene br br love way film shot br br overal film must see\",\n          \"saw hallmark televis movi origin air lost interest stori charact said witch right frame mind watch film hallmark stand best qualiti film reason give film second look clive owen play damon wildev might chanc select next jame bond pierc brosnan pass clive owen might wait year reason femal lead catherin zeta jone celebr unknown time becam academi award winner outstand support actress joan plowright mr yeobright also film like open line film deliv heart fear lone place send great love somewher els shall die truli shall die\"\n        ],\n        \"semantic_type\": \"\",\n        \"description\": \"\"\n      }\n    },\n    {\n      \"column\": \"sentimiento\",\n      \"properties\": {\n        \"dtype\": \"number\",\n        \"std\": 0,\n        \"min\": 0,\n        \"max\": 1,\n        \"num_unique_values\": 2,\n        \"samples\": [\n          1,\n          0\n        ],\n        \"semantic_type\": \"\",\n        \"description\": \"\"\n      }\n    },\n    {\n      \"column\": \"Puntaje negativo\",\n      \"properties\": {\n        \"dtype\": \"number\",\n        \"std\": 0.07770598125565788,\n        \"min\": 0.0,\n        \"max\": 0.653,\n        \"num_unique_values\": 366,\n        \"samples\": [\n          0.021,\n          0.158\n        ],\n        \"semantic_type\": \"\",\n        \"description\": \"\"\n      }\n    },\n    {\n      \"column\": \"Puntaje positivo\",\n      \"properties\": {\n        \"dtype\": \"number\",\n        \"std\": 0.0843168960431518,\n        \"min\": 0.0,\n        \"max\": 0.558,\n        \"num_unique_values\": 442,\n        \"samples\": [\n          0.288,\n          0.024\n        ],\n        \"semantic_type\": \"\",\n        \"description\": \"\"\n      }\n    },\n    {\n      \"column\": \"Puntaje neutral\",\n      \"properties\": {\n        \"dtype\": \"number\",\n        \"std\": 0.08782274806686245,\n        \"min\": 0.188,\n        \"max\": 1.0,\n        \"num_unique_values\": 478,\n        \"samples\": [\n          0.442,\n          0.746\n        ],\n        \"semantic_type\": \"\",\n        \"description\": \"\"\n      }\n    },\n    {\n      \"column\": \"Puntaje Total\",\n      \"properties\": {\n        \"dtype\": \"number\",\n        \"std\": 0.7565896939226359,\n        \"min\": -0.9991,\n        \"max\": 0.9996,\n        \"num_unique_values\": 1541,\n        \"samples\": [\n          0.9973,\n          0.7635\n        ],\n        \"semantic_type\": \"\",\n        \"description\": \"\"\n      }\n    },\n    {\n      \"column\": \"Etiqueta\",\n      \"properties\": {\n        \"dtype\": \"number\",\n        \"std\": 0,\n        \"min\": 0,\n        \"max\": 1,\n        \"num_unique_values\": 2,\n        \"samples\": [\n          1,\n          0\n        ],\n        \"semantic_type\": \"\",\n        \"description\": \"\"\n      }\n    }\n  ]\n}",
              "type": "dataframe",
              "variable_name": "vader_data"
            },
            "text/html": [
              "\n",
              "  <div id=\"df-21bf3bd3-8cde-4cc2-bd3d-6c50fc591662\" class=\"colab-df-container\">\n",
              "    <div>\n",
              "<style scoped>\n",
              "    .dataframe tbody tr th:only-of-type {\n",
              "        vertical-align: middle;\n",
              "    }\n",
              "\n",
              "    .dataframe tbody tr th {\n",
              "        vertical-align: top;\n",
              "    }\n",
              "\n",
              "    .dataframe thead th {\n",
              "        text-align: right;\n",
              "    }\n",
              "</style>\n",
              "<table border=\"1\" class=\"dataframe\">\n",
              "  <thead>\n",
              "    <tr style=\"text-align: right;\">\n",
              "      <th></th>\n",
              "      <th>texto</th>\n",
              "      <th>sentimiento</th>\n",
              "      <th>Puntaje negativo</th>\n",
              "      <th>Puntaje positivo</th>\n",
              "      <th>Puntaje neutral</th>\n",
              "      <th>Puntaje Total</th>\n",
              "      <th>Etiqueta</th>\n",
              "    </tr>\n",
              "  </thead>\n",
              "  <tbody>\n",
              "    <tr>\n",
              "      <th>0</th>\n",
              "      <td>basic famili littl boy jake think zombi closet...</td>\n",
              "      <td>0</td>\n",
              "      <td>0.166</td>\n",
              "      <td>0.139</td>\n",
              "      <td>0.695</td>\n",
              "      <td>-0.7425</td>\n",
              "      <td>0</td>\n",
              "    </tr>\n",
              "    <tr>\n",
              "      <th>1</th>\n",
              "      <td>show amaz fresh innov idea first air first yea...</td>\n",
              "      <td>0</td>\n",
              "      <td>0.153</td>\n",
              "      <td>0.219</td>\n",
              "      <td>0.629</td>\n",
              "      <td>0.7863</td>\n",
              "      <td>1</td>\n",
              "    </tr>\n",
              "    <tr>\n",
              "      <th>2</th>\n",
              "      <td>encourag posit comment film look forward watch...</td>\n",
              "      <td>0</td>\n",
              "      <td>0.181</td>\n",
              "      <td>0.129</td>\n",
              "      <td>0.690</td>\n",
              "      <td>-0.6249</td>\n",
              "      <td>0</td>\n",
              "    </tr>\n",
              "    <tr>\n",
              "      <th>3</th>\n",
              "      <td>phil alien one quirki film humour base around ...</td>\n",
              "      <td>0</td>\n",
              "      <td>0.181</td>\n",
              "      <td>0.214</td>\n",
              "      <td>0.605</td>\n",
              "      <td>0.5389</td>\n",
              "      <td>1</td>\n",
              "    </tr>\n",
              "    <tr>\n",
              "      <th>4</th>\n",
              "      <td>saw movi came recal scariest scene big bird ea...</td>\n",
              "      <td>0</td>\n",
              "      <td>0.124</td>\n",
              "      <td>0.178</td>\n",
              "      <td>0.698</td>\n",
              "      <td>0.7096</td>\n",
              "      <td>1</td>\n",
              "    </tr>\n",
              "  </tbody>\n",
              "</table>\n",
              "</div>\n",
              "    <div class=\"colab-df-buttons\">\n",
              "\n",
              "  <div class=\"colab-df-container\">\n",
              "    <button class=\"colab-df-convert\" onclick=\"convertToInteractive('df-21bf3bd3-8cde-4cc2-bd3d-6c50fc591662')\"\n",
              "            title=\"Convert this dataframe to an interactive table.\"\n",
              "            style=\"display:none;\">\n",
              "\n",
              "  <svg xmlns=\"http://www.w3.org/2000/svg\" height=\"24px\" viewBox=\"0 -960 960 960\">\n",
              "    <path d=\"M120-120v-720h720v720H120Zm60-500h600v-160H180v160Zm220 220h160v-160H400v160Zm0 220h160v-160H400v160ZM180-400h160v-160H180v160Zm440 0h160v-160H620v160ZM180-180h160v-160H180v160Zm440 0h160v-160H620v160Z\"/>\n",
              "  </svg>\n",
              "    </button>\n",
              "\n",
              "  <style>\n",
              "    .colab-df-container {\n",
              "      display:flex;\n",
              "      gap: 12px;\n",
              "    }\n",
              "\n",
              "    .colab-df-convert {\n",
              "      background-color: #E8F0FE;\n",
              "      border: none;\n",
              "      border-radius: 50%;\n",
              "      cursor: pointer;\n",
              "      display: none;\n",
              "      fill: #1967D2;\n",
              "      height: 32px;\n",
              "      padding: 0 0 0 0;\n",
              "      width: 32px;\n",
              "    }\n",
              "\n",
              "    .colab-df-convert:hover {\n",
              "      background-color: #E2EBFA;\n",
              "      box-shadow: 0px 1px 2px rgba(60, 64, 67, 0.3), 0px 1px 3px 1px rgba(60, 64, 67, 0.15);\n",
              "      fill: #174EA6;\n",
              "    }\n",
              "\n",
              "    .colab-df-buttons div {\n",
              "      margin-bottom: 4px;\n",
              "    }\n",
              "\n",
              "    [theme=dark] .colab-df-convert {\n",
              "      background-color: #3B4455;\n",
              "      fill: #D2E3FC;\n",
              "    }\n",
              "\n",
              "    [theme=dark] .colab-df-convert:hover {\n",
              "      background-color: #434B5C;\n",
              "      box-shadow: 0px 1px 3px 1px rgba(0, 0, 0, 0.15);\n",
              "      filter: drop-shadow(0px 1px 2px rgba(0, 0, 0, 0.3));\n",
              "      fill: #FFFFFF;\n",
              "    }\n",
              "  </style>\n",
              "\n",
              "    <script>\n",
              "      const buttonEl =\n",
              "        document.querySelector('#df-21bf3bd3-8cde-4cc2-bd3d-6c50fc591662 button.colab-df-convert');\n",
              "      buttonEl.style.display =\n",
              "        google.colab.kernel.accessAllowed ? 'block' : 'none';\n",
              "\n",
              "      async function convertToInteractive(key) {\n",
              "        const element = document.querySelector('#df-21bf3bd3-8cde-4cc2-bd3d-6c50fc591662');\n",
              "        const dataTable =\n",
              "          await google.colab.kernel.invokeFunction('convertToInteractive',\n",
              "                                                    [key], {});\n",
              "        if (!dataTable) return;\n",
              "\n",
              "        const docLinkHtml = 'Like what you see? Visit the ' +\n",
              "          '<a target=\"_blank\" href=https://colab.research.google.com/notebooks/data_table.ipynb>data table notebook</a>'\n",
              "          + ' to learn more about interactive tables.';\n",
              "        element.innerHTML = '';\n",
              "        dataTable['output_type'] = 'display_data';\n",
              "        await google.colab.output.renderOutput(dataTable, element);\n",
              "        const docLink = document.createElement('div');\n",
              "        docLink.innerHTML = docLinkHtml;\n",
              "        element.appendChild(docLink);\n",
              "      }\n",
              "    </script>\n",
              "  </div>\n",
              "\n",
              "\n",
              "<div id=\"df-532df359-f156-40d4-8793-c8eb8310e30a\">\n",
              "  <button class=\"colab-df-quickchart\" onclick=\"quickchart('df-532df359-f156-40d4-8793-c8eb8310e30a')\"\n",
              "            title=\"Suggest charts\"\n",
              "            style=\"display:none;\">\n",
              "\n",
              "<svg xmlns=\"http://www.w3.org/2000/svg\" height=\"24px\"viewBox=\"0 0 24 24\"\n",
              "     width=\"24px\">\n",
              "    <g>\n",
              "        <path d=\"M19 3H5c-1.1 0-2 .9-2 2v14c0 1.1.9 2 2 2h14c1.1 0 2-.9 2-2V5c0-1.1-.9-2-2-2zM9 17H7v-7h2v7zm4 0h-2V7h2v10zm4 0h-2v-4h2v4z\"/>\n",
              "    </g>\n",
              "</svg>\n",
              "  </button>\n",
              "\n",
              "<style>\n",
              "  .colab-df-quickchart {\n",
              "      --bg-color: #E8F0FE;\n",
              "      --fill-color: #1967D2;\n",
              "      --hover-bg-color: #E2EBFA;\n",
              "      --hover-fill-color: #174EA6;\n",
              "      --disabled-fill-color: #AAA;\n",
              "      --disabled-bg-color: #DDD;\n",
              "  }\n",
              "\n",
              "  [theme=dark] .colab-df-quickchart {\n",
              "      --bg-color: #3B4455;\n",
              "      --fill-color: #D2E3FC;\n",
              "      --hover-bg-color: #434B5C;\n",
              "      --hover-fill-color: #FFFFFF;\n",
              "      --disabled-bg-color: #3B4455;\n",
              "      --disabled-fill-color: #666;\n",
              "  }\n",
              "\n",
              "  .colab-df-quickchart {\n",
              "    background-color: var(--bg-color);\n",
              "    border: none;\n",
              "    border-radius: 50%;\n",
              "    cursor: pointer;\n",
              "    display: none;\n",
              "    fill: var(--fill-color);\n",
              "    height: 32px;\n",
              "    padding: 0;\n",
              "    width: 32px;\n",
              "  }\n",
              "\n",
              "  .colab-df-quickchart:hover {\n",
              "    background-color: var(--hover-bg-color);\n",
              "    box-shadow: 0 1px 2px rgba(60, 64, 67, 0.3), 0 1px 3px 1px rgba(60, 64, 67, 0.15);\n",
              "    fill: var(--button-hover-fill-color);\n",
              "  }\n",
              "\n",
              "  .colab-df-quickchart-complete:disabled,\n",
              "  .colab-df-quickchart-complete:disabled:hover {\n",
              "    background-color: var(--disabled-bg-color);\n",
              "    fill: var(--disabled-fill-color);\n",
              "    box-shadow: none;\n",
              "  }\n",
              "\n",
              "  .colab-df-spinner {\n",
              "    border: 2px solid var(--fill-color);\n",
              "    border-color: transparent;\n",
              "    border-bottom-color: var(--fill-color);\n",
              "    animation:\n",
              "      spin 1s steps(1) infinite;\n",
              "  }\n",
              "\n",
              "  @keyframes spin {\n",
              "    0% {\n",
              "      border-color: transparent;\n",
              "      border-bottom-color: var(--fill-color);\n",
              "      border-left-color: var(--fill-color);\n",
              "    }\n",
              "    20% {\n",
              "      border-color: transparent;\n",
              "      border-left-color: var(--fill-color);\n",
              "      border-top-color: var(--fill-color);\n",
              "    }\n",
              "    30% {\n",
              "      border-color: transparent;\n",
              "      border-left-color: var(--fill-color);\n",
              "      border-top-color: var(--fill-color);\n",
              "      border-right-color: var(--fill-color);\n",
              "    }\n",
              "    40% {\n",
              "      border-color: transparent;\n",
              "      border-right-color: var(--fill-color);\n",
              "      border-top-color: var(--fill-color);\n",
              "    }\n",
              "    60% {\n",
              "      border-color: transparent;\n",
              "      border-right-color: var(--fill-color);\n",
              "    }\n",
              "    80% {\n",
              "      border-color: transparent;\n",
              "      border-right-color: var(--fill-color);\n",
              "      border-bottom-color: var(--fill-color);\n",
              "    }\n",
              "    90% {\n",
              "      border-color: transparent;\n",
              "      border-bottom-color: var(--fill-color);\n",
              "    }\n",
              "  }\n",
              "</style>\n",
              "\n",
              "  <script>\n",
              "    async function quickchart(key) {\n",
              "      const quickchartButtonEl =\n",
              "        document.querySelector('#' + key + ' button');\n",
              "      quickchartButtonEl.disabled = true;  // To prevent multiple clicks.\n",
              "      quickchartButtonEl.classList.add('colab-df-spinner');\n",
              "      try {\n",
              "        const charts = await google.colab.kernel.invokeFunction(\n",
              "            'suggestCharts', [key], {});\n",
              "      } catch (error) {\n",
              "        console.error('Error during call to suggestCharts:', error);\n",
              "      }\n",
              "      quickchartButtonEl.classList.remove('colab-df-spinner');\n",
              "      quickchartButtonEl.classList.add('colab-df-quickchart-complete');\n",
              "    }\n",
              "    (() => {\n",
              "      let quickchartButtonEl =\n",
              "        document.querySelector('#df-532df359-f156-40d4-8793-c8eb8310e30a button');\n",
              "      quickchartButtonEl.style.display =\n",
              "        google.colab.kernel.accessAllowed ? 'block' : 'none';\n",
              "    })();\n",
              "  </script>\n",
              "</div>\n",
              "\n",
              "    </div>\n",
              "  </div>\n"
            ],
            "text/plain": [
              "                                               texto  sentimiento  \\\n",
              "0  basic famili littl boy jake think zombi closet...            0   \n",
              "1  show amaz fresh innov idea first air first yea...            0   \n",
              "2  encourag posit comment film look forward watch...            0   \n",
              "3  phil alien one quirki film humour base around ...            0   \n",
              "4  saw movi came recal scariest scene big bird ea...            0   \n",
              "\n",
              "   Puntaje negativo  Puntaje positivo  Puntaje neutral  Puntaje Total  \\\n",
              "0             0.166             0.139            0.695        -0.7425   \n",
              "1             0.153             0.219            0.629         0.7863   \n",
              "2             0.181             0.129            0.690        -0.6249   \n",
              "3             0.181             0.214            0.605         0.5389   \n",
              "4             0.124             0.178            0.698         0.7096   \n",
              "\n",
              "   Etiqueta  \n",
              "0         0  \n",
              "1         1  \n",
              "2         0  \n",
              "3         1  \n",
              "4         1  "
            ]
          },
          "execution_count": 38,
          "metadata": {},
          "output_type": "execute_result"
        }
      ],
      "source": [
        "# binarizar categorías presentes en las etuetas originales y de Vader en el dataset\n",
        "vader_data['sentimiento'].replace({'positive':1,'negative':0},inplace = True)\n",
        "vader_data['Etiqueta'].replace({'positivo':1,'negativo':0, 'neutral':1},inplace = True)\n",
        "\n",
        "# mostrar primeros registros del dataset\n",
        "vader_data.head()"
      ]
    },
    {
      "cell_type": "code",
      "execution_count": null,
      "metadata": {
        "colab": {
          "base_uri": "https://localhost:8080/"
        },
        "id": "1acWwEDmWQJ_",
        "outputId": "9b2e4a6a-4d29-401a-c027-c9cf4cbccaf1"
      },
      "outputs": [
        {
          "data": {
            "text/plain": [
              "66.08000000000001"
            ]
          },
          "execution_count": 39,
          "metadata": {},
          "output_type": "execute_result"
        }
      ],
      "source": [
        "# importar función accuracy_score del modulo sklearn.metrics\n",
        "from sklearn.metrics import accuracy_score\n",
        "\n",
        "# implementar métrica entre los valores originales y las obtenidas con vader\n",
        "accuracy_score(vader_data['sentimiento'], vader_data['Etiqueta'])*100"
      ]
    },
    {
      "cell_type": "code",
      "execution_count": null,
      "metadata": {
        "colab": {
          "base_uri": "https://localhost:8080/",
          "height": 486
        },
        "id": "0Dtv4jf8XUFH",
        "outputId": "f6e4513a-5bc3-4b6e-9291-6b6638399181"
      },
      "outputs": [
        {
          "name": "stdout",
          "output_type": "stream",
          "text": [
            "[[1217 1283]\n",
            " [ 413 2087]]\n"
          ]
        },
        {
          "data": {
            "image/png": "[encoded data removed]",
            "text/plain": [
              "<Figure size 640x480 with 2 Axes>"
            ]
          },
          "metadata": {},
          "output_type": "display_data"
        }
      ],
      "source": [
        "# del modulo sklearn.metrics importar la función confusion_matrix\n",
        "from sklearn.metrics import confusion_matrix\n",
        "\n",
        "# definir valores originales (reales) y valores predichos (obtenidos con Vader)\n",
        "y_true = vader_data['sentimiento']\n",
        "y_pred = vader_data['Etiqueta']\n",
        "\n",
        "# Crear y mostrar la matríz de confusión\n",
        "confusion_matrix(y_true, y_pred)\n",
        "print(confusion_matrix(y_true, y_pred))\n",
        "\n",
        "# graficar la matríz de confusión mediante un heatmap\n",
        "cm = confusion_matrix(y_true, y_pred)\n",
        "cm_display = ConfusionMatrixDisplay(cm).plot()"
      ]
    },
    {
      "cell_type": "code",
      "execution_count": null,
      "metadata": {
        "colab": {
          "base_uri": "https://localhost:8080/"
        },
        "id": "LFFKR1I7b2yp",
        "outputId": "e8a81cff-8458-477f-efdb-804853fb3ea5"
      },
      "outputs": [
        {
          "name": "stdout",
          "output_type": "stream",
          "text": [
            "              precision    recall  f1-score   support\n",
            "\n",
            "           0       0.75      0.49      0.59      2500\n",
            "           1       0.62      0.83      0.71      2500\n",
            "\n",
            "    accuracy                           0.66      5000\n",
            "   macro avg       0.68      0.66      0.65      5000\n",
            "weighted avg       0.68      0.66      0.65      5000\n",
            "\n"
          ]
        }
      ],
      "source": [
        "# del modulo sklearn.metrics importar la función classification_report\n",
        "from sklearn.metrics import classification_report\n",
        "\n",
        "# crear y mostrar el reporte de clasificación\n",
        "print(classification_report(vader_data['sentimiento'], vader_data['Etiqueta']))"
      ]
    },
    {
      "cell_type": "markdown",
      "metadata": {
        "id": "7E0WF5Bwexnr"
      },
      "source": [
        "#Analisis de sentimientos usando Naive Bayes"
      ]
    },
    {
      "cell_type": "code",
      "execution_count": null,
      "metadata": {
        "colab": {
          "base_uri": "https://localhost:8080/",
          "height": 206
        },
        "id": "bY_ar8N9ewvK",
        "outputId": "37739206-a67d-437f-cb2b-2b171d876a6f"
      },
      "outputs": [
        {
          "data": {
            "application/vnd.google.colaboratory.intrinsic+json": {
              "summary": "{\n  \"name\": \"nv_data\",\n  \"rows\": 5000,\n  \"fields\": [\n    {\n      \"column\": \"texto\",\n      \"properties\": {\n        \"dtype\": \"string\",\n        \"num_unique_values\": 4997,\n        \"samples\": [\n          \"movi perfect adapt english flick unfaith ashmit play role richard gere emran olivi malikka perfect cheat wife role lane chang second half film adapt indian mass br br even movi got full trace unfaith though catch origin cheap soft porn bollywood lover mallika show lot skin anyon dare show emran role like even nicknam serial killer futur indian director plan remak english movi look feasibl plot indian censor though film bomb box offic actor got undu recognit futur director littl care remak oscar nomin film br br said famili film take extra caution watch home famili\",\n          \"truli accur unglamour look modern day life could set town uk br br live hous estat glasgow relat film well br br sadli situat charact realist predict br br actor scarili believ felt spi neighbour intim dip live fragil hopeless peopl move scene br br love way film shot br br overal film must see\",\n          \"saw hallmark televis movi origin air lost interest stori charact said witch right frame mind watch film hallmark stand best qualiti film reason give film second look clive owen play damon wildev might chanc select next jame bond pierc brosnan pass clive owen might wait year reason femal lead catherin zeta jone celebr unknown time becam academi award winner outstand support actress joan plowright mr yeobright also film like open line film deliv heart fear lone place send great love somewher els shall die truli shall die\"\n        ],\n        \"semantic_type\": \"\",\n        \"description\": \"\"\n      }\n    },\n    {\n      \"column\": \"sentimiento\",\n      \"properties\": {\n        \"dtype\": \"category\",\n        \"num_unique_values\": 2,\n        \"samples\": [\n          \"positive\",\n          \"negative\"\n        ],\n        \"semantic_type\": \"\",\n        \"description\": \"\"\n      }\n    }\n  ]\n}",
              "type": "dataframe",
              "variable_name": "nv_data"
            },
            "text/html": [
              "\n",
              "  <div id=\"df-dbcfc601-e74a-42d6-ab35-2fe1d93178f8\" class=\"colab-df-container\">\n",
              "    <div>\n",
              "<style scoped>\n",
              "    .dataframe tbody tr th:only-of-type {\n",
              "        vertical-align: middle;\n",
              "    }\n",
              "\n",
              "    .dataframe tbody tr th {\n",
              "        vertical-align: top;\n",
              "    }\n",
              "\n",
              "    .dataframe thead th {\n",
              "        text-align: right;\n",
              "    }\n",
              "</style>\n",
              "<table border=\"1\" class=\"dataframe\">\n",
              "  <thead>\n",
              "    <tr style=\"text-align: right;\">\n",
              "      <th></th>\n",
              "      <th>texto</th>\n",
              "      <th>sentimiento</th>\n",
              "    </tr>\n",
              "  </thead>\n",
              "  <tbody>\n",
              "    <tr>\n",
              "      <th>0</th>\n",
              "      <td>basic famili littl boy jake think zombi closet...</td>\n",
              "      <td>negative</td>\n",
              "    </tr>\n",
              "    <tr>\n",
              "      <th>1</th>\n",
              "      <td>show amaz fresh innov idea first air first yea...</td>\n",
              "      <td>negative</td>\n",
              "    </tr>\n",
              "    <tr>\n",
              "      <th>2</th>\n",
              "      <td>encourag posit comment film look forward watch...</td>\n",
              "      <td>negative</td>\n",
              "    </tr>\n",
              "    <tr>\n",
              "      <th>3</th>\n",
              "      <td>phil alien one quirki film humour base around ...</td>\n",
              "      <td>negative</td>\n",
              "    </tr>\n",
              "    <tr>\n",
              "      <th>4</th>\n",
              "      <td>saw movi came recal scariest scene big bird ea...</td>\n",
              "      <td>negative</td>\n",
              "    </tr>\n",
              "  </tbody>\n",
              "</table>\n",
              "</div>\n",
              "    <div class=\"colab-df-buttons\">\n",
              "\n",
              "  <div class=\"colab-df-container\">\n",
              "    <button class=\"colab-df-convert\" onclick=\"convertToInteractive('df-dbcfc601-e74a-42d6-ab35-2fe1d93178f8')\"\n",
              "            title=\"Convert this dataframe to an interactive table.\"\n",
              "            style=\"display:none;\">\n",
              "\n",
              "  <svg xmlns=\"http://www.w3.org/2000/svg\" height=\"24px\" viewBox=\"0 -960 960 960\">\n",
              "    <path d=\"M120-120v-720h720v720H120Zm60-500h600v-160H180v160Zm220 220h160v-160H400v160Zm0 220h160v-160H400v160ZM180-400h160v-160H180v160Zm440 0h160v-160H620v160ZM180-180h160v-160H180v160Zm440 0h160v-160H620v160Z\"/>\n",
              "  </svg>\n",
              "    </button>\n",
              "\n",
              "  <style>\n",
              "    .colab-df-container {\n",
              "      display:flex;\n",
              "      gap: 12px;\n",
              "    }\n",
              "\n",
              "    .colab-df-convert {\n",
              "      background-color: #E8F0FE;\n",
              "      border: none;\n",
              "      border-radius: 50%;\n",
              "      cursor: pointer;\n",
              "      display: none;\n",
              "      fill: #1967D2;\n",
              "      height: 32px;\n",
              "      padding: 0 0 0 0;\n",
              "      width: 32px;\n",
              "    }\n",
              "\n",
              "    .colab-df-convert:hover {\n",
              "      background-color: #E2EBFA;\n",
              "      box-shadow: 0px 1px 2px rgba(60, 64, 67, 0.3), 0px 1px 3px 1px rgba(60, 64, 67, 0.15);\n",
              "      fill: #174EA6;\n",
              "    }\n",
              "\n",
              "    .colab-df-buttons div {\n",
              "      margin-bottom: 4px;\n",
              "    }\n",
              "\n",
              "    [theme=dark] .colab-df-convert {\n",
              "      background-color: #3B4455;\n",
              "      fill: #D2E3FC;\n",
              "    }\n",
              "\n",
              "    [theme=dark] .colab-df-convert:hover {\n",
              "      background-color: #434B5C;\n",
              "      box-shadow: 0px 1px 3px 1px rgba(0, 0, 0, 0.15);\n",
              "      filter: drop-shadow(0px 1px 2px rgba(0, 0, 0, 0.3));\n",
              "      fill: #FFFFFF;\n",
              "    }\n",
              "  </style>\n",
              "\n",
              "    <script>\n",
              "      const buttonEl =\n",
              "        document.querySelector('#df-dbcfc601-e74a-42d6-ab35-2fe1d93178f8 button.colab-df-convert');\n",
              "      buttonEl.style.display =\n",
              "        google.colab.kernel.accessAllowed ? 'block' : 'none';\n",
              "\n",
              "      async function convertToInteractive(key) {\n",
              "        const element = document.querySelector('#df-dbcfc601-e74a-42d6-ab35-2fe1d93178f8');\n",
              "        const dataTable =\n",
              "          await google.colab.kernel.invokeFunction('convertToInteractive',\n",
              "                                                    [key], {});\n",
              "        if (!dataTable) return;\n",
              "\n",
              "        const docLinkHtml = 'Like what you see? Visit the ' +\n",
              "          '<a target=\"_blank\" href=https://colab.research.google.com/notebooks/data_table.ipynb>data table notebook</a>'\n",
              "          + ' to learn more about interactive tables.';\n",
              "        element.innerHTML = '';\n",
              "        dataTable['output_type'] = 'display_data';\n",
              "        await google.colab.output.renderOutput(dataTable, element);\n",
              "        const docLink = document.createElement('div');\n",
              "        docLink.innerHTML = docLinkHtml;\n",
              "        element.appendChild(docLink);\n",
              "      }\n",
              "    </script>\n",
              "  </div>\n",
              "\n",
              "\n",
              "<div id=\"df-c4f33957-ec6b-4f74-b048-bd8259717d5a\">\n",
              "  <button class=\"colab-df-quickchart\" onclick=\"quickchart('df-c4f33957-ec6b-4f74-b048-bd8259717d5a')\"\n",
              "            title=\"Suggest charts\"\n",
              "            style=\"display:none;\">\n",
              "\n",
              "<svg xmlns=\"http://www.w3.org/2000/svg\" height=\"24px\"viewBox=\"0 0 24 24\"\n",
              "     width=\"24px\">\n",
              "    <g>\n",
              "        <path d=\"M19 3H5c-1.1 0-2 .9-2 2v14c0 1.1.9 2 2 2h14c1.1 0 2-.9 2-2V5c0-1.1-.9-2-2-2zM9 17H7v-7h2v7zm4 0h-2V7h2v10zm4 0h-2v-4h2v4z\"/>\n",
              "    </g>\n",
              "</svg>\n",
              "  </button>\n",
              "\n",
              "<style>\n",
              "  .colab-df-quickchart {\n",
              "      --bg-color: #E8F0FE;\n",
              "      --fill-color: #1967D2;\n",
              "      --hover-bg-color: #E2EBFA;\n",
              "      --hover-fill-color: #174EA6;\n",
              "      --disabled-fill-color: #AAA;\n",
              "      --disabled-bg-color: #DDD;\n",
              "  }\n",
              "\n",
              "  [theme=dark] .colab-df-quickchart {\n",
              "      --bg-color: #3B4455;\n",
              "      --fill-color: #D2E3FC;\n",
              "      --hover-bg-color: #434B5C;\n",
              "      --hover-fill-color: #FFFFFF;\n",
              "      --disabled-bg-color: #3B4455;\n",
              "      --disabled-fill-color: #666;\n",
              "  }\n",
              "\n",
              "  .colab-df-quickchart {\n",
              "    background-color: var(--bg-color);\n",
              "    border: none;\n",
              "    border-radius: 50%;\n",
              "    cursor: pointer;\n",
              "    display: none;\n",
              "    fill: var(--fill-color);\n",
              "    height: 32px;\n",
              "    padding: 0;\n",
              "    width: 32px;\n",
              "  }\n",
              "\n",
              "  .colab-df-quickchart:hover {\n",
              "    background-color: var(--hover-bg-color);\n",
              "    box-shadow: 0 1px 2px rgba(60, 64, 67, 0.3), 0 1px 3px 1px rgba(60, 64, 67, 0.15);\n",
              "    fill: var(--button-hover-fill-color);\n",
              "  }\n",
              "\n",
              "  .colab-df-quickchart-complete:disabled,\n",
              "  .colab-df-quickchart-complete:disabled:hover {\n",
              "    background-color: var(--disabled-bg-color);\n",
              "    fill: var(--disabled-fill-color);\n",
              "    box-shadow: none;\n",
              "  }\n",
              "\n",
              "  .colab-df-spinner {\n",
              "    border: 2px solid var(--fill-color);\n",
              "    border-color: transparent;\n",
              "    border-bottom-color: var(--fill-color);\n",
              "    animation:\n",
              "      spin 1s steps(1) infinite;\n",
              "  }\n",
              "\n",
              "  @keyframes spin {\n",
              "    0% {\n",
              "      border-color: transparent;\n",
              "      border-bottom-color: var(--fill-color);\n",
              "      border-left-color: var(--fill-color);\n",
              "    }\n",
              "    20% {\n",
              "      border-color: transparent;\n",
              "      border-left-color: var(--fill-color);\n",
              "      border-top-color: var(--fill-color);\n",
              "    }\n",
              "    30% {\n",
              "      border-color: transparent;\n",
              "      border-left-color: var(--fill-color);\n",
              "      border-top-color: var(--fill-color);\n",
              "      border-right-color: var(--fill-color);\n",
              "    }\n",
              "    40% {\n",
              "      border-color: transparent;\n",
              "      border-right-color: var(--fill-color);\n",
              "      border-top-color: var(--fill-color);\n",
              "    }\n",
              "    60% {\n",
              "      border-color: transparent;\n",
              "      border-right-color: var(--fill-color);\n",
              "    }\n",
              "    80% {\n",
              "      border-color: transparent;\n",
              "      border-right-color: var(--fill-color);\n",
              "      border-bottom-color: var(--fill-color);\n",
              "    }\n",
              "    90% {\n",
              "      border-color: transparent;\n",
              "      border-bottom-color: var(--fill-color);\n",
              "    }\n",
              "  }\n",
              "</style>\n",
              "\n",
              "  <script>\n",
              "    async function quickchart(key) {\n",
              "      const quickchartButtonEl =\n",
              "        document.querySelector('#' + key + ' button');\n",
              "      quickchartButtonEl.disabled = true;  // To prevent multiple clicks.\n",
              "      quickchartButtonEl.classList.add('colab-df-spinner');\n",
              "      try {\n",
              "        const charts = await google.colab.kernel.invokeFunction(\n",
              "            'suggestCharts', [key], {});\n",
              "      } catch (error) {\n",
              "        console.error('Error during call to suggestCharts:', error);\n",
              "      }\n",
              "      quickchartButtonEl.classList.remove('colab-df-spinner');\n",
              "      quickchartButtonEl.classList.add('colab-df-quickchart-complete');\n",
              "    }\n",
              "    (() => {\n",
              "      let quickchartButtonEl =\n",
              "        document.querySelector('#df-c4f33957-ec6b-4f74-b048-bd8259717d5a button');\n",
              "      quickchartButtonEl.style.display =\n",
              "        google.colab.kernel.accessAllowed ? 'block' : 'none';\n",
              "    })();\n",
              "  </script>\n",
              "</div>\n",
              "\n",
              "    </div>\n",
              "  </div>\n"
            ],
            "text/plain": [
              "                                               texto sentimiento\n",
              "0  basic famili littl boy jake think zombi closet...    negative\n",
              "1  show amaz fresh innov idea first air first yea...    negative\n",
              "2  encourag posit comment film look forward watch...    negative\n",
              "3  phil alien one quirki film humour base around ...    negative\n",
              "4  saw movi came recal scariest scene big bird ea...    negative"
            ]
          },
          "execution_count": 43,
          "metadata": {},
          "output_type": "execute_result"
        }
      ],
      "source": [
        "# Crearemos una copia del dataset depurado para su trabajo en este apartado\n",
        "nv_data=df_depurado.copy()\n",
        "\n",
        "# mostrar dataframe\n",
        "nv_data.head()"
      ]
    },
    {
      "cell_type": "code",
      "execution_count": null,
      "metadata": {
        "colab": {
          "base_uri": "https://localhost:8080/"
        },
        "id": "7pr_Q9YwfN07",
        "outputId": "af8ce0dc-c0df-4000-d3cc-caf3d79a0188"
      },
      "outputs": [
        {
          "name": "stdout",
          "output_type": "stream",
          "text": [
            "corpus compuesto de  5.000 registros y 1 columna (5000, 1)\n"
          ]
        }
      ],
      "source": [
        "# se selcciona los valores del corpues y se transcribe en un vector \"X\" )\n",
        "X = nv_data.iloc[:,0:1].values\n",
        "\n",
        "# mostrar dimensión de \"X\"\n",
        "print(\"corpus compuesto de  5.000 registros y 1 columna\", X.shape)"
      ]
    },
    {
      "cell_type": "code",
      "execution_count": null,
      "metadata": {
        "colab": {
          "base_uri": "https://localhost:8080/"
        },
        "id": "E8obTSmbgk6S",
        "outputId": "6bc2ef96-5e84-453c-82b3-24a7ea6bfdfe"
      },
      "outputs": [
        {
          "name": "stdout",
          "output_type": "stream",
          "text": [
            "\n",
            "Características seleccionadas (primeros 20 tokens):\n",
            "['abandon' 'abil' 'abl' 'absolut' 'absurd' 'abus' 'academi' 'accent'\n",
            " 'accept' 'accid' 'accident' 'accompani' 'accord' 'account' 'accur'\n",
            " 'achiev' 'across' 'act' 'action' 'activ']\n"
          ]
        }
      ],
      "source": [
        "# del modulo sklearn.feature_extraction.text importar la función CountVectorizer\n",
        "# Convierte una colección de documentos de texto en una matriz de recuentos de tokens.\n",
        "from sklearn.feature_extraction.text import CountVectorizer\n",
        "\n",
        "# crear instancia para aplicar función (máximo de características = 2000)\n",
        "cv  = CountVectorizer(max_features = 2000)\n",
        "\n",
        "# mediante el objeto \"X\" aplicaremos la trasformación del corpus\n",
        "X = cv.fit_transform(nv_data['texto']).toarray()\n",
        "X[:1]\n",
        "# Visualizar las palabras más frecuentes seleccionadas por CountVectorizer\n",
        "tokens = cv.get_feature_names_out()\n",
        "print(\"\\nCaracterísticas seleccionadas (primeros 20 tokens):\")\n",
        "print(tokens[:20])"
      ]
    },
    {
      "cell_type": "code",
      "execution_count": null,
      "metadata": {
        "colab": {
          "base_uri": "https://localhost:8080/"
        },
        "id": "7SAC2HdRi0P7",
        "outputId": "828a61e8-fcf2-4b14-8ad7-20f8405f471d"
      },
      "outputs": [
        {
          "data": {
            "text/plain": [
              "(5000, 2000)"
            ]
          },
          "execution_count": 48,
          "metadata": {},
          "output_type": "execute_result"
        }
      ],
      "source": [
        "# dimensión de X\n",
        "X.shape"
      ]
    },
    {
      "cell_type": "code",
      "execution_count": null,
      "metadata": {
        "colab": {
          "base_uri": "https://localhost:8080/"
        },
        "id": "B5IFAgedi4vE",
        "outputId": "77f4d6af-9125-4531-8faf-099500105472"
      },
      "outputs": [
        {
          "data": {
            "text/plain": [
              "array(['negative', 'negative', 'negative', 'negative', 'negative',\n",
              "       'negative', 'negative', 'negative', 'negative', 'negative'],\n",
              "      dtype=object)"
            ]
          },
          "execution_count": 49,
          "metadata": {},
          "output_type": "execute_result"
        }
      ],
      "source": [
        "# definir eje y para dividir el set para entrenamiento y prueba\n",
        "y = nv_data.iloc[:,-1].values\n",
        "y[:10]"
      ]
    },
    {
      "cell_type": "markdown",
      "metadata": {
        "id": "IlopgCHkjQMR"
      },
      "source": [
        "##modelo de entrenamiento"
      ]
    },
    {
      "cell_type": "code",
      "execution_count": null,
      "metadata": {
        "colab": {
          "base_uri": "https://localhost:8080/"
        },
        "id": "WucEKj1mjPl9",
        "outputId": "47d4b984-e91e-43d7-927b-9c7c3a666117"
      },
      "outputs": [
        {
          "name": "stdout",
          "output_type": "stream",
          "text": [
            "(4000, 2000)\n",
            "(1000, 2000)\n",
            "(4000,)\n",
            "(1000,)\n"
          ]
        }
      ],
      "source": [
        "from sklearn.model_selection import train_test_split\n",
        "\n",
        "# dividir el dataframe en set de entrenamiento y set de prueba\n",
        "X_train,X_test,y_train,y_test = train_test_split(X,y,test_size = 0.2)\n",
        "print(X_train.shape)\n",
        "print(X_test.shape)\n",
        "print(y_train.shape)\n",
        "print(y_test.shape)"
      ]
    },
    {
      "cell_type": "markdown",
      "metadata": {
        "id": "31BCCsLqpEO1"
      },
      "source": [
        "## aplicacin de modelos Naive bayes\n",
        "se aplico el modelo multinomial y ademas se aplico el modelo **Complement Naive Bayes**por que este, está diseñado para trabajar mejor con clases desbalanceadas. Mientras que MultinomialNB asume que las características son independientes y distribuidas de forma idéntica, ComplementNB ajusta los pesos de las clases para contrarrestar el desbalance, lo que lo hace más adecuado cuando las polaridades o la distribución de clases no son simétricas. se realizo este ajuste dado que las clases de polaridades no estaban balanceadas ademas al aplicar los modelo anteriores"
      ]
    },
    {
      "cell_type": "code",
      "execution_count": null,
      "metadata": {
        "id": "sU8-olsRj0Uk"
      },
      "outputs": [],
      "source": [
        "from sklearn.naive_bayes import ComplementNB, MultinomialNB\n",
        "\n",
        "# crear instancia para implementar algortimos Naive Bayes\n",
        "clf1 = ComplementNB()\n",
        "clf2 = MultinomialNB()"
      ]
    },
    {
      "cell_type": "code",
      "execution_count": null,
      "metadata": {
        "colab": {
          "base_uri": "https://localhost:8080/",
          "height": 80
        },
        "id": "V9V_AOg1oKtM",
        "outputId": "08d23aea-c0ed-45ef-aa53-686c2c669e1b"
      },
      "outputs": [
        {
          "data": {
            "text/html": [
              "<style>#sk-container-id-1 {\n",
              "  /* Definition of color scheme common for light and dark mode */\n",
              "  --sklearn-color-text: black;\n",
              "  --sklearn-color-line: gray;\n",
              "  /* Definition of color scheme for unfitted estimators */\n",
              "  --sklearn-color-unfitted-level-0: #fff5e6;\n",
              "  --sklearn-color-unfitted-level-1: #f6e4d2;\n",
              "  --sklearn-color-unfitted-level-2: #ffe0b3;\n",
              "  --sklearn-color-unfitted-level-3: chocolate;\n",
              "  /* Definition of color scheme for fitted estimators */\n",
              "  --sklearn-color-fitted-level-0: #f0f8ff;\n",
              "  --sklearn-color-fitted-level-1: #d4ebff;\n",
              "  --sklearn-color-fitted-level-2: #b3dbfd;\n",
              "  --sklearn-color-fitted-level-3: cornflowerblue;\n",
              "\n",
              "  /* Specific color for light theme */\n",
              "  --sklearn-color-text-on-default-background: var(--sg-text-color, var(--theme-code-foreground, var(--jp-content-font-color1, black)));\n",
              "  --sklearn-color-background: var(--sg-background-color, var(--theme-background, var(--jp-layout-color0, white)));\n",
              "  --sklearn-color-border-box: var(--sg-text-color, var(--theme-code-foreground, var(--jp-content-font-color1, black)));\n",
              "  --sklearn-color-icon: #696969;\n",
              "\n",
              "  @media (prefers-color-scheme: dark) {\n",
              "    /* Redefinition of color scheme for dark theme */\n",
              "    --sklearn-color-text-on-default-background: var(--sg-text-color, var(--theme-code-foreground, var(--jp-content-font-color1, white)));\n",
              "    --sklearn-color-background: var(--sg-background-color, var(--theme-background, var(--jp-layout-color0, #111)));\n",
              "    --sklearn-color-border-box: var(--sg-text-color, var(--theme-code-foreground, var(--jp-content-font-color1, white)));\n",
              "    --sklearn-color-icon: #878787;\n",
              "  }\n",
              "}\n",
              "\n",
              "#sk-container-id-1 {\n",
              "  color: var(--sklearn-color-text);\n",
              "}\n",
              "\n",
              "#sk-container-id-1 pre {\n",
              "  padding: 0;\n",
              "}\n",
              "\n",
              "#sk-container-id-1 input.sk-hidden--visually {\n",
              "  border: 0;\n",
              "  clip: rect(1px 1px 1px 1px);\n",
              "  clip: rect(1px, 1px, 1px, 1px);\n",
              "  height: 1px;\n",
              "  margin: -1px;\n",
              "  overflow: hidden;\n",
              "  padding: 0;\n",
              "  position: absolute;\n",
              "  width: 1px;\n",
              "}\n",
              "\n",
              "#sk-container-id-1 div.sk-dashed-wrapped {\n",
              "  border: 1px dashed var(--sklearn-color-line);\n",
              "  margin: 0 0.4em 0.5em 0.4em;\n",
              "  box-sizing: border-box;\n",
              "  padding-bottom: 0.4em;\n",
              "  background-color: var(--sklearn-color-background);\n",
              "}\n",
              "\n",
              "#sk-container-id-1 div.sk-container {\n",
              "  /* jupyter's `normalize.less` sets `[hidden] { display: none; }`\n",
              "     but bootstrap.min.css set `[hidden] { display: none !important; }`\n",
              "     so we also need the `!important` here to be able to override the\n",
              "     default hidden behavior on the sphinx rendered scikit-learn.org.\n",
              "     See: https://github.com/scikit-learn/scikit-learn/issues/21755 */\n",
              "  display: inline-block !important;\n",
              "  position: relative;\n",
              "}\n",
              "\n",
              "#sk-container-id-1 div.sk-text-repr-fallback {\n",
              "  display: none;\n",
              "}\n",
              "\n",
              "div.sk-parallel-item,\n",
              "div.sk-serial,\n",
              "div.sk-item {\n",
              "  /* draw centered vertical line to link estimators */\n",
              "  background-image: linear-gradient(var(--sklearn-color-text-on-default-background), var(--sklearn-color-text-on-default-background));\n",
              "  background-size: 2px 100%;\n",
              "  background-repeat: no-repeat;\n",
              "  background-position: center center;\n",
              "}\n",
              "\n",
              "/* Parallel-specific style estimator block */\n",
              "\n",
              "#sk-container-id-1 div.sk-parallel-item::after {\n",
              "  content: \"\";\n",
              "  width: 100%;\n",
              "  border-bottom: 2px solid var(--sklearn-color-text-on-default-background);\n",
              "  flex-grow: 1;\n",
              "}\n",
              "\n",
              "#sk-container-id-1 div.sk-parallel {\n",
              "  display: flex;\n",
              "  align-items: stretch;\n",
              "  justify-content: center;\n",
              "  background-color: var(--sklearn-color-background);\n",
              "  position: relative;\n",
              "}\n",
              "\n",
              "#sk-container-id-1 div.sk-parallel-item {\n",
              "  display: flex;\n",
              "  flex-direction: column;\n",
              "}\n",
              "\n",
              "#sk-container-id-1 div.sk-parallel-item:first-child::after {\n",
              "  align-self: flex-end;\n",
              "  width: 50%;\n",
              "}\n",
              "\n",
              "#sk-container-id-1 div.sk-parallel-item:last-child::after {\n",
              "  align-self: flex-start;\n",
              "  width: 50%;\n",
              "}\n",
              "\n",
              "#sk-container-id-1 div.sk-parallel-item:only-child::after {\n",
              "  width: 0;\n",
              "}\n",
              "\n",
              "/* Serial-specific style estimator block */\n",
              "\n",
              "#sk-container-id-1 div.sk-serial {\n",
              "  display: flex;\n",
              "  flex-direction: column;\n",
              "  align-items: center;\n",
              "  background-color: var(--sklearn-color-background);\n",
              "  padding-right: 1em;\n",
              "  padding-left: 1em;\n",
              "}\n",
              "\n",
              "\n",
              "/* Toggleable style: style used for estimator/Pipeline/ColumnTransformer box that is\n",
              "clickable and can be expanded/collapsed.\n",
              "- Pipeline and ColumnTransformer use this feature and define the default style\n",
              "- Estimators will overwrite some part of the style using the `sk-estimator` class\n",
              "*/\n",
              "\n",
              "/* Pipeline and ColumnTransformer style (default) */\n",
              "\n",
              "#sk-container-id-1 div.sk-toggleable {\n",
              "  /* Default theme specific background. It is overwritten whether we have a\n",
              "  specific estimator or a Pipeline/ColumnTransformer */\n",
              "  background-color: var(--sklearn-color-background);\n",
              "}\n",
              "\n",
              "/* Toggleable label */\n",
              "#sk-container-id-1 label.sk-toggleable__label {\n",
              "  cursor: pointer;\n",
              "  display: block;\n",
              "  width: 100%;\n",
              "  margin-bottom: 0;\n",
              "  padding: 0.5em;\n",
              "  box-sizing: border-box;\n",
              "  text-align: center;\n",
              "}\n",
              "\n",
              "#sk-container-id-1 label.sk-toggleable__label-arrow:before {\n",
              "  /* Arrow on the left of the label */\n",
              "  content: \"▸\";\n",
              "  float: left;\n",
              "  margin-right: 0.25em;\n",
              "  color: var(--sklearn-color-icon);\n",
              "}\n",
              "\n",
              "#sk-container-id-1 label.sk-toggleable__label-arrow:hover:before {\n",
              "  color: var(--sklearn-color-text);\n",
              "}\n",
              "\n",
              "/* Toggleable content - dropdown */\n",
              "\n",
              "#sk-container-id-1 div.sk-toggleable__content {\n",
              "  max-height: 0;\n",
              "  max-width: 0;\n",
              "  overflow: hidden;\n",
              "  text-align: left;\n",
              "  /* unfitted */\n",
              "  background-color: var(--sklearn-color-unfitted-level-0);\n",
              "}\n",
              "\n",
              "#sk-container-id-1 div.sk-toggleable__content.fitted {\n",
              "  /* fitted */\n",
              "  background-color: var(--sklearn-color-fitted-level-0);\n",
              "}\n",
              "\n",
              "#sk-container-id-1 div.sk-toggleable__content pre {\n",
              "  margin: 0.2em;\n",
              "  border-radius: 0.25em;\n",
              "  color: var(--sklearn-color-text);\n",
              "  /* unfitted */\n",
              "  background-color: var(--sklearn-color-unfitted-level-0);\n",
              "}\n",
              "\n",
              "#sk-container-id-1 div.sk-toggleable__content.fitted pre {\n",
              "  /* unfitted */\n",
              "  background-color: var(--sklearn-color-fitted-level-0);\n",
              "}\n",
              "\n",
              "#sk-container-id-1 input.sk-toggleable__control:checked~div.sk-toggleable__content {\n",
              "  /* Expand drop-down */\n",
              "  max-height: 200px;\n",
              "  max-width: 100%;\n",
              "  overflow: auto;\n",
              "}\n",
              "\n",
              "#sk-container-id-1 input.sk-toggleable__control:checked~label.sk-toggleable__label-arrow:before {\n",
              "  content: \"▾\";\n",
              "}\n",
              "\n",
              "/* Pipeline/ColumnTransformer-specific style */\n",
              "\n",
              "#sk-container-id-1 div.sk-label input.sk-toggleable__control:checked~label.sk-toggleable__label {\n",
              "  color: var(--sklearn-color-text);\n",
              "  background-color: var(--sklearn-color-unfitted-level-2);\n",
              "}\n",
              "\n",
              "#sk-container-id-1 div.sk-label.fitted input.sk-toggleable__control:checked~label.sk-toggleable__label {\n",
              "  background-color: var(--sklearn-color-fitted-level-2);\n",
              "}\n",
              "\n",
              "/* Estimator-specific style */\n",
              "\n",
              "/* Colorize estimator box */\n",
              "#sk-container-id-1 div.sk-estimator input.sk-toggleable__control:checked~label.sk-toggleable__label {\n",
              "  /* unfitted */\n",
              "  background-color: var(--sklearn-color-unfitted-level-2);\n",
              "}\n",
              "\n",
              "#sk-container-id-1 div.sk-estimator.fitted input.sk-toggleable__control:checked~label.sk-toggleable__label {\n",
              "  /* fitted */\n",
              "  background-color: var(--sklearn-color-fitted-level-2);\n",
              "}\n",
              "\n",
              "#sk-container-id-1 div.sk-label label.sk-toggleable__label,\n",
              "#sk-container-id-1 div.sk-label label {\n",
              "  /* The background is the default theme color */\n",
              "  color: var(--sklearn-color-text-on-default-background);\n",
              "}\n",
              "\n",
              "/* On hover, darken the color of the background */\n",
              "#sk-container-id-1 div.sk-label:hover label.sk-toggleable__label {\n",
              "  color: var(--sklearn-color-text);\n",
              "  background-color: var(--sklearn-color-unfitted-level-2);\n",
              "}\n",
              "\n",
              "/* Label box, darken color on hover, fitted */\n",
              "#sk-container-id-1 div.sk-label.fitted:hover label.sk-toggleable__label.fitted {\n",
              "  color: var(--sklearn-color-text);\n",
              "  background-color: var(--sklearn-color-fitted-level-2);\n",
              "}\n",
              "\n",
              "/* Estimator label */\n",
              "\n",
              "#sk-container-id-1 div.sk-label label {\n",
              "  font-family: monospace;\n",
              "  font-weight: bold;\n",
              "  display: inline-block;\n",
              "  line-height: 1.2em;\n",
              "}\n",
              "\n",
              "#sk-container-id-1 div.sk-label-container {\n",
              "  text-align: center;\n",
              "}\n",
              "\n",
              "/* Estimator-specific */\n",
              "#sk-container-id-1 div.sk-estimator {\n",
              "  font-family: monospace;\n",
              "  border: 1px dotted var(--sklearn-color-border-box);\n",
              "  border-radius: 0.25em;\n",
              "  box-sizing: border-box;\n",
              "  margin-bottom: 0.5em;\n",
              "  /* unfitted */\n",
              "  background-color: var(--sklearn-color-unfitted-level-0);\n",
              "}\n",
              "\n",
              "#sk-container-id-1 div.sk-estimator.fitted {\n",
              "  /* fitted */\n",
              "  background-color: var(--sklearn-color-fitted-level-0);\n",
              "}\n",
              "\n",
              "/* on hover */\n",
              "#sk-container-id-1 div.sk-estimator:hover {\n",
              "  /* unfitted */\n",
              "  background-color: var(--sklearn-color-unfitted-level-2);\n",
              "}\n",
              "\n",
              "#sk-container-id-1 div.sk-estimator.fitted:hover {\n",
              "  /* fitted */\n",
              "  background-color: var(--sklearn-color-fitted-level-2);\n",
              "}\n",
              "\n",
              "/* Specification for estimator info (e.g. \"i\" and \"?\") */\n",
              "\n",
              "/* Common style for \"i\" and \"?\" */\n",
              "\n",
              ".sk-estimator-doc-link,\n",
              "a:link.sk-estimator-doc-link,\n",
              "a:visited.sk-estimator-doc-link {\n",
              "  float: right;\n",
              "  font-size: smaller;\n",
              "  line-height: 1em;\n",
              "  font-family: monospace;\n",
              "  background-color: var(--sklearn-color-background);\n",
              "  border-radius: 1em;\n",
              "  height: 1em;\n",
              "  width: 1em;\n",
              "  text-decoration: none !important;\n",
              "  margin-left: 1ex;\n",
              "  /* unfitted */\n",
              "  border: var(--sklearn-color-unfitted-level-1) 1pt solid;\n",
              "  color: var(--sklearn-color-unfitted-level-1);\n",
              "}\n",
              "\n",
              ".sk-estimator-doc-link.fitted,\n",
              "a:link.sk-estimator-doc-link.fitted,\n",
              "a:visited.sk-estimator-doc-link.fitted {\n",
              "  /* fitted */\n",
              "  border: var(--sklearn-color-fitted-level-1) 1pt solid;\n",
              "  color: var(--sklearn-color-fitted-level-1);\n",
              "}\n",
              "\n",
              "/* On hover */\n",
              "div.sk-estimator:hover .sk-estimator-doc-link:hover,\n",
              ".sk-estimator-doc-link:hover,\n",
              "div.sk-label-container:hover .sk-estimator-doc-link:hover,\n",
              ".sk-estimator-doc-link:hover {\n",
              "  /* unfitted */\n",
              "  background-color: var(--sklearn-color-unfitted-level-3);\n",
              "  color: var(--sklearn-color-background);\n",
              "  text-decoration: none;\n",
              "}\n",
              "\n",
              "div.sk-estimator.fitted:hover .sk-estimator-doc-link.fitted:hover,\n",
              ".sk-estimator-doc-link.fitted:hover,\n",
              "div.sk-label-container:hover .sk-estimator-doc-link.fitted:hover,\n",
              ".sk-estimator-doc-link.fitted:hover {\n",
              "  /* fitted */\n",
              "  background-color: var(--sklearn-color-fitted-level-3);\n",
              "  color: var(--sklearn-color-background);\n",
              "  text-decoration: none;\n",
              "}\n",
              "\n",
              "/* Span, style for the box shown on hovering the info icon */\n",
              ".sk-estimator-doc-link span {\n",
              "  display: none;\n",
              "  z-index: 9999;\n",
              "  position: relative;\n",
              "  font-weight: normal;\n",
              "  right: .2ex;\n",
              "  padding: .5ex;\n",
              "  margin: .5ex;\n",
              "  width: min-content;\n",
              "  min-width: 20ex;\n",
              "  max-width: 50ex;\n",
              "  color: var(--sklearn-color-text);\n",
              "  box-shadow: 2pt 2pt 4pt #999;\n",
              "  /* unfitted */\n",
              "  background: var(--sklearn-color-unfitted-level-0);\n",
              "  border: .5pt solid var(--sklearn-color-unfitted-level-3);\n",
              "}\n",
              "\n",
              ".sk-estimator-doc-link.fitted span {\n",
              "  /* fitted */\n",
              "  background: var(--sklearn-color-fitted-level-0);\n",
              "  border: var(--sklearn-color-fitted-level-3);\n",
              "}\n",
              "\n",
              ".sk-estimator-doc-link:hover span {\n",
              "  display: block;\n",
              "}\n",
              "\n",
              "/* \"?\"-specific style due to the `<a>` HTML tag */\n",
              "\n",
              "#sk-container-id-1 a.estimator_doc_link {\n",
              "  float: right;\n",
              "  font-size: 1rem;\n",
              "  line-height: 1em;\n",
              "  font-family: monospace;\n",
              "  background-color: var(--sklearn-color-background);\n",
              "  border-radius: 1rem;\n",
              "  height: 1rem;\n",
              "  width: 1rem;\n",
              "  text-decoration: none;\n",
              "  /* unfitted */\n",
              "  color: var(--sklearn-color-unfitted-level-1);\n",
              "  border: var(--sklearn-color-unfitted-level-1) 1pt solid;\n",
              "}\n",
              "\n",
              "#sk-container-id-1 a.estimator_doc_link.fitted {\n",
              "  /* fitted */\n",
              "  border: var(--sklearn-color-fitted-level-1) 1pt solid;\n",
              "  color: var(--sklearn-color-fitted-level-1);\n",
              "}\n",
              "\n",
              "/* On hover */\n",
              "#sk-container-id-1 a.estimator_doc_link:hover {\n",
              "  /* unfitted */\n",
              "  background-color: var(--sklearn-color-unfitted-level-3);\n",
              "  color: var(--sklearn-color-background);\n",
              "  text-decoration: none;\n",
              "}\n",
              "\n",
              "#sk-container-id-1 a.estimator_doc_link.fitted:hover {\n",
              "  /* fitted */\n",
              "  background-color: var(--sklearn-color-fitted-level-3);\n",
              "}\n",
              "</style><div id=\"sk-container-id-1\" class=\"sk-top-container\"><div class=\"sk-text-repr-fallback\"><pre>MultinomialNB()</pre><b>In a Jupyter environment, please rerun this cell to show the HTML representation or trust the notebook. <br />On GitHub, the HTML representation is unable to render, please try loading this page with nbviewer.org.</b></div><div class=\"sk-container\" hidden><div class=\"sk-item\"><div class=\"sk-estimator fitted sk-toggleable\"><input class=\"sk-toggleable__control sk-hidden--visually\" id=\"sk-estimator-id-1\" type=\"checkbox\" checked><label for=\"sk-estimator-id-1\" class=\"sk-toggleable__label fitted sk-toggleable__label-arrow fitted\">&nbsp;&nbsp;MultinomialNB<a class=\"sk-estimator-doc-link fitted\" rel=\"noreferrer\" target=\"_blank\" href=\"https://scikit-learn.org/1.5/modules/generated/sklearn.naive_bayes.MultinomialNB.html\">?<span>Documentation for MultinomialNB</span></a><span class=\"sk-estimator-doc-link fitted\">i<span>Fitted</span></span></label><div class=\"sk-toggleable__content fitted\"><pre>MultinomialNB()</pre></div> </div></div></div></div>"
            ],
            "text/plain": [
              "MultinomialNB()"
            ]
          },
          "execution_count": 57,
          "metadata": {},
          "output_type": "execute_result"
        }
      ],
      "source": [
        "# Entrenar modelos\n",
        "clf1.fit(X_train,y_train)\n",
        "clf2.fit(X_train,y_train)"
      ]
    },
    {
      "cell_type": "code",
      "execution_count": null,
      "metadata": {
        "colab": {
          "base_uri": "https://localhost:8080/"
        },
        "id": "QGBe-WVMnLdC",
        "outputId": "a5722a75-f458-4599-86f5-6e1fbf70b404"
      },
      "outputs": [
        {
          "name": "stdout",
          "output_type": "stream",
          "text": [
            "['negative' 'positive' 'negative' 'positive' 'negative' 'negative'\n",
            " 'positive' 'positive' 'negative' 'negative' 'positive' 'negative'\n",
            " 'positive' 'negative' 'negative' 'positive' 'negative' 'negative'\n",
            " 'negative' 'positive']\n",
            "['negative' 'positive' 'negative' 'positive' 'negative' 'negative'\n",
            " 'positive' 'positive' 'negative' 'negative' 'positive' 'negative'\n",
            " 'positive' 'negative' 'negative' 'positive' 'negative' 'negative'\n",
            " 'negative' 'positive']\n"
          ]
        }
      ],
      "source": [
        "#se crea predicciones\n",
        "y_pred1 = clf1.predict(X_test)\n",
        "y_pred2 = clf2.predict(X_test)\n",
        "# visualizar resultados de predicción de los modelos\n",
        "print(y_pred1[:20])\n",
        "print(y_pred2[:20])"
      ]
    },
    {
      "cell_type": "code",
      "execution_count": null,
      "metadata": {
        "colab": {
          "base_uri": "https://localhost:8080/"
        },
        "id": "0X_118ShoSB-",
        "outputId": "3138194d-4696-482e-9f68-5d66e9619855"
      },
      "outputs": [
        {
          "name": "stdout",
          "output_type": "stream",
          "text": [
            "['negative' 'positive' 'negative' 'positive' 'negative' 'negative'\n",
            " 'positive' 'positive' 'negative' 'negative' 'positive' 'negative'\n",
            " 'positive' 'negative' 'negative' 'positive' 'negative' 'negative'\n",
            " 'negative' 'positive']\n",
            "['negative' 'positive' 'negative' 'positive' 'negative' 'negative'\n",
            " 'positive' 'positive' 'negative' 'negative' 'positive' 'negative'\n",
            " 'positive' 'negative' 'negative' 'positive' 'negative' 'negative'\n",
            " 'negative' 'positive']\n"
          ]
        }
      ],
      "source": [
        "# crear predicciones\n",
        "y_pred1 = clf1.predict(X_test)\n",
        "y_pred2 = clf2.predict(X_test)\n",
        "\n",
        "# visualizar resultados de predicción de los modelos\n",
        "print(y_pred1[:20])\n",
        "print(y_pred2[:20])"
      ]
    },
    {
      "cell_type": "code",
      "execution_count": null,
      "metadata": {
        "colab": {
          "base_uri": "https://localhost:8080/"
        },
        "id": "m6fks4nToVSO",
        "outputId": "4c45da8d-1e0b-462b-9878-aeb1d97c65ae"
      },
      "outputs": [
        {
          "name": "stdout",
          "output_type": "stream",
          "text": [
            "Accuracy score of ComplemtNB 83.3\n",
            "Accuracy score of MultinomialNB 83.3\n"
          ]
        }
      ],
      "source": [
        "# importar función accuracy_score del modulo sklearn.metrics\n",
        "from sklearn.metrics import accuracy_score\n",
        "\n",
        "# aplicar métrica de evaluación a los modelos\n",
        "print('Accuracy score of ComplemtNB',accuracy_score(y_test,y_pred1)*100)\n",
        "print('Accuracy score of MultinomialNB',accuracy_score(y_test,y_pred2)*100)"
      ]
    },
    {
      "cell_type": "code",
      "execution_count": null,
      "metadata": {
        "colab": {
          "base_uri": "https://localhost:8080/",
          "height": 486
        },
        "id": "-D-wejtBojCj",
        "outputId": "6b1eda99-3475-4a67-a7e3-e282083148e9"
      },
      "outputs": [
        {
          "name": "stdout",
          "output_type": "stream",
          "text": [
            "[[425  81]\n",
            " [ 86 408]]\n"
          ]
        },
        {
          "data": {
            "image/png": "[encoded data removed]",
            "text/plain": [
              "<Figure size 640x480 with 2 Axes>"
            ]
          },
          "metadata": {},
          "output_type": "display_data"
        }
      ],
      "source": [
        "from sklearn.metrics import confusion_matrix\n",
        "from sklearn.metrics import ConfusionMatrixDisplay, confusion_matrix\n",
        "\n",
        "# crear y mostrar matriz de confusión\n",
        "y_true = y_test\n",
        "y_pred = y_pred1\n",
        "confusion_matrix(y_true, y_pred)\n",
        "print(confusion_matrix(y_true, y_pred))\n",
        "\n",
        "# Crear Grafica de la matríz\n",
        "y_pred = clf1.predict(X_test)\n",
        "cm = confusion_matrix(y_test, y_pred)\n",
        "cm_display = ConfusionMatrixDisplay(cm).plot()"
      ]
    },
    {
      "cell_type": "code",
      "execution_count": null,
      "metadata": {
        "colab": {
          "base_uri": "https://localhost:8080/"
        },
        "id": "XIFN134Po418",
        "outputId": "27af072a-c15a-4d1b-c60c-c090ea32c15b"
      },
      "outputs": [
        {
          "name": "stdout",
          "output_type": "stream",
          "text": [
            "              precision    recall  f1-score   support\n",
            "\n",
            "    negative       0.83      0.84      0.84       506\n",
            "    positive       0.83      0.83      0.83       494\n",
            "\n",
            "    accuracy                           0.83      1000\n",
            "   macro avg       0.83      0.83      0.83      1000\n",
            "weighted avg       0.83      0.83      0.83      1000\n",
            "\n"
          ]
        }
      ],
      "source": [
        "# del modulo sklearn.metrics importar la función classification_report\n",
        "from sklearn.metrics import classification_report\n",
        "\n",
        "# crear y mostrar el reporte de clasificación\n",
        "print(classification_report(y_test, y_pred1))"
      ]
    },
    {
      "cell_type": "code",
      "execution_count": null,
      "metadata": {
        "colab": {
          "base_uri": "https://localhost:8080/",
          "height": 486
        },
        "id": "ILSft9a2o9Ct",
        "outputId": "0278eb56-e6af-4dee-8b18-0f629b05a682"
      },
      "outputs": [
        {
          "name": "stdout",
          "output_type": "stream",
          "text": [
            "[[425  81]\n",
            " [ 86 408]]\n"
          ]
        },
        {
          "data": {
            "image/png": "[encoded data removed]",
            "text/plain": [
              "<Figure size 640x480 with 2 Axes>"
            ]
          },
          "metadata": {},
          "output_type": "display_data"
        }
      ],
      "source": [
        "# crear y mostrar matriz de confusión\n",
        "y_true = y_test\n",
        "y_pred = y_pred2\n",
        "confusion_matrix(y_true, y_pred)\n",
        "print(confusion_matrix(y_true, y_pred))\n",
        "\n",
        "# Crear Grafica de la matríz\n",
        "y_pred = clf2.predict(X_test)\n",
        "cm = confusion_matrix(y_test, y_pred)\n",
        "cm_display = ConfusionMatrixDisplay(cm).plot()"
      ]
    },
    {
      "cell_type": "code",
      "execution_count": null,
      "metadata": {
        "colab": {
          "base_uri": "https://localhost:8080/"
        },
        "id": "WNdtJhc4o-XV",
        "outputId": "607d6dd9-3ebb-4cc8-dbb0-70ef80a064fb"
      },
      "outputs": [
        {
          "name": "stdout",
          "output_type": "stream",
          "text": [
            "              precision    recall  f1-score   support\n",
            "\n",
            "    negative       0.83      0.84      0.84       506\n",
            "    positive       0.83      0.83      0.83       494\n",
            "\n",
            "    accuracy                           0.83      1000\n",
            "   macro avg       0.83      0.83      0.83      1000\n",
            "weighted avg       0.83      0.83      0.83      1000\n",
            "\n"
          ]
        }
      ],
      "source": [
        "# del modulo sklearn.metrics importar la función classification_report\n",
        "from sklearn.metrics import classification_report\n",
        "\n",
        "# crear y mostrar el reporte de clasificación\n",
        "print(classification_report(y_test, y_pred2))"
      ]
    },
    {
      "cell_type": "markdown",
      "metadata": {
        "id": "qI0FjIM3sOQs"
      },
      "source": [
        "## validacion cruzada\n",
        "dado el presición se usara valizacion cruzada con el modelo de naive bayes Complement"
      ]
    },
    {
      "cell_type": "code",
      "execution_count": null,
      "metadata": {
        "colab": {
          "base_uri": "https://localhost:8080/",
          "height": 763
        },
        "id": "isx1r01_sNfx",
        "outputId": "eb65cec3-d50a-4f0a-fb3d-5a65887f33df"
      },
      "outputs": [
        {
          "name": "stdout",
          "output_type": "stream",
          "text": [
            "Scores de validación cruzada en cada fold: [0.836 0.835 0.821 0.826 0.837]\n",
            "Promedio de exactitud: 83.10000000000001 %\n",
            "Desviación estándar de los scores: 0.6356099432828287 %\n",
            "Exactitud en el conjunto de prueba: 83.30%\n",
            "Matriz de confusión:\n",
            " [[425  81]\n",
            " [ 86 408]]\n",
            "Reporte de clasificación:\n",
            "               precision    recall  f1-score   support\n",
            "\n",
            "    negative       0.83      0.84      0.84       506\n",
            "    positive       0.83      0.83      0.83       494\n",
            "\n",
            "    accuracy                           0.83      1000\n",
            "   macro avg       0.83      0.83      0.83      1000\n",
            "weighted avg       0.83      0.83      0.83      1000\n",
            "\n"
          ]
        },
        {
          "data": {
            "image/png": "[encoded data removed]",
            "text/plain": [
              "<Figure size 640x480 with 2 Axes>"
            ]
          },
          "metadata": {},
          "output_type": "display_data"
        }
      ],
      "source": [
        "# Importar las bibliotecas necesarias\n",
        "from sklearn.naive_bayes import ComplementNB\n",
        "from sklearn.model_selection import cross_val_score, cross_validate\n",
        "from sklearn.metrics import accuracy_score, classification_report, confusion_matrix, ConfusionMatrixDisplay\n",
        "\n",
        "# Crear una instancia del modelo Naive Bayes (ComplementNB)\n",
        "clf1 = ComplementNB()\n",
        "\n",
        "# Aplicar validación cruzada con 5 divisiones (folds)\n",
        "# cross_val_score devuelve el puntaje de exactitud para cada fold\n",
        "scores = cross_val_score(clf1, X, y, cv=5, scoring='accuracy')\n",
        "\n",
        "# Mostrar los resultados de validación cruzada\n",
        "print(\"Scores de validación cruzada en cada fold:\", scores)\n",
        "print(\"Promedio de exactitud:\", np.mean(scores) * 100, \"%\")\n",
        "print(\"Desviación estándar de los scores:\", np.std(scores) * 100, \"%\")\n",
        "\n",
        "# Ajustar el modelo con todo el conjunto de entrenamiento para hacer predicciones finales\n",
        "clf1.fit(X_train, y_train)\n",
        "\n",
        "# Realizar predicciones con el conjunto de prueba\n",
        "y_pred1 = clf1.predict(X_test)\n",
        "\n",
        "# Calcular y mostrar la exactitud en el conjunto de prueba\n",
        "accuracy = accuracy_score(y_test, y_pred1)\n",
        "print(f'Exactitud en el conjunto de prueba: {accuracy * 100:.2f}%')\n",
        "\n",
        "# Crear y mostrar la matriz de confusión\n",
        "cm = confusion_matrix(y_test, y_pred1)\n",
        "print(\"Matriz de confusión:\\n\", cm)\n",
        "\n",
        "# Visualizar la matriz de confusión\n",
        "ConfusionMatrixDisplay(confusion_matrix=cm).plot()\n",
        "\n",
        "# Mostrar el reporte de clasificación\n",
        "print(\"Reporte de clasificación:\\n\", classification_report(y_test, y_pred1))\n"
      ]
    },
    {
      "cell_type": "markdown",
      "metadata": {
        "id": "QqOlf3XBs-VV"
      },
      "source": [
        "se observa que no existe rendimiento usando la validación cruzada\n"
      ]
    }
  ],
  "metadata": {
    "colab": {
      "provenance": []
    },
    "kernelspec": {
      "display_name": "Python 3",
      "name": "python3"
    },
    "language_info": {
      "name": "python",
      "version": "3.10.18"
    }
  },
  "nbformat": 4,
  "nbformat_minor": 0
}
