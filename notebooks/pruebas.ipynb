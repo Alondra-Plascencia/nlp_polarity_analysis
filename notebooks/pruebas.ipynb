{
 "cells": [
  {
   "cell_type": "code",
   "execution_count": 6,
   "id": "92df1826",
   "metadata": {},
   "outputs": [],
   "source": [
    "import pandas as pd\n",
    "\n",
    "\n",
    "df = pd.read_csv('../data/comentarios_prueba.csv', encoding='ISO-8859-1')\n",
    "#se tomo la data pero se toquenizo para realizar el ejercicio"
   ]
  },
  {
   "cell_type": "code",
   "execution_count": 10,
   "id": "1da99e11",
   "metadata": {},
   "outputs": [
    {
     "name": "stdout",
     "output_type": "stream",
     "text": [
      "   Unnamed: 0            ID               Unnamed: 2  \\\n",
      "0           0  1.540000e+23  https://t.co/4ywmNh9ktZ   \n",
      "1           1  1.540000e+23  https://t.co/gw8H0T484T   \n",
      "2           2  1.540000e+23  https://t.co/F3fNPc8hih   \n",
      "3           3  1.540000e+23  https://t.co/m72QXSg47b   \n",
      "4           4  1.540000e+23  https://t.co/xuIPJd5FT8   \n",
      "\n",
      "                                          Unnamed: 3  \\\n",
      "0   ­Apuesto que le dan casa por c rcel a la pareja!   \n",
      "1  Ja, ja, d modo q ser masculino, o \"macho alfa\"...   \n",
      "2           * Hace un chiste xenofobo sobre mexico *   \n",
      "3  ¨Y a los operadores de telefon¡a m¢vil cuando ...   \n",
      "4                                                NaN   \n",
      "\n",
      "                                          Unnamed: 4  \\\n",
      "0                                                NaN   \n",
      "1  Oh vamos, si ese es el pensamiento, y fuera un...   \n",
      "2                               Que andar  haciendo?   \n",
      "3  Qu farsa... Pero @ClaroColombia: s¡ puede del...   \n",
      "4                                                NaN   \n",
      "\n",
      "                                          Unnamed: 5  \\\n",
      "0                                                NaN   \n",
      "1                                                ???   \n",
      "2  Y all  pagan impuestos los empresarios y no es...   \n",
      "3  @ClaroColombia es una empresa de Ratas, no jus...   \n",
      "4                                                NaN   \n",
      "\n",
      "                                          Unnamed: 6  \\\n",
      "0                                                NaN   \n",
      "1  Qu porquer¡a de discurso. El sexismo no est  ...   \n",
      "2                                                NaN   \n",
      "3  Imagino la atenci¢n que debi¢ recibir esta se¤...   \n",
      "4                                                NaN   \n",
      "\n",
      "                                          Unnamed: 7  \\\n",
      "0                                                NaN   \n",
      "1  Violencia de gnero por parte de Boris johnson...   \n",
      "2                                                NaN   \n",
      "3  Lo mas sano ante un reclamo en estas empresas ...   \n",
      "4                                                NaN   \n",
      "\n",
      "                                          Unnamed: 8  \\\n",
      "0                                                NaN   \n",
      "1  Zelensky no es falso patriota exponiendo la vi...   \n",
      "2                                                NaN   \n",
      "3  Y a nosotros quien nos paga los perjuicios q n...   \n",
      "4                                                NaN   \n",
      "\n",
      "                       Unnamed: 9  ... Unnamed: 290 Unnamed: 291 Unnamed: 292  \\\n",
      "0                             NaN  ...          NaN          NaN          NaN   \n",
      "1                 #BennyHillStyle  ...          NaN          NaN          NaN   \n",
      "2                             NaN  ...          NaN          NaN          NaN   \n",
      "3  La hija de la \"Sra. Patricia\".  ...          NaN          NaN          NaN   \n",
      "4                             NaN  ...          NaN          NaN          NaN   \n",
      "\n",
      "  Unnamed: 293 Unnamed: 294 Unnamed: 295 Unnamed: 296 Unnamed: 297  \\\n",
      "0          NaN          NaN          NaN          NaN          NaN   \n",
      "1          NaN          NaN          NaN          NaN          NaN   \n",
      "2          NaN          NaN          NaN          NaN          NaN   \n",
      "3          NaN          NaN          NaN          NaN          NaN   \n",
      "4          NaN          NaN          NaN          NaN          NaN   \n",
      "\n",
      "  Unnamed: 298 Unnamed: 299  \n",
      "0          NaN          NaN  \n",
      "1          NaN          NaN  \n",
      "2          NaN          NaN  \n",
      "3          NaN          NaN  \n",
      "4          NaN          NaN  \n",
      "\n",
      "[5 rows x 300 columns]\n"
     ]
    }
   ],
   "source": [
    "print(df.head())"
   ]
  }
 ],
 "metadata": {
  "kernelspec": {
   "display_name": "Python 3",
   "language": "python",
   "name": "python3"
  },
  "language_info": {
   "codemirror_mode": {
    "name": "ipython",
    "version": 3
   },
   "file_extension": ".py",
   "mimetype": "text/x-python",
   "name": "python",
   "nbconvert_exporter": "python",
   "pygments_lexer": "ipython3",
   "version": "3.10.18"
  }
 },
 "nbformat": 4,
 "nbformat_minor": 5
}
